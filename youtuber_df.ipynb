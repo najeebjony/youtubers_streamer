{
 "cells": [
  {
   "cell_type": "code",
   "execution_count": 3,
   "metadata": {},
   "outputs": [],
   "source": [
    "# import libraries \n",
    "import pandas as pd\n",
    "import numpy as np\n",
    "import matplotlib.pyplot as plt\n",
    "import seaborn as sns\n",
    "import plotly.express as px\n",
    "\n",
    "\n",
    "pd.set_option('display.max_columns',None)\n",
    "pd.set_option('display.max_rows',None)"
   ]
  },
  {
   "cell_type": "code",
   "execution_count": 4,
   "metadata": {},
   "outputs": [],
   "source": [
    "# laod dataset \n",
    "df = pd.read_csv('youtubers_df.csv')"
   ]
  },
  {
   "cell_type": "code",
   "execution_count": 5,
   "metadata": {},
   "outputs": [],
   "source": [
    "df.columns = df.columns.str.lower()"
   ]
  },
  {
   "cell_type": "code",
   "execution_count": 6,
   "metadata": {},
   "outputs": [],
   "source": [
    " # remove the sing of á í ó ú in a country column\n",
    "df['country'] = df['country'].str.replace('á','a')\n",
    "df['country'] = df['country'].str.replace('í','i')\n",
    "df['country'] = df['country'].str.replace('ó','o')\n",
    "df['country'] = df['country'].str.replace('ú','u')\n",
    "df['country'] = df['country'].str.replace('ñ','n')\n"
   ]
  },
  {
   "cell_type": "code",
   "execution_count": 7,
   "metadata": {},
   "outputs": [],
   "source": [
    "df['categories'] = df['categories'].str.replace('á','a')\n",
    "df['categories'] = df['categories'].str.replace('í','i')\n",
    "df['categories'] = df['categories'].str.replace('ó','o')\n",
    "df['categories'] = df['categories'].str.replace('ú','u')\n",
    "df['categories'] = df['categories'].str.replace('ñ','n')\n",
    "\n",
    "# romove space and comma\n",
    "df['categories'] = df['categories'].str.replace(' ','_')\n",
    "df['categories'] = df['categories'].str.replace(',','')"
   ]
  },
  {
   "cell_type": "code",
   "execution_count": 8,
   "metadata": {},
   "outputs": [
    {
     "data": {
      "text/html": [
       "<div>\n",
       "<style scoped>\n",
       "    .dataframe tbody tr th:only-of-type {\n",
       "        vertical-align: middle;\n",
       "    }\n",
       "\n",
       "    .dataframe tbody tr th {\n",
       "        vertical-align: top;\n",
       "    }\n",
       "\n",
       "    .dataframe thead th {\n",
       "        text-align: right;\n",
       "    }\n",
       "</style>\n",
       "<table border=\"1\" class=\"dataframe\">\n",
       "  <thead>\n",
       "    <tr style=\"text-align: right;\">\n",
       "      <th></th>\n",
       "      <th>rank</th>\n",
       "      <th>username</th>\n",
       "      <th>categories</th>\n",
       "      <th>suscribers</th>\n",
       "      <th>country</th>\n",
       "      <th>visits</th>\n",
       "      <th>likes</th>\n",
       "      <th>comments</th>\n",
       "      <th>links</th>\n",
       "    </tr>\n",
       "  </thead>\n",
       "  <tbody>\n",
       "    <tr>\n",
       "      <th>0</th>\n",
       "      <td>1</td>\n",
       "      <td>tseries</td>\n",
       "      <td>Musica_y_baile</td>\n",
       "      <td>249500000.0</td>\n",
       "      <td>India</td>\n",
       "      <td>86200.0</td>\n",
       "      <td>2700.0</td>\n",
       "      <td>78.0</td>\n",
       "      <td>http://youtube.com/channel/UCq-Fj5jknLsUf-MWSy...</td>\n",
       "    </tr>\n",
       "    <tr>\n",
       "      <th>1</th>\n",
       "      <td>2</td>\n",
       "      <td>MrBeast</td>\n",
       "      <td>Videojuegos_Humor</td>\n",
       "      <td>183500000.0</td>\n",
       "      <td>Estados Unidos</td>\n",
       "      <td>117400000.0</td>\n",
       "      <td>5300000.0</td>\n",
       "      <td>18500.0</td>\n",
       "      <td>http://youtube.com/channel/UCX6OQ3DkcsbYNE6H8u...</td>\n",
       "    </tr>\n",
       "    <tr>\n",
       "      <th>2</th>\n",
       "      <td>3</td>\n",
       "      <td>CoComelon</td>\n",
       "      <td>Educacion</td>\n",
       "      <td>165500000.0</td>\n",
       "      <td>Unknown</td>\n",
       "      <td>7000000.0</td>\n",
       "      <td>24700.0</td>\n",
       "      <td>0.0</td>\n",
       "      <td>http://youtube.com/channel/UCbCmjCuTUZos6Inko4...</td>\n",
       "    </tr>\n",
       "    <tr>\n",
       "      <th>3</th>\n",
       "      <td>4</td>\n",
       "      <td>SETIndia</td>\n",
       "      <td>NaN</td>\n",
       "      <td>162600000.0</td>\n",
       "      <td>India</td>\n",
       "      <td>15600.0</td>\n",
       "      <td>166.0</td>\n",
       "      <td>9.0</td>\n",
       "      <td>http://youtube.com/channel/UCpEhnqL0y41EpW2TvW...</td>\n",
       "    </tr>\n",
       "    <tr>\n",
       "      <th>4</th>\n",
       "      <td>5</td>\n",
       "      <td>KidsDianaShow</td>\n",
       "      <td>Animacion_Juguetes</td>\n",
       "      <td>113500000.0</td>\n",
       "      <td>Unknown</td>\n",
       "      <td>3900000.0</td>\n",
       "      <td>12400.0</td>\n",
       "      <td>0.0</td>\n",
       "      <td>http://youtube.com/channel/UCk8GzjMOrta8yxDcKf...</td>\n",
       "    </tr>\n",
       "  </tbody>\n",
       "</table>\n",
       "</div>"
      ],
      "text/plain": [
       "   rank       username          categories   suscribers         country  \\\n",
       "0     1        tseries      Musica_y_baile  249500000.0           India   \n",
       "1     2        MrBeast   Videojuegos_Humor  183500000.0  Estados Unidos   \n",
       "2     3      CoComelon           Educacion  165500000.0         Unknown   \n",
       "3     4       SETIndia                 NaN  162600000.0           India   \n",
       "4     5  KidsDianaShow  Animacion_Juguetes  113500000.0         Unknown   \n",
       "\n",
       "        visits      likes  comments  \\\n",
       "0      86200.0     2700.0      78.0   \n",
       "1  117400000.0  5300000.0   18500.0   \n",
       "2    7000000.0    24700.0       0.0   \n",
       "3      15600.0      166.0       9.0   \n",
       "4    3900000.0    12400.0       0.0   \n",
       "\n",
       "                                               links  \n",
       "0  http://youtube.com/channel/UCq-Fj5jknLsUf-MWSy...  \n",
       "1  http://youtube.com/channel/UCX6OQ3DkcsbYNE6H8u...  \n",
       "2  http://youtube.com/channel/UCbCmjCuTUZos6Inko4...  \n",
       "3  http://youtube.com/channel/UCpEhnqL0y41EpW2TvW...  \n",
       "4  http://youtube.com/channel/UCk8GzjMOrta8yxDcKf...  "
      ]
     },
     "execution_count": 8,
     "metadata": {},
     "output_type": "execute_result"
    }
   ],
   "source": [
    "df.head()"
   ]
  },
  {
   "cell_type": "code",
   "execution_count": 9,
   "metadata": {},
   "outputs": [
    {
     "data": {
      "text/html": [
       "<div>\n",
       "<style scoped>\n",
       "    .dataframe tbody tr th:only-of-type {\n",
       "        vertical-align: middle;\n",
       "    }\n",
       "\n",
       "    .dataframe tbody tr th {\n",
       "        vertical-align: top;\n",
       "    }\n",
       "\n",
       "    .dataframe thead th {\n",
       "        text-align: right;\n",
       "    }\n",
       "</style>\n",
       "<table border=\"1\" class=\"dataframe\">\n",
       "  <thead>\n",
       "    <tr style=\"text-align: right;\">\n",
       "      <th></th>\n",
       "      <th>rank</th>\n",
       "      <th>username</th>\n",
       "      <th>categories</th>\n",
       "      <th>suscribers</th>\n",
       "      <th>country</th>\n",
       "      <th>visits</th>\n",
       "      <th>likes</th>\n",
       "      <th>comments</th>\n",
       "      <th>links</th>\n",
       "    </tr>\n",
       "  </thead>\n",
       "  <tbody>\n",
       "    <tr>\n",
       "      <th>995</th>\n",
       "      <td>996</td>\n",
       "      <td>hamzymukbang</td>\n",
       "      <td>NaN</td>\n",
       "      <td>11700000.0</td>\n",
       "      <td>Estados Unidos</td>\n",
       "      <td>397400.0</td>\n",
       "      <td>14000.0</td>\n",
       "      <td>124.0</td>\n",
       "      <td>http://youtube.com/channel/UCPKNKldggioffXPkSm...</td>\n",
       "    </tr>\n",
       "    <tr>\n",
       "      <th>996</th>\n",
       "      <td>997</td>\n",
       "      <td>Adaahqueen</td>\n",
       "      <td>NaN</td>\n",
       "      <td>11700000.0</td>\n",
       "      <td>India</td>\n",
       "      <td>1100000.0</td>\n",
       "      <td>92500.0</td>\n",
       "      <td>164.0</td>\n",
       "      <td>http://youtube.com/channel/UCk3fFpqI5kDMf__mUP...</td>\n",
       "    </tr>\n",
       "    <tr>\n",
       "      <th>997</th>\n",
       "      <td>998</td>\n",
       "      <td>LittleAngelIndonesia</td>\n",
       "      <td>Musica_y_baile</td>\n",
       "      <td>11700000.0</td>\n",
       "      <td>Unknown</td>\n",
       "      <td>211400.0</td>\n",
       "      <td>745.0</td>\n",
       "      <td>0.0</td>\n",
       "      <td>http://youtube.com/channel/UCdrHrQf0o0TO8YDntX...</td>\n",
       "    </tr>\n",
       "    <tr>\n",
       "      <th>998</th>\n",
       "      <td>999</td>\n",
       "      <td>PenMultiplex</td>\n",
       "      <td>NaN</td>\n",
       "      <td>11700000.0</td>\n",
       "      <td>India</td>\n",
       "      <td>14000.0</td>\n",
       "      <td>81.0</td>\n",
       "      <td>1.0</td>\n",
       "      <td>http://youtube.com/channel/UCObyBrdrtQ20BU9PxH...</td>\n",
       "    </tr>\n",
       "    <tr>\n",
       "      <th>999</th>\n",
       "      <td>1000</td>\n",
       "      <td>OneindiaHindi</td>\n",
       "      <td>Noticias_y_Politica</td>\n",
       "      <td>11700000.0</td>\n",
       "      <td>India</td>\n",
       "      <td>2200.0</td>\n",
       "      <td>31.0</td>\n",
       "      <td>1.0</td>\n",
       "      <td>http://youtube.com/channel/UCOjgc1p2hJ4GZi6pQQ...</td>\n",
       "    </tr>\n",
       "  </tbody>\n",
       "</table>\n",
       "</div>"
      ],
      "text/plain": [
       "     rank              username           categories  suscribers  \\\n",
       "995   996          hamzymukbang                  NaN  11700000.0   \n",
       "996   997            Adaahqueen                  NaN  11700000.0   \n",
       "997   998  LittleAngelIndonesia       Musica_y_baile  11700000.0   \n",
       "998   999          PenMultiplex                  NaN  11700000.0   \n",
       "999  1000         OneindiaHindi  Noticias_y_Politica  11700000.0   \n",
       "\n",
       "            country     visits    likes  comments  \\\n",
       "995  Estados Unidos   397400.0  14000.0     124.0   \n",
       "996           India  1100000.0  92500.0     164.0   \n",
       "997         Unknown   211400.0    745.0       0.0   \n",
       "998           India    14000.0     81.0       1.0   \n",
       "999           India     2200.0     31.0       1.0   \n",
       "\n",
       "                                                 links  \n",
       "995  http://youtube.com/channel/UCPKNKldggioffXPkSm...  \n",
       "996  http://youtube.com/channel/UCk3fFpqI5kDMf__mUP...  \n",
       "997  http://youtube.com/channel/UCdrHrQf0o0TO8YDntX...  \n",
       "998  http://youtube.com/channel/UCObyBrdrtQ20BU9PxH...  \n",
       "999  http://youtube.com/channel/UCOjgc1p2hJ4GZi6pQQ...  "
      ]
     },
     "execution_count": 9,
     "metadata": {},
     "output_type": "execute_result"
    }
   ],
   "source": [
    "# check the tail of the dataset \n",
    "df.tail()\n"
   ]
  },
  {
   "cell_type": "code",
   "execution_count": 10,
   "metadata": {},
   "outputs": [
    {
     "name": "stdout",
     "output_type": "stream",
     "text": [
      "<class 'pandas.core.frame.DataFrame'>\n",
      "RangeIndex: 1000 entries, 0 to 999\n",
      "Data columns (total 9 columns):\n",
      " #   Column      Non-Null Count  Dtype  \n",
      "---  ------      --------------  -----  \n",
      " 0   rank        1000 non-null   int64  \n",
      " 1   username    1000 non-null   object \n",
      " 2   categories  694 non-null    object \n",
      " 3   suscribers  1000 non-null   float64\n",
      " 4   country     1000 non-null   object \n",
      " 5   visits      1000 non-null   float64\n",
      " 6   likes       1000 non-null   float64\n",
      " 7   comments    1000 non-null   float64\n",
      " 8   links       1000 non-null   object \n",
      "dtypes: float64(4), int64(1), object(4)\n",
      "memory usage: 70.4+ KB\n"
     ]
    }
   ],
   "source": [
    "df.info()"
   ]
  },
  {
   "cell_type": "code",
   "execution_count": 11,
   "metadata": {},
   "outputs": [
    {
     "data": {
      "text/plain": [
       "(1000, 9)"
      ]
     },
     "execution_count": 11,
     "metadata": {},
     "output_type": "execute_result"
    }
   ],
   "source": [
    "df.shape"
   ]
  },
  {
   "cell_type": "code",
   "execution_count": 12,
   "metadata": {},
   "outputs": [
    {
     "data": {
      "text/plain": [
       "rank            int64\n",
       "username       object\n",
       "categories     object\n",
       "suscribers    float64\n",
       "country        object\n",
       "visits        float64\n",
       "likes         float64\n",
       "comments      float64\n",
       "links          object\n",
       "dtype: object"
      ]
     },
     "execution_count": 12,
     "metadata": {},
     "output_type": "execute_result"
    }
   ],
   "source": [
    "df.dtypes"
   ]
  },
  {
   "cell_type": "code",
   "execution_count": 13,
   "metadata": {},
   "outputs": [
    {
     "data": {
      "text/html": [
       "<div>\n",
       "<style scoped>\n",
       "    .dataframe tbody tr th:only-of-type {\n",
       "        vertical-align: middle;\n",
       "    }\n",
       "\n",
       "    .dataframe tbody tr th {\n",
       "        vertical-align: top;\n",
       "    }\n",
       "\n",
       "    .dataframe thead th {\n",
       "        text-align: right;\n",
       "    }\n",
       "</style>\n",
       "<table border=\"1\" class=\"dataframe\">\n",
       "  <thead>\n",
       "    <tr style=\"text-align: right;\">\n",
       "      <th></th>\n",
       "      <th>rank</th>\n",
       "      <th>suscribers</th>\n",
       "      <th>visits</th>\n",
       "      <th>likes</th>\n",
       "      <th>comments</th>\n",
       "    </tr>\n",
       "  </thead>\n",
       "  <tbody>\n",
       "    <tr>\n",
       "      <th>count</th>\n",
       "      <td>1000.000000</td>\n",
       "      <td>1.000000e+03</td>\n",
       "      <td>1.000000e+03</td>\n",
       "      <td>1.000000e+03</td>\n",
       "      <td>1000.000000</td>\n",
       "    </tr>\n",
       "    <tr>\n",
       "      <th>mean</th>\n",
       "      <td>500.500000</td>\n",
       "      <td>2.189440e+07</td>\n",
       "      <td>1.209446e+06</td>\n",
       "      <td>5.363259e+04</td>\n",
       "      <td>1288.768000</td>\n",
       "    </tr>\n",
       "    <tr>\n",
       "      <th>std</th>\n",
       "      <td>288.819436</td>\n",
       "      <td>1.682775e+07</td>\n",
       "      <td>5.229942e+06</td>\n",
       "      <td>2.580457e+05</td>\n",
       "      <td>6778.188308</td>\n",
       "    </tr>\n",
       "    <tr>\n",
       "      <th>min</th>\n",
       "      <td>1.000000</td>\n",
       "      <td>1.170000e+07</td>\n",
       "      <td>0.000000e+00</td>\n",
       "      <td>0.000000e+00</td>\n",
       "      <td>0.000000</td>\n",
       "    </tr>\n",
       "    <tr>\n",
       "      <th>25%</th>\n",
       "      <td>250.750000</td>\n",
       "      <td>1.380000e+07</td>\n",
       "      <td>3.197500e+04</td>\n",
       "      <td>4.717500e+02</td>\n",
       "      <td>2.000000</td>\n",
       "    </tr>\n",
       "    <tr>\n",
       "      <th>50%</th>\n",
       "      <td>500.500000</td>\n",
       "      <td>1.675000e+07</td>\n",
       "      <td>1.744500e+05</td>\n",
       "      <td>3.500000e+03</td>\n",
       "      <td>67.000000</td>\n",
       "    </tr>\n",
       "    <tr>\n",
       "      <th>75%</th>\n",
       "      <td>750.250000</td>\n",
       "      <td>2.370000e+07</td>\n",
       "      <td>8.654750e+05</td>\n",
       "      <td>2.865000e+04</td>\n",
       "      <td>472.000000</td>\n",
       "    </tr>\n",
       "    <tr>\n",
       "      <th>max</th>\n",
       "      <td>1000.000000</td>\n",
       "      <td>2.495000e+08</td>\n",
       "      <td>1.174000e+08</td>\n",
       "      <td>5.300000e+06</td>\n",
       "      <td>154000.000000</td>\n",
       "    </tr>\n",
       "  </tbody>\n",
       "</table>\n",
       "</div>"
      ],
      "text/plain": [
       "              rank    suscribers        visits         likes       comments\n",
       "count  1000.000000  1.000000e+03  1.000000e+03  1.000000e+03    1000.000000\n",
       "mean    500.500000  2.189440e+07  1.209446e+06  5.363259e+04    1288.768000\n",
       "std     288.819436  1.682775e+07  5.229942e+06  2.580457e+05    6778.188308\n",
       "min       1.000000  1.170000e+07  0.000000e+00  0.000000e+00       0.000000\n",
       "25%     250.750000  1.380000e+07  3.197500e+04  4.717500e+02       2.000000\n",
       "50%     500.500000  1.675000e+07  1.744500e+05  3.500000e+03      67.000000\n",
       "75%     750.250000  2.370000e+07  8.654750e+05  2.865000e+04     472.000000\n",
       "max    1000.000000  2.495000e+08  1.174000e+08  5.300000e+06  154000.000000"
      ]
     },
     "execution_count": 13,
     "metadata": {},
     "output_type": "execute_result"
    }
   ],
   "source": [
    "df.describe()"
   ]
  },
  {
   "cell_type": "code",
   "execution_count": 14,
   "metadata": {},
   "outputs": [
    {
     "data": {
      "text/plain": [
       "rank            0\n",
       "username        0\n",
       "categories    306\n",
       "suscribers      0\n",
       "country         0\n",
       "visits          0\n",
       "likes           0\n",
       "comments        0\n",
       "links           0\n",
       "dtype: int64"
      ]
     },
     "execution_count": 14,
     "metadata": {},
     "output_type": "execute_result"
    }
   ],
   "source": [
    "df.isnull().sum()"
   ]
  },
  {
   "cell_type": "code",
   "execution_count": 15,
   "metadata": {},
   "outputs": [
    {
     "data": {
      "text/plain": [
       "rank           0.0\n",
       "username       0.0\n",
       "categories    30.6\n",
       "suscribers     0.0\n",
       "country        0.0\n",
       "visits         0.0\n",
       "likes          0.0\n",
       "comments       0.0\n",
       "links          0.0\n",
       "dtype: float64"
      ]
     },
     "execution_count": 15,
     "metadata": {},
     "output_type": "execute_result"
    }
   ],
   "source": [
    "df.isnull().sum()/len(df)*100\n"
   ]
  },
  {
   "cell_type": "code",
   "execution_count": 16,
   "metadata": {},
   "outputs": [
    {
     "data": {
      "text/plain": [
       "<AxesSubplot: >"
      ]
     },
     "execution_count": 16,
     "metadata": {},
     "output_type": "execute_result"
    },
    {
     "data": {
      "image/png": "[encoded data removed]",
      "text/plain": [
       "<Figure size 640x480 with 1 Axes>"
      ]
     },
     "metadata": {},
     "output_type": "display_data"
    }
   ],
   "source": [
    "sns.heatmap(df.isnull(),yticklabels=False,cbar=False,cmap='viridis')\n"
   ]
  },
  {
   "cell_type": "code",
   "execution_count": 17,
   "metadata": {},
   "outputs": [
    {
     "data": {
      "text/plain": [
       "Index(['rank', 'username', 'categories', 'suscribers', 'country', 'visits',\n",
       "       'likes', 'comments', 'links'],\n",
       "      dtype='object')"
      ]
     },
     "execution_count": 17,
     "metadata": {},
     "output_type": "execute_result"
    }
   ],
   "source": [
    "df.columns"
   ]
  },
  {
   "cell_type": "code",
   "execution_count": 18,
   "metadata": {},
   "outputs": [],
   "source": [
    "# impute missing value in categoies columns\n",
    "df['categories'] = df['categories'].fillna(df['categories'].mode()[0])"
   ]
  },
  {
   "cell_type": "code",
   "execution_count": 19,
   "metadata": {},
   "outputs": [
    {
     "data": {
      "text/plain": [
       "rank          0\n",
       "username      0\n",
       "categories    0\n",
       "suscribers    0\n",
       "country       0\n",
       "visits        0\n",
       "likes         0\n",
       "comments      0\n",
       "links         0\n",
       "dtype: int64"
      ]
     },
     "execution_count": 19,
     "metadata": {},
     "output_type": "execute_result"
    }
   ],
   "source": [
    "df.isnull().sum()"
   ]
  },
  {
   "cell_type": "code",
   "execution_count": 20,
   "metadata": {},
   "outputs": [
    {
     "data": {
      "text/plain": [
       "Estados Unidos    293\n",
       "India             241\n",
       "Unknown           171\n",
       "Brasil             64\n",
       "México             58\n",
       "Indonesia          38\n",
       "Rusia              25\n",
       "Tailandia          18\n",
       "Colombia           16\n",
       "Filipinas          13\n",
       "Pakistan           11\n",
       "Argentina           7\n",
       "Egipto              5\n",
       "Francia             4\n",
       "Turquia             4\n",
       "Arabia Saudita      4\n",
       "Espana              4\n",
       "Iraq                4\n",
       "Japon               3\n",
       "Bangladesh          3\n",
       "Reino Unido         3\n",
       "Marruecos           2\n",
       "Argelia             2\n",
       "Peru                2\n",
       "Singapur            1\n",
       "Ecuador             1\n",
       "Jordania            1\n",
       "El Salvador         1\n",
       "Somalia             1\n",
       "Name: country, dtype: int64"
      ]
     },
     "execution_count": 20,
     "metadata": {},
     "output_type": "execute_result"
    }
   ],
   "source": [
    "df ['country'].value_counts() "
   ]
  },
  {
   "cell_type": "code",
   "execution_count": 21,
   "metadata": {},
   "outputs": [
    {
     "data": {
      "text/plain": [
       "(array([0, 1, 2, 3, 4]),\n",
       " [Text(0, 0, 'Estados Unidos'),\n",
       "  Text(1, 0, 'India'),\n",
       "  Text(2, 0, 'Unknown'),\n",
       "  Text(3, 0, 'Brasil'),\n",
       "  Text(4, 0, 'México')])"
      ]
     },
     "execution_count": 21,
     "metadata": {},
     "output_type": "execute_result"
    },
    {
     "data": {
      "image/png": "[encoded data removed]",
      "text/plain": [
       "<Figure size 640x480 with 1 Axes>"
      ]
     },
     "metadata": {},
     "output_type": "display_data"
    }
   ],
   "source": [
    "sns.countplot(x= 'country',data=df,order=df['country'].value_counts().index[:5])\n",
    "# rotate x-trick text\n",
    "plt.xticks(rotation=90)"
   ]
  },
  {
   "cell_type": "code",
   "execution_count": 22,
   "metadata": {},
   "outputs": [
    {
     "data": {
      "application/vnd.plotly.v1+json": {
       "config": {
        "plotlyServerURL": "https://plot.ly"
       },
       "data": [
        {
         "alignmentgroup": "True",
         "hovertemplate": "x=%{x}<br>y=%{y}<extra></extra>",
         "legendgroup": "",
         "marker": {
          "color": "#636efa",
          "pattern": {
           "shape": ""
          }
         },
         "name": "",
         "offsetgroup": "",
         "orientation": "v",
         "showlegend": false,
         "textposition": "auto",
         "type": "bar",
         "x": [
          "Estados Unidos",
          "India",
          "Unknown",
          "Brasil",
          "México",
          "Indonesia",
          "Rusia",
          "Tailandia",
          "Colombia",
          "Filipinas",
          "Pakistan",
          "Argentina",
          "Egipto",
          "Francia",
          "Turquia",
          "Arabia Saudita",
          "Espana",
          "Iraq",
          "Japon",
          "Bangladesh",
          "Reino Unido",
          "Marruecos",
          "Argelia",
          "Peru",
          "Singapur",
          "Ecuador",
          "Jordania",
          "El Salvador",
          "Somalia"
         ],
         "xaxis": "x",
         "y": [
          293,
          241,
          171,
          64,
          58,
          38,
          25,
          18,
          16,
          13,
          11,
          7,
          5,
          4,
          4,
          4,
          4,
          4,
          3,
          3,
          3,
          2,
          2,
          2,
          1,
          1,
          1,
          1,
          1
         ],
         "yaxis": "y"
        }
       ],
       "layout": {
        "barmode": "relative",
        "legend": {
         "tracegroupgap": 0
        },
        "margin": {
         "t": 60
        },
        "template": {
         "data": {
          "bar": [
           {
            "error_x": {
             "color": "#2a3f5f"
            },
            "error_y": {
             "color": "#2a3f5f"
            },
            "marker": {
             "line": {
              "color": "#E5ECF6",
              "width": 0.5
             },
             "pattern": {
              "fillmode": "overlay",
              "size": 10,
              "solidity": 0.2
             }
            },
            "type": "bar"
           }
          ],
          "barpolar": [
           {
            "marker": {
             "line": {
              "color": "#E5ECF6",
              "width": 0.5
             },
             "pattern": {
              "fillmode": "overlay",
              "size": 10,
              "solidity": 0.2
             }
            },
            "type": "barpolar"
           }
          ],
          "carpet": [
           {
            "aaxis": {
             "endlinecolor": "#2a3f5f",
             "gridcolor": "white",
             "linecolor": "white",
             "minorgridcolor": "white",
             "startlinecolor": "#2a3f5f"
            },
            "baxis": {
             "endlinecolor": "#2a3f5f",
             "gridcolor": "white",
             "linecolor": "white",
             "minorgridcolor": "white",
             "startlinecolor": "#2a3f5f"
            },
            "type": "carpet"
           }
          ],
          "choropleth": [
           {
            "colorbar": {
             "outlinewidth": 0,
             "ticks": ""
            },
            "type": "choropleth"
           }
          ],
          "contour": [
           {
            "colorbar": {
             "outlinewidth": 0,
             "ticks": ""
            },
            "colorscale": [
             [
              0,
              "#0d0887"
             ],
             [
              0.1111111111111111,
              "#46039f"
             ],
             [
              0.2222222222222222,
              "#7201a8"
             ],
             [
              0.3333333333333333,
              "#9c179e"
             ],
             [
              0.4444444444444444,
              "#bd3786"
             ],
             [
              0.5555555555555556,
              "#d8576b"
             ],
             [
              0.6666666666666666,
              "#ed7953"
             ],
             [
              0.7777777777777778,
              "#fb9f3a"
             ],
             [
              0.8888888888888888,
              "#fdca26"
             ],
             [
              1,
              "#f0f921"
             ]
            ],
            "type": "contour"
           }
          ],
          "contourcarpet": [
           {
            "colorbar": {
             "outlinewidth": 0,
             "ticks": ""
            },
            "type": "contourcarpet"
           }
          ],
          "heatmap": [
           {
            "colorbar": {
             "outlinewidth": 0,
             "ticks": ""
            },
            "colorscale": [
             [
              0,
              "#0d0887"
             ],
             [
              0.1111111111111111,
              "#46039f"
             ],
             [
              0.2222222222222222,
              "#7201a8"
             ],
             [
              0.3333333333333333,
              "#9c179e"
             ],
             [
              0.4444444444444444,
              "#bd3786"
             ],
             [
              0.5555555555555556,
              "#d8576b"
             ],
             [
              0.6666666666666666,
              "#ed7953"
             ],
             [
              0.7777777777777778,
              "#fb9f3a"
             ],
             [
              0.8888888888888888,
              "#fdca26"
             ],
             [
              1,
              "#f0f921"
             ]
            ],
            "type": "heatmap"
           }
          ],
          "heatmapgl": [
           {
            "colorbar": {
             "outlinewidth": 0,
             "ticks": ""
            },
            "colorscale": [
             [
              0,
              "#0d0887"
             ],
             [
              0.1111111111111111,
              "#46039f"
             ],
             [
              0.2222222222222222,
              "#7201a8"
             ],
             [
              0.3333333333333333,
              "#9c179e"
             ],
             [
              0.4444444444444444,
              "#bd3786"
             ],
             [
              0.5555555555555556,
              "#d8576b"
             ],
             [
              0.6666666666666666,
              "#ed7953"
             ],
             [
              0.7777777777777778,
              "#fb9f3a"
             ],
             [
              0.8888888888888888,
              "#fdca26"
             ],
             [
              1,
              "#f0f921"
             ]
            ],
            "type": "heatmapgl"
           }
          ],
          "histogram": [
           {
            "marker": {
             "pattern": {
              "fillmode": "overlay",
              "size": 10,
              "solidity": 0.2
             }
            },
            "type": "histogram"
           }
          ],
          "histogram2d": [
           {
            "colorbar": {
             "outlinewidth": 0,
             "ticks": ""
            },
            "colorscale": [
             [
              0,
              "#0d0887"
             ],
             [
              0.1111111111111111,
              "#46039f"
             ],
             [
              0.2222222222222222,
              "#7201a8"
             ],
             [
              0.3333333333333333,
              "#9c179e"
             ],
             [
              0.4444444444444444,
              "#bd3786"
             ],
             [
              0.5555555555555556,
              "#d8576b"
             ],
             [
              0.6666666666666666,
              "#ed7953"
             ],
             [
              0.7777777777777778,
              "#fb9f3a"
             ],
             [
              0.8888888888888888,
              "#fdca26"
             ],
             [
              1,
              "#f0f921"
             ]
            ],
            "type": "histogram2d"
           }
          ],
          "histogram2dcontour": [
           {
            "colorbar": {
             "outlinewidth": 0,
             "ticks": ""
            },
            "colorscale": [
             [
              0,
              "#0d0887"
             ],
             [
              0.1111111111111111,
              "#46039f"
             ],
             [
              0.2222222222222222,
              "#7201a8"
             ],
             [
              0.3333333333333333,
              "#9c179e"
             ],
             [
              0.4444444444444444,
              "#bd3786"
             ],
             [
              0.5555555555555556,
              "#d8576b"
             ],
             [
              0.6666666666666666,
              "#ed7953"
             ],
             [
              0.7777777777777778,
              "#fb9f3a"
             ],
             [
              0.8888888888888888,
              "#fdca26"
             ],
             [
              1,
              "#f0f921"
             ]
            ],
            "type": "histogram2dcontour"
           }
          ],
          "mesh3d": [
           {
            "colorbar": {
             "outlinewidth": 0,
             "ticks": ""
            },
            "type": "mesh3d"
           }
          ],
          "parcoords": [
           {
            "line": {
             "colorbar": {
              "outlinewidth": 0,
              "ticks": ""
             }
            },
            "type": "parcoords"
           }
          ],
          "pie": [
           {
            "automargin": true,
            "type": "pie"
           }
          ],
          "scatter": [
           {
            "fillpattern": {
             "fillmode": "overlay",
             "size": 10,
             "solidity": 0.2
            },
            "type": "scatter"
           }
          ],
          "scatter3d": [
           {
            "line": {
             "colorbar": {
              "outlinewidth": 0,
              "ticks": ""
             }
            },
            "marker": {
             "colorbar": {
              "outlinewidth": 0,
              "ticks": ""
             }
            },
            "type": "scatter3d"
           }
          ],
          "scattercarpet": [
           {
            "marker": {
             "colorbar": {
              "outlinewidth": 0,
              "ticks": ""
             }
            },
            "type": "scattercarpet"
           }
          ],
          "scattergeo": [
           {
            "marker": {
             "colorbar": {
              "outlinewidth": 0,
              "ticks": ""
             }
            },
            "type": "scattergeo"
           }
          ],
          "scattergl": [
           {
            "marker": {
             "colorbar": {
              "outlinewidth": 0,
              "ticks": ""
             }
            },
            "type": "scattergl"
           }
          ],
          "scattermapbox": [
           {
            "marker": {
             "colorbar": {
              "outlinewidth": 0,
              "ticks": ""
             }
            },
            "type": "scattermapbox"
           }
          ],
          "scatterpolar": [
           {
            "marker": {
             "colorbar": {
              "outlinewidth": 0,
              "ticks": ""
             }
            },
            "type": "scatterpolar"
           }
          ],
          "scatterpolargl": [
           {
            "marker": {
             "colorbar": {
              "outlinewidth": 0,
              "ticks": ""
             }
            },
            "type": "scatterpolargl"
           }
          ],
          "scatterternary": [
           {
            "marker": {
             "colorbar": {
              "outlinewidth": 0,
              "ticks": ""
             }
            },
            "type": "scatterternary"
           }
          ],
          "surface": [
           {
            "colorbar": {
             "outlinewidth": 0,
             "ticks": ""
            },
            "colorscale": [
             [
              0,
              "#0d0887"
             ],
             [
              0.1111111111111111,
              "#46039f"
             ],
             [
              0.2222222222222222,
              "#7201a8"
             ],
             [
              0.3333333333333333,
              "#9c179e"
             ],
             [
              0.4444444444444444,
              "#bd3786"
             ],
             [
              0.5555555555555556,
              "#d8576b"
             ],
             [
              0.6666666666666666,
              "#ed7953"
             ],
             [
              0.7777777777777778,
              "#fb9f3a"
             ],
             [
              0.8888888888888888,
              "#fdca26"
             ],
             [
              1,
              "#f0f921"
             ]
            ],
            "type": "surface"
           }
          ],
          "table": [
           {
            "cells": {
             "fill": {
              "color": "#EBF0F8"
             },
             "line": {
              "color": "white"
             }
            },
            "header": {
             "fill": {
              "color": "#C8D4E3"
             },
             "line": {
              "color": "white"
             }
            },
            "type": "table"
           }
          ]
         },
         "layout": {
          "annotationdefaults": {
           "arrowcolor": "#2a3f5f",
           "arrowhead": 0,
           "arrowwidth": 1
          },
          "autotypenumbers": "strict",
          "coloraxis": {
           "colorbar": {
            "outlinewidth": 0,
            "ticks": ""
           }
          },
          "colorscale": {
           "diverging": [
            [
             0,
             "#8e0152"
            ],
            [
             0.1,
             "#c51b7d"
            ],
            [
             0.2,
             "#de77ae"
            ],
            [
             0.3,
             "#f1b6da"
            ],
            [
             0.4,
             "#fde0ef"
            ],
            [
             0.5,
             "#f7f7f7"
            ],
            [
             0.6,
             "#e6f5d0"
            ],
            [
             0.7,
             "#b8e186"
            ],
            [
             0.8,
             "#7fbc41"
            ],
            [
             0.9,
             "#4d9221"
            ],
            [
             1,
             "#276419"
            ]
           ],
           "sequential": [
            [
             0,
             "#0d0887"
            ],
            [
             0.1111111111111111,
             "#46039f"
            ],
            [
             0.2222222222222222,
             "#7201a8"
            ],
            [
             0.3333333333333333,
             "#9c179e"
            ],
            [
             0.4444444444444444,
             "#bd3786"
            ],
            [
             0.5555555555555556,
             "#d8576b"
            ],
            [
             0.6666666666666666,
             "#ed7953"
            ],
            [
             0.7777777777777778,
             "#fb9f3a"
            ],
            [
             0.8888888888888888,
             "#fdca26"
            ],
            [
             1,
             "#f0f921"
            ]
           ],
           "sequentialminus": [
            [
             0,
             "#0d0887"
            ],
            [
             0.1111111111111111,
             "#46039f"
            ],
            [
             0.2222222222222222,
             "#7201a8"
            ],
            [
             0.3333333333333333,
             "#9c179e"
            ],
            [
             0.4444444444444444,
             "#bd3786"
            ],
            [
             0.5555555555555556,
             "#d8576b"
            ],
            [
             0.6666666666666666,
             "#ed7953"
            ],
            [
             0.7777777777777778,
             "#fb9f3a"
            ],
            [
             0.8888888888888888,
             "#fdca26"
            ],
            [
             1,
             "#f0f921"
            ]
           ]
          },
          "colorway": [
           "#636efa",
           "#EF553B",
           "#00cc96",
           "#ab63fa",
           "#FFA15A",
           "#19d3f3",
           "#FF6692",
           "#B6E880",
           "#FF97FF",
           "#FECB52"
          ],
          "font": {
           "color": "#2a3f5f"
          },
          "geo": {
           "bgcolor": "white",
           "lakecolor": "white",
           "landcolor": "#E5ECF6",
           "showlakes": true,
           "showland": true,
           "subunitcolor": "white"
          },
          "hoverlabel": {
           "align": "left"
          },
          "hovermode": "closest",
          "mapbox": {
           "style": "light"
          },
          "paper_bgcolor": "white",
          "plot_bgcolor": "#E5ECF6",
          "polar": {
           "angularaxis": {
            "gridcolor": "white",
            "linecolor": "white",
            "ticks": ""
           },
           "bgcolor": "#E5ECF6",
           "radialaxis": {
            "gridcolor": "white",
            "linecolor": "white",
            "ticks": ""
           }
          },
          "scene": {
           "xaxis": {
            "backgroundcolor": "#E5ECF6",
            "gridcolor": "white",
            "gridwidth": 2,
            "linecolor": "white",
            "showbackground": true,
            "ticks": "",
            "zerolinecolor": "white"
           },
           "yaxis": {
            "backgroundcolor": "#E5ECF6",
            "gridcolor": "white",
            "gridwidth": 2,
            "linecolor": "white",
            "showbackground": true,
            "ticks": "",
            "zerolinecolor": "white"
           },
           "zaxis": {
            "backgroundcolor": "#E5ECF6",
            "gridcolor": "white",
            "gridwidth": 2,
            "linecolor": "white",
            "showbackground": true,
            "ticks": "",
            "zerolinecolor": "white"
           }
          },
          "shapedefaults": {
           "line": {
            "color": "#2a3f5f"
           }
          },
          "ternary": {
           "aaxis": {
            "gridcolor": "white",
            "linecolor": "white",
            "ticks": ""
           },
           "baxis": {
            "gridcolor": "white",
            "linecolor": "white",
            "ticks": ""
           },
           "bgcolor": "#E5ECF6",
           "caxis": {
            "gridcolor": "white",
            "linecolor": "white",
            "ticks": ""
           }
          },
          "title": {
           "x": 0.05
          },
          "xaxis": {
           "automargin": true,
           "gridcolor": "white",
           "linecolor": "white",
           "ticks": "",
           "title": {
            "standoff": 15
           },
           "zerolinecolor": "white",
           "zerolinewidth": 2
          },
          "yaxis": {
           "automargin": true,
           "gridcolor": "white",
           "linecolor": "white",
           "ticks": "",
           "title": {
            "standoff": 15
           },
           "zerolinecolor": "white",
           "zerolinewidth": 2
          }
         }
        },
        "xaxis": {
         "anchor": "y",
         "domain": [
          0,
          1
         ],
         "title": {
          "text": "x"
         }
        },
        "yaxis": {
         "anchor": "x",
         "domain": [
          0,
          1
         ],
         "title": {
          "text": "y"
         }
        }
       }
      }
     },
     "metadata": {},
     "output_type": "display_data"
    }
   ],
   "source": [
    "px.bar(x= df['country'].value_counts().index,y= df['country'].value_counts())\n"
   ]
  },
  {
   "cell_type": "code",
   "execution_count": 23,
   "metadata": {},
   "outputs": [
    {
     "data": {
      "text/plain": [
       "<AxesSubplot: xlabel='country', ylabel='count'>"
      ]
     },
     "execution_count": 23,
     "metadata": {},
     "output_type": "execute_result"
    },
    {
     "data": {
      "image/png": "[encoded data removed]",
      "text/plain": [
       "<Figure size 640x480 with 1 Axes>"
      ]
     },
     "metadata": {},
     "output_type": "display_data"
    }
   ],
   "source": [
    "sns.countplot(x= 'country',data=df,order=df['country'].value_counts().index[:10])\n"
   ]
  },
  {
   "cell_type": "code",
   "execution_count": 24,
   "metadata": {},
   "outputs": [
    {
     "data": {
      "text/plain": [
       "Musica_y_baile                       466\n",
       "Peliculas_Animacion                   61\n",
       "Musica_y_baile_Peliculas              41\n",
       "Vlogs_diarios                         37\n",
       "Noticias_y_Politica                   36\n",
       "Peliculas_Humor                       34\n",
       "Animacion_Videojuegos                 34\n",
       "Animacion_Juguetes                    29\n",
       "Animacion_Humor                       27\n",
       "Peliculas                             24\n",
       "Educacion                             24\n",
       "Animacion                             22\n",
       "Videojuegos                           19\n",
       "Videojuegos_Humor                     17\n",
       "Musica_y_baile_Animacion              16\n",
       "Ciencia_y_tecnologia                  14\n",
       "Comida_y_bebida                       12\n",
       "Humor                                 10\n",
       "Juguetes                              10\n",
       "Peliculas_Juguetes                     9\n",
       "Peliculas_Videojuegos                  8\n",
       "Deportes                               8\n",
       "Musica_y_baile_Humor                   6\n",
       "Juguetes_Coches_y_vehiculos            4\n",
       "DIY_y_Life_Hacks                       3\n",
       "Fitness_Salud_y_autoayuda              3\n",
       "Videojuegos_Juguetes                   3\n",
       "Animales_y_mascotas                    2\n",
       "Moda                                   2\n",
       "Coches_y_vehiculos                     2\n",
       "Educacion_Juguetes                     2\n",
       "Fitness                                2\n",
       "Comida_y_bebida_Juguetes               1\n",
       "ASMR_Comida_y_bebida                   1\n",
       "Animacion_Humor_Juguetes               1\n",
       "Diseno/arte_Belleza                    1\n",
       "Belleza_Moda                           1\n",
       "ASMR                                   1\n",
       "Musica_y_baile_Juguetes                1\n",
       "Diseno/arte_DIY_y_Life_Hacks           1\n",
       "DIY_y_Life_Hacks_Juguetes              1\n",
       "Diseno/arte                            1\n",
       "Comida_y_bebida_Salud_y_autoayuda      1\n",
       "Viajes_Espectaculos                    1\n",
       "Juguetes_DIY_y_Life_Hacks              1\n",
       "Name: categories, dtype: int64"
      ]
     },
     "execution_count": 24,
     "metadata": {},
     "output_type": "execute_result"
    }
   ],
   "source": [
    "df ['categories'].value_counts() "
   ]
  },
  {
   "cell_type": "code",
   "execution_count": 25,
   "metadata": {},
   "outputs": [
    {
     "data": {
      "text/plain": [
       "<AxesSubplot: xlabel='categories', ylabel='count'>"
      ]
     },
     "execution_count": 25,
     "metadata": {},
     "output_type": "execute_result"
    },
    {
     "data": {
      "image/png": "[encoded data removed]",
      "text/plain": [
       "<Figure size 640x480 with 1 Axes>"
      ]
     },
     "metadata": {},
     "output_type": "display_data"
    }
   ],
   "source": [
    "sns.countplot(x= 'categories',data=df)"
   ]
  },
  {
   "cell_type": "code",
   "execution_count": 26,
   "metadata": {},
   "outputs": [
    {
     "data": {
      "text/plain": [
       "(array([0, 1, 2, 3, 4]),\n",
       " [Text(0, 0, 'Musica_y_baile'),\n",
       "  Text(1, 0, 'Peliculas_Animacion'),\n",
       "  Text(2, 0, 'Musica_y_baile_Peliculas'),\n",
       "  Text(3, 0, 'Vlogs_diarios'),\n",
       "  Text(4, 0, 'Noticias_y_Politica')])"
      ]
     },
     "execution_count": 26,
     "metadata": {},
     "output_type": "execute_result"
    },
    {
     "data": {
      "image/png": "[encoded data removed]",
      "text/plain": [
       "<Figure size 640x480 with 1 Axes>"
      ]
     },
     "metadata": {},
     "output_type": "display_data"
    }
   ],
   "source": [
    "sns.countplot(x= 'categories',data=df,order=df['categories'].value_counts().index[:5])\n",
    "# rotate x-trick text\n",
    "plt.xticks(rotation=45)"
   ]
  },
  {
   "cell_type": "code",
   "execution_count": 27,
   "metadata": {},
   "outputs": [
    {
     "data": {
      "text/plain": [
       "(array([0, 1, 2, 3, 4, 5, 6, 7, 8, 9]),\n",
       " [Text(0, 0, 'Musica_y_baile'),\n",
       "  Text(1, 0, 'Peliculas_Animacion'),\n",
       "  Text(2, 0, 'Musica_y_baile_Peliculas'),\n",
       "  Text(3, 0, 'Vlogs_diarios'),\n",
       "  Text(4, 0, 'Noticias_y_Politica'),\n",
       "  Text(5, 0, 'Peliculas_Humor'),\n",
       "  Text(6, 0, 'Animacion_Videojuegos'),\n",
       "  Text(7, 0, 'Animacion_Juguetes'),\n",
       "  Text(8, 0, 'Animacion_Humor'),\n",
       "  Text(9, 0, 'Peliculas')])"
      ]
     },
     "execution_count": 27,
     "metadata": {},
     "output_type": "execute_result"
    },
    {
     "data": {
      "image/png": "[encoded data removed]",
      "text/plain": [
       "<Figure size 640x480 with 1 Axes>"
      ]
     },
     "metadata": {},
     "output_type": "display_data"
    }
   ],
   "source": [
    "sns.countplot(x= 'categories',data=df,order=df['categories'].value_counts().index[:10])\n",
    "# rotate x-trick text\n",
    "plt.xticks(rotation=45)"
   ]
  },
  {
   "cell_type": "code",
   "execution_count": 28,
   "metadata": {},
   "outputs": [
    {
     "data": {
      "application/vnd.plotly.v1+json": {
       "config": {
        "plotlyServerURL": "https://plot.ly"
       },
       "data": [
        {
         "alignmentgroup": "True",
         "hovertemplate": "x=%{x}<br>y=%{y}<extra></extra>",
         "legendgroup": "",
         "marker": {
          "color": "#636efa",
          "pattern": {
           "shape": ""
          }
         },
         "name": "",
         "offsetgroup": "",
         "orientation": "v",
         "showlegend": false,
         "textposition": "auto",
         "type": "bar",
         "x": [
          "Musica_y_baile",
          "Peliculas_Animacion",
          "Musica_y_baile_Peliculas",
          "Vlogs_diarios",
          "Noticias_y_Politica",
          "Peliculas_Humor",
          "Animacion_Videojuegos",
          "Animacion_Juguetes",
          "Animacion_Humor",
          "Peliculas",
          "Educacion",
          "Animacion",
          "Videojuegos",
          "Videojuegos_Humor",
          "Musica_y_baile_Animacion",
          "Ciencia_y_tecnologia",
          "Comida_y_bebida",
          "Humor",
          "Juguetes",
          "Peliculas_Juguetes",
          "Peliculas_Videojuegos",
          "Deportes",
          "Musica_y_baile_Humor",
          "Juguetes_Coches_y_vehiculos",
          "DIY_y_Life_Hacks",
          "Fitness_Salud_y_autoayuda",
          "Videojuegos_Juguetes",
          "Animales_y_mascotas",
          "Moda",
          "Coches_y_vehiculos",
          "Educacion_Juguetes",
          "Fitness",
          "Comida_y_bebida_Juguetes",
          "ASMR_Comida_y_bebida",
          "Animacion_Humor_Juguetes",
          "Diseno/arte_Belleza",
          "Belleza_Moda",
          "ASMR",
          "Musica_y_baile_Juguetes",
          "Diseno/arte_DIY_y_Life_Hacks",
          "DIY_y_Life_Hacks_Juguetes",
          "Diseno/arte",
          "Comida_y_bebida_Salud_y_autoayuda",
          "Viajes_Espectaculos",
          "Juguetes_DIY_y_Life_Hacks"
         ],
         "xaxis": "x",
         "y": [
          466,
          61,
          41,
          37,
          36,
          34,
          34,
          29,
          27,
          24,
          24,
          22,
          19,
          17,
          16,
          14,
          12,
          10,
          10,
          9,
          8,
          8,
          6,
          4,
          3,
          3,
          3,
          2,
          2,
          2,
          2,
          2,
          1,
          1,
          1,
          1,
          1,
          1,
          1,
          1,
          1,
          1,
          1,
          1,
          1
         ],
         "yaxis": "y"
        }
       ],
       "layout": {
        "barmode": "relative",
        "legend": {
         "tracegroupgap": 0
        },
        "margin": {
         "t": 60
        },
        "template": {
         "data": {
          "bar": [
           {
            "error_x": {
             "color": "#2a3f5f"
            },
            "error_y": {
             "color": "#2a3f5f"
            },
            "marker": {
             "line": {
              "color": "#E5ECF6",
              "width": 0.5
             },
             "pattern": {
              "fillmode": "overlay",
              "size": 10,
              "solidity": 0.2
             }
            },
            "type": "bar"
           }
          ],
          "barpolar": [
           {
            "marker": {
             "line": {
              "color": "#E5ECF6",
              "width": 0.5
             },
             "pattern": {
              "fillmode": "overlay",
              "size": 10,
              "solidity": 0.2
             }
            },
            "type": "barpolar"
           }
          ],
          "carpet": [
           {
            "aaxis": {
             "endlinecolor": "#2a3f5f",
             "gridcolor": "white",
             "linecolor": "white",
             "minorgridcolor": "white",
             "startlinecolor": "#2a3f5f"
            },
            "baxis": {
             "endlinecolor": "#2a3f5f",
             "gridcolor": "white",
             "linecolor": "white",
             "minorgridcolor": "white",
             "startlinecolor": "#2a3f5f"
            },
            "type": "carpet"
           }
          ],
          "choropleth": [
           {
            "colorbar": {
             "outlinewidth": 0,
             "ticks": ""
            },
            "type": "choropleth"
           }
          ],
          "contour": [
           {
            "colorbar": {
             "outlinewidth": 0,
             "ticks": ""
            },
            "colorscale": [
             [
              0,
              "#0d0887"
             ],
             [
              0.1111111111111111,
              "#46039f"
             ],
             [
              0.2222222222222222,
              "#7201a8"
             ],
             [
              0.3333333333333333,
              "#9c179e"
             ],
             [
              0.4444444444444444,
              "#bd3786"
             ],
             [
              0.5555555555555556,
              "#d8576b"
             ],
             [
              0.6666666666666666,
              "#ed7953"
             ],
             [
              0.7777777777777778,
              "#fb9f3a"
             ],
             [
              0.8888888888888888,
              "#fdca26"
             ],
             [
              1,
              "#f0f921"
             ]
            ],
            "type": "contour"
           }
          ],
          "contourcarpet": [
           {
            "colorbar": {
             "outlinewidth": 0,
             "ticks": ""
            },
            "type": "contourcarpet"
           }
          ],
          "heatmap": [
           {
            "colorbar": {
             "outlinewidth": 0,
             "ticks": ""
            },
            "colorscale": [
             [
              0,
              "#0d0887"
             ],
             [
              0.1111111111111111,
              "#46039f"
             ],
             [
              0.2222222222222222,
              "#7201a8"
             ],
             [
              0.3333333333333333,
              "#9c179e"
             ],
             [
              0.4444444444444444,
              "#bd3786"
             ],
             [
              0.5555555555555556,
              "#d8576b"
             ],
             [
              0.6666666666666666,
              "#ed7953"
             ],
             [
              0.7777777777777778,
              "#fb9f3a"
             ],
             [
              0.8888888888888888,
              "#fdca26"
             ],
             [
              1,
              "#f0f921"
             ]
            ],
            "type": "heatmap"
           }
          ],
          "heatmapgl": [
           {
            "colorbar": {
             "outlinewidth": 0,
             "ticks": ""
            },
            "colorscale": [
             [
              0,
              "#0d0887"
             ],
             [
              0.1111111111111111,
              "#46039f"
             ],
             [
              0.2222222222222222,
              "#7201a8"
             ],
             [
              0.3333333333333333,
              "#9c179e"
             ],
             [
              0.4444444444444444,
              "#bd3786"
             ],
             [
              0.5555555555555556,
              "#d8576b"
             ],
             [
              0.6666666666666666,
              "#ed7953"
             ],
             [
              0.7777777777777778,
              "#fb9f3a"
             ],
             [
              0.8888888888888888,
              "#fdca26"
             ],
             [
              1,
              "#f0f921"
             ]
            ],
            "type": "heatmapgl"
           }
          ],
          "histogram": [
           {
            "marker": {
             "pattern": {
              "fillmode": "overlay",
              "size": 10,
              "solidity": 0.2
             }
            },
            "type": "histogram"
           }
          ],
          "histogram2d": [
           {
            "colorbar": {
             "outlinewidth": 0,
             "ticks": ""
            },
            "colorscale": [
             [
              0,
              "#0d0887"
             ],
             [
              0.1111111111111111,
              "#46039f"
             ],
             [
              0.2222222222222222,
              "#7201a8"
             ],
             [
              0.3333333333333333,
              "#9c179e"
             ],
             [
              0.4444444444444444,
              "#bd3786"
             ],
             [
              0.5555555555555556,
              "#d8576b"
             ],
             [
              0.6666666666666666,
              "#ed7953"
             ],
             [
              0.7777777777777778,
              "#fb9f3a"
             ],
             [
              0.8888888888888888,
              "#fdca26"
             ],
             [
              1,
              "#f0f921"
             ]
            ],
            "type": "histogram2d"
           }
          ],
          "histogram2dcontour": [
           {
            "colorbar": {
             "outlinewidth": 0,
             "ticks": ""
            },
            "colorscale": [
             [
              0,
              "#0d0887"
             ],
             [
              0.1111111111111111,
              "#46039f"
             ],
             [
              0.2222222222222222,
              "#7201a8"
             ],
             [
              0.3333333333333333,
              "#9c179e"
             ],
             [
              0.4444444444444444,
              "#bd3786"
             ],
             [
              0.5555555555555556,
              "#d8576b"
             ],
             [
              0.6666666666666666,
              "#ed7953"
             ],
             [
              0.7777777777777778,
              "#fb9f3a"
             ],
             [
              0.8888888888888888,
              "#fdca26"
             ],
             [
              1,
              "#f0f921"
             ]
            ],
            "type": "histogram2dcontour"
           }
          ],
          "mesh3d": [
           {
            "colorbar": {
             "outlinewidth": 0,
             "ticks": ""
            },
            "type": "mesh3d"
           }
          ],
          "parcoords": [
           {
            "line": {
             "colorbar": {
              "outlinewidth": 0,
              "ticks": ""
             }
            },
            "type": "parcoords"
           }
          ],
          "pie": [
           {
            "automargin": true,
            "type": "pie"
           }
          ],
          "scatter": [
           {
            "fillpattern": {
             "fillmode": "overlay",
             "size": 10,
             "solidity": 0.2
            },
            "type": "scatter"
           }
          ],
          "scatter3d": [
           {
            "line": {
             "colorbar": {
              "outlinewidth": 0,
              "ticks": ""
             }
            },
            "marker": {
             "colorbar": {
              "outlinewidth": 0,
              "ticks": ""
             }
            },
            "type": "scatter3d"
           }
          ],
          "scattercarpet": [
           {
            "marker": {
             "colorbar": {
              "outlinewidth": 0,
              "ticks": ""
             }
            },
            "type": "scattercarpet"
           }
          ],
          "scattergeo": [
           {
            "marker": {
             "colorbar": {
              "outlinewidth": 0,
              "ticks": ""
             }
            },
            "type": "scattergeo"
           }
          ],
          "scattergl": [
           {
            "marker": {
             "colorbar": {
              "outlinewidth": 0,
              "ticks": ""
             }
            },
            "type": "scattergl"
           }
          ],
          "scattermapbox": [
           {
            "marker": {
             "colorbar": {
              "outlinewidth": 0,
              "ticks": ""
             }
            },
            "type": "scattermapbox"
           }
          ],
          "scatterpolar": [
           {
            "marker": {
             "colorbar": {
              "outlinewidth": 0,
              "ticks": ""
             }
            },
            "type": "scatterpolar"
           }
          ],
          "scatterpolargl": [
           {
            "marker": {
             "colorbar": {
              "outlinewidth": 0,
              "ticks": ""
             }
            },
            "type": "scatterpolargl"
           }
          ],
          "scatterternary": [
           {
            "marker": {
             "colorbar": {
              "outlinewidth": 0,
              "ticks": ""
             }
            },
            "type": "scatterternary"
           }
          ],
          "surface": [
           {
            "colorbar": {
             "outlinewidth": 0,
             "ticks": ""
            },
            "colorscale": [
             [
              0,
              "#0d0887"
             ],
             [
              0.1111111111111111,
              "#46039f"
             ],
             [
              0.2222222222222222,
              "#7201a8"
             ],
             [
              0.3333333333333333,
              "#9c179e"
             ],
             [
              0.4444444444444444,
              "#bd3786"
             ],
             [
              0.5555555555555556,
              "#d8576b"
             ],
             [
              0.6666666666666666,
              "#ed7953"
             ],
             [
              0.7777777777777778,
              "#fb9f3a"
             ],
             [
              0.8888888888888888,
              "#fdca26"
             ],
             [
              1,
              "#f0f921"
             ]
            ],
            "type": "surface"
           }
          ],
          "table": [
           {
            "cells": {
             "fill": {
              "color": "#EBF0F8"
             },
             "line": {
              "color": "white"
             }
            },
            "header": {
             "fill": {
              "color": "#C8D4E3"
             },
             "line": {
              "color": "white"
             }
            },
            "type": "table"
           }
          ]
         },
         "layout": {
          "annotationdefaults": {
           "arrowcolor": "#2a3f5f",
           "arrowhead": 0,
           "arrowwidth": 1
          },
          "autotypenumbers": "strict",
          "coloraxis": {
           "colorbar": {
            "outlinewidth": 0,
            "ticks": ""
           }
          },
          "colorscale": {
           "diverging": [
            [
             0,
             "#8e0152"
            ],
            [
             0.1,
             "#c51b7d"
            ],
            [
             0.2,
             "#de77ae"
            ],
            [
             0.3,
             "#f1b6da"
            ],
            [
             0.4,
             "#fde0ef"
            ],
            [
             0.5,
             "#f7f7f7"
            ],
            [
             0.6,
             "#e6f5d0"
            ],
            [
             0.7,
             "#b8e186"
            ],
            [
             0.8,
             "#7fbc41"
            ],
            [
             0.9,
             "#4d9221"
            ],
            [
             1,
             "#276419"
            ]
           ],
           "sequential": [
            [
             0,
             "#0d0887"
            ],
            [
             0.1111111111111111,
             "#46039f"
            ],
            [
             0.2222222222222222,
             "#7201a8"
            ],
            [
             0.3333333333333333,
             "#9c179e"
            ],
            [
             0.4444444444444444,
             "#bd3786"
            ],
            [
             0.5555555555555556,
             "#d8576b"
            ],
            [
             0.6666666666666666,
             "#ed7953"
            ],
            [
             0.7777777777777778,
             "#fb9f3a"
            ],
            [
             0.8888888888888888,
             "#fdca26"
            ],
            [
             1,
             "#f0f921"
            ]
           ],
           "sequentialminus": [
            [
             0,
             "#0d0887"
            ],
            [
             0.1111111111111111,
             "#46039f"
            ],
            [
             0.2222222222222222,
             "#7201a8"
            ],
            [
             0.3333333333333333,
             "#9c179e"
            ],
            [
             0.4444444444444444,
             "#bd3786"
            ],
            [
             0.5555555555555556,
             "#d8576b"
            ],
            [
             0.6666666666666666,
             "#ed7953"
            ],
            [
             0.7777777777777778,
             "#fb9f3a"
            ],
            [
             0.8888888888888888,
             "#fdca26"
            ],
            [
             1,
             "#f0f921"
            ]
           ]
          },
          "colorway": [
           "#636efa",
           "#EF553B",
           "#00cc96",
           "#ab63fa",
           "#FFA15A",
           "#19d3f3",
           "#FF6692",
           "#B6E880",
           "#FF97FF",
           "#FECB52"
          ],
          "font": {
           "color": "#2a3f5f"
          },
          "geo": {
           "bgcolor": "white",
           "lakecolor": "white",
           "landcolor": "#E5ECF6",
           "showlakes": true,
           "showland": true,
           "subunitcolor": "white"
          },
          "hoverlabel": {
           "align": "left"
          },
          "hovermode": "closest",
          "mapbox": {
           "style": "light"
          },
          "paper_bgcolor": "white",
          "plot_bgcolor": "#E5ECF6",
          "polar": {
           "angularaxis": {
            "gridcolor": "white",
            "linecolor": "white",
            "ticks": ""
           },
           "bgcolor": "#E5ECF6",
           "radialaxis": {
            "gridcolor": "white",
            "linecolor": "white",
            "ticks": ""
           }
          },
          "scene": {
           "xaxis": {
            "backgroundcolor": "#E5ECF6",
            "gridcolor": "white",
            "gridwidth": 2,
            "linecolor": "white",
            "showbackground": true,
            "ticks": "",
            "zerolinecolor": "white"
           },
           "yaxis": {
            "backgroundcolor": "#E5ECF6",
            "gridcolor": "white",
            "gridwidth": 2,
            "linecolor": "white",
            "showbackground": true,
            "ticks": "",
            "zerolinecolor": "white"
           },
           "zaxis": {
            "backgroundcolor": "#E5ECF6",
            "gridcolor": "white",
            "gridwidth": 2,
            "linecolor": "white",
            "showbackground": true,
            "ticks": "",
            "zerolinecolor": "white"
           }
          },
          "shapedefaults": {
           "line": {
            "color": "#2a3f5f"
           }
          },
          "ternary": {
           "aaxis": {
            "gridcolor": "white",
            "linecolor": "white",
            "ticks": ""
           },
           "baxis": {
            "gridcolor": "white",
            "linecolor": "white",
            "ticks": ""
           },
           "bgcolor": "#E5ECF6",
           "caxis": {
            "gridcolor": "white",
            "linecolor": "white",
            "ticks": ""
           }
          },
          "title": {
           "x": 0.05
          },
          "xaxis": {
           "automargin": true,
           "gridcolor": "white",
           "linecolor": "white",
           "ticks": "",
           "title": {
            "standoff": 15
           },
           "zerolinecolor": "white",
           "zerolinewidth": 2
          },
          "yaxis": {
           "automargin": true,
           "gridcolor": "white",
           "linecolor": "white",
           "ticks": "",
           "title": {
            "standoff": 15
           },
           "zerolinecolor": "white",
           "zerolinewidth": 2
          }
         }
        },
        "xaxis": {
         "anchor": "y",
         "domain": [
          0,
          1
         ],
         "title": {
          "text": "x"
         }
        },
        "yaxis": {
         "anchor": "x",
         "domain": [
          0,
          1
         ],
         "title": {
          "text": "y"
         }
        }
       }
      }
     },
     "metadata": {},
     "output_type": "display_data"
    }
   ],
   "source": [
    "px.bar(x= df['categories'].value_counts().index,y= df['categories'].value_counts())\n"
   ]
  },
  {
   "cell_type": "code",
   "execution_count": 29,
   "metadata": {},
   "outputs": [
    {
     "data": {
      "application/vnd.plotly.v1+json": {
       "config": {
        "plotlyServerURL": "https://plot.ly"
       },
       "data": [
        {
         "alignmentgroup": "True",
         "hovertemplate": "x=%{x}<br>y=%{y}<extra></extra>",
         "legendgroup": "",
         "marker": {
          "color": "#636efa",
          "pattern": {
           "shape": ""
          }
         },
         "name": "",
         "offsetgroup": "",
         "orientation": "v",
         "showlegend": false,
         "textposition": "auto",
         "type": "bar",
         "x": [
          "Musica_y_baile",
          "Peliculas_Animacion",
          "Musica_y_baile_Peliculas",
          "Vlogs_diarios",
          "Noticias_y_Politica",
          "Peliculas_Humor",
          "Animacion_Videojuegos",
          "Animacion_Juguetes",
          "Animacion_Humor",
          "Peliculas"
         ],
         "xaxis": "x",
         "y": [
          466,
          61,
          41,
          37,
          36,
          34,
          34,
          29,
          27,
          24
         ],
         "yaxis": "y"
        }
       ],
       "layout": {
        "barmode": "relative",
        "legend": {
         "tracegroupgap": 0
        },
        "margin": {
         "t": 60
        },
        "template": {
         "data": {
          "bar": [
           {
            "error_x": {
             "color": "#2a3f5f"
            },
            "error_y": {
             "color": "#2a3f5f"
            },
            "marker": {
             "line": {
              "color": "#E5ECF6",
              "width": 0.5
             },
             "pattern": {
              "fillmode": "overlay",
              "size": 10,
              "solidity": 0.2
             }
            },
            "type": "bar"
           }
          ],
          "barpolar": [
           {
            "marker": {
             "line": {
              "color": "#E5ECF6",
              "width": 0.5
             },
             "pattern": {
              "fillmode": "overlay",
              "size": 10,
              "solidity": 0.2
             }
            },
            "type": "barpolar"
           }
          ],
          "carpet": [
           {
            "aaxis": {
             "endlinecolor": "#2a3f5f",
             "gridcolor": "white",
             "linecolor": "white",
             "minorgridcolor": "white",
             "startlinecolor": "#2a3f5f"
            },
            "baxis": {
             "endlinecolor": "#2a3f5f",
             "gridcolor": "white",
             "linecolor": "white",
             "minorgridcolor": "white",
             "startlinecolor": "#2a3f5f"
            },
            "type": "carpet"
           }
          ],
          "choropleth": [
           {
            "colorbar": {
             "outlinewidth": 0,
             "ticks": ""
            },
            "type": "choropleth"
           }
          ],
          "contour": [
           {
            "colorbar": {
             "outlinewidth": 0,
             "ticks": ""
            },
            "colorscale": [
             [
              0,
              "#0d0887"
             ],
             [
              0.1111111111111111,
              "#46039f"
             ],
             [
              0.2222222222222222,
              "#7201a8"
             ],
             [
              0.3333333333333333,
              "#9c179e"
             ],
             [
              0.4444444444444444,
              "#bd3786"
             ],
             [
              0.5555555555555556,
              "#d8576b"
             ],
             [
              0.6666666666666666,
              "#ed7953"
             ],
             [
              0.7777777777777778,
              "#fb9f3a"
             ],
             [
              0.8888888888888888,
              "#fdca26"
             ],
             [
              1,
              "#f0f921"
             ]
            ],
            "type": "contour"
           }
          ],
          "contourcarpet": [
           {
            "colorbar": {
             "outlinewidth": 0,
             "ticks": ""
            },
            "type": "contourcarpet"
           }
          ],
          "heatmap": [
           {
            "colorbar": {
             "outlinewidth": 0,
             "ticks": ""
            },
            "colorscale": [
             [
              0,
              "#0d0887"
             ],
             [
              0.1111111111111111,
              "#46039f"
             ],
             [
              0.2222222222222222,
              "#7201a8"
             ],
             [
              0.3333333333333333,
              "#9c179e"
             ],
             [
              0.4444444444444444,
              "#bd3786"
             ],
             [
              0.5555555555555556,
              "#d8576b"
             ],
             [
              0.6666666666666666,
              "#ed7953"
             ],
             [
              0.7777777777777778,
              "#fb9f3a"
             ],
             [
              0.8888888888888888,
              "#fdca26"
             ],
             [
              1,
              "#f0f921"
             ]
            ],
            "type": "heatmap"
           }
          ],
          "heatmapgl": [
           {
            "colorbar": {
             "outlinewidth": 0,
             "ticks": ""
            },
            "colorscale": [
             [
              0,
              "#0d0887"
             ],
             [
              0.1111111111111111,
              "#46039f"
             ],
             [
              0.2222222222222222,
              "#7201a8"
             ],
             [
              0.3333333333333333,
              "#9c179e"
             ],
             [
              0.4444444444444444,
              "#bd3786"
             ],
             [
              0.5555555555555556,
              "#d8576b"
             ],
             [
              0.6666666666666666,
              "#ed7953"
             ],
             [
              0.7777777777777778,
              "#fb9f3a"
             ],
             [
              0.8888888888888888,
              "#fdca26"
             ],
             [
              1,
              "#f0f921"
             ]
            ],
            "type": "heatmapgl"
           }
          ],
          "histogram": [
           {
            "marker": {
             "pattern": {
              "fillmode": "overlay",
              "size": 10,
              "solidity": 0.2
             }
            },
            "type": "histogram"
           }
          ],
          "histogram2d": [
           {
            "colorbar": {
             "outlinewidth": 0,
             "ticks": ""
            },
            "colorscale": [
             [
              0,
              "#0d0887"
             ],
             [
              0.1111111111111111,
              "#46039f"
             ],
             [
              0.2222222222222222,
              "#7201a8"
             ],
             [
              0.3333333333333333,
              "#9c179e"
             ],
             [
              0.4444444444444444,
              "#bd3786"
             ],
             [
              0.5555555555555556,
              "#d8576b"
             ],
             [
              0.6666666666666666,
              "#ed7953"
             ],
             [
              0.7777777777777778,
              "#fb9f3a"
             ],
             [
              0.8888888888888888,
              "#fdca26"
             ],
             [
              1,
              "#f0f921"
             ]
            ],
            "type": "histogram2d"
           }
          ],
          "histogram2dcontour": [
           {
            "colorbar": {
             "outlinewidth": 0,
             "ticks": ""
            },
            "colorscale": [
             [
              0,
              "#0d0887"
             ],
             [
              0.1111111111111111,
              "#46039f"
             ],
             [
              0.2222222222222222,
              "#7201a8"
             ],
             [
              0.3333333333333333,
              "#9c179e"
             ],
             [
              0.4444444444444444,
              "#bd3786"
             ],
             [
              0.5555555555555556,
              "#d8576b"
             ],
             [
              0.6666666666666666,
              "#ed7953"
             ],
             [
              0.7777777777777778,
              "#fb9f3a"
             ],
             [
              0.8888888888888888,
              "#fdca26"
             ],
             [
              1,
              "#f0f921"
             ]
            ],
            "type": "histogram2dcontour"
           }
          ],
          "mesh3d": [
           {
            "colorbar": {
             "outlinewidth": 0,
             "ticks": ""
            },
            "type": "mesh3d"
           }
          ],
          "parcoords": [
           {
            "line": {
             "colorbar": {
              "outlinewidth": 0,
              "ticks": ""
             }
            },
            "type": "parcoords"
           }
          ],
          "pie": [
           {
            "automargin": true,
            "type": "pie"
           }
          ],
          "scatter": [
           {
            "fillpattern": {
             "fillmode": "overlay",
             "size": 10,
             "solidity": 0.2
            },
            "type": "scatter"
           }
          ],
          "scatter3d": [
           {
            "line": {
             "colorbar": {
              "outlinewidth": 0,
              "ticks": ""
             }
            },
            "marker": {
             "colorbar": {
              "outlinewidth": 0,
              "ticks": ""
             }
            },
            "type": "scatter3d"
           }
          ],
          "scattercarpet": [
           {
            "marker": {
             "colorbar": {
              "outlinewidth": 0,
              "ticks": ""
             }
            },
            "type": "scattercarpet"
           }
          ],
          "scattergeo": [
           {
            "marker": {
             "colorbar": {
              "outlinewidth": 0,
              "ticks": ""
             }
            },
            "type": "scattergeo"
           }
          ],
          "scattergl": [
           {
            "marker": {
             "colorbar": {
              "outlinewidth": 0,
              "ticks": ""
             }
            },
            "type": "scattergl"
           }
          ],
          "scattermapbox": [
           {
            "marker": {
             "colorbar": {
              "outlinewidth": 0,
              "ticks": ""
             }
            },
            "type": "scattermapbox"
           }
          ],
          "scatterpolar": [
           {
            "marker": {
             "colorbar": {
              "outlinewidth": 0,
              "ticks": ""
             }
            },
            "type": "scatterpolar"
           }
          ],
          "scatterpolargl": [
           {
            "marker": {
             "colorbar": {
              "outlinewidth": 0,
              "ticks": ""
             }
            },
            "type": "scatterpolargl"
           }
          ],
          "scatterternary": [
           {
            "marker": {
             "colorbar": {
              "outlinewidth": 0,
              "ticks": ""
             }
            },
            "type": "scatterternary"
           }
          ],
          "surface": [
           {
            "colorbar": {
             "outlinewidth": 0,
             "ticks": ""
            },
            "colorscale": [
             [
              0,
              "#0d0887"
             ],
             [
              0.1111111111111111,
              "#46039f"
             ],
             [
              0.2222222222222222,
              "#7201a8"
             ],
             [
              0.3333333333333333,
              "#9c179e"
             ],
             [
              0.4444444444444444,
              "#bd3786"
             ],
             [
              0.5555555555555556,
              "#d8576b"
             ],
             [
              0.6666666666666666,
              "#ed7953"
             ],
             [
              0.7777777777777778,
              "#fb9f3a"
             ],
             [
              0.8888888888888888,
              "#fdca26"
             ],
             [
              1,
              "#f0f921"
             ]
            ],
            "type": "surface"
           }
          ],
          "table": [
           {
            "cells": {
             "fill": {
              "color": "#EBF0F8"
             },
             "line": {
              "color": "white"
             }
            },
            "header": {
             "fill": {
              "color": "#C8D4E3"
             },
             "line": {
              "color": "white"
             }
            },
            "type": "table"
           }
          ]
         },
         "layout": {
          "annotationdefaults": {
           "arrowcolor": "#2a3f5f",
           "arrowhead": 0,
           "arrowwidth": 1
          },
          "autotypenumbers": "strict",
          "coloraxis": {
           "colorbar": {
            "outlinewidth": 0,
            "ticks": ""
           }
          },
          "colorscale": {
           "diverging": [
            [
             0,
             "#8e0152"
            ],
            [
             0.1,
             "#c51b7d"
            ],
            [
             0.2,
             "#de77ae"
            ],
            [
             0.3,
             "#f1b6da"
            ],
            [
             0.4,
             "#fde0ef"
            ],
            [
             0.5,
             "#f7f7f7"
            ],
            [
             0.6,
             "#e6f5d0"
            ],
            [
             0.7,
             "#b8e186"
            ],
            [
             0.8,
             "#7fbc41"
            ],
            [
             0.9,
             "#4d9221"
            ],
            [
             1,
             "#276419"
            ]
           ],
           "sequential": [
            [
             0,
             "#0d0887"
            ],
            [
             0.1111111111111111,
             "#46039f"
            ],
            [
             0.2222222222222222,
             "#7201a8"
            ],
            [
             0.3333333333333333,
             "#9c179e"
            ],
            [
             0.4444444444444444,
             "#bd3786"
            ],
            [
             0.5555555555555556,
             "#d8576b"
            ],
            [
             0.6666666666666666,
             "#ed7953"
            ],
            [
             0.7777777777777778,
             "#fb9f3a"
            ],
            [
             0.8888888888888888,
             "#fdca26"
            ],
            [
             1,
             "#f0f921"
            ]
           ],
           "sequentialminus": [
            [
             0,
             "#0d0887"
            ],
            [
             0.1111111111111111,
             "#46039f"
            ],
            [
             0.2222222222222222,
             "#7201a8"
            ],
            [
             0.3333333333333333,
             "#9c179e"
            ],
            [
             0.4444444444444444,
             "#bd3786"
            ],
            [
             0.5555555555555556,
             "#d8576b"
            ],
            [
             0.6666666666666666,
             "#ed7953"
            ],
            [
             0.7777777777777778,
             "#fb9f3a"
            ],
            [
             0.8888888888888888,
             "#fdca26"
            ],
            [
             1,
             "#f0f921"
            ]
           ]
          },
          "colorway": [
           "#636efa",
           "#EF553B",
           "#00cc96",
           "#ab63fa",
           "#FFA15A",
           "#19d3f3",
           "#FF6692",
           "#B6E880",
           "#FF97FF",
           "#FECB52"
          ],
          "font": {
           "color": "#2a3f5f"
          },
          "geo": {
           "bgcolor": "white",
           "lakecolor": "white",
           "landcolor": "#E5ECF6",
           "showlakes": true,
           "showland": true,
           "subunitcolor": "white"
          },
          "hoverlabel": {
           "align": "left"
          },
          "hovermode": "closest",
          "mapbox": {
           "style": "light"
          },
          "paper_bgcolor": "white",
          "plot_bgcolor": "#E5ECF6",
          "polar": {
           "angularaxis": {
            "gridcolor": "white",
            "linecolor": "white",
            "ticks": ""
           },
           "bgcolor": "#E5ECF6",
           "radialaxis": {
            "gridcolor": "white",
            "linecolor": "white",
            "ticks": ""
           }
          },
          "scene": {
           "xaxis": {
            "backgroundcolor": "#E5ECF6",
            "gridcolor": "white",
            "gridwidth": 2,
            "linecolor": "white",
            "showbackground": true,
            "ticks": "",
            "zerolinecolor": "white"
           },
           "yaxis": {
            "backgroundcolor": "#E5ECF6",
            "gridcolor": "white",
            "gridwidth": 2,
            "linecolor": "white",
            "showbackground": true,
            "ticks": "",
            "zerolinecolor": "white"
           },
           "zaxis": {
            "backgroundcolor": "#E5ECF6",
            "gridcolor": "white",
            "gridwidth": 2,
            "linecolor": "white",
            "showbackground": true,
            "ticks": "",
            "zerolinecolor": "white"
           }
          },
          "shapedefaults": {
           "line": {
            "color": "#2a3f5f"
           }
          },
          "ternary": {
           "aaxis": {
            "gridcolor": "white",
            "linecolor": "white",
            "ticks": ""
           },
           "baxis": {
            "gridcolor": "white",
            "linecolor": "white",
            "ticks": ""
           },
           "bgcolor": "#E5ECF6",
           "caxis": {
            "gridcolor": "white",
            "linecolor": "white",
            "ticks": ""
           }
          },
          "title": {
           "x": 0.05
          },
          "xaxis": {
           "automargin": true,
           "gridcolor": "white",
           "linecolor": "white",
           "ticks": "",
           "title": {
            "standoff": 15
           },
           "zerolinecolor": "white",
           "zerolinewidth": 2
          },
          "yaxis": {
           "automargin": true,
           "gridcolor": "white",
           "linecolor": "white",
           "ticks": "",
           "title": {
            "standoff": 15
           },
           "zerolinecolor": "white",
           "zerolinewidth": 2
          }
         }
        },
        "xaxis": {
         "anchor": "y",
         "domain": [
          0,
          1
         ],
         "title": {
          "text": "x"
         }
        },
        "yaxis": {
         "anchor": "x",
         "domain": [
          0,
          1
         ],
         "title": {
          "text": "y"
         }
        }
       }
      }
     },
     "metadata": {},
     "output_type": "display_data"
    }
   ],
   "source": [
    "px.bar(x= df['categories'].value_counts().index[:10],y= df['categories'].value_counts()[:10])\n"
   ]
  },
  {
   "cell_type": "code",
   "execution_count": 30,
   "metadata": {},
   "outputs": [
    {
     "data": {
      "text/plain": [
       "country\n",
       "Estados Unidos    614890.0\n",
       "India             243270.0\n",
       "Brasil            183687.0\n",
       "Rusia              75122.0\n",
       "México             69959.0\n",
       "Indonesia          22093.0\n",
       "Iraq               20559.0\n",
       "Filipinas          13293.0\n",
       "Reino Unido         8233.0\n",
       "Argentina           7468.0\n",
       "Colombia            5941.0\n",
       "Arabia Saudita      5756.0\n",
       "Peru                3367.0\n",
       "Somalia             2900.0\n",
       "Japon               2415.0\n",
       "Tailandia           2155.0\n",
       "El Salvador         2100.0\n",
       "Argelia             1424.0\n",
       "Unknown             1400.0\n",
       "Turquia             1188.0\n",
       "Espana               745.0\n",
       "Pakistan             321.0\n",
       "Francia              240.0\n",
       "Egipto               116.0\n",
       "Bangladesh            64.0\n",
       "Singapur              26.0\n",
       "Marruecos             19.0\n",
       "Ecuador               17.0\n",
       "Jordania               0.0\n",
       "Name: comments, dtype: float64"
      ]
     },
     "execution_count": 30,
     "metadata": {},
     "output_type": "execute_result"
    }
   ],
   "source": [
    "# now i want to check comments, which country give a more comments \n",
    "\n",
    "df.groupby('country')['comments'].sum().sort_values(ascending=False)\n",
    "# this will show me the sum of comment count for each country but how can i see only top 10 countries with most comments?"
   ]
  },
  {
   "cell_type": "code",
   "execution_count": 31,
   "metadata": {},
   "outputs": [
    {
     "data": {
      "text/plain": [
       "country\n",
       "Estados Unidos    614890.0\n",
       "India             243270.0\n",
       "Brasil            183687.0\n",
       "Rusia              75122.0\n",
       "México             69959.0\n",
       "Indonesia          22093.0\n",
       "Iraq               20559.0\n",
       "Filipinas          13293.0\n",
       "Reino Unido         8233.0\n",
       "Argentina           7468.0\n",
       "Name: comments, dtype: float64"
      ]
     },
     "execution_count": 31,
     "metadata": {},
     "output_type": "execute_result"
    }
   ],
   "source": [
    "# check the value counts between country and comments which is the top country \n",
    "df.groupby('country')['comments'].sum().sort_values(ascending=False).head(10)\n"
   ]
  },
  {
   "cell_type": "code",
   "execution_count": 32,
   "metadata": {},
   "outputs": [
    {
     "data": {
      "application/vnd.plotly.v1+json": {
       "config": {
        "plotlyServerURL": "https://plot.ly"
       },
       "data": [
        {
         "alignmentgroup": "True",
         "hovertemplate": "x=%{x}<br>y=%{y}<extra></extra>",
         "legendgroup": "",
         "marker": {
          "color": "#636efa",
          "pattern": {
           "shape": ""
          }
         },
         "name": "",
         "offsetgroup": "",
         "orientation": "v",
         "showlegend": false,
         "textposition": "auto",
         "type": "bar",
         "x": [
          "Estados Unidos",
          "India",
          "Brasil",
          "Rusia",
          "México",
          "Indonesia",
          "Iraq",
          "Filipinas",
          "Reino Unido",
          "Argentina"
         ],
         "xaxis": "x",
         "y": [
          614890,
          243270,
          183687,
          75122,
          69959,
          22093,
          20559,
          13293,
          8233,
          7468
         ],
         "yaxis": "y"
        }
       ],
       "layout": {
        "barmode": "relative",
        "legend": {
         "tracegroupgap": 0
        },
        "margin": {
         "t": 60
        },
        "template": {
         "data": {
          "bar": [
           {
            "error_x": {
             "color": "#2a3f5f"
            },
            "error_y": {
             "color": "#2a3f5f"
            },
            "marker": {
             "line": {
              "color": "#E5ECF6",
              "width": 0.5
             },
             "pattern": {
              "fillmode": "overlay",
              "size": 10,
              "solidity": 0.2
             }
            },
            "type": "bar"
           }
          ],
          "barpolar": [
           {
            "marker": {
             "line": {
              "color": "#E5ECF6",
              "width": 0.5
             },
             "pattern": {
              "fillmode": "overlay",
              "size": 10,
              "solidity": 0.2
             }
            },
            "type": "barpolar"
           }
          ],
          "carpet": [
           {
            "aaxis": {
             "endlinecolor": "#2a3f5f",
             "gridcolor": "white",
             "linecolor": "white",
             "minorgridcolor": "white",
             "startlinecolor": "#2a3f5f"
            },
            "baxis": {
             "endlinecolor": "#2a3f5f",
             "gridcolor": "white",
             "linecolor": "white",
             "minorgridcolor": "white",
             "startlinecolor": "#2a3f5f"
            },
            "type": "carpet"
           }
          ],
          "choropleth": [
           {
            "colorbar": {
             "outlinewidth": 0,
             "ticks": ""
            },
            "type": "choropleth"
           }
          ],
          "contour": [
           {
            "colorbar": {
             "outlinewidth": 0,
             "ticks": ""
            },
            "colorscale": [
             [
              0,
              "#0d0887"
             ],
             [
              0.1111111111111111,
              "#46039f"
             ],
             [
              0.2222222222222222,
              "#7201a8"
             ],
             [
              0.3333333333333333,
              "#9c179e"
             ],
             [
              0.4444444444444444,
              "#bd3786"
             ],
             [
              0.5555555555555556,
              "#d8576b"
             ],
             [
              0.6666666666666666,
              "#ed7953"
             ],
             [
              0.7777777777777778,
              "#fb9f3a"
             ],
             [
              0.8888888888888888,
              "#fdca26"
             ],
             [
              1,
              "#f0f921"
             ]
            ],
            "type": "contour"
           }
          ],
          "contourcarpet": [
           {
            "colorbar": {
             "outlinewidth": 0,
             "ticks": ""
            },
            "type": "contourcarpet"
           }
          ],
          "heatmap": [
           {
            "colorbar": {
             "outlinewidth": 0,
             "ticks": ""
            },
            "colorscale": [
             [
              0,
              "#0d0887"
             ],
             [
              0.1111111111111111,
              "#46039f"
             ],
             [
              0.2222222222222222,
              "#7201a8"
             ],
             [
              0.3333333333333333,
              "#9c179e"
             ],
             [
              0.4444444444444444,
              "#bd3786"
             ],
             [
              0.5555555555555556,
              "#d8576b"
             ],
             [
              0.6666666666666666,
              "#ed7953"
             ],
             [
              0.7777777777777778,
              "#fb9f3a"
             ],
             [
              0.8888888888888888,
              "#fdca26"
             ],
             [
              1,
              "#f0f921"
             ]
            ],
            "type": "heatmap"
           }
          ],
          "heatmapgl": [
           {
            "colorbar": {
             "outlinewidth": 0,
             "ticks": ""
            },
            "colorscale": [
             [
              0,
              "#0d0887"
             ],
             [
              0.1111111111111111,
              "#46039f"
             ],
             [
              0.2222222222222222,
              "#7201a8"
             ],
             [
              0.3333333333333333,
              "#9c179e"
             ],
             [
              0.4444444444444444,
              "#bd3786"
             ],
             [
              0.5555555555555556,
              "#d8576b"
             ],
             [
              0.6666666666666666,
              "#ed7953"
             ],
             [
              0.7777777777777778,
              "#fb9f3a"
             ],
             [
              0.8888888888888888,
              "#fdca26"
             ],
             [
              1,
              "#f0f921"
             ]
            ],
            "type": "heatmapgl"
           }
          ],
          "histogram": [
           {
            "marker": {
             "pattern": {
              "fillmode": "overlay",
              "size": 10,
              "solidity": 0.2
             }
            },
            "type": "histogram"
           }
          ],
          "histogram2d": [
           {
            "colorbar": {
             "outlinewidth": 0,
             "ticks": ""
            },
            "colorscale": [
             [
              0,
              "#0d0887"
             ],
             [
              0.1111111111111111,
              "#46039f"
             ],
             [
              0.2222222222222222,
              "#7201a8"
             ],
             [
              0.3333333333333333,
              "#9c179e"
             ],
             [
              0.4444444444444444,
              "#bd3786"
             ],
             [
              0.5555555555555556,
              "#d8576b"
             ],
             [
              0.6666666666666666,
              "#ed7953"
             ],
             [
              0.7777777777777778,
              "#fb9f3a"
             ],
             [
              0.8888888888888888,
              "#fdca26"
             ],
             [
              1,
              "#f0f921"
             ]
            ],
            "type": "histogram2d"
           }
          ],
          "histogram2dcontour": [
           {
            "colorbar": {
             "outlinewidth": 0,
             "ticks": ""
            },
            "colorscale": [
             [
              0,
              "#0d0887"
             ],
             [
              0.1111111111111111,
              "#46039f"
             ],
             [
              0.2222222222222222,
              "#7201a8"
             ],
             [
              0.3333333333333333,
              "#9c179e"
             ],
             [
              0.4444444444444444,
              "#bd3786"
             ],
             [
              0.5555555555555556,
              "#d8576b"
             ],
             [
              0.6666666666666666,
              "#ed7953"
             ],
             [
              0.7777777777777778,
              "#fb9f3a"
             ],
             [
              0.8888888888888888,
              "#fdca26"
             ],
             [
              1,
              "#f0f921"
             ]
            ],
            "type": "histogram2dcontour"
           }
          ],
          "mesh3d": [
           {
            "colorbar": {
             "outlinewidth": 0,
             "ticks": ""
            },
            "type": "mesh3d"
           }
          ],
          "parcoords": [
           {
            "line": {
             "colorbar": {
              "outlinewidth": 0,
              "ticks": ""
             }
            },
            "type": "parcoords"
           }
          ],
          "pie": [
           {
            "automargin": true,
            "type": "pie"
           }
          ],
          "scatter": [
           {
            "fillpattern": {
             "fillmode": "overlay",
             "size": 10,
             "solidity": 0.2
            },
            "type": "scatter"
           }
          ],
          "scatter3d": [
           {
            "line": {
             "colorbar": {
              "outlinewidth": 0,
              "ticks": ""
             }
            },
            "marker": {
             "colorbar": {
              "outlinewidth": 0,
              "ticks": ""
             }
            },
            "type": "scatter3d"
           }
          ],
          "scattercarpet": [
           {
            "marker": {
             "colorbar": {
              "outlinewidth": 0,
              "ticks": ""
             }
            },
            "type": "scattercarpet"
           }
          ],
          "scattergeo": [
           {
            "marker": {
             "colorbar": {
              "outlinewidth": 0,
              "ticks": ""
             }
            },
            "type": "scattergeo"
           }
          ],
          "scattergl": [
           {
            "marker": {
             "colorbar": {
              "outlinewidth": 0,
              "ticks": ""
             }
            },
            "type": "scattergl"
           }
          ],
          "scattermapbox": [
           {
            "marker": {
             "colorbar": {
              "outlinewidth": 0,
              "ticks": ""
             }
            },
            "type": "scattermapbox"
           }
          ],
          "scatterpolar": [
           {
            "marker": {
             "colorbar": {
              "outlinewidth": 0,
              "ticks": ""
             }
            },
            "type": "scatterpolar"
           }
          ],
          "scatterpolargl": [
           {
            "marker": {
             "colorbar": {
              "outlinewidth": 0,
              "ticks": ""
             }
            },
            "type": "scatterpolargl"
           }
          ],
          "scatterternary": [
           {
            "marker": {
             "colorbar": {
              "outlinewidth": 0,
              "ticks": ""
             }
            },
            "type": "scatterternary"
           }
          ],
          "surface": [
           {
            "colorbar": {
             "outlinewidth": 0,
             "ticks": ""
            },
            "colorscale": [
             [
              0,
              "#0d0887"
             ],
             [
              0.1111111111111111,
              "#46039f"
             ],
             [
              0.2222222222222222,
              "#7201a8"
             ],
             [
              0.3333333333333333,
              "#9c179e"
             ],
             [
              0.4444444444444444,
              "#bd3786"
             ],
             [
              0.5555555555555556,
              "#d8576b"
             ],
             [
              0.6666666666666666,
              "#ed7953"
             ],
             [
              0.7777777777777778,
              "#fb9f3a"
             ],
             [
              0.8888888888888888,
              "#fdca26"
             ],
             [
              1,
              "#f0f921"
             ]
            ],
            "type": "surface"
           }
          ],
          "table": [
           {
            "cells": {
             "fill": {
              "color": "#EBF0F8"
             },
             "line": {
              "color": "white"
             }
            },
            "header": {
             "fill": {
              "color": "#C8D4E3"
             },
             "line": {
              "color": "white"
             }
            },
            "type": "table"
           }
          ]
         },
         "layout": {
          "annotationdefaults": {
           "arrowcolor": "#2a3f5f",
           "arrowhead": 0,
           "arrowwidth": 1
          },
          "autotypenumbers": "strict",
          "coloraxis": {
           "colorbar": {
            "outlinewidth": 0,
            "ticks": ""
           }
          },
          "colorscale": {
           "diverging": [
            [
             0,
             "#8e0152"
            ],
            [
             0.1,
             "#c51b7d"
            ],
            [
             0.2,
             "#de77ae"
            ],
            [
             0.3,
             "#f1b6da"
            ],
            [
             0.4,
             "#fde0ef"
            ],
            [
             0.5,
             "#f7f7f7"
            ],
            [
             0.6,
             "#e6f5d0"
            ],
            [
             0.7,
             "#b8e186"
            ],
            [
             0.8,
             "#7fbc41"
            ],
            [
             0.9,
             "#4d9221"
            ],
            [
             1,
             "#276419"
            ]
           ],
           "sequential": [
            [
             0,
             "#0d0887"
            ],
            [
             0.1111111111111111,
             "#46039f"
            ],
            [
             0.2222222222222222,
             "#7201a8"
            ],
            [
             0.3333333333333333,
             "#9c179e"
            ],
            [
             0.4444444444444444,
             "#bd3786"
            ],
            [
             0.5555555555555556,
             "#d8576b"
            ],
            [
             0.6666666666666666,
             "#ed7953"
            ],
            [
             0.7777777777777778,
             "#fb9f3a"
            ],
            [
             0.8888888888888888,
             "#fdca26"
            ],
            [
             1,
             "#f0f921"
            ]
           ],
           "sequentialminus": [
            [
             0,
             "#0d0887"
            ],
            [
             0.1111111111111111,
             "#46039f"
            ],
            [
             0.2222222222222222,
             "#7201a8"
            ],
            [
             0.3333333333333333,
             "#9c179e"
            ],
            [
             0.4444444444444444,
             "#bd3786"
            ],
            [
             0.5555555555555556,
             "#d8576b"
            ],
            [
             0.6666666666666666,
             "#ed7953"
            ],
            [
             0.7777777777777778,
             "#fb9f3a"
            ],
            [
             0.8888888888888888,
             "#fdca26"
            ],
            [
             1,
             "#f0f921"
            ]
           ]
          },
          "colorway": [
           "#636efa",
           "#EF553B",
           "#00cc96",
           "#ab63fa",
           "#FFA15A",
           "#19d3f3",
           "#FF6692",
           "#B6E880",
           "#FF97FF",
           "#FECB52"
          ],
          "font": {
           "color": "#2a3f5f"
          },
          "geo": {
           "bgcolor": "white",
           "lakecolor": "white",
           "landcolor": "#E5ECF6",
           "showlakes": true,
           "showland": true,
           "subunitcolor": "white"
          },
          "hoverlabel": {
           "align": "left"
          },
          "hovermode": "closest",
          "mapbox": {
           "style": "light"
          },
          "paper_bgcolor": "white",
          "plot_bgcolor": "#E5ECF6",
          "polar": {
           "angularaxis": {
            "gridcolor": "white",
            "linecolor": "white",
            "ticks": ""
           },
           "bgcolor": "#E5ECF6",
           "radialaxis": {
            "gridcolor": "white",
            "linecolor": "white",
            "ticks": ""
           }
          },
          "scene": {
           "xaxis": {
            "backgroundcolor": "#E5ECF6",
            "gridcolor": "white",
            "gridwidth": 2,
            "linecolor": "white",
            "showbackground": true,
            "ticks": "",
            "zerolinecolor": "white"
           },
           "yaxis": {
            "backgroundcolor": "#E5ECF6",
            "gridcolor": "white",
            "gridwidth": 2,
            "linecolor": "white",
            "showbackground": true,
            "ticks": "",
            "zerolinecolor": "white"
           },
           "zaxis": {
            "backgroundcolor": "#E5ECF6",
            "gridcolor": "white",
            "gridwidth": 2,
            "linecolor": "white",
            "showbackground": true,
            "ticks": "",
            "zerolinecolor": "white"
           }
          },
          "shapedefaults": {
           "line": {
            "color": "#2a3f5f"
           }
          },
          "ternary": {
           "aaxis": {
            "gridcolor": "white",
            "linecolor": "white",
            "ticks": ""
           },
           "baxis": {
            "gridcolor": "white",
            "linecolor": "white",
            "ticks": ""
           },
           "bgcolor": "#E5ECF6",
           "caxis": {
            "gridcolor": "white",
            "linecolor": "white",
            "ticks": ""
           }
          },
          "title": {
           "x": 0.05
          },
          "xaxis": {
           "automargin": true,
           "gridcolor": "white",
           "linecolor": "white",
           "ticks": "",
           "title": {
            "standoff": 15
           },
           "zerolinecolor": "white",
           "zerolinewidth": 2
          },
          "yaxis": {
           "automargin": true,
           "gridcolor": "white",
           "linecolor": "white",
           "ticks": "",
           "title": {
            "standoff": 15
           },
           "zerolinecolor": "white",
           "zerolinewidth": 2
          }
         }
        },
        "xaxis": {
         "anchor": "y",
         "domain": [
          0,
          1
         ],
         "title": {
          "text": "x"
         }
        },
        "yaxis": {
         "anchor": "x",
         "domain": [
          0,
          1
         ],
         "title": {
          "text": "y"
         }
        }
       }
      }
     },
     "metadata": {},
     "output_type": "display_data"
    }
   ],
   "source": [
    "# make plot  between country and com# make plot  between country and comments which is the top country using plotly\n",
    "\n",
    "px.bar(x= df.groupby('country')['comments'].sum().sort_values(ascending=False).head(10).index,y= df.groupby('country')['comments'].sum().sort_values(ascending=False).head(10))\n",
    "\n"
   ]
  },
  {
   "cell_type": "code",
   "execution_count": 33,
   "metadata": {},
   "outputs": [
    {
     "data": {
      "text/plain": [
       "Index(['rank', 'username', 'categories', 'suscribers', 'country', 'visits',\n",
       "       'likes', 'comments', 'links'],\n",
       "      dtype='object')"
      ]
     },
     "execution_count": 33,
     "metadata": {},
     "output_type": "execute_result"
    }
   ],
   "source": [
    "df.columns"
   ]
  },
  {
   "cell_type": "code",
   "execution_count": 34,
   "metadata": {},
   "outputs": [
    {
     "data": {
      "application/vnd.plotly.v1+json": {
       "config": {
        "plotlyServerURL": "https://plot.ly"
       },
       "data": [
        {
         "alignmentgroup": "True",
         "hovertemplate": "country=%{x}<br>suscribers=%{y}<extra></extra>",
         "legendgroup": "India",
         "marker": {
          "color": "#636efa"
         },
         "name": "India",
         "notched": false,
         "offsetgroup": "India",
         "orientation": "v",
         "showlegend": true,
         "type": "box",
         "x": [
          "India",
          "India",
          "India",
          "India",
          "India",
          "India",
          "India",
          "India",
          "India",
          "India",
          "India",
          "India",
          "India",
          "India",
          "India",
          "India",
          "India",
          "India",
          "India",
          "India",
          "India",
          "India",
          "India",
          "India",
          "India",
          "India",
          "India",
          "India",
          "India",
          "India",
          "India",
          "India",
          "India",
          "India",
          "India",
          "India",
          "India",
          "India",
          "India",
          "India",
          "India",
          "India",
          "India",
          "India",
          "India",
          "India",
          "India",
          "India",
          "India",
          "India",
          "India",
          "India",
          "India",
          "India",
          "India",
          "India",
          "India",
          "India",
          "India",
          "India",
          "India",
          "India",
          "India",
          "India",
          "India",
          "India",
          "India",
          "India",
          "India",
          "India",
          "India",
          "India",
          "India",
          "India",
          "India",
          "India",
          "India",
          "India",
          "India",
          "India",
          "India",
          "India",
          "India",
          "India",
          "India",
          "India",
          "India",
          "India",
          "India",
          "India",
          "India",
          "India",
          "India",
          "India",
          "India",
          "India",
          "India",
          "India",
          "India",
          "India",
          "India",
          "India",
          "India",
          "India",
          "India",
          "India",
          "India",
          "India",
          "India",
          "India",
          "India",
          "India",
          "India",
          "India",
          "India",
          "India",
          "India",
          "India",
          "India",
          "India",
          "India",
          "India",
          "India",
          "India",
          "India",
          "India",
          "India",
          "India",
          "India",
          "India",
          "India",
          "India",
          "India",
          "India",
          "India",
          "India",
          "India",
          "India",
          "India",
          "India",
          "India",
          "India",
          "India",
          "India",
          "India",
          "India",
          "India",
          "India",
          "India",
          "India",
          "India",
          "India",
          "India",
          "India",
          "India",
          "India",
          "India",
          "India",
          "India",
          "India",
          "India",
          "India",
          "India",
          "India",
          "India",
          "India",
          "India",
          "India",
          "India",
          "India",
          "India",
          "India",
          "India",
          "India",
          "India",
          "India",
          "India",
          "India",
          "India",
          "India",
          "India",
          "India",
          "India",
          "India",
          "India",
          "India",
          "India",
          "India",
          "India",
          "India",
          "India",
          "India",
          "India",
          "India",
          "India",
          "India",
          "India",
          "India",
          "India",
          "India",
          "India",
          "India",
          "India",
          "India",
          "India",
          "India",
          "India",
          "India",
          "India",
          "India",
          "India",
          "India",
          "India",
          "India",
          "India",
          "India",
          "India",
          "India",
          "India",
          "India",
          "India",
          "India",
          "India",
          "India",
          "India",
          "India",
          "India",
          "India",
          "India",
          "India",
          "India",
          "India",
          "India",
          "India",
          "India",
          "India",
          "India",
          "India",
          "India",
          "India",
          "India"
         ],
         "x0": " ",
         "xaxis": "x",
         "y": [
          249500000,
          162600000,
          99700000,
          89700000,
          85400000,
          80300000,
          76500000,
          72500000,
          66599999.99999999,
          66400000.00000001,
          62600000,
          60900000,
          58900000,
          57900000,
          55700000,
          48800000,
          47500000,
          42900000,
          42100000,
          40300000,
          39500000,
          39100000,
          38100000,
          37400000,
          37300000,
          37300000,
          37000000,
          36800000,
          36700000,
          36500000,
          36300000,
          35600000,
          35000000,
          35000000,
          34500000,
          34200000,
          34200000,
          33600000,
          33000000,
          33000000,
          32600000,
          32400000,
          32200000.000000004,
          32100000,
          31000000,
          30000000,
          29900000,
          29700000,
          29700000,
          29400000,
          29200000,
          29200000,
          28800000,
          28000000,
          27800000,
          27300000,
          26800000,
          26300000,
          26000000,
          25800000,
          24900000,
          24800000,
          24700000,
          24700000,
          24400000,
          24400000,
          24300000,
          24300000,
          23600000,
          23500000,
          23400000,
          23300000,
          23300000,
          23300000,
          23000000,
          23000000,
          22900000,
          22700000,
          22500000,
          22300000,
          22300000,
          22300000,
          21900000,
          21700000,
          21700000,
          21500000,
          21100000,
          21100000,
          20700000,
          20500000,
          20500000,
          20400000,
          20300000,
          20200000,
          20100000,
          20100000,
          20000000,
          19900000,
          19800000,
          19700000,
          19700000,
          19300000,
          19300000,
          19300000,
          19100000,
          19100000,
          18900000,
          18600000,
          18500000,
          18500000,
          18200000,
          18000000,
          18000000,
          17800000,
          17700000,
          17700000,
          17700000,
          17600000,
          17600000,
          17400000,
          17200000,
          17200000,
          17200000,
          17000000,
          17000000,
          17000000,
          17000000,
          17000000,
          17000000,
          16900000,
          16800000,
          16800000,
          16800000,
          16300000,
          16200000,
          16100000.000000002,
          16000000,
          16000000,
          16000000,
          16000000,
          16000000,
          15900000,
          15900000,
          15900000,
          15800000,
          15800000,
          15700000,
          15600000,
          15600000,
          15600000,
          15500000,
          15500000,
          15400000,
          15400000,
          15400000,
          15200000,
          15100000,
          15000000,
          15000000,
          14900000,
          14800000,
          14800000,
          14700000,
          14700000,
          14700000,
          14600000,
          14300000,
          14300000,
          14300000,
          14200000,
          14200000,
          14200000,
          14200000,
          14200000,
          14200000,
          14000000,
          13900000,
          13800000,
          13800000,
          13800000,
          13800000,
          13700000,
          13600000,
          13600000,
          13600000,
          13500000,
          13400000,
          13400000,
          13400000,
          13200000,
          13200000,
          13100000,
          13000000,
          13000000,
          13000000,
          12900000,
          12900000,
          12900000,
          12800000,
          12800000,
          12800000,
          12800000,
          12800000,
          12800000,
          12600000,
          12600000,
          12600000,
          12600000,
          12600000,
          12600000,
          12600000,
          12500000,
          12500000,
          12500000,
          12400000,
          12400000,
          12400000,
          12400000,
          12400000,
          12300000,
          12200000,
          12200000,
          12200000,
          12100000,
          12100000,
          12000000,
          12100000,
          11900000,
          11900000,
          11900000,
          11900000,
          11900000,
          11900000,
          11900000,
          11700000,
          11700000,
          11700000,
          11700000,
          11700000,
          11700000,
          11700000
         ],
         "y0": " ",
         "yaxis": "y"
        },
        {
         "alignmentgroup": "True",
         "hovertemplate": "country=%{x}<br>suscribers=%{y}<extra></extra>",
         "legendgroup": "Estados Unidos",
         "marker": {
          "color": "#EF553B"
         },
         "name": "Estados Unidos",
         "notched": false,
         "offsetgroup": "Estados Unidos",
         "orientation": "v",
         "showlegend": true,
         "type": "box",
         "x": [
          "Estados Unidos",
          "Estados Unidos",
          "Estados Unidos",
          "Estados Unidos",
          "Estados Unidos",
          "Estados Unidos",
          "Estados Unidos",
          "Estados Unidos",
          "Estados Unidos",
          "Estados Unidos",
          "Estados Unidos",
          "Estados Unidos",
          "Estados Unidos",
          "Estados Unidos",
          "Estados Unidos",
          "Estados Unidos",
          "Estados Unidos",
          "Estados Unidos",
          "Estados Unidos",
          "Estados Unidos",
          "Estados Unidos",
          "Estados Unidos",
          "Estados Unidos",
          "Estados Unidos",
          "Estados Unidos",
          "Estados Unidos",
          "Estados Unidos",
          "Estados Unidos",
          "Estados Unidos",
          "Estados Unidos",
          "Estados Unidos",
          "Estados Unidos",
          "Estados Unidos",
          "Estados Unidos",
          "Estados Unidos",
          "Estados Unidos",
          "Estados Unidos",
          "Estados Unidos",
          "Estados Unidos",
          "Estados Unidos",
          "Estados Unidos",
          "Estados Unidos",
          "Estados Unidos",
          "Estados Unidos",
          "Estados Unidos",
          "Estados Unidos",
          "Estados Unidos",
          "Estados Unidos",
          "Estados Unidos",
          "Estados Unidos",
          "Estados Unidos",
          "Estados Unidos",
          "Estados Unidos",
          "Estados Unidos",
          "Estados Unidos",
          "Estados Unidos",
          "Estados Unidos",
          "Estados Unidos",
          "Estados Unidos",
          "Estados Unidos",
          "Estados Unidos",
          "Estados Unidos",
          "Estados Unidos",
          "Estados Unidos",
          "Estados Unidos",
          "Estados Unidos",
          "Estados Unidos",
          "Estados Unidos",
          "Estados Unidos",
          "Estados Unidos",
          "Estados Unidos",
          "Estados Unidos",
          "Estados Unidos",
          "Estados Unidos",
          "Estados Unidos",
          "Estados Unidos",
          "Estados Unidos",
          "Estados Unidos",
          "Estados Unidos",
          "Estados Unidos",
          "Estados Unidos",
          "Estados Unidos",
          "Estados Unidos",
          "Estados Unidos",
          "Estados Unidos",
          "Estados Unidos",
          "Estados Unidos",
          "Estados Unidos",
          "Estados Unidos",
          "Estados Unidos",
          "Estados Unidos",
          "Estados Unidos",
          "Estados Unidos",
          "Estados Unidos",
          "Estados Unidos",
          "Estados Unidos",
          "Estados Unidos",
          "Estados Unidos",
          "Estados Unidos",
          "Estados Unidos",
          "Estados Unidos",
          "Estados Unidos",
          "Estados Unidos",
          "Estados Unidos",
          "Estados Unidos",
          "Estados Unidos",
          "Estados Unidos",
          "Estados Unidos",
          "Estados Unidos",
          "Estados Unidos",
          "Estados Unidos",
          "Estados Unidos",
          "Estados Unidos",
          "Estados Unidos",
          "Estados Unidos",
          "Estados Unidos",
          "Estados Unidos",
          "Estados Unidos",
          "Estados Unidos",
          "Estados Unidos",
          "Estados Unidos",
          "Estados Unidos",
          "Estados Unidos",
          "Estados Unidos",
          "Estados Unidos",
          "Estados Unidos",
          "Estados Unidos",
          "Estados Unidos",
          "Estados Unidos",
          "Estados Unidos",
          "Estados Unidos",
          "Estados Unidos",
          "Estados Unidos",
          "Estados Unidos",
          "Estados Unidos",
          "Estados Unidos",
          "Estados Unidos",
          "Estados Unidos",
          "Estados Unidos",
          "Estados Unidos",
          "Estados Unidos",
          "Estados Unidos",
          "Estados Unidos",
          "Estados Unidos",
          "Estados Unidos",
          "Estados Unidos",
          "Estados Unidos",
          "Estados Unidos",
          "Estados Unidos",
          "Estados Unidos",
          "Estados Unidos",
          "Estados Unidos",
          "Estados Unidos",
          "Estados Unidos",
          "Estados Unidos",
          "Estados Unidos",
          "Estados Unidos",
          "Estados Unidos",
          "Estados Unidos",
          "Estados Unidos",
          "Estados Unidos",
          "Estados Unidos",
          "Estados Unidos",
          "Estados Unidos",
          "Estados Unidos",
          "Estados Unidos",
          "Estados Unidos",
          "Estados Unidos",
          "Estados Unidos",
          "Estados Unidos",
          "Estados Unidos",
          "Estados Unidos",
          "Estados Unidos",
          "Estados Unidos",
          "Estados Unidos",
          "Estados Unidos",
          "Estados Unidos",
          "Estados Unidos",
          "Estados Unidos",
          "Estados Unidos",
          "Estados Unidos",
          "Estados Unidos",
          "Estados Unidos",
          "Estados Unidos",
          "Estados Unidos",
          "Estados Unidos",
          "Estados Unidos",
          "Estados Unidos",
          "Estados Unidos",
          "Estados Unidos",
          "Estados Unidos",
          "Estados Unidos",
          "Estados Unidos",
          "Estados Unidos",
          "Estados Unidos",
          "Estados Unidos",
          "Estados Unidos",
          "Estados Unidos",
          "Estados Unidos",
          "Estados Unidos",
          "Estados Unidos",
          "Estados Unidos",
          "Estados Unidos",
          "Estados Unidos",
          "Estados Unidos",
          "Estados Unidos",
          "Estados Unidos",
          "Estados Unidos",
          "Estados Unidos",
          "Estados Unidos",
          "Estados Unidos",
          "Estados Unidos",
          "Estados Unidos",
          "Estados Unidos",
          "Estados Unidos",
          "Estados Unidos",
          "Estados Unidos",
          "Estados Unidos",
          "Estados Unidos",
          "Estados Unidos",
          "Estados Unidos",
          "Estados Unidos",
          "Estados Unidos",
          "Estados Unidos",
          "Estados Unidos",
          "Estados Unidos",
          "Estados Unidos",
          "Estados Unidos",
          "Estados Unidos",
          "Estados Unidos",
          "Estados Unidos",
          "Estados Unidos",
          "Estados Unidos",
          "Estados Unidos",
          "Estados Unidos",
          "Estados Unidos",
          "Estados Unidos",
          "Estados Unidos",
          "Estados Unidos",
          "Estados Unidos",
          "Estados Unidos",
          "Estados Unidos",
          "Estados Unidos",
          "Estados Unidos",
          "Estados Unidos",
          "Estados Unidos",
          "Estados Unidos",
          "Estados Unidos",
          "Estados Unidos",
          "Estados Unidos",
          "Estados Unidos",
          "Estados Unidos",
          "Estados Unidos",
          "Estados Unidos",
          "Estados Unidos",
          "Estados Unidos",
          "Estados Unidos",
          "Estados Unidos",
          "Estados Unidos",
          "Estados Unidos",
          "Estados Unidos",
          "Estados Unidos",
          "Estados Unidos",
          "Estados Unidos",
          "Estados Unidos",
          "Estados Unidos",
          "Estados Unidos",
          "Estados Unidos",
          "Estados Unidos",
          "Estados Unidos",
          "Estados Unidos",
          "Estados Unidos",
          "Estados Unidos",
          "Estados Unidos",
          "Estados Unidos",
          "Estados Unidos",
          "Estados Unidos",
          "Estados Unidos",
          "Estados Unidos",
          "Estados Unidos",
          "Estados Unidos",
          "Estados Unidos",
          "Estados Unidos",
          "Estados Unidos",
          "Estados Unidos",
          "Estados Unidos",
          "Estados Unidos",
          "Estados Unidos",
          "Estados Unidos",
          "Estados Unidos",
          "Estados Unidos",
          "Estados Unidos",
          "Estados Unidos"
         ],
         "x0": " ",
         "xaxis": "x",
         "y": [
          183500000,
          111500000,
          97200000,
          91300000,
          72700000,
          59900000,
          59700000,
          56700000,
          54800000,
          54100000,
          53700000,
          52900000,
          48600000,
          44600000,
          44400000,
          44000000,
          39500000,
          39100000,
          38300000,
          37500000,
          36300000,
          35500000,
          34200000,
          33600000,
          33200000.000000004,
          32800000,
          32200000.000000004,
          31900000,
          31600000,
          31400000,
          31300000,
          31200000,
          31000000,
          30400000,
          30400000,
          30400000,
          30200000,
          29800000,
          29800000,
          28800000,
          28400000,
          28000000,
          27800000,
          27800000,
          27800000,
          27600000,
          27500000,
          27100000,
          27000000,
          26600000,
          26300000,
          26100000,
          25900000,
          25900000,
          25900000,
          25900000,
          25900000,
          25700000,
          25500000,
          25500000,
          25500000,
          25500000,
          25100000,
          25000000,
          24900000,
          24900000,
          24900000,
          24300000,
          24300000,
          24100000,
          23900000,
          23900000,
          23700000,
          23500000,
          23400000,
          23000000,
          22900000,
          22700000,
          22700000,
          22700000,
          22600000,
          22500000,
          22500000,
          22400000,
          22100000,
          21900000,
          21700000,
          21500000,
          21100000,
          21100000,
          21100000,
          21100000,
          21100000,
          20900000,
          20800000,
          20700000,
          20700000,
          20700000,
          20700000,
          20700000,
          20500000,
          20500000,
          20400000,
          20300000,
          20300000,
          20100000,
          20100000,
          20100000,
          20100000,
          20100000,
          20100000,
          20100000,
          19900000,
          19900000,
          19700000,
          19500000,
          19100000,
          19100000,
          19100000,
          19100000,
          19100000,
          19100000,
          19000000,
          18800000,
          18700000,
          18600000,
          18400000,
          18400000,
          18000000,
          18000000,
          18000000,
          17800000,
          17900000,
          17700000,
          17700000,
          17600000,
          17600000,
          17400000,
          17400000,
          17200000,
          17000000,
          17000000,
          16900000,
          16900000,
          16800000,
          16700000,
          16700000,
          16700000,
          16600000.000000002,
          16600000.000000002,
          16500000,
          16500000,
          16399999.999999998,
          16399999.999999998,
          16399999.999999998,
          16399999.999999998,
          16100000.000000002,
          16000000,
          15800000,
          15800000,
          15800000,
          15700000,
          15600000,
          15600000,
          15600000,
          15600000,
          15600000,
          15400000,
          15400000,
          15400000,
          15400000,
          15400000,
          15200000,
          15200000,
          15200000,
          15200000,
          15000000,
          15000000,
          15000000,
          15000000,
          15000000,
          14900000,
          14800000,
          14800000,
          14800000,
          14800000,
          14800000,
          14800000,
          14800000,
          14800000,
          14800000,
          14800000,
          14700000,
          14600000,
          14600000,
          14600000,
          14600000,
          14600000,
          14600000,
          14500000,
          14500000,
          14400000,
          14400000,
          14400000,
          14300000,
          14200000,
          14200000,
          14200000,
          14200000,
          14100000,
          14100000,
          14000000,
          14000000,
          14000000,
          13900000,
          13800000,
          13800000,
          13800000,
          13800000,
          13800000,
          13800000,
          13600000,
          13600000,
          13600000,
          13600000,
          13600000,
          13500000,
          13500000,
          13400000,
          13400000,
          13400000,
          13400000,
          13400000,
          13400000,
          13400000,
          13400000,
          13400000,
          13400000,
          13300000,
          13200000,
          13200000,
          13200000,
          13200000,
          13000000,
          13000000,
          13000000,
          13000000,
          13000000,
          12900000,
          12800000,
          12800000,
          12800000,
          12800000,
          12800000,
          12600000,
          12600000,
          12600000,
          12600000,
          12600000,
          12600000,
          12600000,
          12600000,
          12600000,
          12600000,
          12500000,
          12400000,
          12400000,
          12400000,
          12400000,
          12400000,
          12400000,
          12400000,
          12400000,
          12400000,
          12400000,
          12400000,
          12200000,
          12200000,
          12200000,
          12200000,
          12200000,
          12100000,
          12000000,
          12000000,
          11900000,
          11900000,
          11900000,
          11900000,
          11800000,
          11700000,
          11700000,
          11700000,
          11700000
         ],
         "y0": " ",
         "yaxis": "y"
        },
        {
         "alignmentgroup": "True",
         "hovertemplate": "country=%{x}<br>suscribers=%{y}<extra></extra>",
         "legendgroup": "Unknown",
         "marker": {
          "color": "#00cc96"
         },
         "name": "Unknown",
         "notched": false,
         "offsetgroup": "Unknown",
         "orientation": "v",
         "showlegend": true,
         "type": "box",
         "x": [
          "Unknown",
          "Unknown",
          "Unknown",
          "Unknown",
          "Unknown",
          "Unknown",
          "Unknown",
          "Unknown",
          "Unknown",
          "Unknown",
          "Unknown",
          "Unknown",
          "Unknown",
          "Unknown",
          "Unknown",
          "Unknown",
          "Unknown",
          "Unknown",
          "Unknown",
          "Unknown",
          "Unknown",
          "Unknown",
          "Unknown",
          "Unknown",
          "Unknown",
          "Unknown",
          "Unknown",
          "Unknown",
          "Unknown",
          "Unknown",
          "Unknown",
          "Unknown",
          "Unknown",
          "Unknown",
          "Unknown",
          "Unknown",
          "Unknown",
          "Unknown",
          "Unknown",
          "Unknown",
          "Unknown",
          "Unknown",
          "Unknown",
          "Unknown",
          "Unknown",
          "Unknown",
          "Unknown",
          "Unknown",
          "Unknown",
          "Unknown",
          "Unknown",
          "Unknown",
          "Unknown",
          "Unknown",
          "Unknown",
          "Unknown",
          "Unknown",
          "Unknown",
          "Unknown",
          "Unknown",
          "Unknown",
          "Unknown",
          "Unknown",
          "Unknown",
          "Unknown",
          "Unknown",
          "Unknown",
          "Unknown",
          "Unknown",
          "Unknown",
          "Unknown",
          "Unknown",
          "Unknown",
          "Unknown",
          "Unknown",
          "Unknown",
          "Unknown",
          "Unknown",
          "Unknown",
          "Unknown",
          "Unknown",
          "Unknown",
          "Unknown",
          "Unknown",
          "Unknown",
          "Unknown",
          "Unknown",
          "Unknown",
          "Unknown",
          "Unknown",
          "Unknown",
          "Unknown",
          "Unknown",
          "Unknown",
          "Unknown",
          "Unknown",
          "Unknown",
          "Unknown",
          "Unknown",
          "Unknown",
          "Unknown",
          "Unknown",
          "Unknown",
          "Unknown",
          "Unknown",
          "Unknown",
          "Unknown",
          "Unknown",
          "Unknown",
          "Unknown",
          "Unknown",
          "Unknown",
          "Unknown",
          "Unknown",
          "Unknown",
          "Unknown",
          "Unknown",
          "Unknown",
          "Unknown",
          "Unknown",
          "Unknown",
          "Unknown",
          "Unknown",
          "Unknown",
          "Unknown",
          "Unknown",
          "Unknown",
          "Unknown",
          "Unknown",
          "Unknown",
          "Unknown",
          "Unknown",
          "Unknown",
          "Unknown",
          "Unknown",
          "Unknown",
          "Unknown",
          "Unknown",
          "Unknown",
          "Unknown",
          "Unknown",
          "Unknown",
          "Unknown",
          "Unknown",
          "Unknown",
          "Unknown",
          "Unknown",
          "Unknown",
          "Unknown",
          "Unknown",
          "Unknown",
          "Unknown",
          "Unknown",
          "Unknown",
          "Unknown",
          "Unknown",
          "Unknown",
          "Unknown",
          "Unknown",
          "Unknown",
          "Unknown",
          "Unknown",
          "Unknown",
          "Unknown",
          "Unknown",
          "Unknown",
          "Unknown",
          "Unknown",
          "Unknown",
          "Unknown",
          "Unknown"
         ],
         "x0": " ",
         "xaxis": "x",
         "y": [
          165500000,
          113500000,
          107500000,
          101400000,
          69600000,
          67500000,
          59700000,
          58700000,
          55700000,
          53100000,
          48100000,
          46000000,
          44400000,
          44200000,
          43700000,
          42900000,
          42500000,
          41000000,
          40600000,
          39900000,
          38700000,
          38100000,
          37700000,
          36600000,
          35700000,
          35500000,
          33300000,
          33000000,
          32200000.000000004,
          31100000,
          30900000,
          30600000,
          30400000,
          29500000,
          29400000,
          29300000,
          28700000,
          28200000,
          28100000,
          27900000,
          27800000,
          27100000,
          26200000,
          25700000,
          25000000,
          24800000,
          24600000,
          24600000,
          24400000,
          24400000,
          24100000,
          23900000,
          23800000,
          23500000,
          23400000,
          23300000,
          23200000,
          23200000,
          23000000,
          22800000,
          22800000,
          22700000,
          22400000,
          22400000,
          21800000,
          21700000,
          20800000,
          20600000,
          20600000,
          20600000,
          20100000,
          20100000,
          19600000,
          19500000,
          19400000,
          19100000,
          19000000,
          19000000,
          18600000,
          18600000,
          18600000,
          18400000,
          18200000,
          18200000,
          18200000,
          18000000,
          18000000,
          17800000,
          17800000,
          17600000,
          17500000,
          17500000,
          17300000,
          17000000,
          16800000,
          16399999.999999998,
          16399999.999999998,
          16300000,
          16300000,
          16200000,
          15900000,
          15900000,
          15600000,
          15500000,
          15400000,
          15300000,
          15100000,
          15100000,
          15000000,
          14900000,
          14900000,
          14700000,
          14700000,
          14700000,
          14700000,
          14700000,
          14600000,
          14600000,
          14400000,
          14400000,
          14300000,
          14200000,
          14100000,
          14100000,
          14000000,
          14000000,
          13900000,
          13800000,
          13700000,
          13600000,
          13500000,
          13400000,
          13300000,
          13300000,
          13300000,
          13100000,
          13000000,
          12900000,
          12900000,
          12900000,
          12900000,
          12800000,
          12800000,
          12800000,
          12700000,
          12600000,
          12600000,
          12600000,
          12600000,
          12600000,
          12500000,
          12500000,
          12500000,
          12500000,
          12400000,
          12400000,
          12300000,
          12200000,
          12200000,
          12100000,
          12100000,
          11900000,
          11900000,
          11900000,
          11900000,
          11900000,
          11900000,
          11900000,
          11900000,
          11800000,
          11700000
         ],
         "y0": " ",
         "yaxis": "y"
        },
        {
         "alignmentgroup": "True",
         "hovertemplate": "country=%{x}<br>suscribers=%{y}<extra></extra>",
         "legendgroup": "Brasil",
         "marker": {
          "color": "#ab63fa"
         },
         "name": "Brasil",
         "notched": false,
         "offsetgroup": "Brasil",
         "orientation": "v",
         "showlegend": true,
         "type": "box",
         "x": [
          "Brasil",
          "Brasil",
          "Brasil",
          "Brasil",
          "Brasil",
          "Brasil",
          "Brasil",
          "Brasil",
          "Brasil",
          "Brasil",
          "Brasil",
          "Brasil",
          "Brasil",
          "Brasil",
          "Brasil",
          "Brasil",
          "Brasil",
          "Brasil",
          "Brasil",
          "Brasil",
          "Brasil",
          "Brasil",
          "Brasil",
          "Brasil",
          "Brasil",
          "Brasil",
          "Brasil",
          "Brasil",
          "Brasil",
          "Brasil",
          "Brasil",
          "Brasil",
          "Brasil",
          "Brasil",
          "Brasil",
          "Brasil",
          "Brasil",
          "Brasil",
          "Brasil",
          "Brasil",
          "Brasil",
          "Brasil",
          "Brasil",
          "Brasil",
          "Brasil",
          "Brasil",
          "Brasil",
          "Brasil",
          "Brasil",
          "Brasil",
          "Brasil",
          "Brasil",
          "Brasil",
          "Brasil",
          "Brasil",
          "Brasil",
          "Brasil",
          "Brasil",
          "Brasil",
          "Brasil",
          "Brasil",
          "Brasil",
          "Brasil",
          "Brasil"
         ],
         "x0": " ",
         "xaxis": "x",
         "y": [
          66599999.99999999,
          45600000,
          45000000,
          44400000,
          40100000,
          39300000,
          32200000.000000004,
          30600000,
          27200000,
          26600000,
          26100000,
          25900000,
          23500000,
          22500000,
          22100000,
          21100000,
          20300000,
          20100000,
          20100000,
          18600000,
          18200000,
          18000000,
          17800000,
          17400000,
          17000000,
          16500000,
          16399999.999999998,
          16100000.000000002,
          16000000,
          15600000,
          15100000,
          15000000,
          14900000,
          14800000,
          14600000,
          14600000,
          14600000,
          14600000,
          14400000,
          14200000,
          14200000,
          14200000,
          14000000,
          13900000,
          13800000,
          13800000,
          13600000,
          13400000,
          13300000,
          13300000,
          13200000,
          13200000,
          12800000,
          12800000,
          12700000,
          12600000,
          12600000,
          12400000,
          12400000,
          12400000,
          12300000,
          12200000,
          12200000,
          11900000
         ],
         "y0": " ",
         "yaxis": "y"
        },
        {
         "alignmentgroup": "True",
         "hovertemplate": "country=%{x}<br>suscribers=%{y}<extra></extra>",
         "legendgroup": "México",
         "marker": {
          "color": "#FFA15A"
         },
         "name": "México",
         "notched": false,
         "offsetgroup": "México",
         "orientation": "v",
         "showlegend": true,
         "type": "box",
         "x": [
          "México",
          "México",
          "México",
          "México",
          "México",
          "México",
          "México",
          "México",
          "México",
          "México",
          "México",
          "México",
          "México",
          "México",
          "México",
          "México",
          "México",
          "México",
          "México",
          "México",
          "México",
          "México",
          "México",
          "México",
          "México",
          "México",
          "México",
          "México",
          "México",
          "México",
          "México",
          "México",
          "México",
          "México",
          "México",
          "México",
          "México",
          "México",
          "México",
          "México",
          "México",
          "México",
          "México",
          "México",
          "México",
          "México",
          "México",
          "México",
          "México",
          "México",
          "México",
          "México",
          "México",
          "México",
          "México",
          "México",
          "México",
          "México"
         ],
         "x0": " ",
         "xaxis": "x",
         "y": [
          48600000,
          47000000,
          43400000,
          42100000,
          41100000,
          34700000,
          34600000,
          34000000,
          32000000,
          31800000,
          25700000,
          24000000,
          23100000,
          23100000,
          22800000,
          21900000,
          19800000,
          19500000,
          19200000,
          18300000,
          18200000,
          17200000,
          16800000,
          16800000,
          16700000,
          16500000,
          16200000,
          16000000,
          15200000,
          15200000,
          15000000,
          15000000,
          15000000,
          14900000,
          14800000,
          14800000,
          14800000,
          14800000,
          14400000,
          14200000,
          14000000,
          14000000,
          13900000,
          13600000,
          13200000,
          13200000,
          13000000,
          13000000,
          13000000,
          12800000,
          12600000,
          12600000,
          12600000,
          12600000,
          12600000,
          12200000,
          11900000,
          11900000
         ],
         "y0": " ",
         "yaxis": "y"
        },
        {
         "alignmentgroup": "True",
         "hovertemplate": "country=%{x}<br>suscribers=%{y}<extra></extra>",
         "legendgroup": "Rusia",
         "marker": {
          "color": "#19d3f3"
         },
         "name": "Rusia",
         "notched": false,
         "offsetgroup": "Rusia",
         "orientation": "v",
         "showlegend": true,
         "type": "box",
         "x": [
          "Rusia",
          "Rusia",
          "Rusia",
          "Rusia",
          "Rusia",
          "Rusia",
          "Rusia",
          "Rusia",
          "Rusia",
          "Rusia",
          "Rusia",
          "Rusia",
          "Rusia",
          "Rusia",
          "Rusia",
          "Rusia",
          "Rusia",
          "Rusia",
          "Rusia",
          "Rusia",
          "Rusia",
          "Rusia",
          "Rusia",
          "Rusia",
          "Rusia"
         ],
         "x0": " ",
         "xaxis": "x",
         "y": [
          47300000,
          23900000,
          23700000,
          20500000,
          19100000,
          19100000,
          18600000,
          17400000,
          16800000,
          16399999.999999998,
          16300000,
          16000000,
          15200000,
          14400000,
          14200000,
          14100000,
          13700000,
          13600000,
          13600000,
          12400000,
          12300000,
          12000000,
          12000000,
          11900000,
          11900000
         ],
         "y0": " ",
         "yaxis": "y"
        },
        {
         "alignmentgroup": "True",
         "hovertemplate": "country=%{x}<br>suscribers=%{y}<extra></extra>",
         "legendgroup": "Pakistan",
         "marker": {
          "color": "#FF6692"
         },
         "name": "Pakistan",
         "notched": false,
         "offsetgroup": "Pakistan",
         "orientation": "v",
         "showlegend": true,
         "type": "box",
         "x": [
          "Pakistan",
          "Pakistan",
          "Pakistan",
          "Pakistan",
          "Pakistan",
          "Pakistan",
          "Pakistan",
          "Pakistan",
          "Pakistan",
          "Pakistan",
          "Pakistan"
         ],
         "x0": " ",
         "xaxis": "x",
         "y": [
          46400000,
          45900000,
          30200000,
          19800000,
          14700000,
          14000000,
          12400000,
          12200000,
          12100000,
          12100000,
          12000000
         ],
         "y0": " ",
         "yaxis": "y"
        },
        {
         "alignmentgroup": "True",
         "hovertemplate": "country=%{x}<br>suscribers=%{y}<extra></extra>",
         "legendgroup": "Filipinas",
         "marker": {
          "color": "#B6E880"
         },
         "name": "Filipinas",
         "notched": false,
         "offsetgroup": "Filipinas",
         "orientation": "v",
         "showlegend": true,
         "type": "box",
         "x": [
          "Filipinas",
          "Filipinas",
          "Filipinas",
          "Filipinas",
          "Filipinas",
          "Filipinas",
          "Filipinas",
          "Filipinas",
          "Filipinas",
          "Filipinas",
          "Filipinas",
          "Filipinas",
          "Filipinas"
         ],
         "x0": " ",
         "xaxis": "x",
         "y": [
          45000000,
          32900000,
          26800000,
          21700000,
          16800000,
          16399999.999999998,
          15400000,
          15400000,
          15200000,
          14400000,
          13800000,
          13800000,
          13400000
         ],
         "y0": " ",
         "yaxis": "y"
        },
        {
         "alignmentgroup": "True",
         "hovertemplate": "country=%{x}<br>suscribers=%{y}<extra></extra>",
         "legendgroup": "Indonesia",
         "marker": {
          "color": "#FF97FF"
         },
         "name": "Indonesia",
         "notched": false,
         "offsetgroup": "Indonesia",
         "orientation": "v",
         "showlegend": true,
         "type": "box",
         "x": [
          "Indonesia",
          "Indonesia",
          "Indonesia",
          "Indonesia",
          "Indonesia",
          "Indonesia",
          "Indonesia",
          "Indonesia",
          "Indonesia",
          "Indonesia",
          "Indonesia",
          "Indonesia",
          "Indonesia",
          "Indonesia",
          "Indonesia",
          "Indonesia",
          "Indonesia",
          "Indonesia",
          "Indonesia",
          "Indonesia",
          "Indonesia",
          "Indonesia",
          "Indonesia",
          "Indonesia",
          "Indonesia",
          "Indonesia",
          "Indonesia",
          "Indonesia",
          "Indonesia",
          "Indonesia",
          "Indonesia",
          "Indonesia",
          "Indonesia",
          "Indonesia",
          "Indonesia",
          "Indonesia",
          "Indonesia",
          "Indonesia"
         ],
         "x0": " ",
         "xaxis": "x",
         "y": [
          39600000,
          36900000,
          32600000,
          30600000,
          26700000,
          25700000,
          25400000,
          24700000,
          24300000,
          21900000,
          21300000,
          21000000,
          20500000,
          19900000,
          19300000,
          18400000,
          18200000,
          18000000,
          18000000,
          17800000,
          17300000,
          16600000.000000002,
          16200000,
          16200000,
          16000000,
          16000000,
          15600000,
          15400000,
          15400000,
          15300000,
          15200000,
          14900000,
          14400000,
          14200000,
          13600000,
          13600000,
          13200000,
          12600000
         ],
         "y0": " ",
         "yaxis": "y"
        },
        {
         "alignmentgroup": "True",
         "hovertemplate": "country=%{x}<br>suscribers=%{y}<extra></extra>",
         "legendgroup": "Tailandia",
         "marker": {
          "color": "#FECB52"
         },
         "name": "Tailandia",
         "notched": false,
         "offsetgroup": "Tailandia",
         "orientation": "v",
         "showlegend": true,
         "type": "box",
         "x": [
          "Tailandia",
          "Tailandia",
          "Tailandia",
          "Tailandia",
          "Tailandia",
          "Tailandia",
          "Tailandia",
          "Tailandia",
          "Tailandia",
          "Tailandia",
          "Tailandia",
          "Tailandia",
          "Tailandia",
          "Tailandia",
          "Tailandia",
          "Tailandia",
          "Tailandia",
          "Tailandia"
         ],
         "x0": " ",
         "xaxis": "x",
         "y": [
          39400000,
          38100000,
          34000000,
          23400000,
          18800000,
          18600000,
          18000000,
          17800000,
          16800000,
          16700000,
          16600000.000000002,
          16600000.000000002,
          15600000,
          15200000,
          14600000,
          14200000,
          13600000,
          12200000
         ],
         "y0": " ",
         "yaxis": "y"
        },
        {
         "alignmentgroup": "True",
         "hovertemplate": "country=%{x}<br>suscribers=%{y}<extra></extra>",
         "legendgroup": "Francia",
         "marker": {
          "color": "#636efa"
         },
         "name": "Francia",
         "notched": false,
         "offsetgroup": "Francia",
         "orientation": "v",
         "showlegend": true,
         "type": "box",
         "x": [
          "Francia",
          "Francia",
          "Francia",
          "Francia"
         ],
         "x0": " ",
         "xaxis": "x",
         "y": [
          39100000,
          18400000,
          14500000,
          13900000
         ],
         "y0": " ",
         "yaxis": "y"
        },
        {
         "alignmentgroup": "True",
         "hovertemplate": "country=%{x}<br>suscribers=%{y}<extra></extra>",
         "legendgroup": "Colombia",
         "marker": {
          "color": "#EF553B"
         },
         "name": "Colombia",
         "notched": false,
         "offsetgroup": "Colombia",
         "orientation": "v",
         "showlegend": true,
         "type": "box",
         "x": [
          "Colombia",
          "Colombia",
          "Colombia",
          "Colombia",
          "Colombia",
          "Colombia",
          "Colombia",
          "Colombia",
          "Colombia",
          "Colombia",
          "Colombia",
          "Colombia",
          "Colombia",
          "Colombia",
          "Colombia",
          "Colombia"
         ],
         "x0": " ",
         "xaxis": "x",
         "y": [
          38300000,
          34200000,
          33000000,
          29400000,
          23700000,
          23700000,
          22900000,
          18200000,
          16500000,
          16000000,
          15400000,
          13800000,
          13600000,
          12800000,
          12200000,
          11700000
         ],
         "y0": " ",
         "yaxis": "y"
        },
        {
         "alignmentgroup": "True",
         "hovertemplate": "country=%{x}<br>suscribers=%{y}<extra></extra>",
         "legendgroup": "Iraq",
         "marker": {
          "color": "#00cc96"
         },
         "name": "Iraq",
         "notched": false,
         "offsetgroup": "Iraq",
         "orientation": "v",
         "showlegend": true,
         "type": "box",
         "x": [
          "Iraq",
          "Iraq",
          "Iraq",
          "Iraq"
         ],
         "x0": " ",
         "xaxis": "x",
         "y": [
          32700000.000000004,
          17600000,
          14200000,
          14200000
         ],
         "y0": " ",
         "yaxis": "y"
        },
        {
         "alignmentgroup": "True",
         "hovertemplate": "country=%{x}<br>suscribers=%{y}<extra></extra>",
         "legendgroup": "Japon",
         "marker": {
          "color": "#ab63fa"
         },
         "name": "Japon",
         "notched": false,
         "offsetgroup": "Japon",
         "orientation": "v",
         "showlegend": true,
         "type": "box",
         "x": [
          "Japon",
          "Japon",
          "Japon"
         ],
         "x0": " ",
         "xaxis": "x",
         "y": [
          29000000,
          13100000,
          11900000
         ],
         "y0": " ",
         "yaxis": "y"
        },
        {
         "alignmentgroup": "True",
         "hovertemplate": "country=%{x}<br>suscribers=%{y}<extra></extra>",
         "legendgroup": "Ecuador",
         "marker": {
          "color": "#FFA15A"
         },
         "name": "Ecuador",
         "notched": false,
         "offsetgroup": "Ecuador",
         "orientation": "v",
         "showlegend": true,
         "type": "box",
         "x": [
          "Ecuador"
         ],
         "x0": " ",
         "xaxis": "x",
         "y": [
          26800000
         ],
         "y0": " ",
         "yaxis": "y"
        },
        {
         "alignmentgroup": "True",
         "hovertemplate": "country=%{x}<br>suscribers=%{y}<extra></extra>",
         "legendgroup": "Argentina",
         "marker": {
          "color": "#19d3f3"
         },
         "name": "Argentina",
         "notched": false,
         "offsetgroup": "Argentina",
         "orientation": "v",
         "showlegend": true,
         "type": "box",
         "x": [
          "Argentina",
          "Argentina",
          "Argentina",
          "Argentina",
          "Argentina",
          "Argentina",
          "Argentina"
         ],
         "x0": " ",
         "xaxis": "x",
         "y": [
          25700000,
          18800000,
          18000000,
          16399999.999999998,
          16399999.999999998,
          14600000,
          14200000
         ],
         "y0": " ",
         "yaxis": "y"
        },
        {
         "alignmentgroup": "True",
         "hovertemplate": "country=%{x}<br>suscribers=%{y}<extra></extra>",
         "legendgroup": "Turquia",
         "marker": {
          "color": "#FF6692"
         },
         "name": "Turquia",
         "notched": false,
         "offsetgroup": "Turquia",
         "orientation": "v",
         "showlegend": true,
         "type": "box",
         "x": [
          "Turquia",
          "Turquia",
          "Turquia",
          "Turquia"
         ],
         "x0": " ",
         "xaxis": "x",
         "y": [
          24400000,
          18200000,
          16500000,
          13100000
         ],
         "y0": " ",
         "yaxis": "y"
        },
        {
         "alignmentgroup": "True",
         "hovertemplate": "country=%{x}<br>suscribers=%{y}<extra></extra>",
         "legendgroup": "Arabia Saudita",
         "marker": {
          "color": "#B6E880"
         },
         "name": "Arabia Saudita",
         "notched": false,
         "offsetgroup": "Arabia Saudita",
         "orientation": "v",
         "showlegend": true,
         "type": "box",
         "x": [
          "Arabia Saudita",
          "Arabia Saudita",
          "Arabia Saudita",
          "Arabia Saudita"
         ],
         "x0": " ",
         "xaxis": "x",
         "y": [
          22700000,
          22300000,
          16000000,
          13600000
         ],
         "y0": " ",
         "yaxis": "y"
        },
        {
         "alignmentgroup": "True",
         "hovertemplate": "country=%{x}<br>suscribers=%{y}<extra></extra>",
         "legendgroup": "El Salvador",
         "marker": {
          "color": "#FF97FF"
         },
         "name": "El Salvador",
         "notched": false,
         "offsetgroup": "El Salvador",
         "orientation": "v",
         "showlegend": true,
         "type": "box",
         "x": [
          "El Salvador"
         ],
         "x0": " ",
         "xaxis": "x",
         "y": [
          21900000
         ],
         "y0": " ",
         "yaxis": "y"
        },
        {
         "alignmentgroup": "True",
         "hovertemplate": "country=%{x}<br>suscribers=%{y}<extra></extra>",
         "legendgroup": "Bangladesh",
         "marker": {
          "color": "#FECB52"
         },
         "name": "Bangladesh",
         "notched": false,
         "offsetgroup": "Bangladesh",
         "orientation": "v",
         "showlegend": true,
         "type": "box",
         "x": [
          "Bangladesh",
          "Bangladesh",
          "Bangladesh"
         ],
         "x0": " ",
         "xaxis": "x",
         "y": [
          20500000,
          20400000,
          14300000
         ],
         "y0": " ",
         "yaxis": "y"
        },
        {
         "alignmentgroup": "True",
         "hovertemplate": "country=%{x}<br>suscribers=%{y}<extra></extra>",
         "legendgroup": "Reino Unido",
         "marker": {
          "color": "#636efa"
         },
         "name": "Reino Unido",
         "notched": false,
         "offsetgroup": "Reino Unido",
         "orientation": "v",
         "showlegend": true,
         "type": "box",
         "x": [
          "Reino Unido",
          "Reino Unido",
          "Reino Unido"
         ],
         "x0": " ",
         "xaxis": "x",
         "y": [
          19900000,
          19500000,
          13800000
         ],
         "y0": " ",
         "yaxis": "y"
        },
        {
         "alignmentgroup": "True",
         "hovertemplate": "country=%{x}<br>suscribers=%{y}<extra></extra>",
         "legendgroup": "Argelia",
         "marker": {
          "color": "#EF553B"
         },
         "name": "Argelia",
         "notched": false,
         "offsetgroup": "Argelia",
         "orientation": "v",
         "showlegend": true,
         "type": "box",
         "x": [
          "Argelia",
          "Argelia"
         ],
         "x0": " ",
         "xaxis": "x",
         "y": [
          19300000,
          12200000
         ],
         "y0": " ",
         "yaxis": "y"
        },
        {
         "alignmentgroup": "True",
         "hovertemplate": "country=%{x}<br>suscribers=%{y}<extra></extra>",
         "legendgroup": "Espana",
         "marker": {
          "color": "#00cc96"
         },
         "name": "Espana",
         "notched": false,
         "offsetgroup": "Espana",
         "orientation": "v",
         "showlegend": true,
         "type": "box",
         "x": [
          "Espana",
          "Espana",
          "Espana",
          "Espana"
         ],
         "x0": " ",
         "xaxis": "x",
         "y": [
          18400000,
          18000000,
          15200000,
          13000000
         ],
         "y0": " ",
         "yaxis": "y"
        },
        {
         "alignmentgroup": "True",
         "hovertemplate": "country=%{x}<br>suscribers=%{y}<extra></extra>",
         "legendgroup": "Peru",
         "marker": {
          "color": "#ab63fa"
         },
         "name": "Peru",
         "notched": false,
         "offsetgroup": "Peru",
         "orientation": "v",
         "showlegend": true,
         "type": "box",
         "x": [
          "Peru",
          "Peru"
         ],
         "x0": " ",
         "xaxis": "x",
         "y": [
          18200000,
          13200000
         ],
         "y0": " ",
         "yaxis": "y"
        },
        {
         "alignmentgroup": "True",
         "hovertemplate": "country=%{x}<br>suscribers=%{y}<extra></extra>",
         "legendgroup": "Egipto",
         "marker": {
          "color": "#FFA15A"
         },
         "name": "Egipto",
         "notched": false,
         "offsetgroup": "Egipto",
         "orientation": "v",
         "showlegend": true,
         "type": "box",
         "x": [
          "Egipto",
          "Egipto",
          "Egipto",
          "Egipto",
          "Egipto"
         ],
         "x0": " ",
         "xaxis": "x",
         "y": [
          15800000,
          15200000,
          14800000,
          12200000,
          11900000
         ],
         "y0": " ",
         "yaxis": "y"
        },
        {
         "alignmentgroup": "True",
         "hovertemplate": "country=%{x}<br>suscribers=%{y}<extra></extra>",
         "legendgroup": "Jordania",
         "marker": {
          "color": "#19d3f3"
         },
         "name": "Jordania",
         "notched": false,
         "offsetgroup": "Jordania",
         "orientation": "v",
         "showlegend": true,
         "type": "box",
         "x": [
          "Jordania"
         ],
         "x0": " ",
         "xaxis": "x",
         "y": [
          14200000
         ],
         "y0": " ",
         "yaxis": "y"
        },
        {
         "alignmentgroup": "True",
         "hovertemplate": "country=%{x}<br>suscribers=%{y}<extra></extra>",
         "legendgroup": "Marruecos",
         "marker": {
          "color": "#FF6692"
         },
         "name": "Marruecos",
         "notched": false,
         "offsetgroup": "Marruecos",
         "orientation": "v",
         "showlegend": true,
         "type": "box",
         "x": [
          "Marruecos",
          "Marruecos"
         ],
         "x0": " ",
         "xaxis": "x",
         "y": [
          13200000,
          12600000
         ],
         "y0": " ",
         "yaxis": "y"
        },
        {
         "alignmentgroup": "True",
         "hovertemplate": "country=%{x}<br>suscribers=%{y}<extra></extra>",
         "legendgroup": "Singapur",
         "marker": {
          "color": "#B6E880"
         },
         "name": "Singapur",
         "notched": false,
         "offsetgroup": "Singapur",
         "orientation": "v",
         "showlegend": true,
         "type": "box",
         "x": [
          "Singapur"
         ],
         "x0": " ",
         "xaxis": "x",
         "y": [
          12400000
         ],
         "y0": " ",
         "yaxis": "y"
        },
        {
         "alignmentgroup": "True",
         "hovertemplate": "country=%{x}<br>suscribers=%{y}<extra></extra>",
         "legendgroup": "Somalia",
         "marker": {
          "color": "#FF97FF"
         },
         "name": "Somalia",
         "notched": false,
         "offsetgroup": "Somalia",
         "orientation": "v",
         "showlegend": true,
         "type": "box",
         "x": [
          "Somalia"
         ],
         "x0": " ",
         "xaxis": "x",
         "y": [
          11700000
         ],
         "y0": " ",
         "yaxis": "y"
        }
       ],
       "layout": {
        "boxmode": "overlay",
        "legend": {
         "title": {
          "text": "country"
         },
         "tracegroupgap": 0
        },
        "margin": {
         "t": 60
        },
        "template": {
         "data": {
          "bar": [
           {
            "error_x": {
             "color": "#2a3f5f"
            },
            "error_y": {
             "color": "#2a3f5f"
            },
            "marker": {
             "line": {
              "color": "#E5ECF6",
              "width": 0.5
             },
             "pattern": {
              "fillmode": "overlay",
              "size": 10,
              "solidity": 0.2
             }
            },
            "type": "bar"
           }
          ],
          "barpolar": [
           {
            "marker": {
             "line": {
              "color": "#E5ECF6",
              "width": 0.5
             },
             "pattern": {
              "fillmode": "overlay",
              "size": 10,
              "solidity": 0.2
             }
            },
            "type": "barpolar"
           }
          ],
          "carpet": [
           {
            "aaxis": {
             "endlinecolor": "#2a3f5f",
             "gridcolor": "white",
             "linecolor": "white",
             "minorgridcolor": "white",
             "startlinecolor": "#2a3f5f"
            },
            "baxis": {
             "endlinecolor": "#2a3f5f",
             "gridcolor": "white",
             "linecolor": "white",
             "minorgridcolor": "white",
             "startlinecolor": "#2a3f5f"
            },
            "type": "carpet"
           }
          ],
          "choropleth": [
           {
            "colorbar": {
             "outlinewidth": 0,
             "ticks": ""
            },
            "type": "choropleth"
           }
          ],
          "contour": [
           {
            "colorbar": {
             "outlinewidth": 0,
             "ticks": ""
            },
            "colorscale": [
             [
              0,
              "#0d0887"
             ],
             [
              0.1111111111111111,
              "#46039f"
             ],
             [
              0.2222222222222222,
              "#7201a8"
             ],
             [
              0.3333333333333333,
              "#9c179e"
             ],
             [
              0.4444444444444444,
              "#bd3786"
             ],
             [
              0.5555555555555556,
              "#d8576b"
             ],
             [
              0.6666666666666666,
              "#ed7953"
             ],
             [
              0.7777777777777778,
              "#fb9f3a"
             ],
             [
              0.8888888888888888,
              "#fdca26"
             ],
             [
              1,
              "#f0f921"
             ]
            ],
            "type": "contour"
           }
          ],
          "contourcarpet": [
           {
            "colorbar": {
             "outlinewidth": 0,
             "ticks": ""
            },
            "type": "contourcarpet"
           }
          ],
          "heatmap": [
           {
            "colorbar": {
             "outlinewidth": 0,
             "ticks": ""
            },
            "colorscale": [
             [
              0,
              "#0d0887"
             ],
             [
              0.1111111111111111,
              "#46039f"
             ],
             [
              0.2222222222222222,
              "#7201a8"
             ],
             [
              0.3333333333333333,
              "#9c179e"
             ],
             [
              0.4444444444444444,
              "#bd3786"
             ],
             [
              0.5555555555555556,
              "#d8576b"
             ],
             [
              0.6666666666666666,
              "#ed7953"
             ],
             [
              0.7777777777777778,
              "#fb9f3a"
             ],
             [
              0.8888888888888888,
              "#fdca26"
             ],
             [
              1,
              "#f0f921"
             ]
            ],
            "type": "heatmap"
           }
          ],
          "heatmapgl": [
           {
            "colorbar": {
             "outlinewidth": 0,
             "ticks": ""
            },
            "colorscale": [
             [
              0,
              "#0d0887"
             ],
             [
              0.1111111111111111,
              "#46039f"
             ],
             [
              0.2222222222222222,
              "#7201a8"
             ],
             [
              0.3333333333333333,
              "#9c179e"
             ],
             [
              0.4444444444444444,
              "#bd3786"
             ],
             [
              0.5555555555555556,
              "#d8576b"
             ],
             [
              0.6666666666666666,
              "#ed7953"
             ],
             [
              0.7777777777777778,
              "#fb9f3a"
             ],
             [
              0.8888888888888888,
              "#fdca26"
             ],
             [
              1,
              "#f0f921"
             ]
            ],
            "type": "heatmapgl"
           }
          ],
          "histogram": [
           {
            "marker": {
             "pattern": {
              "fillmode": "overlay",
              "size": 10,
              "solidity": 0.2
             }
            },
            "type": "histogram"
           }
          ],
          "histogram2d": [
           {
            "colorbar": {
             "outlinewidth": 0,
             "ticks": ""
            },
            "colorscale": [
             [
              0,
              "#0d0887"
             ],
             [
              0.1111111111111111,
              "#46039f"
             ],
             [
              0.2222222222222222,
              "#7201a8"
             ],
             [
              0.3333333333333333,
              "#9c179e"
             ],
             [
              0.4444444444444444,
              "#bd3786"
             ],
             [
              0.5555555555555556,
              "#d8576b"
             ],
             [
              0.6666666666666666,
              "#ed7953"
             ],
             [
              0.7777777777777778,
              "#fb9f3a"
             ],
             [
              0.8888888888888888,
              "#fdca26"
             ],
             [
              1,
              "#f0f921"
             ]
            ],
            "type": "histogram2d"
           }
          ],
          "histogram2dcontour": [
           {
            "colorbar": {
             "outlinewidth": 0,
             "ticks": ""
            },
            "colorscale": [
             [
              0,
              "#0d0887"
             ],
             [
              0.1111111111111111,
              "#46039f"
             ],
             [
              0.2222222222222222,
              "#7201a8"
             ],
             [
              0.3333333333333333,
              "#9c179e"
             ],
             [
              0.4444444444444444,
              "#bd3786"
             ],
             [
              0.5555555555555556,
              "#d8576b"
             ],
             [
              0.6666666666666666,
              "#ed7953"
             ],
             [
              0.7777777777777778,
              "#fb9f3a"
             ],
             [
              0.8888888888888888,
              "#fdca26"
             ],
             [
              1,
              "#f0f921"
             ]
            ],
            "type": "histogram2dcontour"
           }
          ],
          "mesh3d": [
           {
            "colorbar": {
             "outlinewidth": 0,
             "ticks": ""
            },
            "type": "mesh3d"
           }
          ],
          "parcoords": [
           {
            "line": {
             "colorbar": {
              "outlinewidth": 0,
              "ticks": ""
             }
            },
            "type": "parcoords"
           }
          ],
          "pie": [
           {
            "automargin": true,
            "type": "pie"
           }
          ],
          "scatter": [
           {
            "fillpattern": {
             "fillmode": "overlay",
             "size": 10,
             "solidity": 0.2
            },
            "type": "scatter"
           }
          ],
          "scatter3d": [
           {
            "line": {
             "colorbar": {
              "outlinewidth": 0,
              "ticks": ""
             }
            },
            "marker": {
             "colorbar": {
              "outlinewidth": 0,
              "ticks": ""
             }
            },
            "type": "scatter3d"
           }
          ],
          "scattercarpet": [
           {
            "marker": {
             "colorbar": {
              "outlinewidth": 0,
              "ticks": ""
             }
            },
            "type": "scattercarpet"
           }
          ],
          "scattergeo": [
           {
            "marker": {
             "colorbar": {
              "outlinewidth": 0,
              "ticks": ""
             }
            },
            "type": "scattergeo"
           }
          ],
          "scattergl": [
           {
            "marker": {
             "colorbar": {
              "outlinewidth": 0,
              "ticks": ""
             }
            },
            "type": "scattergl"
           }
          ],
          "scattermapbox": [
           {
            "marker": {
             "colorbar": {
              "outlinewidth": 0,
              "ticks": ""
             }
            },
            "type": "scattermapbox"
           }
          ],
          "scatterpolar": [
           {
            "marker": {
             "colorbar": {
              "outlinewidth": 0,
              "ticks": ""
             }
            },
            "type": "scatterpolar"
           }
          ],
          "scatterpolargl": [
           {
            "marker": {
             "colorbar": {
              "outlinewidth": 0,
              "ticks": ""
             }
            },
            "type": "scatterpolargl"
           }
          ],
          "scatterternary": [
           {
            "marker": {
             "colorbar": {
              "outlinewidth": 0,
              "ticks": ""
             }
            },
            "type": "scatterternary"
           }
          ],
          "surface": [
           {
            "colorbar": {
             "outlinewidth": 0,
             "ticks": ""
            },
            "colorscale": [
             [
              0,
              "#0d0887"
             ],
             [
              0.1111111111111111,
              "#46039f"
             ],
             [
              0.2222222222222222,
              "#7201a8"
             ],
             [
              0.3333333333333333,
              "#9c179e"
             ],
             [
              0.4444444444444444,
              "#bd3786"
             ],
             [
              0.5555555555555556,
              "#d8576b"
             ],
             [
              0.6666666666666666,
              "#ed7953"
             ],
             [
              0.7777777777777778,
              "#fb9f3a"
             ],
             [
              0.8888888888888888,
              "#fdca26"
             ],
             [
              1,
              "#f0f921"
             ]
            ],
            "type": "surface"
           }
          ],
          "table": [
           {
            "cells": {
             "fill": {
              "color": "#EBF0F8"
             },
             "line": {
              "color": "white"
             }
            },
            "header": {
             "fill": {
              "color": "#C8D4E3"
             },
             "line": {
              "color": "white"
             }
            },
            "type": "table"
           }
          ]
         },
         "layout": {
          "annotationdefaults": {
           "arrowcolor": "#2a3f5f",
           "arrowhead": 0,
           "arrowwidth": 1
          },
          "autotypenumbers": "strict",
          "coloraxis": {
           "colorbar": {
            "outlinewidth": 0,
            "ticks": ""
           }
          },
          "colorscale": {
           "diverging": [
            [
             0,
             "#8e0152"
            ],
            [
             0.1,
             "#c51b7d"
            ],
            [
             0.2,
             "#de77ae"
            ],
            [
             0.3,
             "#f1b6da"
            ],
            [
             0.4,
             "#fde0ef"
            ],
            [
             0.5,
             "#f7f7f7"
            ],
            [
             0.6,
             "#e6f5d0"
            ],
            [
             0.7,
             "#b8e186"
            ],
            [
             0.8,
             "#7fbc41"
            ],
            [
             0.9,
             "#4d9221"
            ],
            [
             1,
             "#276419"
            ]
           ],
           "sequential": [
            [
             0,
             "#0d0887"
            ],
            [
             0.1111111111111111,
             "#46039f"
            ],
            [
             0.2222222222222222,
             "#7201a8"
            ],
            [
             0.3333333333333333,
             "#9c179e"
            ],
            [
             0.4444444444444444,
             "#bd3786"
            ],
            [
             0.5555555555555556,
             "#d8576b"
            ],
            [
             0.6666666666666666,
             "#ed7953"
            ],
            [
             0.7777777777777778,
             "#fb9f3a"
            ],
            [
             0.8888888888888888,
             "#fdca26"
            ],
            [
             1,
             "#f0f921"
            ]
           ],
           "sequentialminus": [
            [
             0,
             "#0d0887"
            ],
            [
             0.1111111111111111,
             "#46039f"
            ],
            [
             0.2222222222222222,
             "#7201a8"
            ],
            [
             0.3333333333333333,
             "#9c179e"
            ],
            [
             0.4444444444444444,
             "#bd3786"
            ],
            [
             0.5555555555555556,
             "#d8576b"
            ],
            [
             0.6666666666666666,
             "#ed7953"
            ],
            [
             0.7777777777777778,
             "#fb9f3a"
            ],
            [
             0.8888888888888888,
             "#fdca26"
            ],
            [
             1,
             "#f0f921"
            ]
           ]
          },
          "colorway": [
           "#636efa",
           "#EF553B",
           "#00cc96",
           "#ab63fa",
           "#FFA15A",
           "#19d3f3",
           "#FF6692",
           "#B6E880",
           "#FF97FF",
           "#FECB52"
          ],
          "font": {
           "color": "#2a3f5f"
          },
          "geo": {
           "bgcolor": "white",
           "lakecolor": "white",
           "landcolor": "#E5ECF6",
           "showlakes": true,
           "showland": true,
           "subunitcolor": "white"
          },
          "hoverlabel": {
           "align": "left"
          },
          "hovermode": "closest",
          "mapbox": {
           "style": "light"
          },
          "paper_bgcolor": "white",
          "plot_bgcolor": "#E5ECF6",
          "polar": {
           "angularaxis": {
            "gridcolor": "white",
            "linecolor": "white",
            "ticks": ""
           },
           "bgcolor": "#E5ECF6",
           "radialaxis": {
            "gridcolor": "white",
            "linecolor": "white",
            "ticks": ""
           }
          },
          "scene": {
           "xaxis": {
            "backgroundcolor": "#E5ECF6",
            "gridcolor": "white",
            "gridwidth": 2,
            "linecolor": "white",
            "showbackground": true,
            "ticks": "",
            "zerolinecolor": "white"
           },
           "yaxis": {
            "backgroundcolor": "#E5ECF6",
            "gridcolor": "white",
            "gridwidth": 2,
            "linecolor": "white",
            "showbackground": true,
            "ticks": "",
            "zerolinecolor": "white"
           },
           "zaxis": {
            "backgroundcolor": "#E5ECF6",
            "gridcolor": "white",
            "gridwidth": 2,
            "linecolor": "white",
            "showbackground": true,
            "ticks": "",
            "zerolinecolor": "white"
           }
          },
          "shapedefaults": {
           "line": {
            "color": "#2a3f5f"
           }
          },
          "ternary": {
           "aaxis": {
            "gridcolor": "white",
            "linecolor": "white",
            "ticks": ""
           },
           "baxis": {
            "gridcolor": "white",
            "linecolor": "white",
            "ticks": ""
           },
           "bgcolor": "#E5ECF6",
           "caxis": {
            "gridcolor": "white",
            "linecolor": "white",
            "ticks": ""
           }
          },
          "title": {
           "x": 0.05
          },
          "xaxis": {
           "automargin": true,
           "gridcolor": "white",
           "linecolor": "white",
           "ticks": "",
           "title": {
            "standoff": 15
           },
           "zerolinecolor": "white",
           "zerolinewidth": 2
          },
          "yaxis": {
           "automargin": true,
           "gridcolor": "white",
           "linecolor": "white",
           "ticks": "",
           "title": {
            "standoff": 15
           },
           "zerolinecolor": "white",
           "zerolinewidth": 2
          }
         }
        },
        "xaxis": {
         "anchor": "y",
         "categoryarray": [
          "India",
          "Estados Unidos",
          "Unknown",
          "Brasil",
          "México",
          "Rusia",
          "Pakistan",
          "Filipinas",
          "Indonesia",
          "Tailandia",
          "Francia",
          "Colombia",
          "Iraq",
          "Japon",
          "Ecuador",
          "Argentina",
          "Turquia",
          "Arabia Saudita",
          "El Salvador",
          "Bangladesh",
          "Reino Unido",
          "Argelia",
          "Espana",
          "Peru",
          "Egipto",
          "Jordania",
          "Marruecos",
          "Singapur",
          "Somalia"
         ],
         "categoryorder": "array",
         "domain": [
          0,
          1
         ],
         "title": {
          "text": "country"
         }
        },
        "yaxis": {
         "anchor": "x",
         "domain": [
          0,
          1
         ],
         "title": {
          "text": "suscribers"
         }
        }
       }
      }
     },
     "metadata": {},
     "output_type": "display_data"
    }
   ],
   "source": [
    "# check the outlier in dataest in plotlty \n",
    "px.box(df,x='country',y='suscribers',color='country')\n",
    "\n"
   ]
  },
  {
   "cell_type": "code",
   "execution_count": 35,
   "metadata": {},
   "outputs": [
    {
     "data": {
      "text/html": [
       "<div>\n",
       "<style scoped>\n",
       "    .dataframe tbody tr th:only-of-type {\n",
       "        vertical-align: middle;\n",
       "    }\n",
       "\n",
       "    .dataframe tbody tr th {\n",
       "        vertical-align: top;\n",
       "    }\n",
       "\n",
       "    .dataframe thead th {\n",
       "        text-align: right;\n",
       "    }\n",
       "</style>\n",
       "<table border=\"1\" class=\"dataframe\">\n",
       "  <thead>\n",
       "    <tr style=\"text-align: right;\">\n",
       "      <th></th>\n",
       "      <th>suscribers</th>\n",
       "      <th>comments</th>\n",
       "    </tr>\n",
       "  </thead>\n",
       "  <tbody>\n",
       "    <tr>\n",
       "      <th>suscribers</th>\n",
       "      <td>1.00000</td>\n",
       "      <td>0.03635</td>\n",
       "    </tr>\n",
       "    <tr>\n",
       "      <th>comments</th>\n",
       "      <td>0.03635</td>\n",
       "      <td>1.00000</td>\n",
       "    </tr>\n",
       "  </tbody>\n",
       "</table>\n",
       "</div>"
      ],
      "text/plain": [
       "            suscribers  comments\n",
       "suscribers     1.00000   0.03635\n",
       "comments       0.03635   1.00000"
      ]
     },
     "execution_count": 35,
     "metadata": {},
     "output_type": "execute_result"
    }
   ],
   "source": [
    "# correlation between the number of subscribers and the number of likes or comments\n",
    "df[['suscribers','comments']].corr()\n"
   ]
  },
  {
   "cell_type": "code",
   "execution_count": 36,
   "metadata": {},
   "outputs": [
    {
     "data": {
      "application/vnd.plotly.v1+json": {
       "config": {
        "plotlyServerURL": "https://plot.ly"
       },
       "data": [
        {
         "alignmentgroup": "True",
         "bingroup": "x",
         "hovertemplate": "country=%{x}<br>count=%{y}<extra></extra>",
         "legendgroup": "India",
         "marker": {
          "color": "#636efa",
          "pattern": {
           "shape": ""
          }
         },
         "name": "India",
         "offsetgroup": "India",
         "orientation": "v",
         "showlegend": true,
         "type": "histogram",
         "x": [
          "India",
          "India",
          "India",
          "India",
          "India",
          "India",
          "India",
          "India",
          "India",
          "India",
          "India",
          "India",
          "India",
          "India",
          "India",
          "India",
          "India",
          "India",
          "India",
          "India",
          "India",
          "India",
          "India",
          "India",
          "India",
          "India",
          "India",
          "India",
          "India",
          "India",
          "India",
          "India",
          "India",
          "India",
          "India",
          "India",
          "India",
          "India",
          "India",
          "India",
          "India",
          "India",
          "India",
          "India",
          "India",
          "India",
          "India",
          "India",
          "India",
          "India",
          "India",
          "India",
          "India",
          "India",
          "India",
          "India",
          "India",
          "India",
          "India",
          "India",
          "India",
          "India",
          "India",
          "India",
          "India",
          "India",
          "India",
          "India",
          "India",
          "India",
          "India",
          "India",
          "India",
          "India",
          "India",
          "India",
          "India",
          "India",
          "India",
          "India",
          "India",
          "India",
          "India",
          "India",
          "India",
          "India",
          "India",
          "India",
          "India",
          "India",
          "India",
          "India",
          "India",
          "India",
          "India",
          "India",
          "India",
          "India",
          "India",
          "India",
          "India",
          "India",
          "India",
          "India",
          "India",
          "India",
          "India",
          "India",
          "India",
          "India",
          "India",
          "India",
          "India",
          "India",
          "India",
          "India",
          "India",
          "India",
          "India",
          "India",
          "India",
          "India",
          "India",
          "India",
          "India",
          "India",
          "India",
          "India",
          "India",
          "India",
          "India",
          "India",
          "India",
          "India",
          "India",
          "India",
          "India",
          "India",
          "India",
          "India",
          "India",
          "India",
          "India",
          "India",
          "India",
          "India",
          "India",
          "India",
          "India",
          "India",
          "India",
          "India",
          "India",
          "India",
          "India",
          "India",
          "India",
          "India",
          "India",
          "India",
          "India",
          "India",
          "India",
          "India",
          "India",
          "India",
          "India",
          "India",
          "India",
          "India",
          "India",
          "India",
          "India",
          "India",
          "India",
          "India",
          "India",
          "India",
          "India",
          "India",
          "India",
          "India",
          "India",
          "India",
          "India",
          "India",
          "India",
          "India",
          "India",
          "India",
          "India",
          "India",
          "India",
          "India",
          "India",
          "India",
          "India",
          "India",
          "India",
          "India",
          "India",
          "India",
          "India",
          "India",
          "India",
          "India",
          "India",
          "India",
          "India",
          "India",
          "India",
          "India",
          "India",
          "India",
          "India",
          "India",
          "India",
          "India",
          "India",
          "India",
          "India",
          "India",
          "India",
          "India",
          "India",
          "India",
          "India",
          "India",
          "India",
          "India",
          "India",
          "India",
          "India",
          "India",
          "India",
          "India",
          "India",
          "India",
          "India",
          "India",
          "India"
         ],
         "xaxis": "x",
         "yaxis": "y"
        },
        {
         "alignmentgroup": "True",
         "bingroup": "x",
         "hovertemplate": "country=%{x}<br>count=%{y}<extra></extra>",
         "legendgroup": "Estados Unidos",
         "marker": {
          "color": "#EF553B",
          "pattern": {
           "shape": ""
          }
         },
         "name": "Estados Unidos",
         "offsetgroup": "Estados Unidos",
         "orientation": "v",
         "showlegend": true,
         "type": "histogram",
         "x": [
          "Estados Unidos",
          "Estados Unidos",
          "Estados Unidos",
          "Estados Unidos",
          "Estados Unidos",
          "Estados Unidos",
          "Estados Unidos",
          "Estados Unidos",
          "Estados Unidos",
          "Estados Unidos",
          "Estados Unidos",
          "Estados Unidos",
          "Estados Unidos",
          "Estados Unidos",
          "Estados Unidos",
          "Estados Unidos",
          "Estados Unidos",
          "Estados Unidos",
          "Estados Unidos",
          "Estados Unidos",
          "Estados Unidos",
          "Estados Unidos",
          "Estados Unidos",
          "Estados Unidos",
          "Estados Unidos",
          "Estados Unidos",
          "Estados Unidos",
          "Estados Unidos",
          "Estados Unidos",
          "Estados Unidos",
          "Estados Unidos",
          "Estados Unidos",
          "Estados Unidos",
          "Estados Unidos",
          "Estados Unidos",
          "Estados Unidos",
          "Estados Unidos",
          "Estados Unidos",
          "Estados Unidos",
          "Estados Unidos",
          "Estados Unidos",
          "Estados Unidos",
          "Estados Unidos",
          "Estados Unidos",
          "Estados Unidos",
          "Estados Unidos",
          "Estados Unidos",
          "Estados Unidos",
          "Estados Unidos",
          "Estados Unidos",
          "Estados Unidos",
          "Estados Unidos",
          "Estados Unidos",
          "Estados Unidos",
          "Estados Unidos",
          "Estados Unidos",
          "Estados Unidos",
          "Estados Unidos",
          "Estados Unidos",
          "Estados Unidos",
          "Estados Unidos",
          "Estados Unidos",
          "Estados Unidos",
          "Estados Unidos",
          "Estados Unidos",
          "Estados Unidos",
          "Estados Unidos",
          "Estados Unidos",
          "Estados Unidos",
          "Estados Unidos",
          "Estados Unidos",
          "Estados Unidos",
          "Estados Unidos",
          "Estados Unidos",
          "Estados Unidos",
          "Estados Unidos",
          "Estados Unidos",
          "Estados Unidos",
          "Estados Unidos",
          "Estados Unidos",
          "Estados Unidos",
          "Estados Unidos",
          "Estados Unidos",
          "Estados Unidos",
          "Estados Unidos",
          "Estados Unidos",
          "Estados Unidos",
          "Estados Unidos",
          "Estados Unidos",
          "Estados Unidos",
          "Estados Unidos",
          "Estados Unidos",
          "Estados Unidos",
          "Estados Unidos",
          "Estados Unidos",
          "Estados Unidos",
          "Estados Unidos",
          "Estados Unidos",
          "Estados Unidos",
          "Estados Unidos",
          "Estados Unidos",
          "Estados Unidos",
          "Estados Unidos",
          "Estados Unidos",
          "Estados Unidos",
          "Estados Unidos",
          "Estados Unidos",
          "Estados Unidos",
          "Estados Unidos",
          "Estados Unidos",
          "Estados Unidos",
          "Estados Unidos",
          "Estados Unidos",
          "Estados Unidos",
          "Estados Unidos",
          "Estados Unidos",
          "Estados Unidos",
          "Estados Unidos",
          "Estados Unidos",
          "Estados Unidos",
          "Estados Unidos",
          "Estados Unidos",
          "Estados Unidos",
          "Estados Unidos",
          "Estados Unidos",
          "Estados Unidos",
          "Estados Unidos",
          "Estados Unidos",
          "Estados Unidos",
          "Estados Unidos",
          "Estados Unidos",
          "Estados Unidos",
          "Estados Unidos",
          "Estados Unidos",
          "Estados Unidos",
          "Estados Unidos",
          "Estados Unidos",
          "Estados Unidos",
          "Estados Unidos",
          "Estados Unidos",
          "Estados Unidos",
          "Estados Unidos",
          "Estados Unidos",
          "Estados Unidos",
          "Estados Unidos",
          "Estados Unidos",
          "Estados Unidos",
          "Estados Unidos",
          "Estados Unidos",
          "Estados Unidos",
          "Estados Unidos",
          "Estados Unidos",
          "Estados Unidos",
          "Estados Unidos",
          "Estados Unidos",
          "Estados Unidos",
          "Estados Unidos",
          "Estados Unidos",
          "Estados Unidos",
          "Estados Unidos",
          "Estados Unidos",
          "Estados Unidos",
          "Estados Unidos",
          "Estados Unidos",
          "Estados Unidos",
          "Estados Unidos",
          "Estados Unidos",
          "Estados Unidos",
          "Estados Unidos",
          "Estados Unidos",
          "Estados Unidos",
          "Estados Unidos",
          "Estados Unidos",
          "Estados Unidos",
          "Estados Unidos",
          "Estados Unidos",
          "Estados Unidos",
          "Estados Unidos",
          "Estados Unidos",
          "Estados Unidos",
          "Estados Unidos",
          "Estados Unidos",
          "Estados Unidos",
          "Estados Unidos",
          "Estados Unidos",
          "Estados Unidos",
          "Estados Unidos",
          "Estados Unidos",
          "Estados Unidos",
          "Estados Unidos",
          "Estados Unidos",
          "Estados Unidos",
          "Estados Unidos",
          "Estados Unidos",
          "Estados Unidos",
          "Estados Unidos",
          "Estados Unidos",
          "Estados Unidos",
          "Estados Unidos",
          "Estados Unidos",
          "Estados Unidos",
          "Estados Unidos",
          "Estados Unidos",
          "Estados Unidos",
          "Estados Unidos",
          "Estados Unidos",
          "Estados Unidos",
          "Estados Unidos",
          "Estados Unidos",
          "Estados Unidos",
          "Estados Unidos",
          "Estados Unidos",
          "Estados Unidos",
          "Estados Unidos",
          "Estados Unidos",
          "Estados Unidos",
          "Estados Unidos",
          "Estados Unidos",
          "Estados Unidos",
          "Estados Unidos",
          "Estados Unidos",
          "Estados Unidos",
          "Estados Unidos",
          "Estados Unidos",
          "Estados Unidos",
          "Estados Unidos",
          "Estados Unidos",
          "Estados Unidos",
          "Estados Unidos",
          "Estados Unidos",
          "Estados Unidos",
          "Estados Unidos",
          "Estados Unidos",
          "Estados Unidos",
          "Estados Unidos",
          "Estados Unidos",
          "Estados Unidos",
          "Estados Unidos",
          "Estados Unidos",
          "Estados Unidos",
          "Estados Unidos",
          "Estados Unidos",
          "Estados Unidos",
          "Estados Unidos",
          "Estados Unidos",
          "Estados Unidos",
          "Estados Unidos",
          "Estados Unidos",
          "Estados Unidos",
          "Estados Unidos",
          "Estados Unidos",
          "Estados Unidos",
          "Estados Unidos",
          "Estados Unidos",
          "Estados Unidos",
          "Estados Unidos",
          "Estados Unidos",
          "Estados Unidos",
          "Estados Unidos",
          "Estados Unidos",
          "Estados Unidos",
          "Estados Unidos",
          "Estados Unidos",
          "Estados Unidos",
          "Estados Unidos",
          "Estados Unidos",
          "Estados Unidos",
          "Estados Unidos",
          "Estados Unidos",
          "Estados Unidos",
          "Estados Unidos",
          "Estados Unidos",
          "Estados Unidos",
          "Estados Unidos",
          "Estados Unidos",
          "Estados Unidos",
          "Estados Unidos",
          "Estados Unidos",
          "Estados Unidos",
          "Estados Unidos",
          "Estados Unidos",
          "Estados Unidos",
          "Estados Unidos",
          "Estados Unidos",
          "Estados Unidos",
          "Estados Unidos",
          "Estados Unidos",
          "Estados Unidos",
          "Estados Unidos",
          "Estados Unidos",
          "Estados Unidos",
          "Estados Unidos",
          "Estados Unidos"
         ],
         "xaxis": "x",
         "yaxis": "y"
        },
        {
         "alignmentgroup": "True",
         "bingroup": "x",
         "hovertemplate": "country=%{x}<br>count=%{y}<extra></extra>",
         "legendgroup": "Unknown",
         "marker": {
          "color": "#00cc96",
          "pattern": {
           "shape": ""
          }
         },
         "name": "Unknown",
         "offsetgroup": "Unknown",
         "orientation": "v",
         "showlegend": true,
         "type": "histogram",
         "x": [
          "Unknown",
          "Unknown",
          "Unknown",
          "Unknown",
          "Unknown",
          "Unknown",
          "Unknown",
          "Unknown",
          "Unknown",
          "Unknown",
          "Unknown",
          "Unknown",
          "Unknown",
          "Unknown",
          "Unknown",
          "Unknown",
          "Unknown",
          "Unknown",
          "Unknown",
          "Unknown",
          "Unknown",
          "Unknown",
          "Unknown",
          "Unknown",
          "Unknown",
          "Unknown",
          "Unknown",
          "Unknown",
          "Unknown",
          "Unknown",
          "Unknown",
          "Unknown",
          "Unknown",
          "Unknown",
          "Unknown",
          "Unknown",
          "Unknown",
          "Unknown",
          "Unknown",
          "Unknown",
          "Unknown",
          "Unknown",
          "Unknown",
          "Unknown",
          "Unknown",
          "Unknown",
          "Unknown",
          "Unknown",
          "Unknown",
          "Unknown",
          "Unknown",
          "Unknown",
          "Unknown",
          "Unknown",
          "Unknown",
          "Unknown",
          "Unknown",
          "Unknown",
          "Unknown",
          "Unknown",
          "Unknown",
          "Unknown",
          "Unknown",
          "Unknown",
          "Unknown",
          "Unknown",
          "Unknown",
          "Unknown",
          "Unknown",
          "Unknown",
          "Unknown",
          "Unknown",
          "Unknown",
          "Unknown",
          "Unknown",
          "Unknown",
          "Unknown",
          "Unknown",
          "Unknown",
          "Unknown",
          "Unknown",
          "Unknown",
          "Unknown",
          "Unknown",
          "Unknown",
          "Unknown",
          "Unknown",
          "Unknown",
          "Unknown",
          "Unknown",
          "Unknown",
          "Unknown",
          "Unknown",
          "Unknown",
          "Unknown",
          "Unknown",
          "Unknown",
          "Unknown",
          "Unknown",
          "Unknown",
          "Unknown",
          "Unknown",
          "Unknown",
          "Unknown",
          "Unknown",
          "Unknown",
          "Unknown",
          "Unknown",
          "Unknown",
          "Unknown",
          "Unknown",
          "Unknown",
          "Unknown",
          "Unknown",
          "Unknown",
          "Unknown",
          "Unknown",
          "Unknown",
          "Unknown",
          "Unknown",
          "Unknown",
          "Unknown",
          "Unknown",
          "Unknown",
          "Unknown",
          "Unknown",
          "Unknown",
          "Unknown",
          "Unknown",
          "Unknown",
          "Unknown",
          "Unknown",
          "Unknown",
          "Unknown",
          "Unknown",
          "Unknown",
          "Unknown",
          "Unknown",
          "Unknown",
          "Unknown",
          "Unknown",
          "Unknown",
          "Unknown",
          "Unknown",
          "Unknown",
          "Unknown",
          "Unknown",
          "Unknown",
          "Unknown",
          "Unknown",
          "Unknown",
          "Unknown",
          "Unknown",
          "Unknown",
          "Unknown",
          "Unknown",
          "Unknown",
          "Unknown",
          "Unknown",
          "Unknown",
          "Unknown",
          "Unknown",
          "Unknown",
          "Unknown",
          "Unknown",
          "Unknown",
          "Unknown",
          "Unknown",
          "Unknown",
          "Unknown",
          "Unknown"
         ],
         "xaxis": "x",
         "yaxis": "y"
        },
        {
         "alignmentgroup": "True",
         "bingroup": "x",
         "hovertemplate": "country=%{x}<br>count=%{y}<extra></extra>",
         "legendgroup": "Brasil",
         "marker": {
          "color": "#ab63fa",
          "pattern": {
           "shape": ""
          }
         },
         "name": "Brasil",
         "offsetgroup": "Brasil",
         "orientation": "v",
         "showlegend": true,
         "type": "histogram",
         "x": [
          "Brasil",
          "Brasil",
          "Brasil",
          "Brasil",
          "Brasil",
          "Brasil",
          "Brasil",
          "Brasil",
          "Brasil",
          "Brasil",
          "Brasil",
          "Brasil",
          "Brasil",
          "Brasil",
          "Brasil",
          "Brasil",
          "Brasil",
          "Brasil",
          "Brasil",
          "Brasil",
          "Brasil",
          "Brasil",
          "Brasil",
          "Brasil",
          "Brasil",
          "Brasil",
          "Brasil",
          "Brasil",
          "Brasil",
          "Brasil",
          "Brasil",
          "Brasil",
          "Brasil",
          "Brasil",
          "Brasil",
          "Brasil",
          "Brasil",
          "Brasil",
          "Brasil",
          "Brasil",
          "Brasil",
          "Brasil",
          "Brasil",
          "Brasil",
          "Brasil",
          "Brasil",
          "Brasil",
          "Brasil",
          "Brasil",
          "Brasil",
          "Brasil",
          "Brasil",
          "Brasil",
          "Brasil",
          "Brasil",
          "Brasil",
          "Brasil",
          "Brasil",
          "Brasil",
          "Brasil",
          "Brasil",
          "Brasil",
          "Brasil",
          "Brasil"
         ],
         "xaxis": "x",
         "yaxis": "y"
        },
        {
         "alignmentgroup": "True",
         "bingroup": "x",
         "hovertemplate": "country=%{x}<br>count=%{y}<extra></extra>",
         "legendgroup": "México",
         "marker": {
          "color": "#FFA15A",
          "pattern": {
           "shape": ""
          }
         },
         "name": "México",
         "offsetgroup": "México",
         "orientation": "v",
         "showlegend": true,
         "type": "histogram",
         "x": [
          "México",
          "México",
          "México",
          "México",
          "México",
          "México",
          "México",
          "México",
          "México",
          "México",
          "México",
          "México",
          "México",
          "México",
          "México",
          "México",
          "México",
          "México",
          "México",
          "México",
          "México",
          "México",
          "México",
          "México",
          "México",
          "México",
          "México",
          "México",
          "México",
          "México",
          "México",
          "México",
          "México",
          "México",
          "México",
          "México",
          "México",
          "México",
          "México",
          "México",
          "México",
          "México",
          "México",
          "México",
          "México",
          "México",
          "México",
          "México",
          "México",
          "México",
          "México",
          "México",
          "México",
          "México",
          "México",
          "México",
          "México",
          "México"
         ],
         "xaxis": "x",
         "yaxis": "y"
        },
        {
         "alignmentgroup": "True",
         "bingroup": "x",
         "hovertemplate": "country=%{x}<br>count=%{y}<extra></extra>",
         "legendgroup": "Rusia",
         "marker": {
          "color": "#19d3f3",
          "pattern": {
           "shape": ""
          }
         },
         "name": "Rusia",
         "offsetgroup": "Rusia",
         "orientation": "v",
         "showlegend": true,
         "type": "histogram",
         "x": [
          "Rusia",
          "Rusia",
          "Rusia",
          "Rusia",
          "Rusia",
          "Rusia",
          "Rusia",
          "Rusia",
          "Rusia",
          "Rusia",
          "Rusia",
          "Rusia",
          "Rusia",
          "Rusia",
          "Rusia",
          "Rusia",
          "Rusia",
          "Rusia",
          "Rusia",
          "Rusia",
          "Rusia",
          "Rusia",
          "Rusia",
          "Rusia",
          "Rusia"
         ],
         "xaxis": "x",
         "yaxis": "y"
        },
        {
         "alignmentgroup": "True",
         "bingroup": "x",
         "hovertemplate": "country=%{x}<br>count=%{y}<extra></extra>",
         "legendgroup": "Pakistan",
         "marker": {
          "color": "#FF6692",
          "pattern": {
           "shape": ""
          }
         },
         "name": "Pakistan",
         "offsetgroup": "Pakistan",
         "orientation": "v",
         "showlegend": true,
         "type": "histogram",
         "x": [
          "Pakistan",
          "Pakistan",
          "Pakistan",
          "Pakistan",
          "Pakistan",
          "Pakistan",
          "Pakistan",
          "Pakistan",
          "Pakistan",
          "Pakistan",
          "Pakistan"
         ],
         "xaxis": "x",
         "yaxis": "y"
        },
        {
         "alignmentgroup": "True",
         "bingroup": "x",
         "hovertemplate": "country=%{x}<br>count=%{y}<extra></extra>",
         "legendgroup": "Filipinas",
         "marker": {
          "color": "#B6E880",
          "pattern": {
           "shape": ""
          }
         },
         "name": "Filipinas",
         "offsetgroup": "Filipinas",
         "orientation": "v",
         "showlegend": true,
         "type": "histogram",
         "x": [
          "Filipinas",
          "Filipinas",
          "Filipinas",
          "Filipinas",
          "Filipinas",
          "Filipinas",
          "Filipinas",
          "Filipinas",
          "Filipinas",
          "Filipinas",
          "Filipinas",
          "Filipinas",
          "Filipinas"
         ],
         "xaxis": "x",
         "yaxis": "y"
        },
        {
         "alignmentgroup": "True",
         "bingroup": "x",
         "hovertemplate": "country=%{x}<br>count=%{y}<extra></extra>",
         "legendgroup": "Indonesia",
         "marker": {
          "color": "#FF97FF",
          "pattern": {
           "shape": ""
          }
         },
         "name": "Indonesia",
         "offsetgroup": "Indonesia",
         "orientation": "v",
         "showlegend": true,
         "type": "histogram",
         "x": [
          "Indonesia",
          "Indonesia",
          "Indonesia",
          "Indonesia",
          "Indonesia",
          "Indonesia",
          "Indonesia",
          "Indonesia",
          "Indonesia",
          "Indonesia",
          "Indonesia",
          "Indonesia",
          "Indonesia",
          "Indonesia",
          "Indonesia",
          "Indonesia",
          "Indonesia",
          "Indonesia",
          "Indonesia",
          "Indonesia",
          "Indonesia",
          "Indonesia",
          "Indonesia",
          "Indonesia",
          "Indonesia",
          "Indonesia",
          "Indonesia",
          "Indonesia",
          "Indonesia",
          "Indonesia",
          "Indonesia",
          "Indonesia",
          "Indonesia",
          "Indonesia",
          "Indonesia",
          "Indonesia",
          "Indonesia",
          "Indonesia"
         ],
         "xaxis": "x",
         "yaxis": "y"
        },
        {
         "alignmentgroup": "True",
         "bingroup": "x",
         "hovertemplate": "country=%{x}<br>count=%{y}<extra></extra>",
         "legendgroup": "Tailandia",
         "marker": {
          "color": "#FECB52",
          "pattern": {
           "shape": ""
          }
         },
         "name": "Tailandia",
         "offsetgroup": "Tailandia",
         "orientation": "v",
         "showlegend": true,
         "type": "histogram",
         "x": [
          "Tailandia",
          "Tailandia",
          "Tailandia",
          "Tailandia",
          "Tailandia",
          "Tailandia",
          "Tailandia",
          "Tailandia",
          "Tailandia",
          "Tailandia",
          "Tailandia",
          "Tailandia",
          "Tailandia",
          "Tailandia",
          "Tailandia",
          "Tailandia",
          "Tailandia",
          "Tailandia"
         ],
         "xaxis": "x",
         "yaxis": "y"
        },
        {
         "alignmentgroup": "True",
         "bingroup": "x",
         "hovertemplate": "country=%{x}<br>count=%{y}<extra></extra>",
         "legendgroup": "Francia",
         "marker": {
          "color": "#636efa",
          "pattern": {
           "shape": ""
          }
         },
         "name": "Francia",
         "offsetgroup": "Francia",
         "orientation": "v",
         "showlegend": true,
         "type": "histogram",
         "x": [
          "Francia",
          "Francia",
          "Francia",
          "Francia"
         ],
         "xaxis": "x",
         "yaxis": "y"
        },
        {
         "alignmentgroup": "True",
         "bingroup": "x",
         "hovertemplate": "country=%{x}<br>count=%{y}<extra></extra>",
         "legendgroup": "Colombia",
         "marker": {
          "color": "#EF553B",
          "pattern": {
           "shape": ""
          }
         },
         "name": "Colombia",
         "offsetgroup": "Colombia",
         "orientation": "v",
         "showlegend": true,
         "type": "histogram",
         "x": [
          "Colombia",
          "Colombia",
          "Colombia",
          "Colombia",
          "Colombia",
          "Colombia",
          "Colombia",
          "Colombia",
          "Colombia",
          "Colombia",
          "Colombia",
          "Colombia",
          "Colombia",
          "Colombia",
          "Colombia",
          "Colombia"
         ],
         "xaxis": "x",
         "yaxis": "y"
        },
        {
         "alignmentgroup": "True",
         "bingroup": "x",
         "hovertemplate": "country=%{x}<br>count=%{y}<extra></extra>",
         "legendgroup": "Iraq",
         "marker": {
          "color": "#00cc96",
          "pattern": {
           "shape": ""
          }
         },
         "name": "Iraq",
         "offsetgroup": "Iraq",
         "orientation": "v",
         "showlegend": true,
         "type": "histogram",
         "x": [
          "Iraq",
          "Iraq",
          "Iraq",
          "Iraq"
         ],
         "xaxis": "x",
         "yaxis": "y"
        },
        {
         "alignmentgroup": "True",
         "bingroup": "x",
         "hovertemplate": "country=%{x}<br>count=%{y}<extra></extra>",
         "legendgroup": "Japon",
         "marker": {
          "color": "#ab63fa",
          "pattern": {
           "shape": ""
          }
         },
         "name": "Japon",
         "offsetgroup": "Japon",
         "orientation": "v",
         "showlegend": true,
         "type": "histogram",
         "x": [
          "Japon",
          "Japon",
          "Japon"
         ],
         "xaxis": "x",
         "yaxis": "y"
        },
        {
         "alignmentgroup": "True",
         "bingroup": "x",
         "hovertemplate": "country=%{x}<br>count=%{y}<extra></extra>",
         "legendgroup": "Ecuador",
         "marker": {
          "color": "#FFA15A",
          "pattern": {
           "shape": ""
          }
         },
         "name": "Ecuador",
         "offsetgroup": "Ecuador",
         "orientation": "v",
         "showlegend": true,
         "type": "histogram",
         "x": [
          "Ecuador"
         ],
         "xaxis": "x",
         "yaxis": "y"
        },
        {
         "alignmentgroup": "True",
         "bingroup": "x",
         "hovertemplate": "country=%{x}<br>count=%{y}<extra></extra>",
         "legendgroup": "Argentina",
         "marker": {
          "color": "#19d3f3",
          "pattern": {
           "shape": ""
          }
         },
         "name": "Argentina",
         "offsetgroup": "Argentina",
         "orientation": "v",
         "showlegend": true,
         "type": "histogram",
         "x": [
          "Argentina",
          "Argentina",
          "Argentina",
          "Argentina",
          "Argentina",
          "Argentina",
          "Argentina"
         ],
         "xaxis": "x",
         "yaxis": "y"
        },
        {
         "alignmentgroup": "True",
         "bingroup": "x",
         "hovertemplate": "country=%{x}<br>count=%{y}<extra></extra>",
         "legendgroup": "Turquia",
         "marker": {
          "color": "#FF6692",
          "pattern": {
           "shape": ""
          }
         },
         "name": "Turquia",
         "offsetgroup": "Turquia",
         "orientation": "v",
         "showlegend": true,
         "type": "histogram",
         "x": [
          "Turquia",
          "Turquia",
          "Turquia",
          "Turquia"
         ],
         "xaxis": "x",
         "yaxis": "y"
        },
        {
         "alignmentgroup": "True",
         "bingroup": "x",
         "hovertemplate": "country=%{x}<br>count=%{y}<extra></extra>",
         "legendgroup": "Arabia Saudita",
         "marker": {
          "color": "#B6E880",
          "pattern": {
           "shape": ""
          }
         },
         "name": "Arabia Saudita",
         "offsetgroup": "Arabia Saudita",
         "orientation": "v",
         "showlegend": true,
         "type": "histogram",
         "x": [
          "Arabia Saudita",
          "Arabia Saudita",
          "Arabia Saudita",
          "Arabia Saudita"
         ],
         "xaxis": "x",
         "yaxis": "y"
        },
        {
         "alignmentgroup": "True",
         "bingroup": "x",
         "hovertemplate": "country=%{x}<br>count=%{y}<extra></extra>",
         "legendgroup": "El Salvador",
         "marker": {
          "color": "#FF97FF",
          "pattern": {
           "shape": ""
          }
         },
         "name": "El Salvador",
         "offsetgroup": "El Salvador",
         "orientation": "v",
         "showlegend": true,
         "type": "histogram",
         "x": [
          "El Salvador"
         ],
         "xaxis": "x",
         "yaxis": "y"
        },
        {
         "alignmentgroup": "True",
         "bingroup": "x",
         "hovertemplate": "country=%{x}<br>count=%{y}<extra></extra>",
         "legendgroup": "Bangladesh",
         "marker": {
          "color": "#FECB52",
          "pattern": {
           "shape": ""
          }
         },
         "name": "Bangladesh",
         "offsetgroup": "Bangladesh",
         "orientation": "v",
         "showlegend": true,
         "type": "histogram",
         "x": [
          "Bangladesh",
          "Bangladesh",
          "Bangladesh"
         ],
         "xaxis": "x",
         "yaxis": "y"
        },
        {
         "alignmentgroup": "True",
         "bingroup": "x",
         "hovertemplate": "country=%{x}<br>count=%{y}<extra></extra>",
         "legendgroup": "Reino Unido",
         "marker": {
          "color": "#636efa",
          "pattern": {
           "shape": ""
          }
         },
         "name": "Reino Unido",
         "offsetgroup": "Reino Unido",
         "orientation": "v",
         "showlegend": true,
         "type": "histogram",
         "x": [
          "Reino Unido",
          "Reino Unido",
          "Reino Unido"
         ],
         "xaxis": "x",
         "yaxis": "y"
        },
        {
         "alignmentgroup": "True",
         "bingroup": "x",
         "hovertemplate": "country=%{x}<br>count=%{y}<extra></extra>",
         "legendgroup": "Argelia",
         "marker": {
          "color": "#EF553B",
          "pattern": {
           "shape": ""
          }
         },
         "name": "Argelia",
         "offsetgroup": "Argelia",
         "orientation": "v",
         "showlegend": true,
         "type": "histogram",
         "x": [
          "Argelia",
          "Argelia"
         ],
         "xaxis": "x",
         "yaxis": "y"
        },
        {
         "alignmentgroup": "True",
         "bingroup": "x",
         "hovertemplate": "country=%{x}<br>count=%{y}<extra></extra>",
         "legendgroup": "Espana",
         "marker": {
          "color": "#00cc96",
          "pattern": {
           "shape": ""
          }
         },
         "name": "Espana",
         "offsetgroup": "Espana",
         "orientation": "v",
         "showlegend": true,
         "type": "histogram",
         "x": [
          "Espana",
          "Espana",
          "Espana",
          "Espana"
         ],
         "xaxis": "x",
         "yaxis": "y"
        },
        {
         "alignmentgroup": "True",
         "bingroup": "x",
         "hovertemplate": "country=%{x}<br>count=%{y}<extra></extra>",
         "legendgroup": "Peru",
         "marker": {
          "color": "#ab63fa",
          "pattern": {
           "shape": ""
          }
         },
         "name": "Peru",
         "offsetgroup": "Peru",
         "orientation": "v",
         "showlegend": true,
         "type": "histogram",
         "x": [
          "Peru",
          "Peru"
         ],
         "xaxis": "x",
         "yaxis": "y"
        },
        {
         "alignmentgroup": "True",
         "bingroup": "x",
         "hovertemplate": "country=%{x}<br>count=%{y}<extra></extra>",
         "legendgroup": "Egipto",
         "marker": {
          "color": "#FFA15A",
          "pattern": {
           "shape": ""
          }
         },
         "name": "Egipto",
         "offsetgroup": "Egipto",
         "orientation": "v",
         "showlegend": true,
         "type": "histogram",
         "x": [
          "Egipto",
          "Egipto",
          "Egipto",
          "Egipto",
          "Egipto"
         ],
         "xaxis": "x",
         "yaxis": "y"
        },
        {
         "alignmentgroup": "True",
         "bingroup": "x",
         "hovertemplate": "country=%{x}<br>count=%{y}<extra></extra>",
         "legendgroup": "Jordania",
         "marker": {
          "color": "#19d3f3",
          "pattern": {
           "shape": ""
          }
         },
         "name": "Jordania",
         "offsetgroup": "Jordania",
         "orientation": "v",
         "showlegend": true,
         "type": "histogram",
         "x": [
          "Jordania"
         ],
         "xaxis": "x",
         "yaxis": "y"
        },
        {
         "alignmentgroup": "True",
         "bingroup": "x",
         "hovertemplate": "country=%{x}<br>count=%{y}<extra></extra>",
         "legendgroup": "Marruecos",
         "marker": {
          "color": "#FF6692",
          "pattern": {
           "shape": ""
          }
         },
         "name": "Marruecos",
         "offsetgroup": "Marruecos",
         "orientation": "v",
         "showlegend": true,
         "type": "histogram",
         "x": [
          "Marruecos",
          "Marruecos"
         ],
         "xaxis": "x",
         "yaxis": "y"
        },
        {
         "alignmentgroup": "True",
         "bingroup": "x",
         "hovertemplate": "country=%{x}<br>count=%{y}<extra></extra>",
         "legendgroup": "Singapur",
         "marker": {
          "color": "#B6E880",
          "pattern": {
           "shape": ""
          }
         },
         "name": "Singapur",
         "offsetgroup": "Singapur",
         "orientation": "v",
         "showlegend": true,
         "type": "histogram",
         "x": [
          "Singapur"
         ],
         "xaxis": "x",
         "yaxis": "y"
        },
        {
         "alignmentgroup": "True",
         "bingroup": "x",
         "hovertemplate": "country=%{x}<br>count=%{y}<extra></extra>",
         "legendgroup": "Somalia",
         "marker": {
          "color": "#FF97FF",
          "pattern": {
           "shape": ""
          }
         },
         "name": "Somalia",
         "offsetgroup": "Somalia",
         "orientation": "v",
         "showlegend": true,
         "type": "histogram",
         "x": [
          "Somalia"
         ],
         "xaxis": "x",
         "yaxis": "y"
        }
       ],
       "layout": {
        "barmode": "relative",
        "legend": {
         "title": {
          "text": "country"
         },
         "tracegroupgap": 0
        },
        "margin": {
         "t": 60
        },
        "template": {
         "data": {
          "bar": [
           {
            "error_x": {
             "color": "#2a3f5f"
            },
            "error_y": {
             "color": "#2a3f5f"
            },
            "marker": {
             "line": {
              "color": "#E5ECF6",
              "width": 0.5
             },
             "pattern": {
              "fillmode": "overlay",
              "size": 10,
              "solidity": 0.2
             }
            },
            "type": "bar"
           }
          ],
          "barpolar": [
           {
            "marker": {
             "line": {
              "color": "#E5ECF6",
              "width": 0.5
             },
             "pattern": {
              "fillmode": "overlay",
              "size": 10,
              "solidity": 0.2
             }
            },
            "type": "barpolar"
           }
          ],
          "carpet": [
           {
            "aaxis": {
             "endlinecolor": "#2a3f5f",
             "gridcolor": "white",
             "linecolor": "white",
             "minorgridcolor": "white",
             "startlinecolor": "#2a3f5f"
            },
            "baxis": {
             "endlinecolor": "#2a3f5f",
             "gridcolor": "white",
             "linecolor": "white",
             "minorgridcolor": "white",
             "startlinecolor": "#2a3f5f"
            },
            "type": "carpet"
           }
          ],
          "choropleth": [
           {
            "colorbar": {
             "outlinewidth": 0,
             "ticks": ""
            },
            "type": "choropleth"
           }
          ],
          "contour": [
           {
            "colorbar": {
             "outlinewidth": 0,
             "ticks": ""
            },
            "colorscale": [
             [
              0,
              "#0d0887"
             ],
             [
              0.1111111111111111,
              "#46039f"
             ],
             [
              0.2222222222222222,
              "#7201a8"
             ],
             [
              0.3333333333333333,
              "#9c179e"
             ],
             [
              0.4444444444444444,
              "#bd3786"
             ],
             [
              0.5555555555555556,
              "#d8576b"
             ],
             [
              0.6666666666666666,
              "#ed7953"
             ],
             [
              0.7777777777777778,
              "#fb9f3a"
             ],
             [
              0.8888888888888888,
              "#fdca26"
             ],
             [
              1,
              "#f0f921"
             ]
            ],
            "type": "contour"
           }
          ],
          "contourcarpet": [
           {
            "colorbar": {
             "outlinewidth": 0,
             "ticks": ""
            },
            "type": "contourcarpet"
           }
          ],
          "heatmap": [
           {
            "colorbar": {
             "outlinewidth": 0,
             "ticks": ""
            },
            "colorscale": [
             [
              0,
              "#0d0887"
             ],
             [
              0.1111111111111111,
              "#46039f"
             ],
             [
              0.2222222222222222,
              "#7201a8"
             ],
             [
              0.3333333333333333,
              "#9c179e"
             ],
             [
              0.4444444444444444,
              "#bd3786"
             ],
             [
              0.5555555555555556,
              "#d8576b"
             ],
             [
              0.6666666666666666,
              "#ed7953"
             ],
             [
              0.7777777777777778,
              "#fb9f3a"
             ],
             [
              0.8888888888888888,
              "#fdca26"
             ],
             [
              1,
              "#f0f921"
             ]
            ],
            "type": "heatmap"
           }
          ],
          "heatmapgl": [
           {
            "colorbar": {
             "outlinewidth": 0,
             "ticks": ""
            },
            "colorscale": [
             [
              0,
              "#0d0887"
             ],
             [
              0.1111111111111111,
              "#46039f"
             ],
             [
              0.2222222222222222,
              "#7201a8"
             ],
             [
              0.3333333333333333,
              "#9c179e"
             ],
             [
              0.4444444444444444,
              "#bd3786"
             ],
             [
              0.5555555555555556,
              "#d8576b"
             ],
             [
              0.6666666666666666,
              "#ed7953"
             ],
             [
              0.7777777777777778,
              "#fb9f3a"
             ],
             [
              0.8888888888888888,
              "#fdca26"
             ],
             [
              1,
              "#f0f921"
             ]
            ],
            "type": "heatmapgl"
           }
          ],
          "histogram": [
           {
            "marker": {
             "pattern": {
              "fillmode": "overlay",
              "size": 10,
              "solidity": 0.2
             }
            },
            "type": "histogram"
           }
          ],
          "histogram2d": [
           {
            "colorbar": {
             "outlinewidth": 0,
             "ticks": ""
            },
            "colorscale": [
             [
              0,
              "#0d0887"
             ],
             [
              0.1111111111111111,
              "#46039f"
             ],
             [
              0.2222222222222222,
              "#7201a8"
             ],
             [
              0.3333333333333333,
              "#9c179e"
             ],
             [
              0.4444444444444444,
              "#bd3786"
             ],
             [
              0.5555555555555556,
              "#d8576b"
             ],
             [
              0.6666666666666666,
              "#ed7953"
             ],
             [
              0.7777777777777778,
              "#fb9f3a"
             ],
             [
              0.8888888888888888,
              "#fdca26"
             ],
             [
              1,
              "#f0f921"
             ]
            ],
            "type": "histogram2d"
           }
          ],
          "histogram2dcontour": [
           {
            "colorbar": {
             "outlinewidth": 0,
             "ticks": ""
            },
            "colorscale": [
             [
              0,
              "#0d0887"
             ],
             [
              0.1111111111111111,
              "#46039f"
             ],
             [
              0.2222222222222222,
              "#7201a8"
             ],
             [
              0.3333333333333333,
              "#9c179e"
             ],
             [
              0.4444444444444444,
              "#bd3786"
             ],
             [
              0.5555555555555556,
              "#d8576b"
             ],
             [
              0.6666666666666666,
              "#ed7953"
             ],
             [
              0.7777777777777778,
              "#fb9f3a"
             ],
             [
              0.8888888888888888,
              "#fdca26"
             ],
             [
              1,
              "#f0f921"
             ]
            ],
            "type": "histogram2dcontour"
           }
          ],
          "mesh3d": [
           {
            "colorbar": {
             "outlinewidth": 0,
             "ticks": ""
            },
            "type": "mesh3d"
           }
          ],
          "parcoords": [
           {
            "line": {
             "colorbar": {
              "outlinewidth": 0,
              "ticks": ""
             }
            },
            "type": "parcoords"
           }
          ],
          "pie": [
           {
            "automargin": true,
            "type": "pie"
           }
          ],
          "scatter": [
           {
            "fillpattern": {
             "fillmode": "overlay",
             "size": 10,
             "solidity": 0.2
            },
            "type": "scatter"
           }
          ],
          "scatter3d": [
           {
            "line": {
             "colorbar": {
              "outlinewidth": 0,
              "ticks": ""
             }
            },
            "marker": {
             "colorbar": {
              "outlinewidth": 0,
              "ticks": ""
             }
            },
            "type": "scatter3d"
           }
          ],
          "scattercarpet": [
           {
            "marker": {
             "colorbar": {
              "outlinewidth": 0,
              "ticks": ""
             }
            },
            "type": "scattercarpet"
           }
          ],
          "scattergeo": [
           {
            "marker": {
             "colorbar": {
              "outlinewidth": 0,
              "ticks": ""
             }
            },
            "type": "scattergeo"
           }
          ],
          "scattergl": [
           {
            "marker": {
             "colorbar": {
              "outlinewidth": 0,
              "ticks": ""
             }
            },
            "type": "scattergl"
           }
          ],
          "scattermapbox": [
           {
            "marker": {
             "colorbar": {
              "outlinewidth": 0,
              "ticks": ""
             }
            },
            "type": "scattermapbox"
           }
          ],
          "scatterpolar": [
           {
            "marker": {
             "colorbar": {
              "outlinewidth": 0,
              "ticks": ""
             }
            },
            "type": "scatterpolar"
           }
          ],
          "scatterpolargl": [
           {
            "marker": {
             "colorbar": {
              "outlinewidth": 0,
              "ticks": ""
             }
            },
            "type": "scatterpolargl"
           }
          ],
          "scatterternary": [
           {
            "marker": {
             "colorbar": {
              "outlinewidth": 0,
              "ticks": ""
             }
            },
            "type": "scatterternary"
           }
          ],
          "surface": [
           {
            "colorbar": {
             "outlinewidth": 0,
             "ticks": ""
            },
            "colorscale": [
             [
              0,
              "#0d0887"
             ],
             [
              0.1111111111111111,
              "#46039f"
             ],
             [
              0.2222222222222222,
              "#7201a8"
             ],
             [
              0.3333333333333333,
              "#9c179e"
             ],
             [
              0.4444444444444444,
              "#bd3786"
             ],
             [
              0.5555555555555556,
              "#d8576b"
             ],
             [
              0.6666666666666666,
              "#ed7953"
             ],
             [
              0.7777777777777778,
              "#fb9f3a"
             ],
             [
              0.8888888888888888,
              "#fdca26"
             ],
             [
              1,
              "#f0f921"
             ]
            ],
            "type": "surface"
           }
          ],
          "table": [
           {
            "cells": {
             "fill": {
              "color": "#EBF0F8"
             },
             "line": {
              "color": "white"
             }
            },
            "header": {
             "fill": {
              "color": "#C8D4E3"
             },
             "line": {
              "color": "white"
             }
            },
            "type": "table"
           }
          ]
         },
         "layout": {
          "annotationdefaults": {
           "arrowcolor": "#2a3f5f",
           "arrowhead": 0,
           "arrowwidth": 1
          },
          "autotypenumbers": "strict",
          "coloraxis": {
           "colorbar": {
            "outlinewidth": 0,
            "ticks": ""
           }
          },
          "colorscale": {
           "diverging": [
            [
             0,
             "#8e0152"
            ],
            [
             0.1,
             "#c51b7d"
            ],
            [
             0.2,
             "#de77ae"
            ],
            [
             0.3,
             "#f1b6da"
            ],
            [
             0.4,
             "#fde0ef"
            ],
            [
             0.5,
             "#f7f7f7"
            ],
            [
             0.6,
             "#e6f5d0"
            ],
            [
             0.7,
             "#b8e186"
            ],
            [
             0.8,
             "#7fbc41"
            ],
            [
             0.9,
             "#4d9221"
            ],
            [
             1,
             "#276419"
            ]
           ],
           "sequential": [
            [
             0,
             "#0d0887"
            ],
            [
             0.1111111111111111,
             "#46039f"
            ],
            [
             0.2222222222222222,
             "#7201a8"
            ],
            [
             0.3333333333333333,
             "#9c179e"
            ],
            [
             0.4444444444444444,
             "#bd3786"
            ],
            [
             0.5555555555555556,
             "#d8576b"
            ],
            [
             0.6666666666666666,
             "#ed7953"
            ],
            [
             0.7777777777777778,
             "#fb9f3a"
            ],
            [
             0.8888888888888888,
             "#fdca26"
            ],
            [
             1,
             "#f0f921"
            ]
           ],
           "sequentialminus": [
            [
             0,
             "#0d0887"
            ],
            [
             0.1111111111111111,
             "#46039f"
            ],
            [
             0.2222222222222222,
             "#7201a8"
            ],
            [
             0.3333333333333333,
             "#9c179e"
            ],
            [
             0.4444444444444444,
             "#bd3786"
            ],
            [
             0.5555555555555556,
             "#d8576b"
            ],
            [
             0.6666666666666666,
             "#ed7953"
            ],
            [
             0.7777777777777778,
             "#fb9f3a"
            ],
            [
             0.8888888888888888,
             "#fdca26"
            ],
            [
             1,
             "#f0f921"
            ]
           ]
          },
          "colorway": [
           "#636efa",
           "#EF553B",
           "#00cc96",
           "#ab63fa",
           "#FFA15A",
           "#19d3f3",
           "#FF6692",
           "#B6E880",
           "#FF97FF",
           "#FECB52"
          ],
          "font": {
           "color": "#2a3f5f"
          },
          "geo": {
           "bgcolor": "white",
           "lakecolor": "white",
           "landcolor": "#E5ECF6",
           "showlakes": true,
           "showland": true,
           "subunitcolor": "white"
          },
          "hoverlabel": {
           "align": "left"
          },
          "hovermode": "closest",
          "mapbox": {
           "style": "light"
          },
          "paper_bgcolor": "white",
          "plot_bgcolor": "#E5ECF6",
          "polar": {
           "angularaxis": {
            "gridcolor": "white",
            "linecolor": "white",
            "ticks": ""
           },
           "bgcolor": "#E5ECF6",
           "radialaxis": {
            "gridcolor": "white",
            "linecolor": "white",
            "ticks": ""
           }
          },
          "scene": {
           "xaxis": {
            "backgroundcolor": "#E5ECF6",
            "gridcolor": "white",
            "gridwidth": 2,
            "linecolor": "white",
            "showbackground": true,
            "ticks": "",
            "zerolinecolor": "white"
           },
           "yaxis": {
            "backgroundcolor": "#E5ECF6",
            "gridcolor": "white",
            "gridwidth": 2,
            "linecolor": "white",
            "showbackground": true,
            "ticks": "",
            "zerolinecolor": "white"
           },
           "zaxis": {
            "backgroundcolor": "#E5ECF6",
            "gridcolor": "white",
            "gridwidth": 2,
            "linecolor": "white",
            "showbackground": true,
            "ticks": "",
            "zerolinecolor": "white"
           }
          },
          "shapedefaults": {
           "line": {
            "color": "#2a3f5f"
           }
          },
          "ternary": {
           "aaxis": {
            "gridcolor": "white",
            "linecolor": "white",
            "ticks": ""
           },
           "baxis": {
            "gridcolor": "white",
            "linecolor": "white",
            "ticks": ""
           },
           "bgcolor": "#E5ECF6",
           "caxis": {
            "gridcolor": "white",
            "linecolor": "white",
            "ticks": ""
           }
          },
          "title": {
           "x": 0.05
          },
          "xaxis": {
           "automargin": true,
           "gridcolor": "white",
           "linecolor": "white",
           "ticks": "",
           "title": {
            "standoff": 15
           },
           "zerolinecolor": "white",
           "zerolinewidth": 2
          },
          "yaxis": {
           "automargin": true,
           "gridcolor": "white",
           "linecolor": "white",
           "ticks": "",
           "title": {
            "standoff": 15
           },
           "zerolinecolor": "white",
           "zerolinewidth": 2
          }
         }
        },
        "xaxis": {
         "anchor": "y",
         "categoryarray": [
          "India",
          "Estados Unidos",
          "Unknown",
          "Brasil",
          "México",
          "Rusia",
          "Pakistan",
          "Filipinas",
          "Indonesia",
          "Tailandia",
          "Francia",
          "Colombia",
          "Iraq",
          "Japon",
          "Ecuador",
          "Argentina",
          "Turquia",
          "Arabia Saudita",
          "El Salvador",
          "Bangladesh",
          "Reino Unido",
          "Argelia",
          "Espana",
          "Peru",
          "Egipto",
          "Jordania",
          "Marruecos",
          "Singapur",
          "Somalia"
         ],
         "categoryorder": "array",
         "domain": [
          0,
          1
         ],
         "title": {
          "text": "country"
         }
        },
        "yaxis": {
         "anchor": "x",
         "domain": [
          0,
          1
         ],
         "title": {
          "text": "count"
         }
        }
       }
      }
     },
     "metadata": {},
     "output_type": "display_data"
    }
   ],
   "source": [
    "\n",
    "# check the distribution of streamers by country\n",
    "px.histogram(df,x='country',color='country')"
   ]
  },
  {
   "cell_type": "code",
   "execution_count": 37,
   "metadata": {},
   "outputs": [
    {
     "data": {
      "text/plain": [
       "Estados Unidos    293\n",
       "India             241\n",
       "Unknown           171\n",
       "Brasil             64\n",
       "México             58\n",
       "Indonesia          38\n",
       "Rusia              25\n",
       "Tailandia          18\n",
       "Colombia           16\n",
       "Filipinas          13\n",
       "Pakistan           11\n",
       "Argentina           7\n",
       "Egipto              5\n",
       "Francia             4\n",
       "Turquia             4\n",
       "Arabia Saudita      4\n",
       "Espana              4\n",
       "Iraq                4\n",
       "Japon               3\n",
       "Bangladesh          3\n",
       "Reino Unido         3\n",
       "Marruecos           2\n",
       "Argelia             2\n",
       "Peru                2\n",
       "Singapur            1\n",
       "Ecuador             1\n",
       "Jordania            1\n",
       "El Salvador         1\n",
       "Somalia             1\n",
       "Name: country, dtype: int64"
      ]
     },
     "execution_count": 37,
     "metadata": {},
     "output_type": "execute_result"
    }
   ],
   "source": [
    "\n",
    "# check the distribution of streamers by country\n",
    "df['country'].value_counts()\n"
   ]
  },
  {
   "cell_type": "code",
   "execution_count": 38,
   "metadata": {},
   "outputs": [
    {
     "data": {
      "text/plain": [
       "274"
      ]
     },
     "execution_count": 38,
     "metadata": {},
     "output_type": "execute_result"
    }
   ],
   "source": [
    "df['suscribers'].nunique()"
   ]
  },
  {
   "cell_type": "code",
   "execution_count": 39,
   "metadata": {},
   "outputs": [
    {
     "data": {
      "application/vnd.plotly.v1+json": {
       "config": {
        "plotlyServerURL": "https://plot.ly"
       },
       "data": [
        {
         "alignmentgroup": "True",
         "bingroup": "y",
         "histfunc": "sum",
         "hovertemplate": "sum of suscribers=%{x}<br>country=%{y}<extra></extra>",
         "legendgroup": "",
         "marker": {
          "color": "#636efa",
          "pattern": {
           "shape": ""
          }
         },
         "name": "",
         "offsetgroup": "",
         "orientation": "h",
         "showlegend": false,
         "type": "histogram",
         "x": [
          249500000,
          183500000,
          165500000,
          162600000,
          113500000,
          111500000,
          107500000,
          101400000,
          99700000,
          97200000,
          91300000,
          89700000,
          85400000,
          80300000,
          76500000,
          72700000,
          72500000,
          69600000,
          67500000,
          66599999.99999999,
          66599999.99999999,
          66400000.00000001,
          62600000,
          60900000,
          59900000,
          59700000,
          59700000,
          58900000,
          58700000,
          57900000,
          56700000,
          55700000,
          55700000,
          54800000,
          54100000,
          53700000,
          53100000,
          52900000,
          48800000,
          48600000,
          48600000,
          48100000,
          47500000,
          47300000,
          47000000,
          46400000,
          46000000,
          45900000,
          45600000,
          45000000,
          45000000,
          44600000,
          44400000,
          44400000,
          44400000,
          44200000,
          44000000,
          43700000,
          43400000,
          42900000,
          42900000,
          42500000,
          42100000,
          42100000,
          41100000,
          41000000,
          40600000,
          40300000,
          40100000,
          39900000,
          39600000,
          39500000,
          39500000,
          39400000,
          39300000,
          39100000,
          39100000,
          39100000,
          38700000,
          38300000,
          38300000,
          38100000,
          38100000,
          38100000,
          37700000,
          37500000,
          37400000,
          37300000,
          37300000,
          37000000,
          36900000,
          36800000,
          36700000,
          36600000,
          36500000,
          36300000,
          36300000,
          35700000,
          35600000,
          35500000,
          35500000,
          35000000,
          35000000,
          34700000,
          34600000,
          34500000,
          34200000,
          34200000,
          34200000,
          34200000,
          34000000,
          34000000,
          33600000,
          33600000,
          33300000,
          33200000.000000004,
          33000000,
          33000000,
          33000000,
          33000000,
          32900000,
          32800000,
          32700000.000000004,
          32600000,
          32600000,
          32400000,
          32200000.000000004,
          32200000.000000004,
          32200000.000000004,
          32200000.000000004,
          32100000,
          32000000,
          31900000,
          31800000,
          31600000,
          31400000,
          31300000,
          31200000,
          31100000,
          31000000,
          31000000,
          30900000,
          30600000,
          30600000,
          30600000,
          30400000,
          30400000,
          30400000,
          30400000,
          30200000,
          30200000,
          30000000,
          29900000,
          29800000,
          29800000,
          29700000,
          29700000,
          29500000,
          29400000,
          29400000,
          29400000,
          29300000,
          29200000,
          29200000,
          29000000,
          28800000,
          28800000,
          28700000,
          28400000,
          28200000,
          28100000,
          28000000,
          28000000,
          27900000,
          27800000,
          27800000,
          27800000,
          27800000,
          27800000,
          27600000,
          27500000,
          27300000,
          27200000,
          27100000,
          27100000,
          27000000,
          26800000,
          26800000,
          26800000,
          26700000,
          26600000,
          26600000,
          26300000,
          26300000,
          26200000,
          26100000,
          26100000,
          26000000,
          25900000,
          25900000,
          25900000,
          25900000,
          25900000,
          25900000,
          25800000,
          25700000,
          25700000,
          25700000,
          25700000,
          25700000,
          25500000,
          25500000,
          25500000,
          25500000,
          25400000,
          25100000,
          25000000,
          25000000,
          24900000,
          24900000,
          24900000,
          24900000,
          24800000,
          24800000,
          24700000,
          24700000,
          24700000,
          24600000,
          24600000,
          24400000,
          24400000,
          24400000,
          24400000,
          24400000,
          24300000,
          24300000,
          24300000,
          24300000,
          24300000,
          24100000,
          24100000,
          24000000,
          23900000,
          23900000,
          23900000,
          23900000,
          23800000,
          23700000,
          23700000,
          23700000,
          23700000,
          23600000,
          23500000,
          23500000,
          23500000,
          23500000,
          23400000,
          23400000,
          23400000,
          23400000,
          23300000,
          23300000,
          23300000,
          23300000,
          23200000,
          23200000,
          23100000,
          23100000,
          23000000,
          23000000,
          23000000,
          23000000,
          22900000,
          22900000,
          22900000,
          22800000,
          22800000,
          22800000,
          22700000,
          22700000,
          22700000,
          22700000,
          22700000,
          22700000,
          22600000,
          22500000,
          22500000,
          22500000,
          22500000,
          22400000,
          22400000,
          22400000,
          22300000,
          22300000,
          22300000,
          22300000,
          22100000,
          22100000,
          21900000,
          21900000,
          21900000,
          21900000,
          21900000,
          21800000,
          21700000,
          21700000,
          21700000,
          21700000,
          21700000,
          21500000,
          21500000,
          21300000,
          21100000,
          21100000,
          21100000,
          21100000,
          21100000,
          21100000,
          21100000,
          21100000,
          21000000,
          20900000,
          20800000,
          20800000,
          20700000,
          20700000,
          20700000,
          20700000,
          20700000,
          20700000,
          20600000,
          20600000,
          20600000,
          20500000,
          20500000,
          20500000,
          20500000,
          20500000,
          20500000,
          20500000,
          20400000,
          20400000,
          20400000,
          20300000,
          20300000,
          20300000,
          20300000,
          20200000,
          20100000,
          20100000,
          20100000,
          20100000,
          20100000,
          20100000,
          20100000,
          20100000,
          20100000,
          20100000,
          20100000,
          20100000,
          20100000,
          20000000,
          19900000,
          19900000,
          19900000,
          19900000,
          19900000,
          19800000,
          19800000,
          19800000,
          19700000,
          19700000,
          19700000,
          19600000,
          19500000,
          19500000,
          19500000,
          19500000,
          19400000,
          19300000,
          19300000,
          19300000,
          19300000,
          19300000,
          19200000,
          19100000,
          19100000,
          19100000,
          19100000,
          19100000,
          19100000,
          19100000,
          19100000,
          19100000,
          19100000,
          19100000,
          19000000,
          19000000,
          19000000,
          18900000,
          18800000,
          18800000,
          18800000,
          18700000,
          18600000,
          18600000,
          18600000,
          18600000,
          18600000,
          18600000,
          18600000,
          18600000,
          18500000,
          18500000,
          18400000,
          18400000,
          18400000,
          18400000,
          18400000,
          18400000,
          18300000,
          18200000,
          18200000,
          18200000,
          18200000,
          18200000,
          18200000,
          18200000,
          18200000,
          18200000,
          18200000,
          18000000,
          18000000,
          18000000,
          18000000,
          18000000,
          18000000,
          18000000,
          18000000,
          18000000,
          18000000,
          18000000,
          18000000,
          18000000,
          17800000,
          17800000,
          17800000,
          17800000,
          17800000,
          17800000,
          17900000,
          17800000,
          17700000,
          17700000,
          17700000,
          17700000,
          17700000,
          17600000,
          17600000,
          17600000,
          17600000,
          17600000,
          17600000,
          17500000,
          17500000,
          17400000,
          17400000,
          17400000,
          17400000,
          17400000,
          17300000,
          17300000,
          17200000,
          17200000,
          17200000,
          17200000,
          17200000,
          17000000,
          17000000,
          17000000,
          17000000,
          17000000,
          17000000,
          17000000,
          17000000,
          17000000,
          17000000,
          16900000,
          16900000,
          16900000,
          16800000,
          16800000,
          16800000,
          16800000,
          16800000,
          16800000,
          16800000,
          16800000,
          16800000,
          16800000,
          16700000,
          16700000,
          16700000,
          16700000,
          16700000,
          16600000.000000002,
          16600000.000000002,
          16600000.000000002,
          16600000.000000002,
          16600000.000000002,
          16500000,
          16500000,
          16500000,
          16500000,
          16500000,
          16500000,
          16399999.999999998,
          16399999.999999998,
          16399999.999999998,
          16399999.999999998,
          16399999.999999998,
          16399999.999999998,
          16399999.999999998,
          16399999.999999998,
          16399999.999999998,
          16399999.999999998,
          16399999.999999998,
          16300000,
          16300000,
          16300000,
          16300000,
          16200000,
          16200000,
          16200000,
          16200000,
          16200000,
          16100000.000000002,
          16100000.000000002,
          16100000.000000002,
          16000000,
          16000000,
          16000000,
          16000000,
          16000000,
          16000000,
          16000000,
          16000000,
          16000000,
          16000000,
          16000000,
          16000000,
          16000000,
          15900000,
          15900000,
          15900000,
          15900000,
          15900000,
          15800000,
          15800000,
          15800000,
          15800000,
          15800000,
          15800000,
          15700000,
          15700000,
          15600000,
          15600000,
          15600000,
          15600000,
          15600000,
          15600000,
          15600000,
          15600000,
          15600000,
          15600000,
          15600000,
          15600000,
          15500000,
          15500000,
          15500000,
          15400000,
          15400000,
          15400000,
          15400000,
          15400000,
          15400000,
          15400000,
          15400000,
          15400000,
          15400000,
          15400000,
          15400000,
          15400000,
          15400000,
          15300000,
          15300000,
          15200000,
          15200000,
          15200000,
          15200000,
          15200000,
          15200000,
          15200000,
          15200000,
          15200000,
          15200000,
          15200000,
          15200000,
          15200000,
          15100000,
          15100000,
          15100000,
          15100000,
          15000000,
          15000000,
          15000000,
          15000000,
          15000000,
          15000000,
          15000000,
          15000000,
          15000000,
          15000000,
          15000000,
          15000000,
          14900000,
          14900000,
          14900000,
          14900000,
          14900000,
          14900000,
          14900000,
          14800000,
          14800000,
          14800000,
          14800000,
          14800000,
          14800000,
          14800000,
          14800000,
          14800000,
          14800000,
          14800000,
          14800000,
          14800000,
          14800000,
          14800000,
          14800000,
          14800000,
          14800000,
          14700000,
          14700000,
          14700000,
          14700000,
          14700000,
          14700000,
          14700000,
          14700000,
          14700000,
          14700000,
          14600000,
          14600000,
          14600000,
          14600000,
          14600000,
          14600000,
          14600000,
          14600000,
          14600000,
          14600000,
          14600000,
          14600000,
          14600000,
          14600000,
          14600000,
          14500000,
          14500000,
          14500000,
          14400000,
          14400000,
          14400000,
          14400000,
          14400000,
          14400000,
          14400000,
          14400000,
          14400000,
          14400000,
          14300000,
          14300000,
          14300000,
          14300000,
          14300000,
          14300000,
          14200000,
          14200000,
          14200000,
          14200000,
          14200000,
          14200000,
          14200000,
          14200000,
          14200000,
          14200000,
          14200000,
          14200000,
          14200000,
          14200000,
          14200000,
          14200000,
          14200000,
          14200000,
          14200000,
          14200000,
          14200000,
          14200000,
          14100000,
          14100000,
          14100000,
          14100000,
          14100000,
          14000000,
          14000000,
          14000000,
          14000000,
          14000000,
          14000000,
          14000000,
          14000000,
          14000000,
          14000000,
          13900000,
          13900000,
          13900000,
          13900000,
          13900000,
          13900000,
          13800000,
          13800000,
          13800000,
          13800000,
          13800000,
          13800000,
          13800000,
          13800000,
          13800000,
          13800000,
          13800000,
          13800000,
          13800000,
          13800000,
          13800000,
          13800000,
          13800000,
          13700000,
          13700000,
          13700000,
          13600000,
          13600000,
          13600000,
          13600000,
          13600000,
          13600000,
          13600000,
          13600000,
          13600000,
          13600000,
          13600000,
          13600000,
          13600000,
          13600000,
          13600000,
          13600000,
          13600000,
          13600000,
          13500000,
          13500000,
          13500000,
          13500000,
          13400000,
          13400000,
          13400000,
          13400000,
          13400000,
          13400000,
          13400000,
          13400000,
          13400000,
          13400000,
          13400000,
          13400000,
          13400000,
          13400000,
          13400000,
          13400000,
          13300000,
          13300000,
          13300000,
          13300000,
          13300000,
          13300000,
          13200000,
          13200000,
          13200000,
          13200000,
          13200000,
          13200000,
          13200000,
          13200000,
          13200000,
          13200000,
          13200000,
          13200000,
          13200000,
          13100000,
          13100000,
          13100000,
          13100000,
          13000000,
          13000000,
          13000000,
          13000000,
          13000000,
          13000000,
          13000000,
          13000000,
          13000000,
          13000000,
          13000000,
          13000000,
          13000000,
          12900000,
          12900000,
          12900000,
          12900000,
          12900000,
          12900000,
          12900000,
          12900000,
          12800000,
          12800000,
          12800000,
          12800000,
          12800000,
          12800000,
          12800000,
          12800000,
          12800000,
          12800000,
          12800000,
          12800000,
          12800000,
          12800000,
          12800000,
          12800000,
          12800000,
          12800000,
          12700000,
          12700000,
          12600000,
          12600000,
          12600000,
          12600000,
          12600000,
          12600000,
          12600000,
          12600000,
          12600000,
          12600000,
          12600000,
          12600000,
          12600000,
          12600000,
          12600000,
          12600000,
          12600000,
          12600000,
          12600000,
          12600000,
          12600000,
          12600000,
          12600000,
          12600000,
          12600000,
          12600000,
          12600000,
          12600000,
          12600000,
          12600000,
          12600000,
          12500000,
          12500000,
          12500000,
          12500000,
          12500000,
          12500000,
          12500000,
          12500000,
          12400000,
          12400000,
          12400000,
          12400000,
          12400000,
          12400000,
          12400000,
          12400000,
          12400000,
          12400000,
          12400000,
          12400000,
          12400000,
          12400000,
          12400000,
          12400000,
          12400000,
          12400000,
          12400000,
          12400000,
          12400000,
          12400000,
          12400000,
          12400000,
          12300000,
          12300000,
          12300000,
          12300000,
          12200000,
          12200000,
          12200000,
          12200000,
          12200000,
          12200000,
          12200000,
          12200000,
          12200000,
          12200000,
          12200000,
          12200000,
          12200000,
          12200000,
          12200000,
          12200000,
          12200000,
          12200000,
          12100000,
          12100000,
          12100000,
          12100000,
          12000000,
          12000000,
          12100000,
          12100000,
          12100000,
          12100000,
          12000000,
          12000000,
          12000000,
          12000000,
          11900000,
          11900000,
          11900000,
          11900000,
          11900000,
          11900000,
          11900000,
          11900000,
          11900000,
          11900000,
          11900000,
          11900000,
          11900000,
          11900000,
          11900000,
          11900000,
          11900000,
          11900000,
          11900000,
          11900000,
          11900000,
          11900000,
          11900000,
          11900000,
          11900000,
          11900000,
          11800000,
          11800000,
          11700000,
          11700000,
          11700000,
          11700000,
          11700000,
          11700000,
          11700000,
          11700000,
          11700000,
          11700000,
          11700000,
          11700000,
          11700000,
          11700000
         ],
         "xaxis": "x",
         "y": [
          "India",
          "Estados Unidos",
          "Unknown",
          "India",
          "Unknown",
          "Estados Unidos",
          "Unknown",
          "Unknown",
          "India",
          "Estados Unidos",
          "Estados Unidos",
          "India",
          "India",
          "India",
          "India",
          "Estados Unidos",
          "India",
          "Unknown",
          "Unknown",
          "Brasil",
          "India",
          "India",
          "India",
          "India",
          "Estados Unidos",
          "Unknown",
          "Estados Unidos",
          "India",
          "Unknown",
          "India",
          "Estados Unidos",
          "India",
          "Unknown",
          "Estados Unidos",
          "Estados Unidos",
          "Estados Unidos",
          "Unknown",
          "Estados Unidos",
          "India",
          "México",
          "Estados Unidos",
          "Unknown",
          "India",
          "Rusia",
          "México",
          "Pakistan",
          "Unknown",
          "Pakistan",
          "Brasil",
          "Filipinas",
          "Brasil",
          "Estados Unidos",
          "Unknown",
          "Estados Unidos",
          "Brasil",
          "Unknown",
          "Estados Unidos",
          "Unknown",
          "México",
          "Unknown",
          "India",
          "Unknown",
          "México",
          "India",
          "México",
          "Unknown",
          "Unknown",
          "India",
          "Brasil",
          "Unknown",
          "Indonesia",
          "Estados Unidos",
          "India",
          "Tailandia",
          "Brasil",
          "Estados Unidos",
          "India",
          "Francia",
          "Unknown",
          "Estados Unidos",
          "Colombia",
          "Unknown",
          "Tailandia",
          "India",
          "Unknown",
          "Estados Unidos",
          "India",
          "India",
          "India",
          "India",
          "Indonesia",
          "India",
          "India",
          "Unknown",
          "India",
          "Estados Unidos",
          "India",
          "Unknown",
          "India",
          "Unknown",
          "Estados Unidos",
          "India",
          "India",
          "México",
          "México",
          "India",
          "India",
          "India",
          "Colombia",
          "Estados Unidos",
          "Tailandia",
          "México",
          "Estados Unidos",
          "India",
          "Unknown",
          "Estados Unidos",
          "Colombia",
          "Unknown",
          "India",
          "India",
          "Filipinas",
          "Estados Unidos",
          "Iraq",
          "India",
          "Indonesia",
          "India",
          "India",
          "Brasil",
          "Estados Unidos",
          "Unknown",
          "India",
          "México",
          "Estados Unidos",
          "México",
          "Estados Unidos",
          "Estados Unidos",
          "Estados Unidos",
          "Estados Unidos",
          "Unknown",
          "India",
          "Estados Unidos",
          "Unknown",
          "Indonesia",
          "Brasil",
          "Unknown",
          "Estados Unidos",
          "Estados Unidos",
          "Unknown",
          "Estados Unidos",
          "Estados Unidos",
          "Pakistan",
          "India",
          "India",
          "Estados Unidos",
          "Estados Unidos",
          "India",
          "India",
          "Unknown",
          "Colombia",
          "Unknown",
          "India",
          "Unknown",
          "India",
          "India",
          "Japon",
          "India",
          "Estados Unidos",
          "Unknown",
          "Estados Unidos",
          "Unknown",
          "Unknown",
          "India",
          "Estados Unidos",
          "Unknown",
          "Estados Unidos",
          "Unknown",
          "India",
          "Estados Unidos",
          "Estados Unidos",
          "Estados Unidos",
          "Estados Unidos",
          "India",
          "Brasil",
          "Estados Unidos",
          "Unknown",
          "Estados Unidos",
          "Filipinas",
          "Ecuador",
          "India",
          "Indonesia",
          "Brasil",
          "Estados Unidos",
          "Estados Unidos",
          "India",
          "Unknown",
          "Estados Unidos",
          "Brasil",
          "India",
          "Estados Unidos",
          "Brasil",
          "Estados Unidos",
          "Estados Unidos",
          "Estados Unidos",
          "Estados Unidos",
          "India",
          "México",
          "Argentina",
          "Estados Unidos",
          "Indonesia",
          "Unknown",
          "Estados Unidos",
          "Estados Unidos",
          "Estados Unidos",
          "Estados Unidos",
          "Indonesia",
          "Estados Unidos",
          "Estados Unidos",
          "Unknown",
          "Estados Unidos",
          "Estados Unidos",
          "Estados Unidos",
          "India",
          "India",
          "Unknown",
          "India",
          "India",
          "Indonesia",
          "Unknown",
          "Unknown",
          "Unknown",
          "India",
          "India",
          "Turquia",
          "Unknown",
          "Estados Unidos",
          "Indonesia",
          "India",
          "India",
          "Estados Unidos",
          "Unknown",
          "Estados Unidos",
          "México",
          "Estados Unidos",
          "Estados Unidos",
          "Rusia",
          "Unknown",
          "Unknown",
          "Rusia",
          "Estados Unidos",
          "Colombia",
          "Colombia",
          "India",
          "India",
          "Brasil",
          "Estados Unidos",
          "Unknown",
          "Unknown",
          "Estados Unidos",
          "Tailandia",
          "India",
          "India",
          "India",
          "Unknown",
          "India",
          "Unknown",
          "Unknown",
          "México",
          "México",
          "Unknown",
          "Estados Unidos",
          "India",
          "India",
          "Colombia",
          "India",
          "Estados Unidos",
          "Unknown",
          "México",
          "Unknown",
          "Estados Unidos",
          "Unknown",
          "Arabia Saudita",
          "Estados Unidos",
          "India",
          "Estados Unidos",
          "Estados Unidos",
          "Estados Unidos",
          "Brasil",
          "Estados Unidos",
          "India",
          "Estados Unidos",
          "Unknown",
          "Unknown",
          "India",
          "India",
          "India",
          "Arabia Saudita",
          "Brasil",
          "Estados Unidos",
          "Indonesia",
          "India",
          "El Salvador",
          "México",
          "Estados Unidos",
          "Unknown",
          "Estados Unidos",
          "India",
          "India",
          "Filipinas",
          "Unknown",
          "Estados Unidos",
          "India",
          "Indonesia",
          "Estados Unidos",
          "Estados Unidos",
          "Brasil",
          "Estados Unidos",
          "India",
          "India",
          "Estados Unidos",
          "Estados Unidos",
          "Indonesia",
          "Estados Unidos",
          "Estados Unidos",
          "Unknown",
          "Estados Unidos",
          "India",
          "Estados Unidos",
          "Estados Unidos",
          "Estados Unidos",
          "Estados Unidos",
          "Unknown",
          "Unknown",
          "Unknown",
          "Estados Unidos",
          "Bangladesh",
          "Rusia",
          "Indonesia",
          "India",
          "India",
          "Estados Unidos",
          "Estados Unidos",
          "India",
          "Bangladesh",
          "Estados Unidos",
          "Brasil",
          "India",
          "Estados Unidos",
          "India",
          "Unknown",
          "Estados Unidos",
          "Estados Unidos",
          "Estados Unidos",
          "Brasil",
          "Brasil",
          "India",
          "Estados Unidos",
          "Unknown",
          "India",
          "Estados Unidos",
          "Estados Unidos",
          "Estados Unidos",
          "India",
          "Reino Unido",
          "Indonesia",
          "Estados Unidos",
          "India",
          "Estados Unidos",
          "México",
          "India",
          "Pakistan",
          "Estados Unidos",
          "India",
          "India",
          "Unknown",
          "Estados Unidos",
          "México",
          "Reino Unido",
          "Unknown",
          "Unknown",
          "India",
          "India",
          "Argelia",
          "India",
          "Indonesia",
          "México",
          "Unknown",
          "Estados Unidos",
          "Estados Unidos",
          "Estados Unidos",
          "Estados Unidos",
          "India",
          "Rusia",
          "India",
          "Estados Unidos",
          "Rusia",
          "Estados Unidos",
          "Unknown",
          "Unknown",
          "Estados Unidos",
          "India",
          "Tailandia",
          "Argentina",
          "Estados Unidos",
          "Estados Unidos",
          "Rusia",
          "Unknown",
          "Unknown",
          "Estados Unidos",
          "India",
          "Unknown",
          "Tailandia",
          "Brasil",
          "India",
          "India",
          "Indonesia",
          "Espana",
          "Estados Unidos",
          "Estados Unidos",
          "Unknown",
          "Francia",
          "México",
          "Turquia",
          "Indonesia",
          "Unknown",
          "Unknown",
          "Peru",
          "Brasil",
          "México",
          "Unknown",
          "Colombia",
          "India",
          "Estados Unidos",
          "Espana",
          "Argentina",
          "Indonesia",
          "Indonesia",
          "Brasil",
          "India",
          "Unknown",
          "India",
          "Unknown",
          "Estados Unidos",
          "Tailandia",
          "Estados Unidos",
          "Indonesia",
          "Brasil",
          "Tailandia",
          "Unknown",
          "India",
          "Estados Unidos",
          "Estados Unidos",
          "Unknown",
          "Estados Unidos",
          "India",
          "India",
          "Estados Unidos",
          "India",
          "Unknown",
          "India",
          "Estados Unidos",
          "Iraq",
          "Estados Unidos",
          "India",
          "Unknown",
          "Unknown",
          "Estados Unidos",
          "India",
          "Rusia",
          "Brasil",
          "Estados Unidos",
          "Indonesia",
          "Unknown",
          "India",
          "México",
          "Estados Unidos",
          "India",
          "India",
          "India",
          "India",
          "India",
          "Unknown",
          "Estados Unidos",
          "Brasil",
          "India",
          "India",
          "India",
          "Estados Unidos",
          "Estados Unidos",
          "Estados Unidos",
          "India",
          "India",
          "Filipinas",
          "India",
          "México",
          "Estados Unidos",
          "Tailandia",
          "India",
          "Unknown",
          "México",
          "Rusia",
          "Tailandia",
          "Estados Unidos",
          "Estados Unidos",
          "México",
          "Estados Unidos",
          "Tailandia",
          "Estados Unidos",
          "Tailandia",
          "Estados Unidos",
          "Indonesia",
          "Turquia",
          "Colombia",
          "Estados Unidos",
          "Brasil",
          "México",
          "Estados Unidos",
          "Argentina",
          "Estados Unidos",
          "Unknown",
          "Rusia",
          "Brasil",
          "Unknown",
          "Estados Unidos",
          "Estados Unidos",
          "Filipinas",
          "Argentina",
          "Estados Unidos",
          "Unknown",
          "Rusia",
          "India",
          "Unknown",
          "Indonesia",
          "México",
          "Unknown",
          "Indonesia",
          "India",
          "Brasil",
          "Estados Unidos",
          "India",
          "Colombia",
          "Indonesia",
          "India",
          "India",
          "Arabia Saudita",
          "India",
          "Brasil",
          "México",
          "Rusia",
          "India",
          "Estados Unidos",
          "India",
          "Indonesia",
          "Unknown",
          "India",
          "India",
          "India",
          "Unknown",
          "Estados Unidos",
          "India",
          "Estados Unidos",
          "Estados Unidos",
          "Egipto",
          "India",
          "India",
          "Estados Unidos",
          "India",
          "Estados Unidos",
          "Brasil",
          "Estados Unidos",
          "Estados Unidos",
          "Indonesia",
          "Estados Unidos",
          "Tailandia",
          "India",
          "Estados Unidos",
          "India",
          "Unknown",
          "Unknown",
          "India",
          "India",
          "India",
          "Indonesia",
          "Estados Unidos",
          "Estados Unidos",
          "Unknown",
          "Indonesia",
          "Estados Unidos",
          "India",
          "Estados Unidos",
          "Estados Unidos",
          "Colombia",
          "Filipinas",
          "Filipinas",
          "India",
          "Indonesia",
          "Unknown",
          "India",
          "Filipinas",
          "Egipto",
          "Estados Unidos",
          "Indonesia",
          "Rusia",
          "Estados Unidos",
          "Estados Unidos",
          "Tailandia",
          "Estados Unidos",
          "México",
          "México",
          "Espana",
          "Unknown",
          "Brasil",
          "India",
          "Unknown",
          "Brasil",
          "Estados Unidos",
          "México",
          "Estados Unidos",
          "Estados Unidos",
          "Estados Unidos",
          "India",
          "México",
          "Estados Unidos",
          "India",
          "México",
          "Unknown",
          "Brasil",
          "Indonesia",
          "India",
          "México",
          "Estados Unidos",
          "Unknown",
          "Unknown",
          "India",
          "Estados Unidos",
          "Brasil",
          "India",
          "Estados Unidos",
          "Estados Unidos",
          "Estados Unidos",
          "Estados Unidos",
          "México",
          "Estados Unidos",
          "México",
          "México",
          "Estados Unidos",
          "Egipto",
          "Estados Unidos",
          "Estados Unidos",
          "México",
          "Estados Unidos",
          "Unknown",
          "India",
          "Unknown",
          "Estados Unidos",
          "India",
          "Pakistan",
          "Unknown",
          "Unknown",
          "Unknown",
          "India",
          "Estados Unidos",
          "Unknown",
          "India",
          "Tailandia",
          "Argentina",
          "Estados Unidos",
          "Brasil",
          "Brasil",
          "Unknown",
          "Brasil",
          "Estados Unidos",
          "Brasil",
          "Estados Unidos",
          "Estados Unidos",
          "Estados Unidos",
          "Francia",
          "Estados Unidos",
          "Estados Unidos",
          "México",
          "Estados Unidos",
          "Unknown",
          "Brasil",
          "Estados Unidos",
          "Unknown",
          "Filipinas",
          "Indonesia",
          "Estados Unidos",
          "Rusia",
          "Unknown",
          "Bangladesh",
          "India",
          "Estados Unidos",
          "India",
          "India",
          "Brasil",
          "Tailandia",
          "Estados Unidos",
          "Brasil",
          "India",
          "India",
          "Rusia",
          "Unknown",
          "Estados Unidos",
          "India",
          "Jordania",
          "Brasil",
          "Estados Unidos",
          "India",
          "Iraq",
          "Iraq",
          "Estados Unidos",
          "Argentina",
          "Indonesia",
          "México",
          "India",
          "India",
          "Rusia",
          "Estados Unidos",
          "Estados Unidos",
          "Unknown",
          "Unknown",
          "México",
          "Pakistan",
          "Brasil",
          "Estados Unidos",
          "México",
          "Unknown",
          "Unknown",
          "India",
          "Estados Unidos",
          "Estados Unidos",
          "Unknown",
          "Francia",
          "México",
          "India",
          "Estados Unidos",
          "Brasil",
          "Reino Unido",
          "India",
          "Estados Unidos",
          "Estados Unidos",
          "Estados Unidos",
          "Colombia",
          "India",
          "India",
          "Brasil",
          "Estados Unidos",
          "Estados Unidos",
          "Unknown",
          "India",
          "Filipinas",
          "Filipinas",
          "Brasil",
          "Estados Unidos",
          "India",
          "Unknown",
          "Rusia",
          "Colombia",
          "Indonesia",
          "Rusia",
          "Unknown",
          "India",
          "Estados Unidos",
          "Tailandia",
          "México",
          "Indonesia",
          "Estados Unidos",
          "India",
          "Arabia Saudita",
          "India",
          "Brasil",
          "Rusia",
          "Estados Unidos",
          "Estados Unidos",
          "Estados Unidos",
          "India",
          "Estados Unidos",
          "Estados Unidos",
          "Unknown",
          "India",
          "Estados Unidos",
          "India",
          "Estados Unidos",
          "Unknown",
          "India",
          "Estados Unidos",
          "Estados Unidos",
          "Estados Unidos",
          "Estados Unidos",
          "Estados Unidos",
          "Estados Unidos",
          "Estados Unidos",
          "Estados Unidos",
          "Brasil",
          "Filipinas",
          "Unknown",
          "Unknown",
          "Unknown",
          "Estados Unidos",
          "Brasil",
          "Brasil",
          "Brasil",
          "India",
          "India",
          "México",
          "Estados Unidos",
          "Peru",
          "México",
          "Indonesia",
          "Estados Unidos",
          "Marruecos",
          "Estados Unidos",
          "Estados Unidos",
          "Brasil",
          "Japon",
          "Turquia",
          "India",
          "Unknown",
          "Estados Unidos",
          "Estados Unidos",
          "México",
          "Unknown",
          "Estados Unidos",
          "India",
          "India",
          "México",
          "Espana",
          "México",
          "Estados Unidos",
          "Estados Unidos",
          "India",
          "Unknown",
          "Unknown",
          "Unknown",
          "Unknown",
          "India",
          "India",
          "India",
          "Estados Unidos",
          "Estados Unidos",
          "India",
          "India",
          "India",
          "Estados Unidos",
          "Unknown",
          "Brasil",
          "Colombia",
          "Estados Unidos",
          "México",
          "India",
          "Brasil",
          "Estados Unidos",
          "Unknown",
          "India",
          "Estados Unidos",
          "Unknown",
          "India",
          "Unknown",
          "Brasil",
          "México",
          "India",
          "México",
          "Unknown",
          "México",
          "Brasil",
          "México",
          "Estados Unidos",
          "Indonesia",
          "Estados Unidos",
          "India",
          "Estados Unidos",
          "Marruecos",
          "Estados Unidos",
          "México",
          "Unknown",
          "Estados Unidos",
          "India",
          "Estados Unidos",
          "Unknown",
          "Unknown",
          "Brasil",
          "Unknown",
          "Estados Unidos",
          "India",
          "India",
          "India",
          "Estados Unidos",
          "Estados Unidos",
          "Estados Unidos",
          "India",
          "Unknown",
          "Unknown",
          "India",
          "Unknown",
          "India",
          "Estados Unidos",
          "India",
          "Unknown",
          "Unknown",
          "Estados Unidos",
          "India",
          "Pakistan",
          "India",
          "Brasil",
          "Rusia",
          "Estados Unidos",
          "Unknown",
          "Estados Unidos",
          "Estados Unidos",
          "Singapur",
          "Estados Unidos",
          "India",
          "Estados Unidos",
          "Estados Unidos",
          "Estados Unidos",
          "Estados Unidos",
          "Brasil",
          "Brasil",
          "Estados Unidos",
          "India",
          "Estados Unidos",
          "India",
          "India",
          "Rusia",
          "Brasil",
          "Unknown",
          "Egipto",
          "Colombia",
          "Brasil",
          "Estados Unidos",
          "Estados Unidos",
          "Unknown",
          "Estados Unidos",
          "Tailandia",
          "Estados Unidos",
          "India",
          "Unknown",
          "Pakistan",
          "Brasil",
          "India",
          "India",
          "Estados Unidos",
          "Argelia",
          "México",
          "India",
          "India",
          "Unknown",
          "Pakistan",
          "India",
          "Rusia",
          "Estados Unidos",
          "India",
          "Unknown",
          "Pakistan",
          "Pakistan",
          "Estados Unidos",
          "Rusia",
          "Estados Unidos",
          "Estados Unidos",
          "Egipto",
          "India",
          "India",
          "México",
          "India",
          "Unknown",
          "Rusia",
          "India",
          "Rusia",
          "Unknown",
          "India",
          "Unknown",
          "Unknown",
          "Unknown",
          "Unknown",
          "Unknown",
          "Unknown",
          "Estados Unidos",
          "India",
          "Japon",
          "Estados Unidos",
          "México",
          "India",
          "Estados Unidos",
          "Brasil",
          "Unknown",
          "Estados Unidos",
          "India",
          "Estados Unidos",
          "Colombia",
          "Estados Unidos",
          "Somalia",
          "Estados Unidos",
          "India",
          "India",
          "India",
          "Estados Unidos",
          "India",
          "Unknown",
          "India",
          "India"
         ],
         "yaxis": "y"
        }
       ],
       "layout": {
        "barmode": "relative",
        "legend": {
         "tracegroupgap": 0
        },
        "margin": {
         "t": 60
        },
        "template": {
         "data": {
          "bar": [
           {
            "error_x": {
             "color": "#2a3f5f"
            },
            "error_y": {
             "color": "#2a3f5f"
            },
            "marker": {
             "line": {
              "color": "#E5ECF6",
              "width": 0.5
             },
             "pattern": {
              "fillmode": "overlay",
              "size": 10,
              "solidity": 0.2
             }
            },
            "type": "bar"
           }
          ],
          "barpolar": [
           {
            "marker": {
             "line": {
              "color": "#E5ECF6",
              "width": 0.5
             },
             "pattern": {
              "fillmode": "overlay",
              "size": 10,
              "solidity": 0.2
             }
            },
            "type": "barpolar"
           }
          ],
          "carpet": [
           {
            "aaxis": {
             "endlinecolor": "#2a3f5f",
             "gridcolor": "white",
             "linecolor": "white",
             "minorgridcolor": "white",
             "startlinecolor": "#2a3f5f"
            },
            "baxis": {
             "endlinecolor": "#2a3f5f",
             "gridcolor": "white",
             "linecolor": "white",
             "minorgridcolor": "white",
             "startlinecolor": "#2a3f5f"
            },
            "type": "carpet"
           }
          ],
          "choropleth": [
           {
            "colorbar": {
             "outlinewidth": 0,
             "ticks": ""
            },
            "type": "choropleth"
           }
          ],
          "contour": [
           {
            "colorbar": {
             "outlinewidth": 0,
             "ticks": ""
            },
            "colorscale": [
             [
              0,
              "#0d0887"
             ],
             [
              0.1111111111111111,
              "#46039f"
             ],
             [
              0.2222222222222222,
              "#7201a8"
             ],
             [
              0.3333333333333333,
              "#9c179e"
             ],
             [
              0.4444444444444444,
              "#bd3786"
             ],
             [
              0.5555555555555556,
              "#d8576b"
             ],
             [
              0.6666666666666666,
              "#ed7953"
             ],
             [
              0.7777777777777778,
              "#fb9f3a"
             ],
             [
              0.8888888888888888,
              "#fdca26"
             ],
             [
              1,
              "#f0f921"
             ]
            ],
            "type": "contour"
           }
          ],
          "contourcarpet": [
           {
            "colorbar": {
             "outlinewidth": 0,
             "ticks": ""
            },
            "type": "contourcarpet"
           }
          ],
          "heatmap": [
           {
            "colorbar": {
             "outlinewidth": 0,
             "ticks": ""
            },
            "colorscale": [
             [
              0,
              "#0d0887"
             ],
             [
              0.1111111111111111,
              "#46039f"
             ],
             [
              0.2222222222222222,
              "#7201a8"
             ],
             [
              0.3333333333333333,
              "#9c179e"
             ],
             [
              0.4444444444444444,
              "#bd3786"
             ],
             [
              0.5555555555555556,
              "#d8576b"
             ],
             [
              0.6666666666666666,
              "#ed7953"
             ],
             [
              0.7777777777777778,
              "#fb9f3a"
             ],
             [
              0.8888888888888888,
              "#fdca26"
             ],
             [
              1,
              "#f0f921"
             ]
            ],
            "type": "heatmap"
           }
          ],
          "heatmapgl": [
           {
            "colorbar": {
             "outlinewidth": 0,
             "ticks": ""
            },
            "colorscale": [
             [
              0,
              "#0d0887"
             ],
             [
              0.1111111111111111,
              "#46039f"
             ],
             [
              0.2222222222222222,
              "#7201a8"
             ],
             [
              0.3333333333333333,
              "#9c179e"
             ],
             [
              0.4444444444444444,
              "#bd3786"
             ],
             [
              0.5555555555555556,
              "#d8576b"
             ],
             [
              0.6666666666666666,
              "#ed7953"
             ],
             [
              0.7777777777777778,
              "#fb9f3a"
             ],
             [
              0.8888888888888888,
              "#fdca26"
             ],
             [
              1,
              "#f0f921"
             ]
            ],
            "type": "heatmapgl"
           }
          ],
          "histogram": [
           {
            "marker": {
             "pattern": {
              "fillmode": "overlay",
              "size": 10,
              "solidity": 0.2
             }
            },
            "type": "histogram"
           }
          ],
          "histogram2d": [
           {
            "colorbar": {
             "outlinewidth": 0,
             "ticks": ""
            },
            "colorscale": [
             [
              0,
              "#0d0887"
             ],
             [
              0.1111111111111111,
              "#46039f"
             ],
             [
              0.2222222222222222,
              "#7201a8"
             ],
             [
              0.3333333333333333,
              "#9c179e"
             ],
             [
              0.4444444444444444,
              "#bd3786"
             ],
             [
              0.5555555555555556,
              "#d8576b"
             ],
             [
              0.6666666666666666,
              "#ed7953"
             ],
             [
              0.7777777777777778,
              "#fb9f3a"
             ],
             [
              0.8888888888888888,
              "#fdca26"
             ],
             [
              1,
              "#f0f921"
             ]
            ],
            "type": "histogram2d"
           }
          ],
          "histogram2dcontour": [
           {
            "colorbar": {
             "outlinewidth": 0,
             "ticks": ""
            },
            "colorscale": [
             [
              0,
              "#0d0887"
             ],
             [
              0.1111111111111111,
              "#46039f"
             ],
             [
              0.2222222222222222,
              "#7201a8"
             ],
             [
              0.3333333333333333,
              "#9c179e"
             ],
             [
              0.4444444444444444,
              "#bd3786"
             ],
             [
              0.5555555555555556,
              "#d8576b"
             ],
             [
              0.6666666666666666,
              "#ed7953"
             ],
             [
              0.7777777777777778,
              "#fb9f3a"
             ],
             [
              0.8888888888888888,
              "#fdca26"
             ],
             [
              1,
              "#f0f921"
             ]
            ],
            "type": "histogram2dcontour"
           }
          ],
          "mesh3d": [
           {
            "colorbar": {
             "outlinewidth": 0,
             "ticks": ""
            },
            "type": "mesh3d"
           }
          ],
          "parcoords": [
           {
            "line": {
             "colorbar": {
              "outlinewidth": 0,
              "ticks": ""
             }
            },
            "type": "parcoords"
           }
          ],
          "pie": [
           {
            "automargin": true,
            "type": "pie"
           }
          ],
          "scatter": [
           {
            "fillpattern": {
             "fillmode": "overlay",
             "size": 10,
             "solidity": 0.2
            },
            "type": "scatter"
           }
          ],
          "scatter3d": [
           {
            "line": {
             "colorbar": {
              "outlinewidth": 0,
              "ticks": ""
             }
            },
            "marker": {
             "colorbar": {
              "outlinewidth": 0,
              "ticks": ""
             }
            },
            "type": "scatter3d"
           }
          ],
          "scattercarpet": [
           {
            "marker": {
             "colorbar": {
              "outlinewidth": 0,
              "ticks": ""
             }
            },
            "type": "scattercarpet"
           }
          ],
          "scattergeo": [
           {
            "marker": {
             "colorbar": {
              "outlinewidth": 0,
              "ticks": ""
             }
            },
            "type": "scattergeo"
           }
          ],
          "scattergl": [
           {
            "marker": {
             "colorbar": {
              "outlinewidth": 0,
              "ticks": ""
             }
            },
            "type": "scattergl"
           }
          ],
          "scattermapbox": [
           {
            "marker": {
             "colorbar": {
              "outlinewidth": 0,
              "ticks": ""
             }
            },
            "type": "scattermapbox"
           }
          ],
          "scatterpolar": [
           {
            "marker": {
             "colorbar": {
              "outlinewidth": 0,
              "ticks": ""
             }
            },
            "type": "scatterpolar"
           }
          ],
          "scatterpolargl": [
           {
            "marker": {
             "colorbar": {
              "outlinewidth": 0,
              "ticks": ""
             }
            },
            "type": "scatterpolargl"
           }
          ],
          "scatterternary": [
           {
            "marker": {
             "colorbar": {
              "outlinewidth": 0,
              "ticks": ""
             }
            },
            "type": "scatterternary"
           }
          ],
          "surface": [
           {
            "colorbar": {
             "outlinewidth": 0,
             "ticks": ""
            },
            "colorscale": [
             [
              0,
              "#0d0887"
             ],
             [
              0.1111111111111111,
              "#46039f"
             ],
             [
              0.2222222222222222,
              "#7201a8"
             ],
             [
              0.3333333333333333,
              "#9c179e"
             ],
             [
              0.4444444444444444,
              "#bd3786"
             ],
             [
              0.5555555555555556,
              "#d8576b"
             ],
             [
              0.6666666666666666,
              "#ed7953"
             ],
             [
              0.7777777777777778,
              "#fb9f3a"
             ],
             [
              0.8888888888888888,
              "#fdca26"
             ],
             [
              1,
              "#f0f921"
             ]
            ],
            "type": "surface"
           }
          ],
          "table": [
           {
            "cells": {
             "fill": {
              "color": "#EBF0F8"
             },
             "line": {
              "color": "white"
             }
            },
            "header": {
             "fill": {
              "color": "#C8D4E3"
             },
             "line": {
              "color": "white"
             }
            },
            "type": "table"
           }
          ]
         },
         "layout": {
          "annotationdefaults": {
           "arrowcolor": "#2a3f5f",
           "arrowhead": 0,
           "arrowwidth": 1
          },
          "autotypenumbers": "strict",
          "coloraxis": {
           "colorbar": {
            "outlinewidth": 0,
            "ticks": ""
           }
          },
          "colorscale": {
           "diverging": [
            [
             0,
             "#8e0152"
            ],
            [
             0.1,
             "#c51b7d"
            ],
            [
             0.2,
             "#de77ae"
            ],
            [
             0.3,
             "#f1b6da"
            ],
            [
             0.4,
             "#fde0ef"
            ],
            [
             0.5,
             "#f7f7f7"
            ],
            [
             0.6,
             "#e6f5d0"
            ],
            [
             0.7,
             "#b8e186"
            ],
            [
             0.8,
             "#7fbc41"
            ],
            [
             0.9,
             "#4d9221"
            ],
            [
             1,
             "#276419"
            ]
           ],
           "sequential": [
            [
             0,
             "#0d0887"
            ],
            [
             0.1111111111111111,
             "#46039f"
            ],
            [
             0.2222222222222222,
             "#7201a8"
            ],
            [
             0.3333333333333333,
             "#9c179e"
            ],
            [
             0.4444444444444444,
             "#bd3786"
            ],
            [
             0.5555555555555556,
             "#d8576b"
            ],
            [
             0.6666666666666666,
             "#ed7953"
            ],
            [
             0.7777777777777778,
             "#fb9f3a"
            ],
            [
             0.8888888888888888,
             "#fdca26"
            ],
            [
             1,
             "#f0f921"
            ]
           ],
           "sequentialminus": [
            [
             0,
             "#0d0887"
            ],
            [
             0.1111111111111111,
             "#46039f"
            ],
            [
             0.2222222222222222,
             "#7201a8"
            ],
            [
             0.3333333333333333,
             "#9c179e"
            ],
            [
             0.4444444444444444,
             "#bd3786"
            ],
            [
             0.5555555555555556,
             "#d8576b"
            ],
            [
             0.6666666666666666,
             "#ed7953"
            ],
            [
             0.7777777777777778,
             "#fb9f3a"
            ],
            [
             0.8888888888888888,
             "#fdca26"
            ],
            [
             1,
             "#f0f921"
            ]
           ]
          },
          "colorway": [
           "#636efa",
           "#EF553B",
           "#00cc96",
           "#ab63fa",
           "#FFA15A",
           "#19d3f3",
           "#FF6692",
           "#B6E880",
           "#FF97FF",
           "#FECB52"
          ],
          "font": {
           "color": "#2a3f5f"
          },
          "geo": {
           "bgcolor": "white",
           "lakecolor": "white",
           "landcolor": "#E5ECF6",
           "showlakes": true,
           "showland": true,
           "subunitcolor": "white"
          },
          "hoverlabel": {
           "align": "left"
          },
          "hovermode": "closest",
          "mapbox": {
           "style": "light"
          },
          "paper_bgcolor": "white",
          "plot_bgcolor": "#E5ECF6",
          "polar": {
           "angularaxis": {
            "gridcolor": "white",
            "linecolor": "white",
            "ticks": ""
           },
           "bgcolor": "#E5ECF6",
           "radialaxis": {
            "gridcolor": "white",
            "linecolor": "white",
            "ticks": ""
           }
          },
          "scene": {
           "xaxis": {
            "backgroundcolor": "#E5ECF6",
            "gridcolor": "white",
            "gridwidth": 2,
            "linecolor": "white",
            "showbackground": true,
            "ticks": "",
            "zerolinecolor": "white"
           },
           "yaxis": {
            "backgroundcolor": "#E5ECF6",
            "gridcolor": "white",
            "gridwidth": 2,
            "linecolor": "white",
            "showbackground": true,
            "ticks": "",
            "zerolinecolor": "white"
           },
           "zaxis": {
            "backgroundcolor": "#E5ECF6",
            "gridcolor": "white",
            "gridwidth": 2,
            "linecolor": "white",
            "showbackground": true,
            "ticks": "",
            "zerolinecolor": "white"
           }
          },
          "shapedefaults": {
           "line": {
            "color": "#2a3f5f"
           }
          },
          "ternary": {
           "aaxis": {
            "gridcolor": "white",
            "linecolor": "white",
            "ticks": ""
           },
           "baxis": {
            "gridcolor": "white",
            "linecolor": "white",
            "ticks": ""
           },
           "bgcolor": "#E5ECF6",
           "caxis": {
            "gridcolor": "white",
            "linecolor": "white",
            "ticks": ""
           }
          },
          "title": {
           "x": 0.05
          },
          "xaxis": {
           "automargin": true,
           "gridcolor": "white",
           "linecolor": "white",
           "ticks": "",
           "title": {
            "standoff": 15
           },
           "zerolinecolor": "white",
           "zerolinewidth": 2
          },
          "yaxis": {
           "automargin": true,
           "gridcolor": "white",
           "linecolor": "white",
           "ticks": "",
           "title": {
            "standoff": 15
           },
           "zerolinecolor": "white",
           "zerolinewidth": 2
          }
         }
        },
        "xaxis": {
         "anchor": "y",
         "domain": [
          0,
          1
         ],
         "title": {
          "text": "sum of suscribers"
         }
        },
        "yaxis": {
         "anchor": "x",
         "domain": [
          0,
          1
         ],
         "title": {
          "text": "country"
         }
        }
       }
      }
     },
     "metadata": {},
     "output_type": "display_data"
    }
   ],
   "source": [
    "# check the distribution of streamers by suscribers\n",
    "px.histogram(df,x='suscribers',y='country')\n"
   ]
  },
  {
   "cell_type": "code",
   "execution_count": 40,
   "metadata": {},
   "outputs": [
    {
     "data": {
      "text/plain": [
       "suscribers    2.189440e+07\n",
       "likes         5.363259e+04\n",
       "comments      1.288768e+03\n",
       "dtype: float64"
      ]
     },
     "execution_count": 40,
     "metadata": {},
     "output_type": "execute_result"
    }
   ],
   "source": [
    "#Calculate and visualize the average number of subscribers, visits, likes, and comments.\n",
    "#Are there patterns or anomalies in these metrics\n",
    "\n",
    "df.columns\n",
    "['id', 'subscriber_count', 'visit_count', 'like_count', 'comment_count']\n",
    "\n",
    "df[['suscribers','likes','comments']].mean()\n"
   ]
  },
  {
   "cell_type": "code",
   "execution_count": 41,
   "metadata": {},
   "outputs": [
    {
     "data": {
      "application/vnd.plotly.v1+json": {
       "config": {
        "plotlyServerURL": "https://plot.ly"
       },
       "data": [
        {
         "domain": {
          "x": [
           0,
           1
          ],
          "y": [
           0,
           1
          ]
         },
         "hovertemplate": "label=%{label}<br>value=%{value}<extra></extra>",
         "labels": [
          "suscribers",
          "likes",
          "comments"
         ],
         "legendgroup": "",
         "name": "",
         "showlegend": true,
         "type": "pie",
         "values": [
          21894400,
          53632.592,
          1288.768
         ]
        }
       ],
       "layout": {
        "legend": {
         "tracegroupgap": 0
        },
        "margin": {
         "t": 60
        },
        "template": {
         "data": {
          "bar": [
           {
            "error_x": {
             "color": "#2a3f5f"
            },
            "error_y": {
             "color": "#2a3f5f"
            },
            "marker": {
             "line": {
              "color": "#E5ECF6",
              "width": 0.5
             },
             "pattern": {
              "fillmode": "overlay",
              "size": 10,
              "solidity": 0.2
             }
            },
            "type": "bar"
           }
          ],
          "barpolar": [
           {
            "marker": {
             "line": {
              "color": "#E5ECF6",
              "width": 0.5
             },
             "pattern": {
              "fillmode": "overlay",
              "size": 10,
              "solidity": 0.2
             }
            },
            "type": "barpolar"
           }
          ],
          "carpet": [
           {
            "aaxis": {
             "endlinecolor": "#2a3f5f",
             "gridcolor": "white",
             "linecolor": "white",
             "minorgridcolor": "white",
             "startlinecolor": "#2a3f5f"
            },
            "baxis": {
             "endlinecolor": "#2a3f5f",
             "gridcolor": "white",
             "linecolor": "white",
             "minorgridcolor": "white",
             "startlinecolor": "#2a3f5f"
            },
            "type": "carpet"
           }
          ],
          "choropleth": [
           {
            "colorbar": {
             "outlinewidth": 0,
             "ticks": ""
            },
            "type": "choropleth"
           }
          ],
          "contour": [
           {
            "colorbar": {
             "outlinewidth": 0,
             "ticks": ""
            },
            "colorscale": [
             [
              0,
              "#0d0887"
             ],
             [
              0.1111111111111111,
              "#46039f"
             ],
             [
              0.2222222222222222,
              "#7201a8"
             ],
             [
              0.3333333333333333,
              "#9c179e"
             ],
             [
              0.4444444444444444,
              "#bd3786"
             ],
             [
              0.5555555555555556,
              "#d8576b"
             ],
             [
              0.6666666666666666,
              "#ed7953"
             ],
             [
              0.7777777777777778,
              "#fb9f3a"
             ],
             [
              0.8888888888888888,
              "#fdca26"
             ],
             [
              1,
              "#f0f921"
             ]
            ],
            "type": "contour"
           }
          ],
          "contourcarpet": [
           {
            "colorbar": {
             "outlinewidth": 0,
             "ticks": ""
            },
            "type": "contourcarpet"
           }
          ],
          "heatmap": [
           {
            "colorbar": {
             "outlinewidth": 0,
             "ticks": ""
            },
            "colorscale": [
             [
              0,
              "#0d0887"
             ],
             [
              0.1111111111111111,
              "#46039f"
             ],
             [
              0.2222222222222222,
              "#7201a8"
             ],
             [
              0.3333333333333333,
              "#9c179e"
             ],
             [
              0.4444444444444444,
              "#bd3786"
             ],
             [
              0.5555555555555556,
              "#d8576b"
             ],
             [
              0.6666666666666666,
              "#ed7953"
             ],
             [
              0.7777777777777778,
              "#fb9f3a"
             ],
             [
              0.8888888888888888,
              "#fdca26"
             ],
             [
              1,
              "#f0f921"
             ]
            ],
            "type": "heatmap"
           }
          ],
          "heatmapgl": [
           {
            "colorbar": {
             "outlinewidth": 0,
             "ticks": ""
            },
            "colorscale": [
             [
              0,
              "#0d0887"
             ],
             [
              0.1111111111111111,
              "#46039f"
             ],
             [
              0.2222222222222222,
              "#7201a8"
             ],
             [
              0.3333333333333333,
              "#9c179e"
             ],
             [
              0.4444444444444444,
              "#bd3786"
             ],
             [
              0.5555555555555556,
              "#d8576b"
             ],
             [
              0.6666666666666666,
              "#ed7953"
             ],
             [
              0.7777777777777778,
              "#fb9f3a"
             ],
             [
              0.8888888888888888,
              "#fdca26"
             ],
             [
              1,
              "#f0f921"
             ]
            ],
            "type": "heatmapgl"
           }
          ],
          "histogram": [
           {
            "marker": {
             "pattern": {
              "fillmode": "overlay",
              "size": 10,
              "solidity": 0.2
             }
            },
            "type": "histogram"
           }
          ],
          "histogram2d": [
           {
            "colorbar": {
             "outlinewidth": 0,
             "ticks": ""
            },
            "colorscale": [
             [
              0,
              "#0d0887"
             ],
             [
              0.1111111111111111,
              "#46039f"
             ],
             [
              0.2222222222222222,
              "#7201a8"
             ],
             [
              0.3333333333333333,
              "#9c179e"
             ],
             [
              0.4444444444444444,
              "#bd3786"
             ],
             [
              0.5555555555555556,
              "#d8576b"
             ],
             [
              0.6666666666666666,
              "#ed7953"
             ],
             [
              0.7777777777777778,
              "#fb9f3a"
             ],
             [
              0.8888888888888888,
              "#fdca26"
             ],
             [
              1,
              "#f0f921"
             ]
            ],
            "type": "histogram2d"
           }
          ],
          "histogram2dcontour": [
           {
            "colorbar": {
             "outlinewidth": 0,
             "ticks": ""
            },
            "colorscale": [
             [
              0,
              "#0d0887"
             ],
             [
              0.1111111111111111,
              "#46039f"
             ],
             [
              0.2222222222222222,
              "#7201a8"
             ],
             [
              0.3333333333333333,
              "#9c179e"
             ],
             [
              0.4444444444444444,
              "#bd3786"
             ],
             [
              0.5555555555555556,
              "#d8576b"
             ],
             [
              0.6666666666666666,
              "#ed7953"
             ],
             [
              0.7777777777777778,
              "#fb9f3a"
             ],
             [
              0.8888888888888888,
              "#fdca26"
             ],
             [
              1,
              "#f0f921"
             ]
            ],
            "type": "histogram2dcontour"
           }
          ],
          "mesh3d": [
           {
            "colorbar": {
             "outlinewidth": 0,
             "ticks": ""
            },
            "type": "mesh3d"
           }
          ],
          "parcoords": [
           {
            "line": {
             "colorbar": {
              "outlinewidth": 0,
              "ticks": ""
             }
            },
            "type": "parcoords"
           }
          ],
          "pie": [
           {
            "automargin": true,
            "type": "pie"
           }
          ],
          "scatter": [
           {
            "fillpattern": {
             "fillmode": "overlay",
             "size": 10,
             "solidity": 0.2
            },
            "type": "scatter"
           }
          ],
          "scatter3d": [
           {
            "line": {
             "colorbar": {
              "outlinewidth": 0,
              "ticks": ""
             }
            },
            "marker": {
             "colorbar": {
              "outlinewidth": 0,
              "ticks": ""
             }
            },
            "type": "scatter3d"
           }
          ],
          "scattercarpet": [
           {
            "marker": {
             "colorbar": {
              "outlinewidth": 0,
              "ticks": ""
             }
            },
            "type": "scattercarpet"
           }
          ],
          "scattergeo": [
           {
            "marker": {
             "colorbar": {
              "outlinewidth": 0,
              "ticks": ""
             }
            },
            "type": "scattergeo"
           }
          ],
          "scattergl": [
           {
            "marker": {
             "colorbar": {
              "outlinewidth": 0,
              "ticks": ""
             }
            },
            "type": "scattergl"
           }
          ],
          "scattermapbox": [
           {
            "marker": {
             "colorbar": {
              "outlinewidth": 0,
              "ticks": ""
             }
            },
            "type": "scattermapbox"
           }
          ],
          "scatterpolar": [
           {
            "marker": {
             "colorbar": {
              "outlinewidth": 0,
              "ticks": ""
             }
            },
            "type": "scatterpolar"
           }
          ],
          "scatterpolargl": [
           {
            "marker": {
             "colorbar": {
              "outlinewidth": 0,
              "ticks": ""
             }
            },
            "type": "scatterpolargl"
           }
          ],
          "scatterternary": [
           {
            "marker": {
             "colorbar": {
              "outlinewidth": 0,
              "ticks": ""
             }
            },
            "type": "scatterternary"
           }
          ],
          "surface": [
           {
            "colorbar": {
             "outlinewidth": 0,
             "ticks": ""
            },
            "colorscale": [
             [
              0,
              "#0d0887"
             ],
             [
              0.1111111111111111,
              "#46039f"
             ],
             [
              0.2222222222222222,
              "#7201a8"
             ],
             [
              0.3333333333333333,
              "#9c179e"
             ],
             [
              0.4444444444444444,
              "#bd3786"
             ],
             [
              0.5555555555555556,
              "#d8576b"
             ],
             [
              0.6666666666666666,
              "#ed7953"
             ],
             [
              0.7777777777777778,
              "#fb9f3a"
             ],
             [
              0.8888888888888888,
              "#fdca26"
             ],
             [
              1,
              "#f0f921"
             ]
            ],
            "type": "surface"
           }
          ],
          "table": [
           {
            "cells": {
             "fill": {
              "color": "#EBF0F8"
             },
             "line": {
              "color": "white"
             }
            },
            "header": {
             "fill": {
              "color": "#C8D4E3"
             },
             "line": {
              "color": "white"
             }
            },
            "type": "table"
           }
          ]
         },
         "layout": {
          "annotationdefaults": {
           "arrowcolor": "#2a3f5f",
           "arrowhead": 0,
           "arrowwidth": 1
          },
          "autotypenumbers": "strict",
          "coloraxis": {
           "colorbar": {
            "outlinewidth": 0,
            "ticks": ""
           }
          },
          "colorscale": {
           "diverging": [
            [
             0,
             "#8e0152"
            ],
            [
             0.1,
             "#c51b7d"
            ],
            [
             0.2,
             "#de77ae"
            ],
            [
             0.3,
             "#f1b6da"
            ],
            [
             0.4,
             "#fde0ef"
            ],
            [
             0.5,
             "#f7f7f7"
            ],
            [
             0.6,
             "#e6f5d0"
            ],
            [
             0.7,
             "#b8e186"
            ],
            [
             0.8,
             "#7fbc41"
            ],
            [
             0.9,
             "#4d9221"
            ],
            [
             1,
             "#276419"
            ]
           ],
           "sequential": [
            [
             0,
             "#0d0887"
            ],
            [
             0.1111111111111111,
             "#46039f"
            ],
            [
             0.2222222222222222,
             "#7201a8"
            ],
            [
             0.3333333333333333,
             "#9c179e"
            ],
            [
             0.4444444444444444,
             "#bd3786"
            ],
            [
             0.5555555555555556,
             "#d8576b"
            ],
            [
             0.6666666666666666,
             "#ed7953"
            ],
            [
             0.7777777777777778,
             "#fb9f3a"
            ],
            [
             0.8888888888888888,
             "#fdca26"
            ],
            [
             1,
             "#f0f921"
            ]
           ],
           "sequentialminus": [
            [
             0,
             "#0d0887"
            ],
            [
             0.1111111111111111,
             "#46039f"
            ],
            [
             0.2222222222222222,
             "#7201a8"
            ],
            [
             0.3333333333333333,
             "#9c179e"
            ],
            [
             0.4444444444444444,
             "#bd3786"
            ],
            [
             0.5555555555555556,
             "#d8576b"
            ],
            [
             0.6666666666666666,
             "#ed7953"
            ],
            [
             0.7777777777777778,
             "#fb9f3a"
            ],
            [
             0.8888888888888888,
             "#fdca26"
            ],
            [
             1,
             "#f0f921"
            ]
           ]
          },
          "colorway": [
           "#636efa",
           "#EF553B",
           "#00cc96",
           "#ab63fa",
           "#FFA15A",
           "#19d3f3",
           "#FF6692",
           "#B6E880",
           "#FF97FF",
           "#FECB52"
          ],
          "font": {
           "color": "#2a3f5f"
          },
          "geo": {
           "bgcolor": "white",
           "lakecolor": "white",
           "landcolor": "#E5ECF6",
           "showlakes": true,
           "showland": true,
           "subunitcolor": "white"
          },
          "hoverlabel": {
           "align": "left"
          },
          "hovermode": "closest",
          "mapbox": {
           "style": "light"
          },
          "paper_bgcolor": "white",
          "plot_bgcolor": "#E5ECF6",
          "polar": {
           "angularaxis": {
            "gridcolor": "white",
            "linecolor": "white",
            "ticks": ""
           },
           "bgcolor": "#E5ECF6",
           "radialaxis": {
            "gridcolor": "white",
            "linecolor": "white",
            "ticks": ""
           }
          },
          "scene": {
           "xaxis": {
            "backgroundcolor": "#E5ECF6",
            "gridcolor": "white",
            "gridwidth": 2,
            "linecolor": "white",
            "showbackground": true,
            "ticks": "",
            "zerolinecolor": "white"
           },
           "yaxis": {
            "backgroundcolor": "#E5ECF6",
            "gridcolor": "white",
            "gridwidth": 2,
            "linecolor": "white",
            "showbackground": true,
            "ticks": "",
            "zerolinecolor": "white"
           },
           "zaxis": {
            "backgroundcolor": "#E5ECF6",
            "gridcolor": "white",
            "gridwidth": 2,
            "linecolor": "white",
            "showbackground": true,
            "ticks": "",
            "zerolinecolor": "white"
           }
          },
          "shapedefaults": {
           "line": {
            "color": "#2a3f5f"
           }
          },
          "ternary": {
           "aaxis": {
            "gridcolor": "white",
            "linecolor": "white",
            "ticks": ""
           },
           "baxis": {
            "gridcolor": "white",
            "linecolor": "white",
            "ticks": ""
           },
           "bgcolor": "#E5ECF6",
           "caxis": {
            "gridcolor": "white",
            "linecolor": "white",
            "ticks": ""
           }
          },
          "title": {
           "x": 0.05
          },
          "xaxis": {
           "automargin": true,
           "gridcolor": "white",
           "linecolor": "white",
           "ticks": "",
           "title": {
            "standoff": 15
           },
           "zerolinecolor": "white",
           "zerolinewidth": 2
          },
          "yaxis": {
           "automargin": true,
           "gridcolor": "white",
           "linecolor": "white",
           "ticks": "",
           "title": {
            "standoff": 15
           },
           "zerolinecolor": "white",
           "zerolinewidth": 2
          }
         }
        }
       }
      }
     },
     "metadata": {},
     "output_type": "display_data"
    }
   ],
   "source": [
    "#Calculate and visualize the average number of subscribers, visits, likes, and comments.\n",
    "#Are there patterns or anomalies in these metrics using  pie chart from plotly\n",
    "\n",
    "px.pie(df,values=df[['suscribers','likes','comments']].mean(),names=df[['suscribers','likes','comments']].mean()\n",
    ".index)"
   ]
  },
  {
   "cell_type": "code",
   "execution_count": 42,
   "metadata": {},
   "outputs": [
    {
     "data": {
      "text/plain": [
       "Index(['rank', 'username', 'categories', 'suscribers', 'country', 'visits',\n",
       "       'likes', 'comments', 'links'],\n",
       "      dtype='object')"
      ]
     },
     "execution_count": 42,
     "metadata": {},
     "output_type": "execute_result"
    }
   ],
   "source": [
    "df.columns"
   ]
  },
  {
   "cell_type": "code",
   "execution_count": 43,
   "metadata": {},
   "outputs": [
    {
     "name": "stdout",
     "output_type": "stream",
     "text": [
      "The average view count per category is:  1288.768\n"
     ]
    }
   ],
   "source": [
    "\n",
    "# Define a function to calculate the average view count per 3 category\n",
    "\n",
    "def calculate_average_view_count(df):\n",
    "    average_view_count = df['comments'].mean()\n",
    "    return average_view_count\n",
    "\n",
    "\n",
    "# Use the defined function to calculate the average view count per category\n",
    "average_view_count = calculate_average_view_count(df)\n",
    "\n",
    "print(\"The average view count per category is: \", average_view_count)"
   ]
  },
  {
   "cell_type": "code",
   "execution_count": null,
   "metadata": {},
   "outputs": [],
   "source": [
    "# import libraries\n",
    "\n"
   ]
  }
 ],
 "metadata": {
  "kernelspec": {
   "display_name": "Python 3",
   "language": "python",
   "name": "python3"
  },
  "language_info": {
   "codemirror_mode": {
    "name": "ipython",
    "version": 3
   },
   "file_extension": ".py",
   "mimetype": "text/x-python",
   "name": "python",
   "nbconvert_exporter": "python",
   "pygments_lexer": "ipython3",
   "version": "3.10.11"
  }
 },
 "nbformat": 4,
 "nbformat_minor": 2
}
