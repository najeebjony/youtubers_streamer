{
 "cells": [
  {
   "cell_type": "markdown",
   "metadata": {},
   "source": [
    "# **Import Libraries** \n",
    "This is a python package that allows you to import libraries in an easy way.and using this library in this dataset\n",
    "1. Pandas libary \n",
    "2. Numpy  library\n",
    "3. Matplotlib \n",
    "4. Seaborn \n",
    "5. Plotly.Express \n",
    "---"
   ]
  },
  {
   "cell_type": "code",
   "execution_count": 2,
   "metadata": {},
   "outputs": [],
   "source": [
    "# import libraries \n",
    "import pandas as pd\n",
    "# import numpy as np\n",
    "import matplotlib.pyplot as plt\n",
    "import seaborn as sns\n",
    "import plotly.express as px \n"
   ]
  },
  {
   "cell_type": "markdown",
   "metadata": {},
   "source": [
    "# **Load The Dataset (with pandas)**"
   ]
  },
  {
   "cell_type": "code",
   "execution_count": 3,
   "metadata": {},
   "outputs": [],
   "source": [
    "# load dataset (pandas)\n",
    "df = pd.read_csv('youtubers_df.csv')"
   ]
  },
  {
   "cell_type": "code",
   "execution_count": 4,
   "metadata": {},
   "outputs": [],
   "source": [
    "# set the columns and rowa \n",
    "# pd.set_option('display.max_columns',None)\n",
    "# pd.set_option('display.max_rows',None)"
   ]
  },
  {
   "cell_type": "markdown",
   "metadata": {},
   "source": [
    "# **Data Exploration:**\n",
    "- Start by exploring the dataset to understand its structure and identify key variables.\n",
    "Check for missing data and outliers."
   ]
  },
  {
   "cell_type": "code",
   "execution_count": 5,
   "metadata": {},
   "outputs": [
    {
     "data": {
      "text/html": [
       "<div>\n",
       "<style scoped>\n",
       "    .dataframe tbody tr th:only-of-type {\n",
       "        vertical-align: middle;\n",
       "    }\n",
       "\n",
       "    .dataframe tbody tr th {\n",
       "        vertical-align: top;\n",
       "    }\n",
       "\n",
       "    .dataframe thead th {\n",
       "        text-align: right;\n",
       "    }\n",
       "</style>\n",
       "<table border=\"1\" class=\"dataframe\">\n",
       "  <thead>\n",
       "    <tr style=\"text-align: right;\">\n",
       "      <th></th>\n",
       "      <th>Rank</th>\n",
       "      <th>Username</th>\n",
       "      <th>Categories</th>\n",
       "      <th>Suscribers</th>\n",
       "      <th>Country</th>\n",
       "      <th>Visits</th>\n",
       "      <th>Likes</th>\n",
       "      <th>Comments</th>\n",
       "      <th>Links</th>\n",
       "    </tr>\n",
       "  </thead>\n",
       "  <tbody>\n",
       "    <tr>\n",
       "      <th>0</th>\n",
       "      <td>1</td>\n",
       "      <td>tseries</td>\n",
       "      <td>Música y baile</td>\n",
       "      <td>249500000.0</td>\n",
       "      <td>India</td>\n",
       "      <td>86200.0</td>\n",
       "      <td>2700.0</td>\n",
       "      <td>78.0</td>\n",
       "      <td>http://youtube.com/channel/UCq-Fj5jknLsUf-MWSy...</td>\n",
       "    </tr>\n",
       "    <tr>\n",
       "      <th>1</th>\n",
       "      <td>2</td>\n",
       "      <td>MrBeast</td>\n",
       "      <td>Videojuegos, Humor</td>\n",
       "      <td>183500000.0</td>\n",
       "      <td>Estados Unidos</td>\n",
       "      <td>117400000.0</td>\n",
       "      <td>5300000.0</td>\n",
       "      <td>18500.0</td>\n",
       "      <td>http://youtube.com/channel/UCX6OQ3DkcsbYNE6H8u...</td>\n",
       "    </tr>\n",
       "    <tr>\n",
       "      <th>2</th>\n",
       "      <td>3</td>\n",
       "      <td>CoComelon</td>\n",
       "      <td>Educación</td>\n",
       "      <td>165500000.0</td>\n",
       "      <td>Unknown</td>\n",
       "      <td>7000000.0</td>\n",
       "      <td>24700.0</td>\n",
       "      <td>0.0</td>\n",
       "      <td>http://youtube.com/channel/UCbCmjCuTUZos6Inko4...</td>\n",
       "    </tr>\n",
       "    <tr>\n",
       "      <th>3</th>\n",
       "      <td>4</td>\n",
       "      <td>SETIndia</td>\n",
       "      <td>NaN</td>\n",
       "      <td>162600000.0</td>\n",
       "      <td>India</td>\n",
       "      <td>15600.0</td>\n",
       "      <td>166.0</td>\n",
       "      <td>9.0</td>\n",
       "      <td>http://youtube.com/channel/UCpEhnqL0y41EpW2TvW...</td>\n",
       "    </tr>\n",
       "    <tr>\n",
       "      <th>4</th>\n",
       "      <td>5</td>\n",
       "      <td>KidsDianaShow</td>\n",
       "      <td>Animación, Juguetes</td>\n",
       "      <td>113500000.0</td>\n",
       "      <td>Unknown</td>\n",
       "      <td>3900000.0</td>\n",
       "      <td>12400.0</td>\n",
       "      <td>0.0</td>\n",
       "      <td>http://youtube.com/channel/UCk8GzjMOrta8yxDcKf...</td>\n",
       "    </tr>\n",
       "    <tr>\n",
       "      <th>5</th>\n",
       "      <td>6</td>\n",
       "      <td>PewDiePie</td>\n",
       "      <td>Películas, Videojuegos</td>\n",
       "      <td>111500000.0</td>\n",
       "      <td>Estados Unidos</td>\n",
       "      <td>2400000.0</td>\n",
       "      <td>197300.0</td>\n",
       "      <td>4900.0</td>\n",
       "      <td>http://youtube.com/channel/UC-lHJZR3Gqxm24_Vd_...</td>\n",
       "    </tr>\n",
       "    <tr>\n",
       "      <th>6</th>\n",
       "      <td>7</td>\n",
       "      <td>LikeNastyaofficial</td>\n",
       "      <td>Juguetes</td>\n",
       "      <td>107500000.0</td>\n",
       "      <td>Unknown</td>\n",
       "      <td>2600000.0</td>\n",
       "      <td>28000.0</td>\n",
       "      <td>0.0</td>\n",
       "      <td>http://youtube.com/channel/UCJplp5SjeGSdVdwsfb...</td>\n",
       "    </tr>\n",
       "    <tr>\n",
       "      <th>7</th>\n",
       "      <td>8</td>\n",
       "      <td>VladandNiki</td>\n",
       "      <td>Animación, Juguetes</td>\n",
       "      <td>101400000.0</td>\n",
       "      <td>Unknown</td>\n",
       "      <td>4100000.0</td>\n",
       "      <td>22100.0</td>\n",
       "      <td>0.0</td>\n",
       "      <td>http://youtube.com/channel/UCvlE5gTbOvjiolFlEm...</td>\n",
       "    </tr>\n",
       "    <tr>\n",
       "      <th>8</th>\n",
       "      <td>9</td>\n",
       "      <td>zeemusiccompany</td>\n",
       "      <td>Música y baile</td>\n",
       "      <td>99700000.0</td>\n",
       "      <td>India</td>\n",
       "      <td>74300.0</td>\n",
       "      <td>2600.0</td>\n",
       "      <td>32.0</td>\n",
       "      <td>http://youtube.com/channel/UCFFbwnve3yF62-tVXk...</td>\n",
       "    </tr>\n",
       "    <tr>\n",
       "      <th>9</th>\n",
       "      <td>10</td>\n",
       "      <td>WWE</td>\n",
       "      <td>Videojuegos</td>\n",
       "      <td>97200000.0</td>\n",
       "      <td>Estados Unidos</td>\n",
       "      <td>184500.0</td>\n",
       "      <td>6300.0</td>\n",
       "      <td>214.0</td>\n",
       "      <td>http://youtube.com/channel/UCJ5v_MCY6GNUBTO8-D...</td>\n",
       "    </tr>\n",
       "  </tbody>\n",
       "</table>\n",
       "</div>"
      ],
      "text/plain": [
       "   Rank            Username              Categories   Suscribers  \\\n",
       "0     1             tseries          Música y baile  249500000.0   \n",
       "1     2             MrBeast      Videojuegos, Humor  183500000.0   \n",
       "2     3           CoComelon               Educación  165500000.0   \n",
       "3     4            SETIndia                     NaN  162600000.0   \n",
       "4     5       KidsDianaShow     Animación, Juguetes  113500000.0   \n",
       "5     6           PewDiePie  Películas, Videojuegos  111500000.0   \n",
       "6     7  LikeNastyaofficial                Juguetes  107500000.0   \n",
       "7     8         VladandNiki     Animación, Juguetes  101400000.0   \n",
       "8     9     zeemusiccompany          Música y baile   99700000.0   \n",
       "9    10                 WWE             Videojuegos   97200000.0   \n",
       "\n",
       "          Country       Visits      Likes  Comments  \\\n",
       "0           India      86200.0     2700.0      78.0   \n",
       "1  Estados Unidos  117400000.0  5300000.0   18500.0   \n",
       "2         Unknown    7000000.0    24700.0       0.0   \n",
       "3           India      15600.0      166.0       9.0   \n",
       "4         Unknown    3900000.0    12400.0       0.0   \n",
       "5  Estados Unidos    2400000.0   197300.0    4900.0   \n",
       "6         Unknown    2600000.0    28000.0       0.0   \n",
       "7         Unknown    4100000.0    22100.0       0.0   \n",
       "8           India      74300.0     2600.0      32.0   \n",
       "9  Estados Unidos     184500.0     6300.0     214.0   \n",
       "\n",
       "                                               Links  \n",
       "0  http://youtube.com/channel/UCq-Fj5jknLsUf-MWSy...  \n",
       "1  http://youtube.com/channel/UCX6OQ3DkcsbYNE6H8u...  \n",
       "2  http://youtube.com/channel/UCbCmjCuTUZos6Inko4...  \n",
       "3  http://youtube.com/channel/UCpEhnqL0y41EpW2TvW...  \n",
       "4  http://youtube.com/channel/UCk8GzjMOrta8yxDcKf...  \n",
       "5  http://youtube.com/channel/UC-lHJZR3Gqxm24_Vd_...  \n",
       "6  http://youtube.com/channel/UCJplp5SjeGSdVdwsfb...  \n",
       "7  http://youtube.com/channel/UCvlE5gTbOvjiolFlEm...  \n",
       "8  http://youtube.com/channel/UCFFbwnve3yF62-tVXk...  \n",
       "9  http://youtube.com/channel/UCJ5v_MCY6GNUBTO8-D...  "
      ]
     },
     "execution_count": 5,
     "metadata": {},
     "output_type": "execute_result"
    }
   ],
   "source": [
    "# check top 5 rows\n",
    "df.head(10)"
   ]
  },
  {
   "cell_type": "code",
   "execution_count": 6,
   "metadata": {},
   "outputs": [
    {
     "data": {
      "text/html": [
       "<div>\n",
       "<style scoped>\n",
       "    .dataframe tbody tr th:only-of-type {\n",
       "        vertical-align: middle;\n",
       "    }\n",
       "\n",
       "    .dataframe tbody tr th {\n",
       "        vertical-align: top;\n",
       "    }\n",
       "\n",
       "    .dataframe thead th {\n",
       "        text-align: right;\n",
       "    }\n",
       "</style>\n",
       "<table border=\"1\" class=\"dataframe\">\n",
       "  <thead>\n",
       "    <tr style=\"text-align: right;\">\n",
       "      <th></th>\n",
       "      <th>Rank</th>\n",
       "      <th>Username</th>\n",
       "      <th>Categories</th>\n",
       "      <th>Suscribers</th>\n",
       "      <th>Country</th>\n",
       "      <th>Visits</th>\n",
       "      <th>Likes</th>\n",
       "      <th>Comments</th>\n",
       "      <th>Links</th>\n",
       "    </tr>\n",
       "  </thead>\n",
       "  <tbody>\n",
       "    <tr>\n",
       "      <th>990</th>\n",
       "      <td>991</td>\n",
       "      <td>JoeHattab</td>\n",
       "      <td>Películas</td>\n",
       "      <td>11700000.0</td>\n",
       "      <td>Somalia</td>\n",
       "      <td>1900000.0</td>\n",
       "      <td>98500.0</td>\n",
       "      <td>2900.0</td>\n",
       "      <td>http://youtube.com/channel/UCe6eisvsctSPvBhmin...</td>\n",
       "    </tr>\n",
       "    <tr>\n",
       "      <th>991</th>\n",
       "      <td>992</td>\n",
       "      <td>BeAmazed</td>\n",
       "      <td>Educación</td>\n",
       "      <td>11700000.0</td>\n",
       "      <td>Estados Unidos</td>\n",
       "      <td>477800.0</td>\n",
       "      <td>9900.0</td>\n",
       "      <td>556.0</td>\n",
       "      <td>http://youtube.com/channel/UCkQO3QsgTpNTsOw6uj...</td>\n",
       "    </tr>\n",
       "    <tr>\n",
       "      <th>992</th>\n",
       "      <td>993</td>\n",
       "      <td>5MinuteCraftsLIKE</td>\n",
       "      <td>NaN</td>\n",
       "      <td>11700000.0</td>\n",
       "      <td>India</td>\n",
       "      <td>2700.0</td>\n",
       "      <td>28.0</td>\n",
       "      <td>1.0</td>\n",
       "      <td>http://youtube.com/channel/UCzTWHWnJ6VIcbkpqyv...</td>\n",
       "    </tr>\n",
       "    <tr>\n",
       "      <th>993</th>\n",
       "      <td>994</td>\n",
       "      <td>RedChilliesEntertainment</td>\n",
       "      <td>NaN</td>\n",
       "      <td>11700000.0</td>\n",
       "      <td>India</td>\n",
       "      <td>848300.0</td>\n",
       "      <td>66700.0</td>\n",
       "      <td>842.0</td>\n",
       "      <td>http://youtube.com/channel/UCjJKg01HAP01xCLVhD...</td>\n",
       "    </tr>\n",
       "    <tr>\n",
       "      <th>994</th>\n",
       "      <td>995</td>\n",
       "      <td>VYRLOriginals</td>\n",
       "      <td>NaN</td>\n",
       "      <td>11700000.0</td>\n",
       "      <td>India</td>\n",
       "      <td>48800.0</td>\n",
       "      <td>949.0</td>\n",
       "      <td>101.0</td>\n",
       "      <td>http://youtube.com/channel/UCye6Oz0mg46S362LwA...</td>\n",
       "    </tr>\n",
       "    <tr>\n",
       "      <th>995</th>\n",
       "      <td>996</td>\n",
       "      <td>hamzymukbang</td>\n",
       "      <td>NaN</td>\n",
       "      <td>11700000.0</td>\n",
       "      <td>Estados Unidos</td>\n",
       "      <td>397400.0</td>\n",
       "      <td>14000.0</td>\n",
       "      <td>124.0</td>\n",
       "      <td>http://youtube.com/channel/UCPKNKldggioffXPkSm...</td>\n",
       "    </tr>\n",
       "    <tr>\n",
       "      <th>996</th>\n",
       "      <td>997</td>\n",
       "      <td>Adaahqueen</td>\n",
       "      <td>NaN</td>\n",
       "      <td>11700000.0</td>\n",
       "      <td>India</td>\n",
       "      <td>1100000.0</td>\n",
       "      <td>92500.0</td>\n",
       "      <td>164.0</td>\n",
       "      <td>http://youtube.com/channel/UCk3fFpqI5kDMf__mUP...</td>\n",
       "    </tr>\n",
       "    <tr>\n",
       "      <th>997</th>\n",
       "      <td>998</td>\n",
       "      <td>LittleAngelIndonesia</td>\n",
       "      <td>Música y baile</td>\n",
       "      <td>11700000.0</td>\n",
       "      <td>Unknown</td>\n",
       "      <td>211400.0</td>\n",
       "      <td>745.0</td>\n",
       "      <td>0.0</td>\n",
       "      <td>http://youtube.com/channel/UCdrHrQf0o0TO8YDntX...</td>\n",
       "    </tr>\n",
       "    <tr>\n",
       "      <th>998</th>\n",
       "      <td>999</td>\n",
       "      <td>PenMultiplex</td>\n",
       "      <td>NaN</td>\n",
       "      <td>11700000.0</td>\n",
       "      <td>India</td>\n",
       "      <td>14000.0</td>\n",
       "      <td>81.0</td>\n",
       "      <td>1.0</td>\n",
       "      <td>http://youtube.com/channel/UCObyBrdrtQ20BU9PxH...</td>\n",
       "    </tr>\n",
       "    <tr>\n",
       "      <th>999</th>\n",
       "      <td>1000</td>\n",
       "      <td>OneindiaHindi</td>\n",
       "      <td>Noticias y Política</td>\n",
       "      <td>11700000.0</td>\n",
       "      <td>India</td>\n",
       "      <td>2200.0</td>\n",
       "      <td>31.0</td>\n",
       "      <td>1.0</td>\n",
       "      <td>http://youtube.com/channel/UCOjgc1p2hJ4GZi6pQQ...</td>\n",
       "    </tr>\n",
       "  </tbody>\n",
       "</table>\n",
       "</div>"
      ],
      "text/plain": [
       "     Rank                  Username           Categories  Suscribers  \\\n",
       "990   991                 JoeHattab            Películas  11700000.0   \n",
       "991   992                  BeAmazed            Educación  11700000.0   \n",
       "992   993         5MinuteCraftsLIKE                  NaN  11700000.0   \n",
       "993   994  RedChilliesEntertainment                  NaN  11700000.0   \n",
       "994   995             VYRLOriginals                  NaN  11700000.0   \n",
       "995   996              hamzymukbang                  NaN  11700000.0   \n",
       "996   997                Adaahqueen                  NaN  11700000.0   \n",
       "997   998      LittleAngelIndonesia       Música y baile  11700000.0   \n",
       "998   999              PenMultiplex                  NaN  11700000.0   \n",
       "999  1000             OneindiaHindi  Noticias y Política  11700000.0   \n",
       "\n",
       "            Country     Visits    Likes  Comments  \\\n",
       "990         Somalia  1900000.0  98500.0    2900.0   \n",
       "991  Estados Unidos   477800.0   9900.0     556.0   \n",
       "992           India     2700.0     28.0       1.0   \n",
       "993           India   848300.0  66700.0     842.0   \n",
       "994           India    48800.0    949.0     101.0   \n",
       "995  Estados Unidos   397400.0  14000.0     124.0   \n",
       "996           India  1100000.0  92500.0     164.0   \n",
       "997         Unknown   211400.0    745.0       0.0   \n",
       "998           India    14000.0     81.0       1.0   \n",
       "999           India     2200.0     31.0       1.0   \n",
       "\n",
       "                                                 Links  \n",
       "990  http://youtube.com/channel/UCe6eisvsctSPvBhmin...  \n",
       "991  http://youtube.com/channel/UCkQO3QsgTpNTsOw6uj...  \n",
       "992  http://youtube.com/channel/UCzTWHWnJ6VIcbkpqyv...  \n",
       "993  http://youtube.com/channel/UCjJKg01HAP01xCLVhD...  \n",
       "994  http://youtube.com/channel/UCye6Oz0mg46S362LwA...  \n",
       "995  http://youtube.com/channel/UCPKNKldggioffXPkSm...  \n",
       "996  http://youtube.com/channel/UCk3fFpqI5kDMf__mUP...  \n",
       "997  http://youtube.com/channel/UCdrHrQf0o0TO8YDntX...  \n",
       "998  http://youtube.com/channel/UCObyBrdrtQ20BU9PxH...  \n",
       "999  http://youtube.com/channel/UCOjgc1p2hJ4GZi6pQQ...  "
      ]
     },
     "execution_count": 6,
     "metadata": {},
     "output_type": "execute_result"
    }
   ],
   "source": [
    "# check the rows of tail we are  fine some null value in our dataset \n",
    "df.tail(10)"
   ]
  },
  {
   "cell_type": "code",
   "execution_count": 7,
   "metadata": {},
   "outputs": [
    {
     "data": {
      "text/plain": [
       "(1000, 9)"
      ]
     },
     "execution_count": 7,
     "metadata": {},
     "output_type": "execute_result"
    }
   ],
   "source": [
    "# check the data shape 1000 raw and 9 columns \n",
    "df.shape"
   ]
  },
  {
   "cell_type": "code",
   "execution_count": 8,
   "metadata": {},
   "outputs": [
    {
     "name": "stdout",
     "output_type": "stream",
     "text": [
      "<class 'pandas.core.frame.DataFrame'>\n",
      "RangeIndex: 1000 entries, 0 to 999\n",
      "Data columns (total 9 columns):\n",
      " #   Column      Non-Null Count  Dtype  \n",
      "---  ------      --------------  -----  \n",
      " 0   Rank        1000 non-null   int64  \n",
      " 1   Username    1000 non-null   object \n",
      " 2   Categories  694 non-null    object \n",
      " 3   Suscribers  1000 non-null   float64\n",
      " 4   Country     1000 non-null   object \n",
      " 5   Visits      1000 non-null   float64\n",
      " 6   Likes       1000 non-null   float64\n",
      " 7   Comments    1000 non-null   float64\n",
      " 8   Links       1000 non-null   object \n",
      "dtypes: float64(4), int64(1), object(4)\n",
      "memory usage: 70.4+ KB\n"
     ]
    }
   ],
   "source": [
    "# check the information of data \n",
    "df.info()"
   ]
  },
  {
   "cell_type": "code",
   "execution_count": 9,
   "metadata": {},
   "outputs": [
    {
     "data": {
      "text/plain": [
       "Index(['Rank', 'Username', 'Categories', 'Suscribers', 'Country', 'Visits',\n",
       "       'Likes', 'Comments', 'Links'],\n",
       "      dtype='object')"
      ]
     },
     "execution_count": 9,
     "metadata": {},
     "output_type": "execute_result"
    }
   ],
   "source": [
    "# check the columns we fine a columns starting with upper case \n",
    "df.columns"
   ]
  },
  {
   "cell_type": "code",
   "execution_count": 10,
   "metadata": {},
   "outputs": [
    {
     "data": {
      "text/plain": [
       "Rank            int64\n",
       "Username       object\n",
       "Categories     object\n",
       "Suscribers    float64\n",
       "Country        object\n",
       "Visits        float64\n",
       "Likes         float64\n",
       "Comments      float64\n",
       "Links          object\n",
       "dtype: object"
      ]
     },
     "execution_count": 10,
     "metadata": {},
     "output_type": "execute_result"
    }
   ],
   "source": [
    "# check the dtypes in our datset 1 columny is int 64 4 columns is object/categorical 3 columns is float in our dataset \n",
    "df.dtypes"
   ]
  },
  {
   "cell_type": "code",
   "execution_count": 11,
   "metadata": {},
   "outputs": [
    {
     "data": {
      "text/html": [
       "<div>\n",
       "<style scoped>\n",
       "    .dataframe tbody tr th:only-of-type {\n",
       "        vertical-align: middle;\n",
       "    }\n",
       "\n",
       "    .dataframe tbody tr th {\n",
       "        vertical-align: top;\n",
       "    }\n",
       "\n",
       "    .dataframe thead th {\n",
       "        text-align: right;\n",
       "    }\n",
       "</style>\n",
       "<table border=\"1\" class=\"dataframe\">\n",
       "  <thead>\n",
       "    <tr style=\"text-align: right;\">\n",
       "      <th></th>\n",
       "      <th>Rank</th>\n",
       "      <th>Suscribers</th>\n",
       "      <th>Visits</th>\n",
       "      <th>Likes</th>\n",
       "      <th>Comments</th>\n",
       "    </tr>\n",
       "  </thead>\n",
       "  <tbody>\n",
       "    <tr>\n",
       "      <th>count</th>\n",
       "      <td>1000.000000</td>\n",
       "      <td>1.000000e+03</td>\n",
       "      <td>1.000000e+03</td>\n",
       "      <td>1.000000e+03</td>\n",
       "      <td>1000.000000</td>\n",
       "    </tr>\n",
       "    <tr>\n",
       "      <th>mean</th>\n",
       "      <td>500.500000</td>\n",
       "      <td>2.189440e+07</td>\n",
       "      <td>1.209446e+06</td>\n",
       "      <td>5.363259e+04</td>\n",
       "      <td>1288.768000</td>\n",
       "    </tr>\n",
       "    <tr>\n",
       "      <th>std</th>\n",
       "      <td>288.819436</td>\n",
       "      <td>1.682775e+07</td>\n",
       "      <td>5.229942e+06</td>\n",
       "      <td>2.580457e+05</td>\n",
       "      <td>6778.188308</td>\n",
       "    </tr>\n",
       "    <tr>\n",
       "      <th>min</th>\n",
       "      <td>1.000000</td>\n",
       "      <td>1.170000e+07</td>\n",
       "      <td>0.000000e+00</td>\n",
       "      <td>0.000000e+00</td>\n",
       "      <td>0.000000</td>\n",
       "    </tr>\n",
       "    <tr>\n",
       "      <th>25%</th>\n",
       "      <td>250.750000</td>\n",
       "      <td>1.380000e+07</td>\n",
       "      <td>3.197500e+04</td>\n",
       "      <td>4.717500e+02</td>\n",
       "      <td>2.000000</td>\n",
       "    </tr>\n",
       "    <tr>\n",
       "      <th>50%</th>\n",
       "      <td>500.500000</td>\n",
       "      <td>1.675000e+07</td>\n",
       "      <td>1.744500e+05</td>\n",
       "      <td>3.500000e+03</td>\n",
       "      <td>67.000000</td>\n",
       "    </tr>\n",
       "    <tr>\n",
       "      <th>75%</th>\n",
       "      <td>750.250000</td>\n",
       "      <td>2.370000e+07</td>\n",
       "      <td>8.654750e+05</td>\n",
       "      <td>2.865000e+04</td>\n",
       "      <td>472.000000</td>\n",
       "    </tr>\n",
       "    <tr>\n",
       "      <th>max</th>\n",
       "      <td>1000.000000</td>\n",
       "      <td>2.495000e+08</td>\n",
       "      <td>1.174000e+08</td>\n",
       "      <td>5.300000e+06</td>\n",
       "      <td>154000.000000</td>\n",
       "    </tr>\n",
       "  </tbody>\n",
       "</table>\n",
       "</div>"
      ],
      "text/plain": [
       "              Rank    Suscribers        Visits         Likes       Comments\n",
       "count  1000.000000  1.000000e+03  1.000000e+03  1.000000e+03    1000.000000\n",
       "mean    500.500000  2.189440e+07  1.209446e+06  5.363259e+04    1288.768000\n",
       "std     288.819436  1.682775e+07  5.229942e+06  2.580457e+05    6778.188308\n",
       "min       1.000000  1.170000e+07  0.000000e+00  0.000000e+00       0.000000\n",
       "25%     250.750000  1.380000e+07  3.197500e+04  4.717500e+02       2.000000\n",
       "50%     500.500000  1.675000e+07  1.744500e+05  3.500000e+03      67.000000\n",
       "75%     750.250000  2.370000e+07  8.654750e+05  2.865000e+04     472.000000\n",
       "max    1000.000000  2.495000e+08  1.174000e+08  5.300000e+06  154000.000000"
      ]
     },
     "execution_count": 11,
     "metadata": {},
     "output_type": "execute_result"
    }
   ],
   "source": [
    "# using a discribe functions \n",
    "df.describe()"
   ]
  },
  {
   "cell_type": "markdown",
   "metadata": {},
   "source": [
    "# **File cleanig,** \n",
    "columns convert in lowercase \n",
    "\n"
   ]
  },
  {
   "cell_type": "code",
   "execution_count": 12,
   "metadata": {},
   "outputs": [],
   "source": [
    "# columns convert is lower case \n",
    "df.columns = df.columns.str.lower()\n",
    "\n",
    "# remove space and comma \n"
   ]
  },
  {
   "cell_type": "code",
   "execution_count": 13,
   "metadata": {},
   "outputs": [],
   "source": [
    "# remove space and comma from catagotres column \n",
    "df['categories'] = df['categories'].str.replace(' ','_')\n",
    "df['categories'] = df['categories'].str.replace(',','')\n",
    "\n"
   ]
  },
  {
   "cell_type": "code",
   "execution_count": 14,
   "metadata": {},
   "outputs": [],
   "source": [
    "# chnage column name \n",
    "df.rename(columns={'suscribers':'subcribers'},inplace=True)\n"
   ]
  },
  {
   "cell_type": "code",
   "execution_count": 15,
   "metadata": {},
   "outputs": [],
   "source": [
    "# remove the sing of á í ó ú in a categories column\n",
    "df['categories'] = df['categories'].str.replace('á','a')\n",
    "df['categories'] = df['categories'].str.replace('í','i')\n",
    "df['categories'] = df['categories'].str.replace('ó','o')\n",
    "df['categories'] = df['categories'].str.replace('ú','u')\n",
    "df['categories'] = df['categories'].str.replace('ñ','n')"
   ]
  },
  {
   "cell_type": "code",
   "execution_count": 16,
   "metadata": {},
   "outputs": [],
   "source": [
    "# remove the sing of á í ó ú in a country column one line code \n",
    "\n",
    "# df['country'] = df['country'].str.replace('á','a').str.replace('í','i').str.replace('ó','o').str.replace('ú','u').str.replace('ñ','n')\n",
    "\n",
    "\n",
    "df['country'] = df['country'].str.replace('á','a')\n",
    "df['country'] = df['country'].str.replace('í','i')\n",
    "df['country'] = df['country'].str.replace('ó','o')\n",
    "df['country'] = df['country'].str.replace('ú','u')\n",
    "df['country'] = df['country'].str.replace('ñ','n')\n"
   ]
  },
  {
   "cell_type": "markdown",
   "metadata": {},
   "source": [
    "# **Missing Data/Values**"
   ]
  },
  {
   "cell_type": "code",
   "execution_count": 17,
   "metadata": {},
   "outputs": [
    {
     "data": {
      "text/plain": [
       "rank            0\n",
       "username        0\n",
       "categories    306\n",
       "subcribers      0\n",
       "country         0\n",
       "visits          0\n",
       "likes           0\n",
       "comments        0\n",
       "links           0\n",
       "dtype: int64"
      ]
     },
     "execution_count": 17,
     "metadata": {},
     "output_type": "execute_result"
    }
   ],
   "source": [
    "# find the 306 missing values in categoires column\n",
    "df.isnull().sum()\n"
   ]
  },
  {
   "cell_type": "code",
   "execution_count": 18,
   "metadata": {},
   "outputs": [
    {
     "data": {
      "text/plain": [
       "rank           0.0\n",
       "username       0.0\n",
       "categories    30.6\n",
       "subcribers     0.0\n",
       "country        0.0\n",
       "visits         0.0\n",
       "likes          0.0\n",
       "comments       0.0\n",
       "links          0.0\n",
       "dtype: float64"
      ]
     },
     "execution_count": 18,
     "metadata": {},
     "output_type": "execute_result"
    }
   ],
   "source": [
    "# check the missing values in percentage 30%  missig value is categories column \n",
    "df.isnull().sum() / len(df) * 100"
   ]
  },
  {
   "cell_type": "code",
   "execution_count": 19,
   "metadata": {},
   "outputs": [
    {
     "data": {
      "text/plain": [
       "<AxesSubplot: >"
      ]
     },
     "execution_count": 19,
     "metadata": {},
     "output_type": "execute_result"
    },
    {
     "data": {
      "image/png": "[encoded data removed]",
      "text/plain": [
       "<Figure size 640x480 with 1 Axes>"
      ]
     },
     "metadata": {},
     "output_type": "display_data"
    }
   ],
   "source": [
    "sns.heatmap(df.isnull(),yticklabels=False,cbar=False,cmap='viridis')\n"
   ]
  },
  {
   "cell_type": "code",
   "execution_count": 20,
   "metadata": {},
   "outputs": [],
   "source": [
    "# impute missing values in a categories column\n",
    "df['categories'] = df['categories'].fillna(df['categories'].mode()[0])"
   ]
  },
  {
   "cell_type": "code",
   "execution_count": 21,
   "metadata": {},
   "outputs": [
    {
     "data": {
      "text/plain": [
       "rank          0\n",
       "username      0\n",
       "categories    0\n",
       "subcribers    0\n",
       "country       0\n",
       "visits        0\n",
       "likes         0\n",
       "comments      0\n",
       "links         0\n",
       "dtype: int64"
      ]
     },
     "execution_count": 21,
     "metadata": {},
     "output_type": "execute_result"
    }
   ],
   "source": [
    "# check missing  values now there is no any missing values \n",
    "df.isnull().sum()"
   ]
  },
  {
   "cell_type": "code",
   "execution_count": 22,
   "metadata": {},
   "outputs": [
    {
     "data": {
      "text/plain": [
       "0"
      ]
     },
     "execution_count": 22,
     "metadata": {},
     "output_type": "execute_result"
    }
   ],
   "source": [
    "# check the dublicate values fine out the, no any duplicate value in dataset\n",
    "df.duplicated().sum()"
   ]
  },
  {
   "cell_type": "code",
   "execution_count": 23,
   "metadata": {},
   "outputs": [
    {
     "data": {
      "text/plain": [
       "Index(['rank', 'username', 'categories', 'subcribers', 'country', 'visits',\n",
       "       'likes', 'comments', 'links'],\n",
       "      dtype='object')"
      ]
     },
     "execution_count": 23,
     "metadata": {},
     "output_type": "execute_result"
    }
   ],
   "source": [
    "df.columns"
   ]
  },
  {
   "cell_type": "code",
   "execution_count": 24,
   "metadata": {},
   "outputs": [
    {
     "data": {
      "text/html": [
       "<div>\n",
       "<style scoped>\n",
       "    .dataframe tbody tr th:only-of-type {\n",
       "        vertical-align: middle;\n",
       "    }\n",
       "\n",
       "    .dataframe tbody tr th {\n",
       "        vertical-align: top;\n",
       "    }\n",
       "\n",
       "    .dataframe thead th {\n",
       "        text-align: right;\n",
       "    }\n",
       "</style>\n",
       "<table border=\"1\" class=\"dataframe\">\n",
       "  <thead>\n",
       "    <tr style=\"text-align: right;\">\n",
       "      <th></th>\n",
       "      <th>rank</th>\n",
       "      <th>username</th>\n",
       "      <th>categories</th>\n",
       "      <th>subcribers</th>\n",
       "      <th>country</th>\n",
       "      <th>visits</th>\n",
       "      <th>likes</th>\n",
       "      <th>comments</th>\n",
       "      <th>links</th>\n",
       "    </tr>\n",
       "  </thead>\n",
       "  <tbody>\n",
       "    <tr>\n",
       "      <th>0</th>\n",
       "      <td>1</td>\n",
       "      <td>tseries</td>\n",
       "      <td>Musica_y_baile</td>\n",
       "      <td>249500000.0</td>\n",
       "      <td>India</td>\n",
       "      <td>86200.0</td>\n",
       "      <td>2700.0</td>\n",
       "      <td>78.0</td>\n",
       "      <td>http://youtube.com/channel/UCq-Fj5jknLsUf-MWSy...</td>\n",
       "    </tr>\n",
       "    <tr>\n",
       "      <th>1</th>\n",
       "      <td>2</td>\n",
       "      <td>MrBeast</td>\n",
       "      <td>Videojuegos_Humor</td>\n",
       "      <td>183500000.0</td>\n",
       "      <td>Estados Unidos</td>\n",
       "      <td>117400000.0</td>\n",
       "      <td>5300000.0</td>\n",
       "      <td>18500.0</td>\n",
       "      <td>http://youtube.com/channel/UCX6OQ3DkcsbYNE6H8u...</td>\n",
       "    </tr>\n",
       "    <tr>\n",
       "      <th>2</th>\n",
       "      <td>3</td>\n",
       "      <td>CoComelon</td>\n",
       "      <td>Educacion</td>\n",
       "      <td>165500000.0</td>\n",
       "      <td>Unknown</td>\n",
       "      <td>7000000.0</td>\n",
       "      <td>24700.0</td>\n",
       "      <td>0.0</td>\n",
       "      <td>http://youtube.com/channel/UCbCmjCuTUZos6Inko4...</td>\n",
       "    </tr>\n",
       "    <tr>\n",
       "      <th>3</th>\n",
       "      <td>4</td>\n",
       "      <td>SETIndia</td>\n",
       "      <td>Musica_y_baile</td>\n",
       "      <td>162600000.0</td>\n",
       "      <td>India</td>\n",
       "      <td>15600.0</td>\n",
       "      <td>166.0</td>\n",
       "      <td>9.0</td>\n",
       "      <td>http://youtube.com/channel/UCpEhnqL0y41EpW2TvW...</td>\n",
       "    </tr>\n",
       "    <tr>\n",
       "      <th>4</th>\n",
       "      <td>5</td>\n",
       "      <td>KidsDianaShow</td>\n",
       "      <td>Animacion_Juguetes</td>\n",
       "      <td>113500000.0</td>\n",
       "      <td>Unknown</td>\n",
       "      <td>3900000.0</td>\n",
       "      <td>12400.0</td>\n",
       "      <td>0.0</td>\n",
       "      <td>http://youtube.com/channel/UCk8GzjMOrta8yxDcKf...</td>\n",
       "    </tr>\n",
       "  </tbody>\n",
       "</table>\n",
       "</div>"
      ],
      "text/plain": [
       "   rank       username          categories   subcribers         country  \\\n",
       "0     1        tseries      Musica_y_baile  249500000.0           India   \n",
       "1     2        MrBeast   Videojuegos_Humor  183500000.0  Estados Unidos   \n",
       "2     3      CoComelon           Educacion  165500000.0         Unknown   \n",
       "3     4       SETIndia      Musica_y_baile  162600000.0           India   \n",
       "4     5  KidsDianaShow  Animacion_Juguetes  113500000.0         Unknown   \n",
       "\n",
       "        visits      likes  comments  \\\n",
       "0      86200.0     2700.0      78.0   \n",
       "1  117400000.0  5300000.0   18500.0   \n",
       "2    7000000.0    24700.0       0.0   \n",
       "3      15600.0      166.0       9.0   \n",
       "4    3900000.0    12400.0       0.0   \n",
       "\n",
       "                                               links  \n",
       "0  http://youtube.com/channel/UCq-Fj5jknLsUf-MWSy...  \n",
       "1  http://youtube.com/channel/UCX6OQ3DkcsbYNE6H8u...  \n",
       "2  http://youtube.com/channel/UCbCmjCuTUZos6Inko4...  \n",
       "3  http://youtube.com/channel/UCpEhnqL0y41EpW2TvW...  \n",
       "4  http://youtube.com/channel/UCk8GzjMOrta8yxDcKf...  "
      ]
     },
     "execution_count": 24,
     "metadata": {},
     "output_type": "execute_result"
    }
   ],
   "source": [
    "df.head()"
   ]
  },
  {
   "cell_type": "code",
   "execution_count": 25,
   "metadata": {},
   "outputs": [
    {
     "name": "stdout",
     "output_type": "stream",
     "text": [
      "Original dataset shape: (1000, 9)\n",
      "Dataset shape without outliers: (983, 9)\n"
     ]
    }
   ],
   "source": [
    "import pandas as pd\n",
    "import numpy as np\n",
    "\n",
    "# Calculate z-scores for the 'subscribers' column\n",
    "z_scores = np.abs((df['subcribers'] - df['subcribers'].mean()) / df['subcribers'].std())\n",
    "\n",
    "# Set the threshold for outliers (e.g., z-score > 3)\n",
    "threshold = 3\n",
    "\n",
    "# Remove outliers\n",
    "df_new = df[z_scores <= threshold]\n",
    "\n",
    "# Print the shape of the original and modified dataset\n",
    "print(\"Original dataset shape:\", df.shape)\n",
    "print(\"Dataset shape without outliers:\", df_new.shape)"
   ]
  },
  {
   "cell_type": "code",
   "execution_count": 26,
   "metadata": {},
   "outputs": [
    {
     "data": {
      "text/plain": [
       "(1000, 9)"
      ]
     },
     "execution_count": 26,
     "metadata": {},
     "output_type": "execute_result"
    }
   ],
   "source": [
    "# old dataset \n",
    "df.shape"
   ]
  },
  {
   "cell_type": "code",
   "execution_count": 27,
   "metadata": {},
   "outputs": [
    {
     "data": {
      "text/plain": [
       "(983, 9)"
      ]
     },
     "execution_count": 27,
     "metadata": {},
     "output_type": "execute_result"
    }
   ],
   "source": [
    "# new dataset\n",
    "df_new.shape"
   ]
  },
  {
   "cell_type": "markdown",
   "metadata": {},
   "source": [
    "# **Trend Analysis:**\n",
    "- dentify trends among the top YouTube streamers. Which categories are the most popular?\n",
    "- Is there a correlation between the number of subscribers and the number of likes or comments?\n",
    "\n"
   ]
  },
  {
   "cell_type": "code",
   "execution_count": 28,
   "metadata": {},
   "outputs": [],
   "source": [
    "#dentify trends among the top YouTube streamers. Which categories are the most popular?\n",
    "\n",
    "\n"
   ]
  },
  {
   "cell_type": "code",
   "execution_count": 29,
   "metadata": {},
   "outputs": [
    {
     "name": "stdout",
     "output_type": "stream",
     "text": [
      "Correlation between subcribers and Likes: 0.0464605348077875\n",
      "Correlation between subcribers and Comments: 0.030507782649834773\n"
     ]
    }
   ],
   "source": [
    "likes_correlation = df_new['subcribers'].corr(df['likes'])\n",
    "\n",
    "# Calculate the correlation between Subscribers and Comments\n",
    "comments_correlation = df_new['subcribers'].corr(df['comments'])\n",
    "\n",
    "print(\"Correlation between subcribers and Likes:\", likes_correlation)\n",
    "print(\"Correlation between subcribers and Comments:\", comments_correlation)"
   ]
  },
  {
   "cell_type": "code",
   "execution_count": 30,
   "metadata": {},
   "outputs": [
    {
     "name": "stdout",
     "output_type": "stream",
     "text": [
      "The Mean of Subcribers is: 20278840.28\n",
      "The Median of Subscribers is: 16600000.0\n",
      "The Mode of Subcribers is: 0    12600000.0\n",
      "Name: subcribers, dtype: float64\n",
      "The Standard Deviation of Subcribers is: 9846347.03\n"
     ]
    }
   ],
   "source": [
    "\n",
    "# Calculate the mean of the Subscribers column\n",
    "mean_subscribers = df_new['subcribers'].mean()\n",
    "print(f\"The Mean of Subcribers is: {round(mean_subscribers, 2)}\")\n",
    "# Calculate the median of the Subscribers column\n",
    "median_subscribers = df_new['subcribers'].median()\n",
    "print(f\"The Median of Subscribers is: {round(median_subscribers, 2)}\")\n",
    "# Calculate the mode of the Subscribers column\n",
    "mode_subscribers = df_new['subcribers'].mode()\n",
    "print(f\"The Mode of Subcribers is: {round(mode_subscribers, 2)}\")\n",
    "# Calculate the standard deviation of the Subscribers column\n",
    "std_subscribers = df_new['subcribers'].std()\n",
    "print(f\"The Standard Deviation of Subcribers is: {round(std_subscribers, 2)}\")"
   ]
  },
  {
   "cell_type": "markdown",
   "metadata": {},
   "source": [
    "# **Audience Study:**\n",
    "- Analyze the distribution of streamers\n",
    "audiences by country. Are there regional preferences for\n",
    "specific content categories?"
   ]
  },
  {
   "cell_type": "code",
   "execution_count": 31,
   "metadata": {},
   "outputs": [
    {
     "data": {
      "text/plain": [
       "Index(['rank', 'username', 'categories', 'subcribers', 'country', 'visits',\n",
       "       'likes', 'comments', 'links'],\n",
       "      dtype='object')"
      ]
     },
     "execution_count": 31,
     "metadata": {},
     "output_type": "execute_result"
    }
   ],
   "source": [
    "df.columns"
   ]
  },
  {
   "cell_type": "code",
   "execution_count": 32,
   "metadata": {},
   "outputs": [
    {
     "name": "stdout",
     "output_type": "stream",
     "text": [
      "['India' 'Estados Unidos' 'Unknown' 'Brasil' 'México' 'Rusia' 'Pakistan'\n",
      " 'Filipinas' 'Indonesia' 'Tailandia' 'Francia' 'Colombia' 'Iraq' 'Japon'\n",
      " 'Ecuador' 'Argentina' 'Turquia' 'Arabia Saudita' 'El Salvador'\n",
      " 'Bangladesh' 'Reino Unido' 'Argelia' 'Espana' 'Peru' 'Egipto' 'Jordania'\n",
      " 'Marruecos' 'Singapur' 'Somalia']\n"
     ]
    }
   ],
   "source": [
    "country = df.loc[:,\"country\"].unique()\n",
    "print(country)"
   ]
  },
  {
   "cell_type": "code",
   "execution_count": 33,
   "metadata": {},
   "outputs": [
    {
     "name": "stdout",
     "output_type": "stream",
     "text": [
      "Estados Unidos    293\n",
      "India             241\n",
      "Unknown           171\n",
      "Brasil             64\n",
      "México             58\n",
      "Indonesia          38\n",
      "Rusia              25\n",
      "Tailandia          18\n",
      "Colombia           16\n",
      "Filipinas          13\n",
      "Pakistan           11\n",
      "Argentina           7\n",
      "Egipto              5\n",
      "Francia             4\n",
      "Turquia             4\n",
      "Arabia Saudita      4\n",
      "Espana              4\n",
      "Iraq                4\n",
      "Japon               3\n",
      "Bangladesh          3\n",
      "Reino Unido         3\n",
      "Marruecos           2\n",
      "Argelia             2\n",
      "Peru                2\n",
      "Singapur            1\n",
      "Ecuador             1\n",
      "Jordania            1\n",
      "El Salvador         1\n",
      "Somalia             1\n",
      "Name: country, dtype: int64\n"
     ]
    }
   ],
   "source": [
    "country = df.loc[:,\"country\"].value_counts()\n",
    "print(country)"
   ]
  },
  {
   "cell_type": "code",
   "execution_count": 34,
   "metadata": {},
   "outputs": [
    {
     "data": {
      "text/plain": [
       "0      False\n",
       "1      False\n",
       "2      False\n",
       "3      False\n",
       "4      False\n",
       "       ...  \n",
       "995    False\n",
       "996    False\n",
       "997    False\n",
       "998    False\n",
       "999    False\n",
       "Name: country, Length: 1000, dtype: bool"
      ]
     },
     "execution_count": 34,
     "metadata": {},
     "output_type": "execute_result"
    }
   ],
   "source": [
    "df.loc[:,\"country\"] == \"'Pakistan'\""
   ]
  },
  {
   "cell_type": "code",
   "execution_count": 35,
   "metadata": {},
   "outputs": [
    {
     "data": {
      "text/plain": [
       "<pandas.core.groupby.generic.DataFrameGroupBy object at 0x000001C9013DEE90>"
      ]
     },
     "execution_count": 35,
     "metadata": {},
     "output_type": "execute_result"
    }
   ],
   "source": [
    "df.groupby(\"country\")"
   ]
  },
  {
   "cell_type": "code",
   "execution_count": 36,
   "metadata": {},
   "outputs": [],
   "source": [
    "country_groupby = df.groupby(\"country\")"
   ]
  },
  {
   "cell_type": "code",
   "execution_count": 37,
   "metadata": {},
   "outputs": [
    {
     "data": {
      "text/html": [
       "<div>\n",
       "<style scoped>\n",
       "    .dataframe tbody tr th:only-of-type {\n",
       "        vertical-align: middle;\n",
       "    }\n",
       "\n",
       "    .dataframe tbody tr th {\n",
       "        vertical-align: top;\n",
       "    }\n",
       "\n",
       "    .dataframe thead th {\n",
       "        text-align: right;\n",
       "    }\n",
       "</style>\n",
       "<table border=\"1\" class=\"dataframe\">\n",
       "  <thead>\n",
       "    <tr style=\"text-align: right;\">\n",
       "      <th></th>\n",
       "      <th>rank</th>\n",
       "      <th>username</th>\n",
       "      <th>categories</th>\n",
       "      <th>subcribers</th>\n",
       "      <th>country</th>\n",
       "      <th>visits</th>\n",
       "      <th>likes</th>\n",
       "      <th>comments</th>\n",
       "      <th>links</th>\n",
       "    </tr>\n",
       "  </thead>\n",
       "  <tbody>\n",
       "    <tr>\n",
       "      <th>45</th>\n",
       "      <td>46</td>\n",
       "      <td>HarPalGeoOfficial</td>\n",
       "      <td>Peliculas_Animacion</td>\n",
       "      <td>46400000.0</td>\n",
       "      <td>Pakistan</td>\n",
       "      <td>11000.0</td>\n",
       "      <td>299.0</td>\n",
       "      <td>2.0</td>\n",
       "      <td>http://youtube.com/channel/UCe9JSDmyqNgA_l2BzG...</td>\n",
       "    </tr>\n",
       "    <tr>\n",
       "      <th>47</th>\n",
       "      <td>48</td>\n",
       "      <td>ARYDigitalasia</td>\n",
       "      <td>Musica_y_baile</td>\n",
       "      <td>45900000.0</td>\n",
       "      <td>Pakistan</td>\n",
       "      <td>20000.0</td>\n",
       "      <td>242.0</td>\n",
       "      <td>13.0</td>\n",
       "      <td>http://youtube.com/channel/UC4JCksJF76g_MdzPVB...</td>\n",
       "    </tr>\n",
       "    <tr>\n",
       "      <th>150</th>\n",
       "      <td>151</td>\n",
       "      <td>HUMTV</td>\n",
       "      <td>Musica_y_baile</td>\n",
       "      <td>30200000.0</td>\n",
       "      <td>Pakistan</td>\n",
       "      <td>1100.0</td>\n",
       "      <td>7.0</td>\n",
       "      <td>0.0</td>\n",
       "      <td>http://youtube.com/channel/UCEeEQxm6qc_qaTE7qT...</td>\n",
       "    </tr>\n",
       "    <tr>\n",
       "      <th>369</th>\n",
       "      <td>370</td>\n",
       "      <td>tabii.urdu</td>\n",
       "      <td>Musica_y_baile</td>\n",
       "      <td>19800000.0</td>\n",
       "      <td>Pakistan</td>\n",
       "      <td>17900.0</td>\n",
       "      <td>485.0</td>\n",
       "      <td>23.0</td>\n",
       "      <td>http://youtube.com/channel/UCfiM9_Me5QJBEr0PIt...</td>\n",
       "    </tr>\n",
       "    <tr>\n",
       "      <th>655</th>\n",
       "      <td>656</td>\n",
       "      <td>cokestudio</td>\n",
       "      <td>Musica_y_baile_Peliculas</td>\n",
       "      <td>14700000.0</td>\n",
       "      <td>Pakistan</td>\n",
       "      <td>1800000.0</td>\n",
       "      <td>1400.0</td>\n",
       "      <td>47.0</td>\n",
       "      <td>http://youtube.com/channel/UCM1VesJtJ9vTXcMLLr...</td>\n",
       "    </tr>\n",
       "    <tr>\n",
       "      <th>722</th>\n",
       "      <td>723</td>\n",
       "      <td>geonews</td>\n",
       "      <td>Musica_y_baile</td>\n",
       "      <td>14000000.0</td>\n",
       "      <td>Pakistan</td>\n",
       "      <td>3900.0</td>\n",
       "      <td>47.0</td>\n",
       "      <td>3.0</td>\n",
       "      <td>http://youtube.com/channel/UC_vt34wimdCzdkrzVe...</td>\n",
       "    </tr>\n",
       "    <tr>\n",
       "      <th>901</th>\n",
       "      <td>902</td>\n",
       "      <td>ArynewsTvofficial</td>\n",
       "      <td>Noticias_y_Politica</td>\n",
       "      <td>12400000.0</td>\n",
       "      <td>Pakistan</td>\n",
       "      <td>3600.0</td>\n",
       "      <td>75.0</td>\n",
       "      <td>2.0</td>\n",
       "      <td>http://youtube.com/channel/UCMmpLL2ucRHAXbNHiC...</td>\n",
       "    </tr>\n",
       "    <tr>\n",
       "      <th>937</th>\n",
       "      <td>938</td>\n",
       "      <td>MUSATANVEER</td>\n",
       "      <td>Musica_y_baile</td>\n",
       "      <td>12200000.0</td>\n",
       "      <td>Pakistan</td>\n",
       "      <td>166700.0</td>\n",
       "      <td>3200.0</td>\n",
       "      <td>43.0</td>\n",
       "      <td>http://youtube.com/channel/UC6jRgc_w-nCk7oAoM6...</td>\n",
       "    </tr>\n",
       "    <tr>\n",
       "      <th>947</th>\n",
       "      <td>948</td>\n",
       "      <td>HiTechIslamic</td>\n",
       "      <td>Musica_y_baile</td>\n",
       "      <td>12100000.0</td>\n",
       "      <td>Pakistan</td>\n",
       "      <td>62200.0</td>\n",
       "      <td>810.0</td>\n",
       "      <td>59.0</td>\n",
       "      <td>http://youtube.com/channel/UCtKKyuORzErSd7TWfk...</td>\n",
       "    </tr>\n",
       "    <tr>\n",
       "      <th>953</th>\n",
       "      <td>954</td>\n",
       "      <td>HiTechIslamic</td>\n",
       "      <td>Musica_y_baile</td>\n",
       "      <td>12100000.0</td>\n",
       "      <td>Pakistan</td>\n",
       "      <td>62200.0</td>\n",
       "      <td>810.0</td>\n",
       "      <td>59.0</td>\n",
       "      <td>http://youtube.com/channel/UCtKKyuORzErSd7TWfk...</td>\n",
       "    </tr>\n",
       "    <tr>\n",
       "      <th>954</th>\n",
       "      <td>955</td>\n",
       "      <td>HeeraGoldOfficial</td>\n",
       "      <td>Vlogs_diarios</td>\n",
       "      <td>12000000.0</td>\n",
       "      <td>Pakistan</td>\n",
       "      <td>30600.0</td>\n",
       "      <td>953.0</td>\n",
       "      <td>70.0</td>\n",
       "      <td>http://youtube.com/channel/UC9dfnBWlg5h1Fr5_w8...</td>\n",
       "    </tr>\n",
       "  </tbody>\n",
       "</table>\n",
       "</div>"
      ],
      "text/plain": [
       "     rank           username                categories  subcribers   country  \\\n",
       "45     46  HarPalGeoOfficial       Peliculas_Animacion  46400000.0  Pakistan   \n",
       "47     48     ARYDigitalasia            Musica_y_baile  45900000.0  Pakistan   \n",
       "150   151              HUMTV            Musica_y_baile  30200000.0  Pakistan   \n",
       "369   370         tabii.urdu            Musica_y_baile  19800000.0  Pakistan   \n",
       "655   656         cokestudio  Musica_y_baile_Peliculas  14700000.0  Pakistan   \n",
       "722   723            geonews            Musica_y_baile  14000000.0  Pakistan   \n",
       "901   902  ArynewsTvofficial       Noticias_y_Politica  12400000.0  Pakistan   \n",
       "937   938        MUSATANVEER            Musica_y_baile  12200000.0  Pakistan   \n",
       "947   948      HiTechIslamic            Musica_y_baile  12100000.0  Pakistan   \n",
       "953   954      HiTechIslamic            Musica_y_baile  12100000.0  Pakistan   \n",
       "954   955  HeeraGoldOfficial             Vlogs_diarios  12000000.0  Pakistan   \n",
       "\n",
       "        visits   likes  comments  \\\n",
       "45     11000.0   299.0       2.0   \n",
       "47     20000.0   242.0      13.0   \n",
       "150     1100.0     7.0       0.0   \n",
       "369    17900.0   485.0      23.0   \n",
       "655  1800000.0  1400.0      47.0   \n",
       "722     3900.0    47.0       3.0   \n",
       "901     3600.0    75.0       2.0   \n",
       "937   166700.0  3200.0      43.0   \n",
       "947    62200.0   810.0      59.0   \n",
       "953    62200.0   810.0      59.0   \n",
       "954    30600.0   953.0      70.0   \n",
       "\n",
       "                                                 links  \n",
       "45   http://youtube.com/channel/UCe9JSDmyqNgA_l2BzG...  \n",
       "47   http://youtube.com/channel/UC4JCksJF76g_MdzPVB...  \n",
       "150  http://youtube.com/channel/UCEeEQxm6qc_qaTE7qT...  \n",
       "369  http://youtube.com/channel/UCfiM9_Me5QJBEr0PIt...  \n",
       "655  http://youtube.com/channel/UCM1VesJtJ9vTXcMLLr...  \n",
       "722  http://youtube.com/channel/UC_vt34wimdCzdkrzVe...  \n",
       "901  http://youtube.com/channel/UCMmpLL2ucRHAXbNHiC...  \n",
       "937  http://youtube.com/channel/UC6jRgc_w-nCk7oAoM6...  \n",
       "947  http://youtube.com/channel/UCtKKyuORzErSd7TWfk...  \n",
       "953  http://youtube.com/channel/UCtKKyuORzErSd7TWfk...  \n",
       "954  http://youtube.com/channel/UC9dfnBWlg5h1Fr5_w8...  "
      ]
     },
     "execution_count": 37,
     "metadata": {},
     "output_type": "execute_result"
    }
   ],
   "source": [
    "country_groupby.get_group('Pakistan')"
   ]
  },
  {
   "cell_type": "code",
   "execution_count": 38,
   "metadata": {},
   "outputs": [
    {
     "data": {
      "text/html": [
       "<div>\n",
       "<style scoped>\n",
       "    .dataframe tbody tr th:only-of-type {\n",
       "        vertical-align: middle;\n",
       "    }\n",
       "\n",
       "    .dataframe tbody tr th {\n",
       "        vertical-align: top;\n",
       "    }\n",
       "\n",
       "    .dataframe thead th {\n",
       "        text-align: right;\n",
       "    }\n",
       "</style>\n",
       "<table border=\"1\" class=\"dataframe\">\n",
       "  <thead>\n",
       "    <tr style=\"text-align: right;\">\n",
       "      <th></th>\n",
       "      <th>rank</th>\n",
       "      <th>username</th>\n",
       "      <th>categories</th>\n",
       "      <th>subcribers</th>\n",
       "      <th>country</th>\n",
       "      <th>visits</th>\n",
       "      <th>likes</th>\n",
       "      <th>comments</th>\n",
       "      <th>links</th>\n",
       "    </tr>\n",
       "  </thead>\n",
       "  <tbody>\n",
       "    <tr>\n",
       "      <th>2</th>\n",
       "      <td>3</td>\n",
       "      <td>CoComelon</td>\n",
       "      <td>Educacion</td>\n",
       "      <td>165500000.0</td>\n",
       "      <td>Unknown</td>\n",
       "      <td>7000000.0</td>\n",
       "      <td>24700.0</td>\n",
       "      <td>0.0</td>\n",
       "      <td>http://youtube.com/channel/UCbCmjCuTUZos6Inko4...</td>\n",
       "    </tr>\n",
       "    <tr>\n",
       "      <th>4</th>\n",
       "      <td>5</td>\n",
       "      <td>KidsDianaShow</td>\n",
       "      <td>Animacion_Juguetes</td>\n",
       "      <td>113500000.0</td>\n",
       "      <td>Unknown</td>\n",
       "      <td>3900000.0</td>\n",
       "      <td>12400.0</td>\n",
       "      <td>0.0</td>\n",
       "      <td>http://youtube.com/channel/UCk8GzjMOrta8yxDcKf...</td>\n",
       "    </tr>\n",
       "    <tr>\n",
       "      <th>6</th>\n",
       "      <td>7</td>\n",
       "      <td>LikeNastyaofficial</td>\n",
       "      <td>Juguetes</td>\n",
       "      <td>107500000.0</td>\n",
       "      <td>Unknown</td>\n",
       "      <td>2600000.0</td>\n",
       "      <td>28000.0</td>\n",
       "      <td>0.0</td>\n",
       "      <td>http://youtube.com/channel/UCJplp5SjeGSdVdwsfb...</td>\n",
       "    </tr>\n",
       "    <tr>\n",
       "      <th>7</th>\n",
       "      <td>8</td>\n",
       "      <td>VladandNiki</td>\n",
       "      <td>Animacion_Juguetes</td>\n",
       "      <td>101400000.0</td>\n",
       "      <td>Unknown</td>\n",
       "      <td>4100000.0</td>\n",
       "      <td>22100.0</td>\n",
       "      <td>0.0</td>\n",
       "      <td>http://youtube.com/channel/UCvlE5gTbOvjiolFlEm...</td>\n",
       "    </tr>\n",
       "    <tr>\n",
       "      <th>17</th>\n",
       "      <td>18</td>\n",
       "      <td>Pinkfong</td>\n",
       "      <td>Animacion_Juguetes</td>\n",
       "      <td>69600000.0</td>\n",
       "      <td>Unknown</td>\n",
       "      <td>506400.0</td>\n",
       "      <td>397.0</td>\n",
       "      <td>0.0</td>\n",
       "      <td>http://youtube.com/channel/UCcdwLMPsaU2ezNSJU1...</td>\n",
       "    </tr>\n",
       "    <tr>\n",
       "      <th>18</th>\n",
       "      <td>19</td>\n",
       "      <td>ChuChuTV</td>\n",
       "      <td>Juguetes</td>\n",
       "      <td>67500000.0</td>\n",
       "      <td>Unknown</td>\n",
       "      <td>652100.0</td>\n",
       "      <td>17800.0</td>\n",
       "      <td>0.0</td>\n",
       "      <td>http://youtube.com/channel/UCBnZ16ahKA2DZ_T5W0...</td>\n",
       "    </tr>\n",
       "    <tr>\n",
       "      <th>25</th>\n",
       "      <td>26</td>\n",
       "      <td>ElReinoInfantil</td>\n",
       "      <td>Musica_y_baile</td>\n",
       "      <td>59700000.0</td>\n",
       "      <td>Unknown</td>\n",
       "      <td>393000.0</td>\n",
       "      <td>2600.0</td>\n",
       "      <td>0.0</td>\n",
       "      <td>http://youtube.com/channel/UCK1i2UviaXLUNrZlAF...</td>\n",
       "    </tr>\n",
       "    <tr>\n",
       "      <th>28</th>\n",
       "      <td>29</td>\n",
       "      <td>WaveMusicIndia</td>\n",
       "      <td>Musica_y_baile</td>\n",
       "      <td>58700000.0</td>\n",
       "      <td>Unknown</td>\n",
       "      <td>36600.0</td>\n",
       "      <td>792.0</td>\n",
       "      <td>54.0</td>\n",
       "      <td>http://youtube.com/channel/UC22nIfOTM7KLIQuFGM...</td>\n",
       "    </tr>\n",
       "    <tr>\n",
       "      <th>32</th>\n",
       "      <td>33</td>\n",
       "      <td>infobellshindirhymes</td>\n",
       "      <td>Educacion</td>\n",
       "      <td>55700000.0</td>\n",
       "      <td>Unknown</td>\n",
       "      <td>1200000.0</td>\n",
       "      <td>34700.0</td>\n",
       "      <td>0.0</td>\n",
       "      <td>http://youtube.com/channel/UC1ciY6kR3yj3kaKZ6R...</td>\n",
       "    </tr>\n",
       "    <tr>\n",
       "      <th>36</th>\n",
       "      <td>37</td>\n",
       "      <td>BillionSurpriseToys</td>\n",
       "      <td>Juguetes</td>\n",
       "      <td>53100000.0</td>\n",
       "      <td>Unknown</td>\n",
       "      <td>1600000.0</td>\n",
       "      <td>0.0</td>\n",
       "      <td>0.0</td>\n",
       "      <td>http://youtube.com/channel/UCRx3mKNUdl8QE06nEu...</td>\n",
       "    </tr>\n",
       "    <tr>\n",
       "      <th>41</th>\n",
       "      <td>42</td>\n",
       "      <td>getmovies</td>\n",
       "      <td>Musica_y_baile</td>\n",
       "      <td>48100000.0</td>\n",
       "      <td>Unknown</td>\n",
       "      <td>55700.0</td>\n",
       "      <td>329.0</td>\n",
       "      <td>0.0</td>\n",
       "      <td>http://youtube.com/channel/UClZkHt2kNIgyrTTPnS...</td>\n",
       "    </tr>\n",
       "    <tr>\n",
       "      <th>46</th>\n",
       "      <td>47</td>\n",
       "      <td>vootkids</td>\n",
       "      <td>Musica_y_baile</td>\n",
       "      <td>46000000.0</td>\n",
       "      <td>Unknown</td>\n",
       "      <td>540900.0</td>\n",
       "      <td>3400.0</td>\n",
       "      <td>0.0</td>\n",
       "      <td>http://youtube.com/channel/UCJg19noZp7-BYIGvyp...</td>\n",
       "    </tr>\n",
       "    <tr>\n",
       "      <th>52</th>\n",
       "      <td>53</td>\n",
       "      <td>KatyPerry</td>\n",
       "      <td>Musica_y_baile</td>\n",
       "      <td>44400000.0</td>\n",
       "      <td>Unknown</td>\n",
       "      <td>101400.0</td>\n",
       "      <td>7500.0</td>\n",
       "      <td>177.0</td>\n",
       "      <td>http://youtube.com/channel/UCYvmuw-JtVrTZQ-7Y4...</td>\n",
       "    </tr>\n",
       "    <tr>\n",
       "      <th>55</th>\n",
       "      <td>56</td>\n",
       "      <td>MashaBearRUSSIAN</td>\n",
       "      <td>Musica_y_baile</td>\n",
       "      <td>44200000.0</td>\n",
       "      <td>Unknown</td>\n",
       "      <td>664500.0</td>\n",
       "      <td>5700.0</td>\n",
       "      <td>0.0</td>\n",
       "      <td>http://youtube.com/channel/UCRv76wLBC73jiP7LX4...</td>\n",
       "    </tr>\n",
       "    <tr>\n",
       "      <th>57</th>\n",
       "      <td>58</td>\n",
       "      <td>MashaBearEN</td>\n",
       "      <td>Peliculas_Animacion</td>\n",
       "      <td>43700000.0</td>\n",
       "      <td>Unknown</td>\n",
       "      <td>856200.0</td>\n",
       "      <td>7500.0</td>\n",
       "      <td>0.0</td>\n",
       "      <td>http://youtube.com/channel/UCu59yAFE8fM0sVNTip...</td>\n",
       "    </tr>\n",
       "    <tr>\n",
       "      <th>59</th>\n",
       "      <td>60</td>\n",
       "      <td>toysandcolors</td>\n",
       "      <td>Peliculas_Juguetes</td>\n",
       "      <td>42900000.0</td>\n",
       "      <td>Unknown</td>\n",
       "      <td>2000000.0</td>\n",
       "      <td>4600.0</td>\n",
       "      <td>0.0</td>\n",
       "      <td>http://youtube.com/channel/UCgFXm4TI8htWmCyJ6c...</td>\n",
       "    </tr>\n",
       "    <tr>\n",
       "      <th>61</th>\n",
       "      <td>62</td>\n",
       "      <td>LikeNastya_Show</td>\n",
       "      <td>Peliculas_Juguetes</td>\n",
       "      <td>42500000.0</td>\n",
       "      <td>Unknown</td>\n",
       "      <td>972200.0</td>\n",
       "      <td>2400.0</td>\n",
       "      <td>0.0</td>\n",
       "      <td>http://youtube.com/channel/UCS94J1s6-qc8v7btCd...</td>\n",
       "    </tr>\n",
       "    <tr>\n",
       "      <th>65</th>\n",
       "      <td>66</td>\n",
       "      <td>LittleBabyBum</td>\n",
       "      <td>Animacion_Juguetes</td>\n",
       "      <td>41000000.0</td>\n",
       "      <td>Unknown</td>\n",
       "      <td>99000.0</td>\n",
       "      <td>184.0</td>\n",
       "      <td>0.0</td>\n",
       "      <td>http://youtube.com/channel/UCKAqou7V9FAWXpZd9x...</td>\n",
       "    </tr>\n",
       "    <tr>\n",
       "      <th>66</th>\n",
       "      <td>67</td>\n",
       "      <td>shfa2</td>\n",
       "      <td>Animacion_Juguetes</td>\n",
       "      <td>40600000.0</td>\n",
       "      <td>Unknown</td>\n",
       "      <td>585500.0</td>\n",
       "      <td>4800.0</td>\n",
       "      <td>0.0</td>\n",
       "      <td>http://youtube.com/channel/UCQ7x25F6YXY9DvGeHF...</td>\n",
       "    </tr>\n",
       "    <tr>\n",
       "      <th>69</th>\n",
       "      <td>70</td>\n",
       "      <td>SuperSimpleSongs</td>\n",
       "      <td>Musica_y_baile</td>\n",
       "      <td>39900000.0</td>\n",
       "      <td>Unknown</td>\n",
       "      <td>648400.0</td>\n",
       "      <td>10100.0</td>\n",
       "      <td>0.0</td>\n",
       "      <td>http://youtube.com/channel/UCLsooMJoIpl_7ux2jv...</td>\n",
       "    </tr>\n",
       "  </tbody>\n",
       "</table>\n",
       "</div>"
      ],
      "text/plain": [
       "    rank              username           categories   subcribers  country  \\\n",
       "2      3             CoComelon            Educacion  165500000.0  Unknown   \n",
       "4      5         KidsDianaShow   Animacion_Juguetes  113500000.0  Unknown   \n",
       "6      7    LikeNastyaofficial             Juguetes  107500000.0  Unknown   \n",
       "7      8           VladandNiki   Animacion_Juguetes  101400000.0  Unknown   \n",
       "17    18              Pinkfong   Animacion_Juguetes   69600000.0  Unknown   \n",
       "18    19              ChuChuTV             Juguetes   67500000.0  Unknown   \n",
       "25    26       ElReinoInfantil       Musica_y_baile   59700000.0  Unknown   \n",
       "28    29        WaveMusicIndia       Musica_y_baile   58700000.0  Unknown   \n",
       "32    33  infobellshindirhymes            Educacion   55700000.0  Unknown   \n",
       "36    37   BillionSurpriseToys             Juguetes   53100000.0  Unknown   \n",
       "41    42             getmovies       Musica_y_baile   48100000.0  Unknown   \n",
       "46    47              vootkids       Musica_y_baile   46000000.0  Unknown   \n",
       "52    53             KatyPerry       Musica_y_baile   44400000.0  Unknown   \n",
       "55    56      MashaBearRUSSIAN       Musica_y_baile   44200000.0  Unknown   \n",
       "57    58           MashaBearEN  Peliculas_Animacion   43700000.0  Unknown   \n",
       "59    60         toysandcolors   Peliculas_Juguetes   42900000.0  Unknown   \n",
       "61    62       LikeNastya_Show   Peliculas_Juguetes   42500000.0  Unknown   \n",
       "65    66         LittleBabyBum   Animacion_Juguetes   41000000.0  Unknown   \n",
       "66    67                 shfa2   Animacion_Juguetes   40600000.0  Unknown   \n",
       "69    70      SuperSimpleSongs       Musica_y_baile   39900000.0  Unknown   \n",
       "\n",
       "       visits    likes  comments  \\\n",
       "2   7000000.0  24700.0       0.0   \n",
       "4   3900000.0  12400.0       0.0   \n",
       "6   2600000.0  28000.0       0.0   \n",
       "7   4100000.0  22100.0       0.0   \n",
       "17   506400.0    397.0       0.0   \n",
       "18   652100.0  17800.0       0.0   \n",
       "25   393000.0   2600.0       0.0   \n",
       "28    36600.0    792.0      54.0   \n",
       "32  1200000.0  34700.0       0.0   \n",
       "36  1600000.0      0.0       0.0   \n",
       "41    55700.0    329.0       0.0   \n",
       "46   540900.0   3400.0       0.0   \n",
       "52   101400.0   7500.0     177.0   \n",
       "55   664500.0   5700.0       0.0   \n",
       "57   856200.0   7500.0       0.0   \n",
       "59  2000000.0   4600.0       0.0   \n",
       "61   972200.0   2400.0       0.0   \n",
       "65    99000.0    184.0       0.0   \n",
       "66   585500.0   4800.0       0.0   \n",
       "69   648400.0  10100.0       0.0   \n",
       "\n",
       "                                                links  \n",
       "2   http://youtube.com/channel/UCbCmjCuTUZos6Inko4...  \n",
       "4   http://youtube.com/channel/UCk8GzjMOrta8yxDcKf...  \n",
       "6   http://youtube.com/channel/UCJplp5SjeGSdVdwsfb...  \n",
       "7   http://youtube.com/channel/UCvlE5gTbOvjiolFlEm...  \n",
       "17  http://youtube.com/channel/UCcdwLMPsaU2ezNSJU1...  \n",
       "18  http://youtube.com/channel/UCBnZ16ahKA2DZ_T5W0...  \n",
       "25  http://youtube.com/channel/UCK1i2UviaXLUNrZlAF...  \n",
       "28  http://youtube.com/channel/UC22nIfOTM7KLIQuFGM...  \n",
       "32  http://youtube.com/channel/UC1ciY6kR3yj3kaKZ6R...  \n",
       "36  http://youtube.com/channel/UCRx3mKNUdl8QE06nEu...  \n",
       "41  http://youtube.com/channel/UClZkHt2kNIgyrTTPnS...  \n",
       "46  http://youtube.com/channel/UCJg19noZp7-BYIGvyp...  \n",
       "52  http://youtube.com/channel/UCYvmuw-JtVrTZQ-7Y4...  \n",
       "55  http://youtube.com/channel/UCRv76wLBC73jiP7LX4...  \n",
       "57  http://youtube.com/channel/UCu59yAFE8fM0sVNTip...  \n",
       "59  http://youtube.com/channel/UCgFXm4TI8htWmCyJ6c...  \n",
       "61  http://youtube.com/channel/UCS94J1s6-qc8v7btCd...  \n",
       "65  http://youtube.com/channel/UCKAqou7V9FAWXpZd9x...  \n",
       "66  http://youtube.com/channel/UCQ7x25F6YXY9DvGeHF...  \n",
       "69  http://youtube.com/channel/UCLsooMJoIpl_7ux2jv...  "
      ]
     },
     "execution_count": 38,
     "metadata": {},
     "output_type": "execute_result"
    }
   ],
   "source": [
    "country_groupby.get_group('Unknown').head(20)\n",
    "\n"
   ]
  },
  {
   "cell_type": "code",
   "execution_count": 39,
   "metadata": {},
   "outputs": [],
   "source": [
    "df['categories'] = df['categories'].str.replace('Educacion','Education')\n"
   ]
  },
  {
   "cell_type": "code",
   "execution_count": 40,
   "metadata": {},
   "outputs": [
    {
     "data": {
      "text/plain": [
       "Musica_y_baile                 53\n",
       "Animacion_Juguetes             28\n",
       "Peliculas_Animacion            10\n",
       "Education                       9\n",
       "Juguetes                        9\n",
       "Peliculas_Juguetes              9\n",
       "Animacion                       8\n",
       "Musica_y_baile_Animacion        8\n",
       "Vlogs_diarios                   7\n",
       "Peliculas_Humor                 6\n",
       "Musica_y_baile_Peliculas        6\n",
       "Juguetes_Coches_y_vehiculos     4\n",
       "Animacion_Humor                 3\n",
       "Videojuegos_Juguetes            2\n",
       "Education_Juguetes              2\n",
       "Ciencia_y_tecnologia            2\n",
       "Musica_y_baile_Juguetes         1\n",
       "Comida_y_bebida                 1\n",
       "Peliculas_Videojuegos           1\n",
       "Peliculas                       1\n",
       "Comida_y_bebida_Juguetes        1\n",
       "Name: categories, dtype: int64"
      ]
     },
     "execution_count": 40,
     "metadata": {},
     "output_type": "execute_result"
    }
   ],
   "source": [
    "country_groupby.get_group('Unknown')['categories'].value_counts()\n"
   ]
  },
  {
   "cell_type": "code",
   "execution_count": 41,
   "metadata": {},
   "outputs": [
    {
     "data": {
      "text/html": [
       "<div>\n",
       "<style scoped>\n",
       "    .dataframe tbody tr th:only-of-type {\n",
       "        vertical-align: middle;\n",
       "    }\n",
       "\n",
       "    .dataframe tbody tr th {\n",
       "        vertical-align: top;\n",
       "    }\n",
       "\n",
       "    .dataframe thead th {\n",
       "        text-align: right;\n",
       "    }\n",
       "</style>\n",
       "<table border=\"1\" class=\"dataframe\">\n",
       "  <thead>\n",
       "    <tr style=\"text-align: right;\">\n",
       "      <th></th>\n",
       "      <th>rank</th>\n",
       "      <th>username</th>\n",
       "      <th>categories</th>\n",
       "      <th>subcribers</th>\n",
       "      <th>country</th>\n",
       "      <th>visits</th>\n",
       "      <th>likes</th>\n",
       "      <th>comments</th>\n",
       "      <th>links</th>\n",
       "    </tr>\n",
       "  </thead>\n",
       "  <tbody>\n",
       "    <tr>\n",
       "      <th>0</th>\n",
       "      <td>1</td>\n",
       "      <td>tseries</td>\n",
       "      <td>Musica_y_baile</td>\n",
       "      <td>249500000.0</td>\n",
       "      <td>India</td>\n",
       "      <td>86200.0</td>\n",
       "      <td>2700.0</td>\n",
       "      <td>78.0</td>\n",
       "      <td>http://youtube.com/channel/UCq-Fj5jknLsUf-MWSy...</td>\n",
       "    </tr>\n",
       "    <tr>\n",
       "      <th>3</th>\n",
       "      <td>4</td>\n",
       "      <td>SETIndia</td>\n",
       "      <td>Musica_y_baile</td>\n",
       "      <td>162600000.0</td>\n",
       "      <td>India</td>\n",
       "      <td>15600.0</td>\n",
       "      <td>166.0</td>\n",
       "      <td>9.0</td>\n",
       "      <td>http://youtube.com/channel/UCpEhnqL0y41EpW2TvW...</td>\n",
       "    </tr>\n",
       "    <tr>\n",
       "      <th>8</th>\n",
       "      <td>9</td>\n",
       "      <td>zeemusiccompany</td>\n",
       "      <td>Musica_y_baile</td>\n",
       "      <td>99700000.0</td>\n",
       "      <td>India</td>\n",
       "      <td>74300.0</td>\n",
       "      <td>2600.0</td>\n",
       "      <td>32.0</td>\n",
       "      <td>http://youtube.com/channel/UCFFbwnve3yF62-tVXk...</td>\n",
       "    </tr>\n",
       "    <tr>\n",
       "      <th>11</th>\n",
       "      <td>12</td>\n",
       "      <td>GoldminesTelefilms</td>\n",
       "      <td>Musica_y_baile</td>\n",
       "      <td>89700000.0</td>\n",
       "      <td>India</td>\n",
       "      <td>34600.0</td>\n",
       "      <td>421.0</td>\n",
       "      <td>13.0</td>\n",
       "      <td>http://youtube.com/channel/UCyoXW-Dse7fURq30EW...</td>\n",
       "    </tr>\n",
       "    <tr>\n",
       "      <th>12</th>\n",
       "      <td>13</td>\n",
       "      <td>SonySAB</td>\n",
       "      <td>Peliculas_Animacion</td>\n",
       "      <td>85400000.0</td>\n",
       "      <td>India</td>\n",
       "      <td>35500.0</td>\n",
       "      <td>615.0</td>\n",
       "      <td>21.0</td>\n",
       "      <td>http://youtube.com/channel/UC6-F5tO8uklgE9Zy8I...</td>\n",
       "    </tr>\n",
       "    <tr>\n",
       "      <th>...</th>\n",
       "      <td>...</td>\n",
       "      <td>...</td>\n",
       "      <td>...</td>\n",
       "      <td>...</td>\n",
       "      <td>...</td>\n",
       "      <td>...</td>\n",
       "      <td>...</td>\n",
       "      <td>...</td>\n",
       "      <td>...</td>\n",
       "    </tr>\n",
       "    <tr>\n",
       "      <th>993</th>\n",
       "      <td>994</td>\n",
       "      <td>RedChilliesEntertainment</td>\n",
       "      <td>Musica_y_baile</td>\n",
       "      <td>11700000.0</td>\n",
       "      <td>India</td>\n",
       "      <td>848300.0</td>\n",
       "      <td>66700.0</td>\n",
       "      <td>842.0</td>\n",
       "      <td>http://youtube.com/channel/UCjJKg01HAP01xCLVhD...</td>\n",
       "    </tr>\n",
       "    <tr>\n",
       "      <th>994</th>\n",
       "      <td>995</td>\n",
       "      <td>VYRLOriginals</td>\n",
       "      <td>Musica_y_baile</td>\n",
       "      <td>11700000.0</td>\n",
       "      <td>India</td>\n",
       "      <td>48800.0</td>\n",
       "      <td>949.0</td>\n",
       "      <td>101.0</td>\n",
       "      <td>http://youtube.com/channel/UCye6Oz0mg46S362LwA...</td>\n",
       "    </tr>\n",
       "    <tr>\n",
       "      <th>996</th>\n",
       "      <td>997</td>\n",
       "      <td>Adaahqueen</td>\n",
       "      <td>Musica_y_baile</td>\n",
       "      <td>11700000.0</td>\n",
       "      <td>India</td>\n",
       "      <td>1100000.0</td>\n",
       "      <td>92500.0</td>\n",
       "      <td>164.0</td>\n",
       "      <td>http://youtube.com/channel/UCk3fFpqI5kDMf__mUP...</td>\n",
       "    </tr>\n",
       "    <tr>\n",
       "      <th>998</th>\n",
       "      <td>999</td>\n",
       "      <td>PenMultiplex</td>\n",
       "      <td>Musica_y_baile</td>\n",
       "      <td>11700000.0</td>\n",
       "      <td>India</td>\n",
       "      <td>14000.0</td>\n",
       "      <td>81.0</td>\n",
       "      <td>1.0</td>\n",
       "      <td>http://youtube.com/channel/UCObyBrdrtQ20BU9PxH...</td>\n",
       "    </tr>\n",
       "    <tr>\n",
       "      <th>999</th>\n",
       "      <td>1000</td>\n",
       "      <td>OneindiaHindi</td>\n",
       "      <td>Noticias_y_Politica</td>\n",
       "      <td>11700000.0</td>\n",
       "      <td>India</td>\n",
       "      <td>2200.0</td>\n",
       "      <td>31.0</td>\n",
       "      <td>1.0</td>\n",
       "      <td>http://youtube.com/channel/UCOjgc1p2hJ4GZi6pQQ...</td>\n",
       "    </tr>\n",
       "  </tbody>\n",
       "</table>\n",
       "<p>241 rows × 9 columns</p>\n",
       "</div>"
      ],
      "text/plain": [
       "     rank                  username           categories   subcribers country  \\\n",
       "0       1                   tseries       Musica_y_baile  249500000.0   India   \n",
       "3       4                  SETIndia       Musica_y_baile  162600000.0   India   \n",
       "8       9           zeemusiccompany       Musica_y_baile   99700000.0   India   \n",
       "11     12        GoldminesTelefilms       Musica_y_baile   89700000.0   India   \n",
       "12     13                   SonySAB  Peliculas_Animacion   85400000.0   India   \n",
       "..    ...                       ...                  ...          ...     ...   \n",
       "993   994  RedChilliesEntertainment       Musica_y_baile   11700000.0   India   \n",
       "994   995             VYRLOriginals       Musica_y_baile   11700000.0   India   \n",
       "996   997                Adaahqueen       Musica_y_baile   11700000.0   India   \n",
       "998   999              PenMultiplex       Musica_y_baile   11700000.0   India   \n",
       "999  1000             OneindiaHindi  Noticias_y_Politica   11700000.0   India   \n",
       "\n",
       "        visits    likes  comments  \\\n",
       "0      86200.0   2700.0      78.0   \n",
       "3      15600.0    166.0       9.0   \n",
       "8      74300.0   2600.0      32.0   \n",
       "11     34600.0    421.0      13.0   \n",
       "12     35500.0    615.0      21.0   \n",
       "..         ...      ...       ...   \n",
       "993   848300.0  66700.0     842.0   \n",
       "994    48800.0    949.0     101.0   \n",
       "996  1100000.0  92500.0     164.0   \n",
       "998    14000.0     81.0       1.0   \n",
       "999     2200.0     31.0       1.0   \n",
       "\n",
       "                                                 links  \n",
       "0    http://youtube.com/channel/UCq-Fj5jknLsUf-MWSy...  \n",
       "3    http://youtube.com/channel/UCpEhnqL0y41EpW2TvW...  \n",
       "8    http://youtube.com/channel/UCFFbwnve3yF62-tVXk...  \n",
       "11   http://youtube.com/channel/UCyoXW-Dse7fURq30EW...  \n",
       "12   http://youtube.com/channel/UC6-F5tO8uklgE9Zy8I...  \n",
       "..                                                 ...  \n",
       "993  http://youtube.com/channel/UCjJKg01HAP01xCLVhD...  \n",
       "994  http://youtube.com/channel/UCye6Oz0mg46S362LwA...  \n",
       "996  http://youtube.com/channel/UCk3fFpqI5kDMf__mUP...  \n",
       "998  http://youtube.com/channel/UCObyBrdrtQ20BU9PxH...  \n",
       "999  http://youtube.com/channel/UCOjgc1p2hJ4GZi6pQQ...  \n",
       "\n",
       "[241 rows x 9 columns]"
      ]
     },
     "execution_count": 41,
     "metadata": {},
     "output_type": "execute_result"
    }
   ],
   "source": [
    "country_groupby.get_group('India')\n",
    "# using sort method \n",
    "\n",
    "\n",
    "\n",
    "\n",
    "\n",
    "\n"
   ]
  },
  {
   "cell_type": "code",
   "execution_count": 42,
   "metadata": {},
   "outputs": [
    {
     "data": {
      "text/plain": [
       "Musica_y_baile              171\n",
       "Noticias_y_Politica          19\n",
       "Vlogs_diarios                13\n",
       "Education                    10\n",
       "Peliculas_Humor               8\n",
       "Peliculas_Animacion           5\n",
       "Peliculas                     5\n",
       "Humor                         3\n",
       "Peliculas_Videojuegos         1\n",
       "Musica_y_baile_Humor          1\n",
       "Musica_y_baile_Animacion      1\n",
       "Musica_y_baile_Peliculas      1\n",
       "Videojuegos_Humor             1\n",
       "Comida_y_bebida               1\n",
       "Animacion_Videojuegos         1\n",
       "Name: categories, dtype: int64"
      ]
     },
     "execution_count": 42,
     "metadata": {},
     "output_type": "execute_result"
    }
   ],
   "source": [
    "country_groupby.get_group('India')['categories'].value_counts()\n",
    "\n",
    "\n"
   ]
  },
  {
   "cell_type": "code",
   "execution_count": 43,
   "metadata": {},
   "outputs": [
    {
     "data": {
      "application/vnd.plotly.v1+json": {
       "config": {
        "plotlyServerURL": "https://plot.ly"
       },
       "data": [
        {
         "alignmentgroup": "True",
         "hovertemplate": "country=%{x}<br>subcribers=%{y}<extra></extra>",
         "legendgroup": "India",
         "marker": {
          "color": "#636efa",
          "pattern": {
           "shape": ""
          }
         },
         "name": "India",
         "offsetgroup": "India",
         "orientation": "v",
         "showlegend": true,
         "textposition": "auto",
         "type": "bar",
         "x": [
          "India",
          "India",
          "India",
          "India",
          "India",
          "India",
          "India",
          "India",
          "India",
          "India",
          "India",
          "India",
          "India",
          "India",
          "India",
          "India",
          "India",
          "India",
          "India",
          "India",
          "India",
          "India",
          "India",
          "India",
          "India",
          "India",
          "India",
          "India",
          "India",
          "India",
          "India",
          "India",
          "India",
          "India",
          "India",
          "India",
          "India",
          "India",
          "India",
          "India",
          "India",
          "India",
          "India",
          "India",
          "India",
          "India",
          "India",
          "India",
          "India",
          "India",
          "India",
          "India",
          "India",
          "India",
          "India",
          "India",
          "India",
          "India",
          "India",
          "India",
          "India",
          "India",
          "India",
          "India",
          "India",
          "India",
          "India",
          "India",
          "India",
          "India",
          "India",
          "India",
          "India",
          "India",
          "India",
          "India",
          "India",
          "India",
          "India",
          "India",
          "India",
          "India",
          "India",
          "India",
          "India",
          "India",
          "India",
          "India",
          "India",
          "India",
          "India",
          "India",
          "India",
          "India",
          "India",
          "India",
          "India",
          "India",
          "India",
          "India",
          "India",
          "India",
          "India",
          "India",
          "India",
          "India",
          "India",
          "India",
          "India",
          "India",
          "India",
          "India",
          "India",
          "India",
          "India",
          "India",
          "India",
          "India",
          "India",
          "India",
          "India",
          "India",
          "India",
          "India",
          "India",
          "India",
          "India",
          "India",
          "India",
          "India",
          "India",
          "India",
          "India",
          "India",
          "India",
          "India",
          "India",
          "India",
          "India",
          "India",
          "India",
          "India",
          "India",
          "India",
          "India",
          "India",
          "India",
          "India",
          "India",
          "India",
          "India",
          "India",
          "India",
          "India",
          "India",
          "India",
          "India",
          "India",
          "India",
          "India",
          "India",
          "India",
          "India",
          "India",
          "India",
          "India",
          "India",
          "India",
          "India",
          "India",
          "India",
          "India",
          "India",
          "India",
          "India",
          "India",
          "India",
          "India",
          "India",
          "India",
          "India",
          "India",
          "India",
          "India",
          "India",
          "India",
          "India",
          "India",
          "India",
          "India",
          "India",
          "India",
          "India",
          "India",
          "India",
          "India",
          "India",
          "India",
          "India",
          "India",
          "India",
          "India",
          "India",
          "India",
          "India",
          "India",
          "India",
          "India",
          "India",
          "India",
          "India",
          "India",
          "India",
          "India",
          "India",
          "India",
          "India",
          "India",
          "India",
          "India",
          "India",
          "India",
          "India",
          "India",
          "India",
          "India",
          "India",
          "India",
          "India",
          "India",
          "India",
          "India",
          "India",
          "India",
          "India",
          "India",
          "India",
          "India",
          "India",
          "India",
          "India"
         ],
         "xaxis": "x",
         "y": [
          249500000,
          162600000,
          99700000,
          89700000,
          85400000,
          80300000,
          76500000,
          72500000,
          66599999.99999999,
          66400000.00000001,
          62600000,
          60900000,
          58900000,
          57900000,
          55700000,
          48800000,
          47500000,
          42900000,
          42100000,
          40300000,
          39500000,
          39100000,
          38100000,
          37400000,
          37300000,
          37300000,
          37000000,
          36800000,
          36700000,
          36500000,
          36300000,
          35600000,
          35000000,
          35000000,
          34500000,
          34200000,
          34200000,
          33600000,
          33000000,
          33000000,
          32600000,
          32400000,
          32200000.000000004,
          32100000,
          31000000,
          30000000,
          29900000,
          29700000,
          29700000,
          29400000,
          29200000,
          29200000,
          28800000,
          28000000,
          27800000,
          27300000,
          26800000,
          26300000,
          26000000,
          25800000,
          24900000,
          24800000,
          24700000,
          24700000,
          24400000,
          24400000,
          24300000,
          24300000,
          23600000,
          23500000,
          23400000,
          23300000,
          23300000,
          23300000,
          23000000,
          23000000,
          22900000,
          22700000,
          22500000,
          22300000,
          22300000,
          22300000,
          21900000,
          21700000,
          21700000,
          21500000,
          21100000,
          21100000,
          20700000,
          20500000,
          20500000,
          20400000,
          20300000,
          20200000,
          20100000,
          20100000,
          20000000,
          19900000,
          19800000,
          19700000,
          19700000,
          19300000,
          19300000,
          19300000,
          19100000,
          19100000,
          18900000,
          18600000,
          18500000,
          18500000,
          18200000,
          18000000,
          18000000,
          17800000,
          17700000,
          17700000,
          17700000,
          17600000,
          17600000,
          17400000,
          17200000,
          17200000,
          17200000,
          17000000,
          17000000,
          17000000,
          17000000,
          17000000,
          17000000,
          16900000,
          16800000,
          16800000,
          16800000,
          16300000,
          16200000,
          16100000.000000002,
          16000000,
          16000000,
          16000000,
          16000000,
          16000000,
          15900000,
          15900000,
          15900000,
          15800000,
          15800000,
          15700000,
          15600000,
          15600000,
          15600000,
          15500000,
          15500000,
          15400000,
          15400000,
          15400000,
          15200000,
          15100000,
          15000000,
          15000000,
          14900000,
          14800000,
          14800000,
          14700000,
          14700000,
          14700000,
          14600000,
          14300000,
          14300000,
          14300000,
          14200000,
          14200000,
          14200000,
          14200000,
          14200000,
          14200000,
          14000000,
          13900000,
          13800000,
          13800000,
          13800000,
          13800000,
          13700000,
          13600000,
          13600000,
          13600000,
          13500000,
          13400000,
          13400000,
          13400000,
          13200000,
          13200000,
          13100000,
          13000000,
          13000000,
          13000000,
          12900000,
          12900000,
          12900000,
          12800000,
          12800000,
          12800000,
          12800000,
          12800000,
          12800000,
          12600000,
          12600000,
          12600000,
          12600000,
          12600000,
          12600000,
          12600000,
          12500000,
          12500000,
          12500000,
          12400000,
          12400000,
          12400000,
          12400000,
          12400000,
          12300000,
          12200000,
          12200000,
          12200000,
          12100000,
          12100000,
          12000000,
          12100000,
          11900000,
          11900000,
          11900000,
          11900000,
          11900000,
          11900000,
          11900000,
          11700000,
          11700000,
          11700000,
          11700000,
          11700000,
          11700000,
          11700000
         ],
         "yaxis": "y"
        },
        {
         "alignmentgroup": "True",
         "hovertemplate": "country=%{x}<br>subcribers=%{y}<extra></extra>",
         "legendgroup": "Estados Unidos",
         "marker": {
          "color": "#EF553B",
          "pattern": {
           "shape": ""
          }
         },
         "name": "Estados Unidos",
         "offsetgroup": "Estados Unidos",
         "orientation": "v",
         "showlegend": true,
         "textposition": "auto",
         "type": "bar",
         "x": [
          "Estados Unidos",
          "Estados Unidos",
          "Estados Unidos",
          "Estados Unidos",
          "Estados Unidos",
          "Estados Unidos",
          "Estados Unidos",
          "Estados Unidos",
          "Estados Unidos",
          "Estados Unidos",
          "Estados Unidos",
          "Estados Unidos",
          "Estados Unidos",
          "Estados Unidos",
          "Estados Unidos",
          "Estados Unidos",
          "Estados Unidos",
          "Estados Unidos",
          "Estados Unidos",
          "Estados Unidos",
          "Estados Unidos",
          "Estados Unidos",
          "Estados Unidos",
          "Estados Unidos",
          "Estados Unidos",
          "Estados Unidos",
          "Estados Unidos",
          "Estados Unidos",
          "Estados Unidos",
          "Estados Unidos",
          "Estados Unidos",
          "Estados Unidos",
          "Estados Unidos",
          "Estados Unidos",
          "Estados Unidos",
          "Estados Unidos",
          "Estados Unidos",
          "Estados Unidos",
          "Estados Unidos",
          "Estados Unidos",
          "Estados Unidos",
          "Estados Unidos",
          "Estados Unidos",
          "Estados Unidos",
          "Estados Unidos",
          "Estados Unidos",
          "Estados Unidos",
          "Estados Unidos",
          "Estados Unidos",
          "Estados Unidos",
          "Estados Unidos",
          "Estados Unidos",
          "Estados Unidos",
          "Estados Unidos",
          "Estados Unidos",
          "Estados Unidos",
          "Estados Unidos",
          "Estados Unidos",
          "Estados Unidos",
          "Estados Unidos",
          "Estados Unidos",
          "Estados Unidos",
          "Estados Unidos",
          "Estados Unidos",
          "Estados Unidos",
          "Estados Unidos",
          "Estados Unidos",
          "Estados Unidos",
          "Estados Unidos",
          "Estados Unidos",
          "Estados Unidos",
          "Estados Unidos",
          "Estados Unidos",
          "Estados Unidos",
          "Estados Unidos",
          "Estados Unidos",
          "Estados Unidos",
          "Estados Unidos",
          "Estados Unidos",
          "Estados Unidos",
          "Estados Unidos",
          "Estados Unidos",
          "Estados Unidos",
          "Estados Unidos",
          "Estados Unidos",
          "Estados Unidos",
          "Estados Unidos",
          "Estados Unidos",
          "Estados Unidos",
          "Estados Unidos",
          "Estados Unidos",
          "Estados Unidos",
          "Estados Unidos",
          "Estados Unidos",
          "Estados Unidos",
          "Estados Unidos",
          "Estados Unidos",
          "Estados Unidos",
          "Estados Unidos",
          "Estados Unidos",
          "Estados Unidos",
          "Estados Unidos",
          "Estados Unidos",
          "Estados Unidos",
          "Estados Unidos",
          "Estados Unidos",
          "Estados Unidos",
          "Estados Unidos",
          "Estados Unidos",
          "Estados Unidos",
          "Estados Unidos",
          "Estados Unidos",
          "Estados Unidos",
          "Estados Unidos",
          "Estados Unidos",
          "Estados Unidos",
          "Estados Unidos",
          "Estados Unidos",
          "Estados Unidos",
          "Estados Unidos",
          "Estados Unidos",
          "Estados Unidos",
          "Estados Unidos",
          "Estados Unidos",
          "Estados Unidos",
          "Estados Unidos",
          "Estados Unidos",
          "Estados Unidos",
          "Estados Unidos",
          "Estados Unidos",
          "Estados Unidos",
          "Estados Unidos",
          "Estados Unidos",
          "Estados Unidos",
          "Estados Unidos",
          "Estados Unidos",
          "Estados Unidos",
          "Estados Unidos",
          "Estados Unidos",
          "Estados Unidos",
          "Estados Unidos",
          "Estados Unidos",
          "Estados Unidos",
          "Estados Unidos",
          "Estados Unidos",
          "Estados Unidos",
          "Estados Unidos",
          "Estados Unidos",
          "Estados Unidos",
          "Estados Unidos",
          "Estados Unidos",
          "Estados Unidos",
          "Estados Unidos",
          "Estados Unidos",
          "Estados Unidos",
          "Estados Unidos",
          "Estados Unidos",
          "Estados Unidos",
          "Estados Unidos",
          "Estados Unidos",
          "Estados Unidos",
          "Estados Unidos",
          "Estados Unidos",
          "Estados Unidos",
          "Estados Unidos",
          "Estados Unidos",
          "Estados Unidos",
          "Estados Unidos",
          "Estados Unidos",
          "Estados Unidos",
          "Estados Unidos",
          "Estados Unidos",
          "Estados Unidos",
          "Estados Unidos",
          "Estados Unidos",
          "Estados Unidos",
          "Estados Unidos",
          "Estados Unidos",
          "Estados Unidos",
          "Estados Unidos",
          "Estados Unidos",
          "Estados Unidos",
          "Estados Unidos",
          "Estados Unidos",
          "Estados Unidos",
          "Estados Unidos",
          "Estados Unidos",
          "Estados Unidos",
          "Estados Unidos",
          "Estados Unidos",
          "Estados Unidos",
          "Estados Unidos",
          "Estados Unidos",
          "Estados Unidos",
          "Estados Unidos",
          "Estados Unidos",
          "Estados Unidos",
          "Estados Unidos",
          "Estados Unidos",
          "Estados Unidos",
          "Estados Unidos",
          "Estados Unidos",
          "Estados Unidos",
          "Estados Unidos",
          "Estados Unidos",
          "Estados Unidos",
          "Estados Unidos",
          "Estados Unidos",
          "Estados Unidos",
          "Estados Unidos",
          "Estados Unidos",
          "Estados Unidos",
          "Estados Unidos",
          "Estados Unidos",
          "Estados Unidos",
          "Estados Unidos",
          "Estados Unidos",
          "Estados Unidos",
          "Estados Unidos",
          "Estados Unidos",
          "Estados Unidos",
          "Estados Unidos",
          "Estados Unidos",
          "Estados Unidos",
          "Estados Unidos",
          "Estados Unidos",
          "Estados Unidos",
          "Estados Unidos",
          "Estados Unidos",
          "Estados Unidos",
          "Estados Unidos",
          "Estados Unidos",
          "Estados Unidos",
          "Estados Unidos",
          "Estados Unidos",
          "Estados Unidos",
          "Estados Unidos",
          "Estados Unidos",
          "Estados Unidos",
          "Estados Unidos",
          "Estados Unidos",
          "Estados Unidos",
          "Estados Unidos",
          "Estados Unidos",
          "Estados Unidos",
          "Estados Unidos",
          "Estados Unidos",
          "Estados Unidos",
          "Estados Unidos",
          "Estados Unidos",
          "Estados Unidos",
          "Estados Unidos",
          "Estados Unidos",
          "Estados Unidos",
          "Estados Unidos",
          "Estados Unidos",
          "Estados Unidos",
          "Estados Unidos",
          "Estados Unidos",
          "Estados Unidos",
          "Estados Unidos",
          "Estados Unidos",
          "Estados Unidos",
          "Estados Unidos",
          "Estados Unidos",
          "Estados Unidos",
          "Estados Unidos",
          "Estados Unidos",
          "Estados Unidos",
          "Estados Unidos",
          "Estados Unidos",
          "Estados Unidos",
          "Estados Unidos",
          "Estados Unidos",
          "Estados Unidos",
          "Estados Unidos",
          "Estados Unidos",
          "Estados Unidos",
          "Estados Unidos",
          "Estados Unidos",
          "Estados Unidos",
          "Estados Unidos",
          "Estados Unidos",
          "Estados Unidos",
          "Estados Unidos",
          "Estados Unidos",
          "Estados Unidos",
          "Estados Unidos",
          "Estados Unidos",
          "Estados Unidos",
          "Estados Unidos",
          "Estados Unidos",
          "Estados Unidos"
         ],
         "xaxis": "x",
         "y": [
          183500000,
          111500000,
          97200000,
          91300000,
          72700000,
          59900000,
          59700000,
          56700000,
          54800000,
          54100000,
          53700000,
          52900000,
          48600000,
          44600000,
          44400000,
          44000000,
          39500000,
          39100000,
          38300000,
          37500000,
          36300000,
          35500000,
          34200000,
          33600000,
          33200000.000000004,
          32800000,
          32200000.000000004,
          31900000,
          31600000,
          31400000,
          31300000,
          31200000,
          31000000,
          30400000,
          30400000,
          30400000,
          30200000,
          29800000,
          29800000,
          28800000,
          28400000,
          28000000,
          27800000,
          27800000,
          27800000,
          27600000,
          27500000,
          27100000,
          27000000,
          26600000,
          26300000,
          26100000,
          25900000,
          25900000,
          25900000,
          25900000,
          25900000,
          25700000,
          25500000,
          25500000,
          25500000,
          25500000,
          25100000,
          25000000,
          24900000,
          24900000,
          24900000,
          24300000,
          24300000,
          24100000,
          23900000,
          23900000,
          23700000,
          23500000,
          23400000,
          23000000,
          22900000,
          22700000,
          22700000,
          22700000,
          22600000,
          22500000,
          22500000,
          22400000,
          22100000,
          21900000,
          21700000,
          21500000,
          21100000,
          21100000,
          21100000,
          21100000,
          21100000,
          20900000,
          20800000,
          20700000,
          20700000,
          20700000,
          20700000,
          20700000,
          20500000,
          20500000,
          20400000,
          20300000,
          20300000,
          20100000,
          20100000,
          20100000,
          20100000,
          20100000,
          20100000,
          20100000,
          19900000,
          19900000,
          19700000,
          19500000,
          19100000,
          19100000,
          19100000,
          19100000,
          19100000,
          19100000,
          19000000,
          18800000,
          18700000,
          18600000,
          18400000,
          18400000,
          18000000,
          18000000,
          18000000,
          17800000,
          17900000,
          17700000,
          17700000,
          17600000,
          17600000,
          17400000,
          17400000,
          17200000,
          17000000,
          17000000,
          16900000,
          16900000,
          16800000,
          16700000,
          16700000,
          16700000,
          16600000.000000002,
          16600000.000000002,
          16500000,
          16500000,
          16399999.999999998,
          16399999.999999998,
          16399999.999999998,
          16399999.999999998,
          16100000.000000002,
          16000000,
          15800000,
          15800000,
          15800000,
          15700000,
          15600000,
          15600000,
          15600000,
          15600000,
          15600000,
          15400000,
          15400000,
          15400000,
          15400000,
          15400000,
          15200000,
          15200000,
          15200000,
          15200000,
          15000000,
          15000000,
          15000000,
          15000000,
          15000000,
          14900000,
          14800000,
          14800000,
          14800000,
          14800000,
          14800000,
          14800000,
          14800000,
          14800000,
          14800000,
          14800000,
          14700000,
          14600000,
          14600000,
          14600000,
          14600000,
          14600000,
          14600000,
          14500000,
          14500000,
          14400000,
          14400000,
          14400000,
          14300000,
          14200000,
          14200000,
          14200000,
          14200000,
          14100000,
          14100000,
          14000000,
          14000000,
          14000000,
          13900000,
          13800000,
          13800000,
          13800000,
          13800000,
          13800000,
          13800000,
          13600000,
          13600000,
          13600000,
          13600000,
          13600000,
          13500000,
          13500000,
          13400000,
          13400000,
          13400000,
          13400000,
          13400000,
          13400000,
          13400000,
          13400000,
          13400000,
          13400000,
          13300000,
          13200000,
          13200000,
          13200000,
          13200000,
          13000000,
          13000000,
          13000000,
          13000000,
          13000000,
          12900000,
          12800000,
          12800000,
          12800000,
          12800000,
          12800000,
          12600000,
          12600000,
          12600000,
          12600000,
          12600000,
          12600000,
          12600000,
          12600000,
          12600000,
          12600000,
          12500000,
          12400000,
          12400000,
          12400000,
          12400000,
          12400000,
          12400000,
          12400000,
          12400000,
          12400000,
          12400000,
          12400000,
          12200000,
          12200000,
          12200000,
          12200000,
          12200000,
          12100000,
          12000000,
          12000000,
          11900000,
          11900000,
          11900000,
          11900000,
          11800000,
          11700000,
          11700000,
          11700000,
          11700000
         ],
         "yaxis": "y"
        },
        {
         "alignmentgroup": "True",
         "hovertemplate": "country=%{x}<br>subcribers=%{y}<extra></extra>",
         "legendgroup": "Unknown",
         "marker": {
          "color": "#00cc96",
          "pattern": {
           "shape": ""
          }
         },
         "name": "Unknown",
         "offsetgroup": "Unknown",
         "orientation": "v",
         "showlegend": true,
         "textposition": "auto",
         "type": "bar",
         "x": [
          "Unknown",
          "Unknown",
          "Unknown",
          "Unknown",
          "Unknown",
          "Unknown",
          "Unknown",
          "Unknown",
          "Unknown",
          "Unknown",
          "Unknown",
          "Unknown",
          "Unknown",
          "Unknown",
          "Unknown",
          "Unknown",
          "Unknown",
          "Unknown",
          "Unknown",
          "Unknown",
          "Unknown",
          "Unknown",
          "Unknown",
          "Unknown",
          "Unknown",
          "Unknown",
          "Unknown",
          "Unknown",
          "Unknown",
          "Unknown",
          "Unknown",
          "Unknown",
          "Unknown",
          "Unknown",
          "Unknown",
          "Unknown",
          "Unknown",
          "Unknown",
          "Unknown",
          "Unknown",
          "Unknown",
          "Unknown",
          "Unknown",
          "Unknown",
          "Unknown",
          "Unknown",
          "Unknown",
          "Unknown",
          "Unknown",
          "Unknown",
          "Unknown",
          "Unknown",
          "Unknown",
          "Unknown",
          "Unknown",
          "Unknown",
          "Unknown",
          "Unknown",
          "Unknown",
          "Unknown",
          "Unknown",
          "Unknown",
          "Unknown",
          "Unknown",
          "Unknown",
          "Unknown",
          "Unknown",
          "Unknown",
          "Unknown",
          "Unknown",
          "Unknown",
          "Unknown",
          "Unknown",
          "Unknown",
          "Unknown",
          "Unknown",
          "Unknown",
          "Unknown",
          "Unknown",
          "Unknown",
          "Unknown",
          "Unknown",
          "Unknown",
          "Unknown",
          "Unknown",
          "Unknown",
          "Unknown",
          "Unknown",
          "Unknown",
          "Unknown",
          "Unknown",
          "Unknown",
          "Unknown",
          "Unknown",
          "Unknown",
          "Unknown",
          "Unknown",
          "Unknown",
          "Unknown",
          "Unknown",
          "Unknown",
          "Unknown",
          "Unknown",
          "Unknown",
          "Unknown",
          "Unknown",
          "Unknown",
          "Unknown",
          "Unknown",
          "Unknown",
          "Unknown",
          "Unknown",
          "Unknown",
          "Unknown",
          "Unknown",
          "Unknown",
          "Unknown",
          "Unknown",
          "Unknown",
          "Unknown",
          "Unknown",
          "Unknown",
          "Unknown",
          "Unknown",
          "Unknown",
          "Unknown",
          "Unknown",
          "Unknown",
          "Unknown",
          "Unknown",
          "Unknown",
          "Unknown",
          "Unknown",
          "Unknown",
          "Unknown",
          "Unknown",
          "Unknown",
          "Unknown",
          "Unknown",
          "Unknown",
          "Unknown",
          "Unknown",
          "Unknown",
          "Unknown",
          "Unknown",
          "Unknown",
          "Unknown",
          "Unknown",
          "Unknown",
          "Unknown",
          "Unknown",
          "Unknown",
          "Unknown",
          "Unknown",
          "Unknown",
          "Unknown",
          "Unknown",
          "Unknown",
          "Unknown",
          "Unknown",
          "Unknown",
          "Unknown",
          "Unknown",
          "Unknown",
          "Unknown",
          "Unknown",
          "Unknown",
          "Unknown",
          "Unknown",
          "Unknown",
          "Unknown"
         ],
         "xaxis": "x",
         "y": [
          165500000,
          113500000,
          107500000,
          101400000,
          69600000,
          67500000,
          59700000,
          58700000,
          55700000,
          53100000,
          48100000,
          46000000,
          44400000,
          44200000,
          43700000,
          42900000,
          42500000,
          41000000,
          40600000,
          39900000,
          38700000,
          38100000,
          37700000,
          36600000,
          35700000,
          35500000,
          33300000,
          33000000,
          32200000.000000004,
          31100000,
          30900000,
          30600000,
          30400000,
          29500000,
          29400000,
          29300000,
          28700000,
          28200000,
          28100000,
          27900000,
          27800000,
          27100000,
          26200000,
          25700000,
          25000000,
          24800000,
          24600000,
          24600000,
          24400000,
          24400000,
          24100000,
          23900000,
          23800000,
          23500000,
          23400000,
          23300000,
          23200000,
          23200000,
          23000000,
          22800000,
          22800000,
          22700000,
          22400000,
          22400000,
          21800000,
          21700000,
          20800000,
          20600000,
          20600000,
          20600000,
          20100000,
          20100000,
          19600000,
          19500000,
          19400000,
          19100000,
          19000000,
          19000000,
          18600000,
          18600000,
          18600000,
          18400000,
          18200000,
          18200000,
          18200000,
          18000000,
          18000000,
          17800000,
          17800000,
          17600000,
          17500000,
          17500000,
          17300000,
          17000000,
          16800000,
          16399999.999999998,
          16399999.999999998,
          16300000,
          16300000,
          16200000,
          15900000,
          15900000,
          15600000,
          15500000,
          15400000,
          15300000,
          15100000,
          15100000,
          15000000,
          14900000,
          14900000,
          14700000,
          14700000,
          14700000,
          14700000,
          14700000,
          14600000,
          14600000,
          14400000,
          14400000,
          14300000,
          14200000,
          14100000,
          14100000,
          14000000,
          14000000,
          13900000,
          13800000,
          13700000,
          13600000,
          13500000,
          13400000,
          13300000,
          13300000,
          13300000,
          13100000,
          13000000,
          12900000,
          12900000,
          12900000,
          12900000,
          12800000,
          12800000,
          12800000,
          12700000,
          12600000,
          12600000,
          12600000,
          12600000,
          12600000,
          12500000,
          12500000,
          12500000,
          12500000,
          12400000,
          12400000,
          12300000,
          12200000,
          12200000,
          12100000,
          12100000,
          11900000,
          11900000,
          11900000,
          11900000,
          11900000,
          11900000,
          11900000,
          11900000,
          11800000,
          11700000
         ],
         "yaxis": "y"
        },
        {
         "alignmentgroup": "True",
         "hovertemplate": "country=%{x}<br>subcribers=%{y}<extra></extra>",
         "legendgroup": "Brasil",
         "marker": {
          "color": "#ab63fa",
          "pattern": {
           "shape": ""
          }
         },
         "name": "Brasil",
         "offsetgroup": "Brasil",
         "orientation": "v",
         "showlegend": true,
         "textposition": "auto",
         "type": "bar",
         "x": [
          "Brasil",
          "Brasil",
          "Brasil",
          "Brasil",
          "Brasil",
          "Brasil",
          "Brasil",
          "Brasil",
          "Brasil",
          "Brasil",
          "Brasil",
          "Brasil",
          "Brasil",
          "Brasil",
          "Brasil",
          "Brasil",
          "Brasil",
          "Brasil",
          "Brasil",
          "Brasil",
          "Brasil",
          "Brasil",
          "Brasil",
          "Brasil",
          "Brasil",
          "Brasil",
          "Brasil",
          "Brasil",
          "Brasil",
          "Brasil",
          "Brasil",
          "Brasil",
          "Brasil",
          "Brasil",
          "Brasil",
          "Brasil",
          "Brasil",
          "Brasil",
          "Brasil",
          "Brasil",
          "Brasil",
          "Brasil",
          "Brasil",
          "Brasil",
          "Brasil",
          "Brasil",
          "Brasil",
          "Brasil",
          "Brasil",
          "Brasil",
          "Brasil",
          "Brasil",
          "Brasil",
          "Brasil",
          "Brasil",
          "Brasil",
          "Brasil",
          "Brasil",
          "Brasil",
          "Brasil",
          "Brasil",
          "Brasil",
          "Brasil",
          "Brasil"
         ],
         "xaxis": "x",
         "y": [
          66599999.99999999,
          45600000,
          45000000,
          44400000,
          40100000,
          39300000,
          32200000.000000004,
          30600000,
          27200000,
          26600000,
          26100000,
          25900000,
          23500000,
          22500000,
          22100000,
          21100000,
          20300000,
          20100000,
          20100000,
          18600000,
          18200000,
          18000000,
          17800000,
          17400000,
          17000000,
          16500000,
          16399999.999999998,
          16100000.000000002,
          16000000,
          15600000,
          15100000,
          15000000,
          14900000,
          14800000,
          14600000,
          14600000,
          14600000,
          14600000,
          14400000,
          14200000,
          14200000,
          14200000,
          14000000,
          13900000,
          13800000,
          13800000,
          13600000,
          13400000,
          13300000,
          13300000,
          13200000,
          13200000,
          12800000,
          12800000,
          12700000,
          12600000,
          12600000,
          12400000,
          12400000,
          12400000,
          12300000,
          12200000,
          12200000,
          11900000
         ],
         "yaxis": "y"
        },
        {
         "alignmentgroup": "True",
         "hovertemplate": "country=%{x}<br>subcribers=%{y}<extra></extra>",
         "legendgroup": "México",
         "marker": {
          "color": "#FFA15A",
          "pattern": {
           "shape": ""
          }
         },
         "name": "México",
         "offsetgroup": "México",
         "orientation": "v",
         "showlegend": true,
         "textposition": "auto",
         "type": "bar",
         "x": [
          "México",
          "México",
          "México",
          "México",
          "México",
          "México",
          "México",
          "México",
          "México",
          "México",
          "México",
          "México",
          "México",
          "México",
          "México",
          "México",
          "México",
          "México",
          "México",
          "México",
          "México",
          "México",
          "México",
          "México",
          "México",
          "México",
          "México",
          "México",
          "México",
          "México",
          "México",
          "México",
          "México",
          "México",
          "México",
          "México",
          "México",
          "México",
          "México",
          "México",
          "México",
          "México",
          "México",
          "México",
          "México",
          "México",
          "México",
          "México",
          "México",
          "México",
          "México",
          "México",
          "México",
          "México",
          "México",
          "México",
          "México",
          "México"
         ],
         "xaxis": "x",
         "y": [
          48600000,
          47000000,
          43400000,
          42100000,
          41100000,
          34700000,
          34600000,
          34000000,
          32000000,
          31800000,
          25700000,
          24000000,
          23100000,
          23100000,
          22800000,
          21900000,
          19800000,
          19500000,
          19200000,
          18300000,
          18200000,
          17200000,
          16800000,
          16800000,
          16700000,
          16500000,
          16200000,
          16000000,
          15200000,
          15200000,
          15000000,
          15000000,
          15000000,
          14900000,
          14800000,
          14800000,
          14800000,
          14800000,
          14400000,
          14200000,
          14000000,
          14000000,
          13900000,
          13600000,
          13200000,
          13200000,
          13000000,
          13000000,
          13000000,
          12800000,
          12600000,
          12600000,
          12600000,
          12600000,
          12600000,
          12200000,
          11900000,
          11900000
         ],
         "yaxis": "y"
        },
        {
         "alignmentgroup": "True",
         "hovertemplate": "country=%{x}<br>subcribers=%{y}<extra></extra>",
         "legendgroup": "Rusia",
         "marker": {
          "color": "#19d3f3",
          "pattern": {
           "shape": ""
          }
         },
         "name": "Rusia",
         "offsetgroup": "Rusia",
         "orientation": "v",
         "showlegend": true,
         "textposition": "auto",
         "type": "bar",
         "x": [
          "Rusia",
          "Rusia",
          "Rusia",
          "Rusia",
          "Rusia",
          "Rusia",
          "Rusia",
          "Rusia",
          "Rusia",
          "Rusia",
          "Rusia",
          "Rusia",
          "Rusia",
          "Rusia",
          "Rusia",
          "Rusia",
          "Rusia",
          "Rusia",
          "Rusia",
          "Rusia",
          "Rusia",
          "Rusia",
          "Rusia",
          "Rusia",
          "Rusia"
         ],
         "xaxis": "x",
         "y": [
          47300000,
          23900000,
          23700000,
          20500000,
          19100000,
          19100000,
          18600000,
          17400000,
          16800000,
          16399999.999999998,
          16300000,
          16000000,
          15200000,
          14400000,
          14200000,
          14100000,
          13700000,
          13600000,
          13600000,
          12400000,
          12300000,
          12000000,
          12000000,
          11900000,
          11900000
         ],
         "yaxis": "y"
        },
        {
         "alignmentgroup": "True",
         "hovertemplate": "country=%{x}<br>subcribers=%{y}<extra></extra>",
         "legendgroup": "Pakistan",
         "marker": {
          "color": "#FF6692",
          "pattern": {
           "shape": ""
          }
         },
         "name": "Pakistan",
         "offsetgroup": "Pakistan",
         "orientation": "v",
         "showlegend": true,
         "textposition": "auto",
         "type": "bar",
         "x": [
          "Pakistan",
          "Pakistan",
          "Pakistan",
          "Pakistan",
          "Pakistan",
          "Pakistan",
          "Pakistan",
          "Pakistan",
          "Pakistan",
          "Pakistan",
          "Pakistan"
         ],
         "xaxis": "x",
         "y": [
          46400000,
          45900000,
          30200000,
          19800000,
          14700000,
          14000000,
          12400000,
          12200000,
          12100000,
          12100000,
          12000000
         ],
         "yaxis": "y"
        },
        {
         "alignmentgroup": "True",
         "hovertemplate": "country=%{x}<br>subcribers=%{y}<extra></extra>",
         "legendgroup": "Filipinas",
         "marker": {
          "color": "#B6E880",
          "pattern": {
           "shape": ""
          }
         },
         "name": "Filipinas",
         "offsetgroup": "Filipinas",
         "orientation": "v",
         "showlegend": true,
         "textposition": "auto",
         "type": "bar",
         "x": [
          "Filipinas",
          "Filipinas",
          "Filipinas",
          "Filipinas",
          "Filipinas",
          "Filipinas",
          "Filipinas",
          "Filipinas",
          "Filipinas",
          "Filipinas",
          "Filipinas",
          "Filipinas",
          "Filipinas"
         ],
         "xaxis": "x",
         "y": [
          45000000,
          32900000,
          26800000,
          21700000,
          16800000,
          16399999.999999998,
          15400000,
          15400000,
          15200000,
          14400000,
          13800000,
          13800000,
          13400000
         ],
         "yaxis": "y"
        },
        {
         "alignmentgroup": "True",
         "hovertemplate": "country=%{x}<br>subcribers=%{y}<extra></extra>",
         "legendgroup": "Indonesia",
         "marker": {
          "color": "#FF97FF",
          "pattern": {
           "shape": ""
          }
         },
         "name": "Indonesia",
         "offsetgroup": "Indonesia",
         "orientation": "v",
         "showlegend": true,
         "textposition": "auto",
         "type": "bar",
         "x": [
          "Indonesia",
          "Indonesia",
          "Indonesia",
          "Indonesia",
          "Indonesia",
          "Indonesia",
          "Indonesia",
          "Indonesia",
          "Indonesia",
          "Indonesia",
          "Indonesia",
          "Indonesia",
          "Indonesia",
          "Indonesia",
          "Indonesia",
          "Indonesia",
          "Indonesia",
          "Indonesia",
          "Indonesia",
          "Indonesia",
          "Indonesia",
          "Indonesia",
          "Indonesia",
          "Indonesia",
          "Indonesia",
          "Indonesia",
          "Indonesia",
          "Indonesia",
          "Indonesia",
          "Indonesia",
          "Indonesia",
          "Indonesia",
          "Indonesia",
          "Indonesia",
          "Indonesia",
          "Indonesia",
          "Indonesia",
          "Indonesia"
         ],
         "xaxis": "x",
         "y": [
          39600000,
          36900000,
          32600000,
          30600000,
          26700000,
          25700000,
          25400000,
          24700000,
          24300000,
          21900000,
          21300000,
          21000000,
          20500000,
          19900000,
          19300000,
          18400000,
          18200000,
          18000000,
          18000000,
          17800000,
          17300000,
          16600000.000000002,
          16200000,
          16200000,
          16000000,
          16000000,
          15600000,
          15400000,
          15400000,
          15300000,
          15200000,
          14900000,
          14400000,
          14200000,
          13600000,
          13600000,
          13200000,
          12600000
         ],
         "yaxis": "y"
        },
        {
         "alignmentgroup": "True",
         "hovertemplate": "country=%{x}<br>subcribers=%{y}<extra></extra>",
         "legendgroup": "Tailandia",
         "marker": {
          "color": "#FECB52",
          "pattern": {
           "shape": ""
          }
         },
         "name": "Tailandia",
         "offsetgroup": "Tailandia",
         "orientation": "v",
         "showlegend": true,
         "textposition": "auto",
         "type": "bar",
         "x": [
          "Tailandia",
          "Tailandia",
          "Tailandia",
          "Tailandia",
          "Tailandia",
          "Tailandia",
          "Tailandia",
          "Tailandia",
          "Tailandia",
          "Tailandia",
          "Tailandia",
          "Tailandia",
          "Tailandia",
          "Tailandia",
          "Tailandia",
          "Tailandia",
          "Tailandia",
          "Tailandia"
         ],
         "xaxis": "x",
         "y": [
          39400000,
          38100000,
          34000000,
          23400000,
          18800000,
          18600000,
          18000000,
          17800000,
          16800000,
          16700000,
          16600000.000000002,
          16600000.000000002,
          15600000,
          15200000,
          14600000,
          14200000,
          13600000,
          12200000
         ],
         "yaxis": "y"
        },
        {
         "alignmentgroup": "True",
         "hovertemplate": "country=%{x}<br>subcribers=%{y}<extra></extra>",
         "legendgroup": "Francia",
         "marker": {
          "color": "#636efa",
          "pattern": {
           "shape": ""
          }
         },
         "name": "Francia",
         "offsetgroup": "Francia",
         "orientation": "v",
         "showlegend": true,
         "textposition": "auto",
         "type": "bar",
         "x": [
          "Francia",
          "Francia",
          "Francia",
          "Francia"
         ],
         "xaxis": "x",
         "y": [
          39100000,
          18400000,
          14500000,
          13900000
         ],
         "yaxis": "y"
        },
        {
         "alignmentgroup": "True",
         "hovertemplate": "country=%{x}<br>subcribers=%{y}<extra></extra>",
         "legendgroup": "Colombia",
         "marker": {
          "color": "#EF553B",
          "pattern": {
           "shape": ""
          }
         },
         "name": "Colombia",
         "offsetgroup": "Colombia",
         "orientation": "v",
         "showlegend": true,
         "textposition": "auto",
         "type": "bar",
         "x": [
          "Colombia",
          "Colombia",
          "Colombia",
          "Colombia",
          "Colombia",
          "Colombia",
          "Colombia",
          "Colombia",
          "Colombia",
          "Colombia",
          "Colombia",
          "Colombia",
          "Colombia",
          "Colombia",
          "Colombia",
          "Colombia"
         ],
         "xaxis": "x",
         "y": [
          38300000,
          34200000,
          33000000,
          29400000,
          23700000,
          23700000,
          22900000,
          18200000,
          16500000,
          16000000,
          15400000,
          13800000,
          13600000,
          12800000,
          12200000,
          11700000
         ],
         "yaxis": "y"
        },
        {
         "alignmentgroup": "True",
         "hovertemplate": "country=%{x}<br>subcribers=%{y}<extra></extra>",
         "legendgroup": "Iraq",
         "marker": {
          "color": "#00cc96",
          "pattern": {
           "shape": ""
          }
         },
         "name": "Iraq",
         "offsetgroup": "Iraq",
         "orientation": "v",
         "showlegend": true,
         "textposition": "auto",
         "type": "bar",
         "x": [
          "Iraq",
          "Iraq",
          "Iraq",
          "Iraq"
         ],
         "xaxis": "x",
         "y": [
          32700000.000000004,
          17600000,
          14200000,
          14200000
         ],
         "yaxis": "y"
        },
        {
         "alignmentgroup": "True",
         "hovertemplate": "country=%{x}<br>subcribers=%{y}<extra></extra>",
         "legendgroup": "Japon",
         "marker": {
          "color": "#ab63fa",
          "pattern": {
           "shape": ""
          }
         },
         "name": "Japon",
         "offsetgroup": "Japon",
         "orientation": "v",
         "showlegend": true,
         "textposition": "auto",
         "type": "bar",
         "x": [
          "Japon",
          "Japon",
          "Japon"
         ],
         "xaxis": "x",
         "y": [
          29000000,
          13100000,
          11900000
         ],
         "yaxis": "y"
        },
        {
         "alignmentgroup": "True",
         "hovertemplate": "country=%{x}<br>subcribers=%{y}<extra></extra>",
         "legendgroup": "Ecuador",
         "marker": {
          "color": "#FFA15A",
          "pattern": {
           "shape": ""
          }
         },
         "name": "Ecuador",
         "offsetgroup": "Ecuador",
         "orientation": "v",
         "showlegend": true,
         "textposition": "auto",
         "type": "bar",
         "x": [
          "Ecuador"
         ],
         "xaxis": "x",
         "y": [
          26800000
         ],
         "yaxis": "y"
        },
        {
         "alignmentgroup": "True",
         "hovertemplate": "country=%{x}<br>subcribers=%{y}<extra></extra>",
         "legendgroup": "Argentina",
         "marker": {
          "color": "#19d3f3",
          "pattern": {
           "shape": ""
          }
         },
         "name": "Argentina",
         "offsetgroup": "Argentina",
         "orientation": "v",
         "showlegend": true,
         "textposition": "auto",
         "type": "bar",
         "x": [
          "Argentina",
          "Argentina",
          "Argentina",
          "Argentina",
          "Argentina",
          "Argentina",
          "Argentina"
         ],
         "xaxis": "x",
         "y": [
          25700000,
          18800000,
          18000000,
          16399999.999999998,
          16399999.999999998,
          14600000,
          14200000
         ],
         "yaxis": "y"
        },
        {
         "alignmentgroup": "True",
         "hovertemplate": "country=%{x}<br>subcribers=%{y}<extra></extra>",
         "legendgroup": "Turquia",
         "marker": {
          "color": "#FF6692",
          "pattern": {
           "shape": ""
          }
         },
         "name": "Turquia",
         "offsetgroup": "Turquia",
         "orientation": "v",
         "showlegend": true,
         "textposition": "auto",
         "type": "bar",
         "x": [
          "Turquia",
          "Turquia",
          "Turquia",
          "Turquia"
         ],
         "xaxis": "x",
         "y": [
          24400000,
          18200000,
          16500000,
          13100000
         ],
         "yaxis": "y"
        },
        {
         "alignmentgroup": "True",
         "hovertemplate": "country=%{x}<br>subcribers=%{y}<extra></extra>",
         "legendgroup": "Arabia Saudita",
         "marker": {
          "color": "#B6E880",
          "pattern": {
           "shape": ""
          }
         },
         "name": "Arabia Saudita",
         "offsetgroup": "Arabia Saudita",
         "orientation": "v",
         "showlegend": true,
         "textposition": "auto",
         "type": "bar",
         "x": [
          "Arabia Saudita",
          "Arabia Saudita",
          "Arabia Saudita",
          "Arabia Saudita"
         ],
         "xaxis": "x",
         "y": [
          22700000,
          22300000,
          16000000,
          13600000
         ],
         "yaxis": "y"
        },
        {
         "alignmentgroup": "True",
         "hovertemplate": "country=%{x}<br>subcribers=%{y}<extra></extra>",
         "legendgroup": "El Salvador",
         "marker": {
          "color": "#FF97FF",
          "pattern": {
           "shape": ""
          }
         },
         "name": "El Salvador",
         "offsetgroup": "El Salvador",
         "orientation": "v",
         "showlegend": true,
         "textposition": "auto",
         "type": "bar",
         "x": [
          "El Salvador"
         ],
         "xaxis": "x",
         "y": [
          21900000
         ],
         "yaxis": "y"
        },
        {
         "alignmentgroup": "True",
         "hovertemplate": "country=%{x}<br>subcribers=%{y}<extra></extra>",
         "legendgroup": "Bangladesh",
         "marker": {
          "color": "#FECB52",
          "pattern": {
           "shape": ""
          }
         },
         "name": "Bangladesh",
         "offsetgroup": "Bangladesh",
         "orientation": "v",
         "showlegend": true,
         "textposition": "auto",
         "type": "bar",
         "x": [
          "Bangladesh",
          "Bangladesh",
          "Bangladesh"
         ],
         "xaxis": "x",
         "y": [
          20500000,
          20400000,
          14300000
         ],
         "yaxis": "y"
        },
        {
         "alignmentgroup": "True",
         "hovertemplate": "country=%{x}<br>subcribers=%{y}<extra></extra>",
         "legendgroup": "Reino Unido",
         "marker": {
          "color": "#636efa",
          "pattern": {
           "shape": ""
          }
         },
         "name": "Reino Unido",
         "offsetgroup": "Reino Unido",
         "orientation": "v",
         "showlegend": true,
         "textposition": "auto",
         "type": "bar",
         "x": [
          "Reino Unido",
          "Reino Unido",
          "Reino Unido"
         ],
         "xaxis": "x",
         "y": [
          19900000,
          19500000,
          13800000
         ],
         "yaxis": "y"
        },
        {
         "alignmentgroup": "True",
         "hovertemplate": "country=%{x}<br>subcribers=%{y}<extra></extra>",
         "legendgroup": "Argelia",
         "marker": {
          "color": "#EF553B",
          "pattern": {
           "shape": ""
          }
         },
         "name": "Argelia",
         "offsetgroup": "Argelia",
         "orientation": "v",
         "showlegend": true,
         "textposition": "auto",
         "type": "bar",
         "x": [
          "Argelia",
          "Argelia"
         ],
         "xaxis": "x",
         "y": [
          19300000,
          12200000
         ],
         "yaxis": "y"
        },
        {
         "alignmentgroup": "True",
         "hovertemplate": "country=%{x}<br>subcribers=%{y}<extra></extra>",
         "legendgroup": "Espana",
         "marker": {
          "color": "#00cc96",
          "pattern": {
           "shape": ""
          }
         },
         "name": "Espana",
         "offsetgroup": "Espana",
         "orientation": "v",
         "showlegend": true,
         "textposition": "auto",
         "type": "bar",
         "x": [
          "Espana",
          "Espana",
          "Espana",
          "Espana"
         ],
         "xaxis": "x",
         "y": [
          18400000,
          18000000,
          15200000,
          13000000
         ],
         "yaxis": "y"
        },
        {
         "alignmentgroup": "True",
         "hovertemplate": "country=%{x}<br>subcribers=%{y}<extra></extra>",
         "legendgroup": "Peru",
         "marker": {
          "color": "#ab63fa",
          "pattern": {
           "shape": ""
          }
         },
         "name": "Peru",
         "offsetgroup": "Peru",
         "orientation": "v",
         "showlegend": true,
         "textposition": "auto",
         "type": "bar",
         "x": [
          "Peru",
          "Peru"
         ],
         "xaxis": "x",
         "y": [
          18200000,
          13200000
         ],
         "yaxis": "y"
        },
        {
         "alignmentgroup": "True",
         "hovertemplate": "country=%{x}<br>subcribers=%{y}<extra></extra>",
         "legendgroup": "Egipto",
         "marker": {
          "color": "#FFA15A",
          "pattern": {
           "shape": ""
          }
         },
         "name": "Egipto",
         "offsetgroup": "Egipto",
         "orientation": "v",
         "showlegend": true,
         "textposition": "auto",
         "type": "bar",
         "x": [
          "Egipto",
          "Egipto",
          "Egipto",
          "Egipto",
          "Egipto"
         ],
         "xaxis": "x",
         "y": [
          15800000,
          15200000,
          14800000,
          12200000,
          11900000
         ],
         "yaxis": "y"
        },
        {
         "alignmentgroup": "True",
         "hovertemplate": "country=%{x}<br>subcribers=%{y}<extra></extra>",
         "legendgroup": "Jordania",
         "marker": {
          "color": "#19d3f3",
          "pattern": {
           "shape": ""
          }
         },
         "name": "Jordania",
         "offsetgroup": "Jordania",
         "orientation": "v",
         "showlegend": true,
         "textposition": "auto",
         "type": "bar",
         "x": [
          "Jordania"
         ],
         "xaxis": "x",
         "y": [
          14200000
         ],
         "yaxis": "y"
        },
        {
         "alignmentgroup": "True",
         "hovertemplate": "country=%{x}<br>subcribers=%{y}<extra></extra>",
         "legendgroup": "Marruecos",
         "marker": {
          "color": "#FF6692",
          "pattern": {
           "shape": ""
          }
         },
         "name": "Marruecos",
         "offsetgroup": "Marruecos",
         "orientation": "v",
         "showlegend": true,
         "textposition": "auto",
         "type": "bar",
         "x": [
          "Marruecos",
          "Marruecos"
         ],
         "xaxis": "x",
         "y": [
          13200000,
          12600000
         ],
         "yaxis": "y"
        },
        {
         "alignmentgroup": "True",
         "hovertemplate": "country=%{x}<br>subcribers=%{y}<extra></extra>",
         "legendgroup": "Singapur",
         "marker": {
          "color": "#B6E880",
          "pattern": {
           "shape": ""
          }
         },
         "name": "Singapur",
         "offsetgroup": "Singapur",
         "orientation": "v",
         "showlegend": true,
         "textposition": "auto",
         "type": "bar",
         "x": [
          "Singapur"
         ],
         "xaxis": "x",
         "y": [
          12400000
         ],
         "yaxis": "y"
        },
        {
         "alignmentgroup": "True",
         "hovertemplate": "country=%{x}<br>subcribers=%{y}<extra></extra>",
         "legendgroup": "Somalia",
         "marker": {
          "color": "#FF97FF",
          "pattern": {
           "shape": ""
          }
         },
         "name": "Somalia",
         "offsetgroup": "Somalia",
         "orientation": "v",
         "showlegend": true,
         "textposition": "auto",
         "type": "bar",
         "x": [
          "Somalia"
         ],
         "xaxis": "x",
         "y": [
          11700000
         ],
         "yaxis": "y"
        }
       ],
       "layout": {
        "barmode": "relative",
        "legend": {
         "title": {
          "text": "country"
         },
         "tracegroupgap": 0
        },
        "template": {
         "data": {
          "bar": [
           {
            "error_x": {
             "color": "#2a3f5f"
            },
            "error_y": {
             "color": "#2a3f5f"
            },
            "marker": {
             "line": {
              "color": "#E5ECF6",
              "width": 0.5
             },
             "pattern": {
              "fillmode": "overlay",
              "size": 10,
              "solidity": 0.2
             }
            },
            "type": "bar"
           }
          ],
          "barpolar": [
           {
            "marker": {
             "line": {
              "color": "#E5ECF6",
              "width": 0.5
             },
             "pattern": {
              "fillmode": "overlay",
              "size": 10,
              "solidity": 0.2
             }
            },
            "type": "barpolar"
           }
          ],
          "carpet": [
           {
            "aaxis": {
             "endlinecolor": "#2a3f5f",
             "gridcolor": "white",
             "linecolor": "white",
             "minorgridcolor": "white",
             "startlinecolor": "#2a3f5f"
            },
            "baxis": {
             "endlinecolor": "#2a3f5f",
             "gridcolor": "white",
             "linecolor": "white",
             "minorgridcolor": "white",
             "startlinecolor": "#2a3f5f"
            },
            "type": "carpet"
           }
          ],
          "choropleth": [
           {
            "colorbar": {
             "outlinewidth": 0,
             "ticks": ""
            },
            "type": "choropleth"
           }
          ],
          "contour": [
           {
            "colorbar": {
             "outlinewidth": 0,
             "ticks": ""
            },
            "colorscale": [
             [
              0,
              "#0d0887"
             ],
             [
              0.1111111111111111,
              "#46039f"
             ],
             [
              0.2222222222222222,
              "#7201a8"
             ],
             [
              0.3333333333333333,
              "#9c179e"
             ],
             [
              0.4444444444444444,
              "#bd3786"
             ],
             [
              0.5555555555555556,
              "#d8576b"
             ],
             [
              0.6666666666666666,
              "#ed7953"
             ],
             [
              0.7777777777777778,
              "#fb9f3a"
             ],
             [
              0.8888888888888888,
              "#fdca26"
             ],
             [
              1,
              "#f0f921"
             ]
            ],
            "type": "contour"
           }
          ],
          "contourcarpet": [
           {
            "colorbar": {
             "outlinewidth": 0,
             "ticks": ""
            },
            "type": "contourcarpet"
           }
          ],
          "heatmap": [
           {
            "colorbar": {
             "outlinewidth": 0,
             "ticks": ""
            },
            "colorscale": [
             [
              0,
              "#0d0887"
             ],
             [
              0.1111111111111111,
              "#46039f"
             ],
             [
              0.2222222222222222,
              "#7201a8"
             ],
             [
              0.3333333333333333,
              "#9c179e"
             ],
             [
              0.4444444444444444,
              "#bd3786"
             ],
             [
              0.5555555555555556,
              "#d8576b"
             ],
             [
              0.6666666666666666,
              "#ed7953"
             ],
             [
              0.7777777777777778,
              "#fb9f3a"
             ],
             [
              0.8888888888888888,
              "#fdca26"
             ],
             [
              1,
              "#f0f921"
             ]
            ],
            "type": "heatmap"
           }
          ],
          "heatmapgl": [
           {
            "colorbar": {
             "outlinewidth": 0,
             "ticks": ""
            },
            "colorscale": [
             [
              0,
              "#0d0887"
             ],
             [
              0.1111111111111111,
              "#46039f"
             ],
             [
              0.2222222222222222,
              "#7201a8"
             ],
             [
              0.3333333333333333,
              "#9c179e"
             ],
             [
              0.4444444444444444,
              "#bd3786"
             ],
             [
              0.5555555555555556,
              "#d8576b"
             ],
             [
              0.6666666666666666,
              "#ed7953"
             ],
             [
              0.7777777777777778,
              "#fb9f3a"
             ],
             [
              0.8888888888888888,
              "#fdca26"
             ],
             [
              1,
              "#f0f921"
             ]
            ],
            "type": "heatmapgl"
           }
          ],
          "histogram": [
           {
            "marker": {
             "pattern": {
              "fillmode": "overlay",
              "size": 10,
              "solidity": 0.2
             }
            },
            "type": "histogram"
           }
          ],
          "histogram2d": [
           {
            "colorbar": {
             "outlinewidth": 0,
             "ticks": ""
            },
            "colorscale": [
             [
              0,
              "#0d0887"
             ],
             [
              0.1111111111111111,
              "#46039f"
             ],
             [
              0.2222222222222222,
              "#7201a8"
             ],
             [
              0.3333333333333333,
              "#9c179e"
             ],
             [
              0.4444444444444444,
              "#bd3786"
             ],
             [
              0.5555555555555556,
              "#d8576b"
             ],
             [
              0.6666666666666666,
              "#ed7953"
             ],
             [
              0.7777777777777778,
              "#fb9f3a"
             ],
             [
              0.8888888888888888,
              "#fdca26"
             ],
             [
              1,
              "#f0f921"
             ]
            ],
            "type": "histogram2d"
           }
          ],
          "histogram2dcontour": [
           {
            "colorbar": {
             "outlinewidth": 0,
             "ticks": ""
            },
            "colorscale": [
             [
              0,
              "#0d0887"
             ],
             [
              0.1111111111111111,
              "#46039f"
             ],
             [
              0.2222222222222222,
              "#7201a8"
             ],
             [
              0.3333333333333333,
              "#9c179e"
             ],
             [
              0.4444444444444444,
              "#bd3786"
             ],
             [
              0.5555555555555556,
              "#d8576b"
             ],
             [
              0.6666666666666666,
              "#ed7953"
             ],
             [
              0.7777777777777778,
              "#fb9f3a"
             ],
             [
              0.8888888888888888,
              "#fdca26"
             ],
             [
              1,
              "#f0f921"
             ]
            ],
            "type": "histogram2dcontour"
           }
          ],
          "mesh3d": [
           {
            "colorbar": {
             "outlinewidth": 0,
             "ticks": ""
            },
            "type": "mesh3d"
           }
          ],
          "parcoords": [
           {
            "line": {
             "colorbar": {
              "outlinewidth": 0,
              "ticks": ""
             }
            },
            "type": "parcoords"
           }
          ],
          "pie": [
           {
            "automargin": true,
            "type": "pie"
           }
          ],
          "scatter": [
           {
            "fillpattern": {
             "fillmode": "overlay",
             "size": 10,
             "solidity": 0.2
            },
            "type": "scatter"
           }
          ],
          "scatter3d": [
           {
            "line": {
             "colorbar": {
              "outlinewidth": 0,
              "ticks": ""
             }
            },
            "marker": {
             "colorbar": {
              "outlinewidth": 0,
              "ticks": ""
             }
            },
            "type": "scatter3d"
           }
          ],
          "scattercarpet": [
           {
            "marker": {
             "colorbar": {
              "outlinewidth": 0,
              "ticks": ""
             }
            },
            "type": "scattercarpet"
           }
          ],
          "scattergeo": [
           {
            "marker": {
             "colorbar": {
              "outlinewidth": 0,
              "ticks": ""
             }
            },
            "type": "scattergeo"
           }
          ],
          "scattergl": [
           {
            "marker": {
             "colorbar": {
              "outlinewidth": 0,
              "ticks": ""
             }
            },
            "type": "scattergl"
           }
          ],
          "scattermapbox": [
           {
            "marker": {
             "colorbar": {
              "outlinewidth": 0,
              "ticks": ""
             }
            },
            "type": "scattermapbox"
           }
          ],
          "scatterpolar": [
           {
            "marker": {
             "colorbar": {
              "outlinewidth": 0,
              "ticks": ""
             }
            },
            "type": "scatterpolar"
           }
          ],
          "scatterpolargl": [
           {
            "marker": {
             "colorbar": {
              "outlinewidth": 0,
              "ticks": ""
             }
            },
            "type": "scatterpolargl"
           }
          ],
          "scatterternary": [
           {
            "marker": {
             "colorbar": {
              "outlinewidth": 0,
              "ticks": ""
             }
            },
            "type": "scatterternary"
           }
          ],
          "surface": [
           {
            "colorbar": {
             "outlinewidth": 0,
             "ticks": ""
            },
            "colorscale": [
             [
              0,
              "#0d0887"
             ],
             [
              0.1111111111111111,
              "#46039f"
             ],
             [
              0.2222222222222222,
              "#7201a8"
             ],
             [
              0.3333333333333333,
              "#9c179e"
             ],
             [
              0.4444444444444444,
              "#bd3786"
             ],
             [
              0.5555555555555556,
              "#d8576b"
             ],
             [
              0.6666666666666666,
              "#ed7953"
             ],
             [
              0.7777777777777778,
              "#fb9f3a"
             ],
             [
              0.8888888888888888,
              "#fdca26"
             ],
             [
              1,
              "#f0f921"
             ]
            ],
            "type": "surface"
           }
          ],
          "table": [
           {
            "cells": {
             "fill": {
              "color": "#EBF0F8"
             },
             "line": {
              "color": "white"
             }
            },
            "header": {
             "fill": {
              "color": "#C8D4E3"
             },
             "line": {
              "color": "white"
             }
            },
            "type": "table"
           }
          ]
         },
         "layout": {
          "annotationdefaults": {
           "arrowcolor": "#2a3f5f",
           "arrowhead": 0,
           "arrowwidth": 1
          },
          "autotypenumbers": "strict",
          "coloraxis": {
           "colorbar": {
            "outlinewidth": 0,
            "ticks": ""
           }
          },
          "colorscale": {
           "diverging": [
            [
             0,
             "#8e0152"
            ],
            [
             0.1,
             "#c51b7d"
            ],
            [
             0.2,
             "#de77ae"
            ],
            [
             0.3,
             "#f1b6da"
            ],
            [
             0.4,
             "#fde0ef"
            ],
            [
             0.5,
             "#f7f7f7"
            ],
            [
             0.6,
             "#e6f5d0"
            ],
            [
             0.7,
             "#b8e186"
            ],
            [
             0.8,
             "#7fbc41"
            ],
            [
             0.9,
             "#4d9221"
            ],
            [
             1,
             "#276419"
            ]
           ],
           "sequential": [
            [
             0,
             "#0d0887"
            ],
            [
             0.1111111111111111,
             "#46039f"
            ],
            [
             0.2222222222222222,
             "#7201a8"
            ],
            [
             0.3333333333333333,
             "#9c179e"
            ],
            [
             0.4444444444444444,
             "#bd3786"
            ],
            [
             0.5555555555555556,
             "#d8576b"
            ],
            [
             0.6666666666666666,
             "#ed7953"
            ],
            [
             0.7777777777777778,
             "#fb9f3a"
            ],
            [
             0.8888888888888888,
             "#fdca26"
            ],
            [
             1,
             "#f0f921"
            ]
           ],
           "sequentialminus": [
            [
             0,
             "#0d0887"
            ],
            [
             0.1111111111111111,
             "#46039f"
            ],
            [
             0.2222222222222222,
             "#7201a8"
            ],
            [
             0.3333333333333333,
             "#9c179e"
            ],
            [
             0.4444444444444444,
             "#bd3786"
            ],
            [
             0.5555555555555556,
             "#d8576b"
            ],
            [
             0.6666666666666666,
             "#ed7953"
            ],
            [
             0.7777777777777778,
             "#fb9f3a"
            ],
            [
             0.8888888888888888,
             "#fdca26"
            ],
            [
             1,
             "#f0f921"
            ]
           ]
          },
          "colorway": [
           "#636efa",
           "#EF553B",
           "#00cc96",
           "#ab63fa",
           "#FFA15A",
           "#19d3f3",
           "#FF6692",
           "#B6E880",
           "#FF97FF",
           "#FECB52"
          ],
          "font": {
           "color": "#2a3f5f"
          },
          "geo": {
           "bgcolor": "white",
           "lakecolor": "white",
           "landcolor": "#E5ECF6",
           "showlakes": true,
           "showland": true,
           "subunitcolor": "white"
          },
          "hoverlabel": {
           "align": "left"
          },
          "hovermode": "closest",
          "mapbox": {
           "style": "light"
          },
          "paper_bgcolor": "white",
          "plot_bgcolor": "#E5ECF6",
          "polar": {
           "angularaxis": {
            "gridcolor": "white",
            "linecolor": "white",
            "ticks": ""
           },
           "bgcolor": "#E5ECF6",
           "radialaxis": {
            "gridcolor": "white",
            "linecolor": "white",
            "ticks": ""
           }
          },
          "scene": {
           "xaxis": {
            "backgroundcolor": "#E5ECF6",
            "gridcolor": "white",
            "gridwidth": 2,
            "linecolor": "white",
            "showbackground": true,
            "ticks": "",
            "zerolinecolor": "white"
           },
           "yaxis": {
            "backgroundcolor": "#E5ECF6",
            "gridcolor": "white",
            "gridwidth": 2,
            "linecolor": "white",
            "showbackground": true,
            "ticks": "",
            "zerolinecolor": "white"
           },
           "zaxis": {
            "backgroundcolor": "#E5ECF6",
            "gridcolor": "white",
            "gridwidth": 2,
            "linecolor": "white",
            "showbackground": true,
            "ticks": "",
            "zerolinecolor": "white"
           }
          },
          "shapedefaults": {
           "line": {
            "color": "#2a3f5f"
           }
          },
          "ternary": {
           "aaxis": {
            "gridcolor": "white",
            "linecolor": "white",
            "ticks": ""
           },
           "baxis": {
            "gridcolor": "white",
            "linecolor": "white",
            "ticks": ""
           },
           "bgcolor": "#E5ECF6",
           "caxis": {
            "gridcolor": "white",
            "linecolor": "white",
            "ticks": ""
           }
          },
          "title": {
           "x": 0.05
          },
          "xaxis": {
           "automargin": true,
           "gridcolor": "white",
           "linecolor": "white",
           "ticks": "",
           "title": {
            "standoff": 15
           },
           "zerolinecolor": "white",
           "zerolinewidth": 2
          },
          "yaxis": {
           "automargin": true,
           "gridcolor": "white",
           "linecolor": "white",
           "ticks": "",
           "title": {
            "standoff": 15
           },
           "zerolinecolor": "white",
           "zerolinewidth": 2
          }
         }
        },
        "title": {
         "text": "subcribers by country"
        },
        "xaxis": {
         "anchor": "y",
         "categoryarray": [
          "India",
          "Estados Unidos",
          "Unknown",
          "Brasil",
          "México",
          "Rusia",
          "Pakistan",
          "Filipinas",
          "Indonesia",
          "Tailandia",
          "Francia",
          "Colombia",
          "Iraq",
          "Japon",
          "Ecuador",
          "Argentina",
          "Turquia",
          "Arabia Saudita",
          "El Salvador",
          "Bangladesh",
          "Reino Unido",
          "Argelia",
          "Espana",
          "Peru",
          "Egipto",
          "Jordania",
          "Marruecos",
          "Singapur",
          "Somalia"
         ],
         "categoryorder": "array",
         "domain": [
          0,
          1
         ],
         "title": {
          "text": "country"
         }
        },
        "yaxis": {
         "anchor": "x",
         "domain": [
          0,
          1
         ],
         "title": {
          "text": "subcribers"
         }
        }
       }
      }
     },
     "metadata": {},
     "output_type": "display_data"
    }
   ],
   "source": [
    "# visulazation use plotly \n",
    "import plotly.express as px\n",
    "fig = px.bar(df, x='country', y='subcribers',color='country',title='subcribers by country')\n",
    "fig.show()\n"
   ]
  },
  {
   "cell_type": "code",
   "execution_count": 44,
   "metadata": {},
   "outputs": [
    {
     "name": "stdout",
     "output_type": "stream",
     "text": [
      "The Mean of Subcribers is: 20278840.28\n"
     ]
    }
   ],
   "source": [
    "#Analyze the distribution of streamers audiences by country coding Are there regional preferences for specific content categories by the coding \n",
    "\n",
    "# Calculate the mean of the Subscribers column\n",
    "mean_subscribers = df_new['subcribers'].mean()\n",
    "print(f\"The Mean of Subcribers is: {round(mean_subscribers, 2)}\")\n",
    "\n",
    "\n"
   ]
  },
  {
   "cell_type": "code",
   "execution_count": 45,
   "metadata": {},
   "outputs": [
    {
     "data": {
      "text/plain": [
       "Index(['rank', 'username', 'categories', 'subcribers', 'country', 'visits',\n",
       "       'likes', 'comments', 'links'],\n",
       "      dtype='object')"
      ]
     },
     "execution_count": 45,
     "metadata": {},
     "output_type": "execute_result"
    }
   ],
   "source": [
    "df.columns"
   ]
  },
  {
   "cell_type": "code",
   "execution_count": 46,
   "metadata": {},
   "outputs": [
    {
     "data": {
      "text/plain": [
       "257"
      ]
     },
     "execution_count": 46,
     "metadata": {},
     "output_type": "execute_result"
    }
   ],
   "source": [
    "df_new['subcribers'].nunique()"
   ]
  },
  {
   "cell_type": "code",
   "execution_count": 47,
   "metadata": {},
   "outputs": [
    {
     "data": {
      "text/plain": [
       "Musica_y_baile                       458\n",
       "Peliculas_Animacion                   60\n",
       "Musica_y_baile_Peliculas              41\n",
       "Vlogs_diarios                         37\n",
       "Noticias_y_Politica                   36\n",
       "Animacion_Videojuegos                 34\n",
       "Peliculas_Humor                       34\n",
       "Animacion_Juguetes                    27\n",
       "Animacion_Humor                       27\n",
       "Educacion                             23\n",
       "Peliculas                             23\n",
       "Animacion                             22\n",
       "Videojuegos                           18\n",
       "Videojuegos_Humor                     16\n",
       "Musica_y_baile_Animacion              16\n",
       "Ciencia_y_tecnologia                  14\n",
       "Comida_y_bebida                       12\n",
       "Humor                                 10\n",
       "Peliculas_Juguetes                     9\n",
       "Juguetes                               9\n",
       "Deportes                               8\n",
       "Peliculas_Videojuegos                  7\n",
       "Musica_y_baile_Humor                   6\n",
       "Juguetes_Coches_y_vehiculos            4\n",
       "DIY_y_Life_Hacks                       3\n",
       "Fitness_Salud_y_autoayuda              3\n",
       "Videojuegos_Juguetes                   3\n",
       "Animales_y_mascotas                    2\n",
       "Moda                                   2\n",
       "Coches_y_vehiculos                     2\n",
       "Educacion_Juguetes                     2\n",
       "Fitness                                2\n",
       "Comida_y_bebida_Juguetes               1\n",
       "ASMR_Comida_y_bebida                   1\n",
       "Animacion_Humor_Juguetes               1\n",
       "Diseno/arte_Belleza                    1\n",
       "Belleza_Moda                           1\n",
       "ASMR                                   1\n",
       "Musica_y_baile_Juguetes                1\n",
       "Diseno/arte_DIY_y_Life_Hacks           1\n",
       "DIY_y_Life_Hacks_Juguetes              1\n",
       "Diseno/arte                            1\n",
       "Comida_y_bebida_Salud_y_autoayuda      1\n",
       "Viajes_Espectaculos                    1\n",
       "Juguetes_DIY_y_Life_Hacks              1\n",
       "Name: categories, dtype: int64"
      ]
     },
     "execution_count": 47,
     "metadata": {},
     "output_type": "execute_result"
    }
   ],
   "source": [
    "# value counts categories with country \n",
    "df_new['categories'].value_counts()"
   ]
  },
  {
   "cell_type": "code",
   "execution_count": 48,
   "metadata": {},
   "outputs": [
    {
     "data": {
      "application/vnd.plotly.v1+json": {
       "config": {
        "plotlyServerURL": "https://plot.ly"
       },
       "data": [
        {
         "alignmentgroup": "True",
         "hovertemplate": "x=%{x}<br>y=%{y}<extra></extra>",
         "legendgroup": "",
         "marker": {
          "color": "#636efa",
          "pattern": {
           "shape": ""
          }
         },
         "name": "",
         "offsetgroup": "",
         "orientation": "v",
         "showlegend": false,
         "textposition": "auto",
         "type": "bar",
         "x": [
          "Musica_y_baile",
          "Peliculas_Animacion",
          "Musica_y_baile_Peliculas",
          "Vlogs_diarios",
          "Noticias_y_Politica",
          "Animacion_Videojuegos",
          "Peliculas_Humor",
          "Animacion_Juguetes",
          "Animacion_Humor",
          "Educacion",
          "Peliculas",
          "Animacion",
          "Videojuegos",
          "Videojuegos_Humor",
          "Musica_y_baile_Animacion",
          "Ciencia_y_tecnologia",
          "Comida_y_bebida",
          "Humor",
          "Peliculas_Juguetes",
          "Juguetes",
          "Deportes",
          "Peliculas_Videojuegos",
          "Musica_y_baile_Humor",
          "Juguetes_Coches_y_vehiculos",
          "DIY_y_Life_Hacks",
          "Fitness_Salud_y_autoayuda",
          "Videojuegos_Juguetes",
          "Animales_y_mascotas",
          "Moda",
          "Coches_y_vehiculos",
          "Educacion_Juguetes",
          "Fitness",
          "Comida_y_bebida_Juguetes",
          "ASMR_Comida_y_bebida",
          "Animacion_Humor_Juguetes",
          "Diseno/arte_Belleza",
          "Belleza_Moda",
          "ASMR",
          "Musica_y_baile_Juguetes",
          "Diseno/arte_DIY_y_Life_Hacks",
          "DIY_y_Life_Hacks_Juguetes",
          "Diseno/arte",
          "Comida_y_bebida_Salud_y_autoayuda",
          "Viajes_Espectaculos",
          "Juguetes_DIY_y_Life_Hacks"
         ],
         "xaxis": "x",
         "y": [
          458,
          60,
          41,
          37,
          36,
          34,
          34,
          27,
          27,
          23,
          23,
          22,
          18,
          16,
          16,
          14,
          12,
          10,
          9,
          9,
          8,
          7,
          6,
          4,
          3,
          3,
          3,
          2,
          2,
          2,
          2,
          2,
          1,
          1,
          1,
          1,
          1,
          1,
          1,
          1,
          1,
          1,
          1,
          1,
          1
         ],
         "yaxis": "y"
        }
       ],
       "layout": {
        "barmode": "relative",
        "legend": {
         "tracegroupgap": 0
        },
        "margin": {
         "t": 60
        },
        "template": {
         "data": {
          "bar": [
           {
            "error_x": {
             "color": "#2a3f5f"
            },
            "error_y": {
             "color": "#2a3f5f"
            },
            "marker": {
             "line": {
              "color": "#E5ECF6",
              "width": 0.5
             },
             "pattern": {
              "fillmode": "overlay",
              "size": 10,
              "solidity": 0.2
             }
            },
            "type": "bar"
           }
          ],
          "barpolar": [
           {
            "marker": {
             "line": {
              "color": "#E5ECF6",
              "width": 0.5
             },
             "pattern": {
              "fillmode": "overlay",
              "size": 10,
              "solidity": 0.2
             }
            },
            "type": "barpolar"
           }
          ],
          "carpet": [
           {
            "aaxis": {
             "endlinecolor": "#2a3f5f",
             "gridcolor": "white",
             "linecolor": "white",
             "minorgridcolor": "white",
             "startlinecolor": "#2a3f5f"
            },
            "baxis": {
             "endlinecolor": "#2a3f5f",
             "gridcolor": "white",
             "linecolor": "white",
             "minorgridcolor": "white",
             "startlinecolor": "#2a3f5f"
            },
            "type": "carpet"
           }
          ],
          "choropleth": [
           {
            "colorbar": {
             "outlinewidth": 0,
             "ticks": ""
            },
            "type": "choropleth"
           }
          ],
          "contour": [
           {
            "colorbar": {
             "outlinewidth": 0,
             "ticks": ""
            },
            "colorscale": [
             [
              0,
              "#0d0887"
             ],
             [
              0.1111111111111111,
              "#46039f"
             ],
             [
              0.2222222222222222,
              "#7201a8"
             ],
             [
              0.3333333333333333,
              "#9c179e"
             ],
             [
              0.4444444444444444,
              "#bd3786"
             ],
             [
              0.5555555555555556,
              "#d8576b"
             ],
             [
              0.6666666666666666,
              "#ed7953"
             ],
             [
              0.7777777777777778,
              "#fb9f3a"
             ],
             [
              0.8888888888888888,
              "#fdca26"
             ],
             [
              1,
              "#f0f921"
             ]
            ],
            "type": "contour"
           }
          ],
          "contourcarpet": [
           {
            "colorbar": {
             "outlinewidth": 0,
             "ticks": ""
            },
            "type": "contourcarpet"
           }
          ],
          "heatmap": [
           {
            "colorbar": {
             "outlinewidth": 0,
             "ticks": ""
            },
            "colorscale": [
             [
              0,
              "#0d0887"
             ],
             [
              0.1111111111111111,
              "#46039f"
             ],
             [
              0.2222222222222222,
              "#7201a8"
             ],
             [
              0.3333333333333333,
              "#9c179e"
             ],
             [
              0.4444444444444444,
              "#bd3786"
             ],
             [
              0.5555555555555556,
              "#d8576b"
             ],
             [
              0.6666666666666666,
              "#ed7953"
             ],
             [
              0.7777777777777778,
              "#fb9f3a"
             ],
             [
              0.8888888888888888,
              "#fdca26"
             ],
             [
              1,
              "#f0f921"
             ]
            ],
            "type": "heatmap"
           }
          ],
          "heatmapgl": [
           {
            "colorbar": {
             "outlinewidth": 0,
             "ticks": ""
            },
            "colorscale": [
             [
              0,
              "#0d0887"
             ],
             [
              0.1111111111111111,
              "#46039f"
             ],
             [
              0.2222222222222222,
              "#7201a8"
             ],
             [
              0.3333333333333333,
              "#9c179e"
             ],
             [
              0.4444444444444444,
              "#bd3786"
             ],
             [
              0.5555555555555556,
              "#d8576b"
             ],
             [
              0.6666666666666666,
              "#ed7953"
             ],
             [
              0.7777777777777778,
              "#fb9f3a"
             ],
             [
              0.8888888888888888,
              "#fdca26"
             ],
             [
              1,
              "#f0f921"
             ]
            ],
            "type": "heatmapgl"
           }
          ],
          "histogram": [
           {
            "marker": {
             "pattern": {
              "fillmode": "overlay",
              "size": 10,
              "solidity": 0.2
             }
            },
            "type": "histogram"
           }
          ],
          "histogram2d": [
           {
            "colorbar": {
             "outlinewidth": 0,
             "ticks": ""
            },
            "colorscale": [
             [
              0,
              "#0d0887"
             ],
             [
              0.1111111111111111,
              "#46039f"
             ],
             [
              0.2222222222222222,
              "#7201a8"
             ],
             [
              0.3333333333333333,
              "#9c179e"
             ],
             [
              0.4444444444444444,
              "#bd3786"
             ],
             [
              0.5555555555555556,
              "#d8576b"
             ],
             [
              0.6666666666666666,
              "#ed7953"
             ],
             [
              0.7777777777777778,
              "#fb9f3a"
             ],
             [
              0.8888888888888888,
              "#fdca26"
             ],
             [
              1,
              "#f0f921"
             ]
            ],
            "type": "histogram2d"
           }
          ],
          "histogram2dcontour": [
           {
            "colorbar": {
             "outlinewidth": 0,
             "ticks": ""
            },
            "colorscale": [
             [
              0,
              "#0d0887"
             ],
             [
              0.1111111111111111,
              "#46039f"
             ],
             [
              0.2222222222222222,
              "#7201a8"
             ],
             [
              0.3333333333333333,
              "#9c179e"
             ],
             [
              0.4444444444444444,
              "#bd3786"
             ],
             [
              0.5555555555555556,
              "#d8576b"
             ],
             [
              0.6666666666666666,
              "#ed7953"
             ],
             [
              0.7777777777777778,
              "#fb9f3a"
             ],
             [
              0.8888888888888888,
              "#fdca26"
             ],
             [
              1,
              "#f0f921"
             ]
            ],
            "type": "histogram2dcontour"
           }
          ],
          "mesh3d": [
           {
            "colorbar": {
             "outlinewidth": 0,
             "ticks": ""
            },
            "type": "mesh3d"
           }
          ],
          "parcoords": [
           {
            "line": {
             "colorbar": {
              "outlinewidth": 0,
              "ticks": ""
             }
            },
            "type": "parcoords"
           }
          ],
          "pie": [
           {
            "automargin": true,
            "type": "pie"
           }
          ],
          "scatter": [
           {
            "fillpattern": {
             "fillmode": "overlay",
             "size": 10,
             "solidity": 0.2
            },
            "type": "scatter"
           }
          ],
          "scatter3d": [
           {
            "line": {
             "colorbar": {
              "outlinewidth": 0,
              "ticks": ""
             }
            },
            "marker": {
             "colorbar": {
              "outlinewidth": 0,
              "ticks": ""
             }
            },
            "type": "scatter3d"
           }
          ],
          "scattercarpet": [
           {
            "marker": {
             "colorbar": {
              "outlinewidth": 0,
              "ticks": ""
             }
            },
            "type": "scattercarpet"
           }
          ],
          "scattergeo": [
           {
            "marker": {
             "colorbar": {
              "outlinewidth": 0,
              "ticks": ""
             }
            },
            "type": "scattergeo"
           }
          ],
          "scattergl": [
           {
            "marker": {
             "colorbar": {
              "outlinewidth": 0,
              "ticks": ""
             }
            },
            "type": "scattergl"
           }
          ],
          "scattermapbox": [
           {
            "marker": {
             "colorbar": {
              "outlinewidth": 0,
              "ticks": ""
             }
            },
            "type": "scattermapbox"
           }
          ],
          "scatterpolar": [
           {
            "marker": {
             "colorbar": {
              "outlinewidth": 0,
              "ticks": ""
             }
            },
            "type": "scatterpolar"
           }
          ],
          "scatterpolargl": [
           {
            "marker": {
             "colorbar": {
              "outlinewidth": 0,
              "ticks": ""
             }
            },
            "type": "scatterpolargl"
           }
          ],
          "scatterternary": [
           {
            "marker": {
             "colorbar": {
              "outlinewidth": 0,
              "ticks": ""
             }
            },
            "type": "scatterternary"
           }
          ],
          "surface": [
           {
            "colorbar": {
             "outlinewidth": 0,
             "ticks": ""
            },
            "colorscale": [
             [
              0,
              "#0d0887"
             ],
             [
              0.1111111111111111,
              "#46039f"
             ],
             [
              0.2222222222222222,
              "#7201a8"
             ],
             [
              0.3333333333333333,
              "#9c179e"
             ],
             [
              0.4444444444444444,
              "#bd3786"
             ],
             [
              0.5555555555555556,
              "#d8576b"
             ],
             [
              0.6666666666666666,
              "#ed7953"
             ],
             [
              0.7777777777777778,
              "#fb9f3a"
             ],
             [
              0.8888888888888888,
              "#fdca26"
             ],
             [
              1,
              "#f0f921"
             ]
            ],
            "type": "surface"
           }
          ],
          "table": [
           {
            "cells": {
             "fill": {
              "color": "#EBF0F8"
             },
             "line": {
              "color": "white"
             }
            },
            "header": {
             "fill": {
              "color": "#C8D4E3"
             },
             "line": {
              "color": "white"
             }
            },
            "type": "table"
           }
          ]
         },
         "layout": {
          "annotationdefaults": {
           "arrowcolor": "#2a3f5f",
           "arrowhead": 0,
           "arrowwidth": 1
          },
          "autotypenumbers": "strict",
          "coloraxis": {
           "colorbar": {
            "outlinewidth": 0,
            "ticks": ""
           }
          },
          "colorscale": {
           "diverging": [
            [
             0,
             "#8e0152"
            ],
            [
             0.1,
             "#c51b7d"
            ],
            [
             0.2,
             "#de77ae"
            ],
            [
             0.3,
             "#f1b6da"
            ],
            [
             0.4,
             "#fde0ef"
            ],
            [
             0.5,
             "#f7f7f7"
            ],
            [
             0.6,
             "#e6f5d0"
            ],
            [
             0.7,
             "#b8e186"
            ],
            [
             0.8,
             "#7fbc41"
            ],
            [
             0.9,
             "#4d9221"
            ],
            [
             1,
             "#276419"
            ]
           ],
           "sequential": [
            [
             0,
             "#0d0887"
            ],
            [
             0.1111111111111111,
             "#46039f"
            ],
            [
             0.2222222222222222,
             "#7201a8"
            ],
            [
             0.3333333333333333,
             "#9c179e"
            ],
            [
             0.4444444444444444,
             "#bd3786"
            ],
            [
             0.5555555555555556,
             "#d8576b"
            ],
            [
             0.6666666666666666,
             "#ed7953"
            ],
            [
             0.7777777777777778,
             "#fb9f3a"
            ],
            [
             0.8888888888888888,
             "#fdca26"
            ],
            [
             1,
             "#f0f921"
            ]
           ],
           "sequentialminus": [
            [
             0,
             "#0d0887"
            ],
            [
             0.1111111111111111,
             "#46039f"
            ],
            [
             0.2222222222222222,
             "#7201a8"
            ],
            [
             0.3333333333333333,
             "#9c179e"
            ],
            [
             0.4444444444444444,
             "#bd3786"
            ],
            [
             0.5555555555555556,
             "#d8576b"
            ],
            [
             0.6666666666666666,
             "#ed7953"
            ],
            [
             0.7777777777777778,
             "#fb9f3a"
            ],
            [
             0.8888888888888888,
             "#fdca26"
            ],
            [
             1,
             "#f0f921"
            ]
           ]
          },
          "colorway": [
           "#636efa",
           "#EF553B",
           "#00cc96",
           "#ab63fa",
           "#FFA15A",
           "#19d3f3",
           "#FF6692",
           "#B6E880",
           "#FF97FF",
           "#FECB52"
          ],
          "font": {
           "color": "#2a3f5f"
          },
          "geo": {
           "bgcolor": "white",
           "lakecolor": "white",
           "landcolor": "#E5ECF6",
           "showlakes": true,
           "showland": true,
           "subunitcolor": "white"
          },
          "hoverlabel": {
           "align": "left"
          },
          "hovermode": "closest",
          "mapbox": {
           "style": "light"
          },
          "paper_bgcolor": "white",
          "plot_bgcolor": "#E5ECF6",
          "polar": {
           "angularaxis": {
            "gridcolor": "white",
            "linecolor": "white",
            "ticks": ""
           },
           "bgcolor": "#E5ECF6",
           "radialaxis": {
            "gridcolor": "white",
            "linecolor": "white",
            "ticks": ""
           }
          },
          "scene": {
           "xaxis": {
            "backgroundcolor": "#E5ECF6",
            "gridcolor": "white",
            "gridwidth": 2,
            "linecolor": "white",
            "showbackground": true,
            "ticks": "",
            "zerolinecolor": "white"
           },
           "yaxis": {
            "backgroundcolor": "#E5ECF6",
            "gridcolor": "white",
            "gridwidth": 2,
            "linecolor": "white",
            "showbackground": true,
            "ticks": "",
            "zerolinecolor": "white"
           },
           "zaxis": {
            "backgroundcolor": "#E5ECF6",
            "gridcolor": "white",
            "gridwidth": 2,
            "linecolor": "white",
            "showbackground": true,
            "ticks": "",
            "zerolinecolor": "white"
           }
          },
          "shapedefaults": {
           "line": {
            "color": "#2a3f5f"
           }
          },
          "ternary": {
           "aaxis": {
            "gridcolor": "white",
            "linecolor": "white",
            "ticks": ""
           },
           "baxis": {
            "gridcolor": "white",
            "linecolor": "white",
            "ticks": ""
           },
           "bgcolor": "#E5ECF6",
           "caxis": {
            "gridcolor": "white",
            "linecolor": "white",
            "ticks": ""
           }
          },
          "title": {
           "x": 0.05
          },
          "xaxis": {
           "automargin": true,
           "gridcolor": "white",
           "linecolor": "white",
           "ticks": "",
           "title": {
            "standoff": 15
           },
           "zerolinecolor": "white",
           "zerolinewidth": 2
          },
          "yaxis": {
           "automargin": true,
           "gridcolor": "white",
           "linecolor": "white",
           "ticks": "",
           "title": {
            "standoff": 15
           },
           "zerolinecolor": "white",
           "zerolinewidth": 2
          }
         }
        },
        "xaxis": {
         "anchor": "y",
         "domain": [
          0,
          1
         ],
         "title": {
          "text": "x"
         }
        },
        "yaxis": {
         "anchor": "x",
         "domain": [
          0,
          1
         ],
         "title": {
          "text": "y"
         }
        }
       }
      }
     },
     "metadata": {},
     "output_type": "display_data"
    }
   ],
   "source": [
    "px.bar(x= df_new['categories'].value_counts().index,y= df_new['categories'].value_counts())\n"
   ]
  },
  {
   "cell_type": "code",
   "execution_count": 49,
   "metadata": {},
   "outputs": [
    {
     "data": {
      "application/vnd.plotly.v1+json": {
       "config": {
        "plotlyServerURL": "https://plot.ly"
       },
       "data": [
        {
         "alignmentgroup": "True",
         "hovertemplate": "x=%{x}<br>y=%{y}<extra></extra>",
         "legendgroup": "",
         "marker": {
          "color": "#636efa",
          "pattern": {
           "shape": ""
          }
         },
         "name": "",
         "offsetgroup": "",
         "orientation": "v",
         "showlegend": false,
         "textposition": "auto",
         "type": "bar",
         "x": [
          "Estados Unidos",
          "India",
          "Unknown",
          "Brasil",
          "México",
          "Indonesia",
          "Rusia",
          "Tailandia",
          "Colombia",
          "Filipinas",
          "Pakistan",
          "Argentina",
          "Egipto",
          "Francia",
          "Turquia",
          "Arabia Saudita",
          "Espana",
          "Iraq",
          "Japon",
          "Bangladesh",
          "Reino Unido",
          "Marruecos",
          "Argelia",
          "Peru",
          "Singapur",
          "Ecuador",
          "Jordania",
          "El Salvador",
          "Somalia"
         ],
         "xaxis": "x",
         "y": [
          288,
          233,
          167,
          64,
          58,
          38,
          25,
          18,
          16,
          13,
          11,
          7,
          5,
          4,
          4,
          4,
          4,
          4,
          3,
          3,
          3,
          2,
          2,
          2,
          1,
          1,
          1,
          1,
          1
         ],
         "yaxis": "y"
        }
       ],
       "layout": {
        "barmode": "relative",
        "legend": {
         "tracegroupgap": 0
        },
        "margin": {
         "t": 60
        },
        "template": {
         "data": {
          "bar": [
           {
            "error_x": {
             "color": "#2a3f5f"
            },
            "error_y": {
             "color": "#2a3f5f"
            },
            "marker": {
             "line": {
              "color": "#E5ECF6",
              "width": 0.5
             },
             "pattern": {
              "fillmode": "overlay",
              "size": 10,
              "solidity": 0.2
             }
            },
            "type": "bar"
           }
          ],
          "barpolar": [
           {
            "marker": {
             "line": {
              "color": "#E5ECF6",
              "width": 0.5
             },
             "pattern": {
              "fillmode": "overlay",
              "size": 10,
              "solidity": 0.2
             }
            },
            "type": "barpolar"
           }
          ],
          "carpet": [
           {
            "aaxis": {
             "endlinecolor": "#2a3f5f",
             "gridcolor": "white",
             "linecolor": "white",
             "minorgridcolor": "white",
             "startlinecolor": "#2a3f5f"
            },
            "baxis": {
             "endlinecolor": "#2a3f5f",
             "gridcolor": "white",
             "linecolor": "white",
             "minorgridcolor": "white",
             "startlinecolor": "#2a3f5f"
            },
            "type": "carpet"
           }
          ],
          "choropleth": [
           {
            "colorbar": {
             "outlinewidth": 0,
             "ticks": ""
            },
            "type": "choropleth"
           }
          ],
          "contour": [
           {
            "colorbar": {
             "outlinewidth": 0,
             "ticks": ""
            },
            "colorscale": [
             [
              0,
              "#0d0887"
             ],
             [
              0.1111111111111111,
              "#46039f"
             ],
             [
              0.2222222222222222,
              "#7201a8"
             ],
             [
              0.3333333333333333,
              "#9c179e"
             ],
             [
              0.4444444444444444,
              "#bd3786"
             ],
             [
              0.5555555555555556,
              "#d8576b"
             ],
             [
              0.6666666666666666,
              "#ed7953"
             ],
             [
              0.7777777777777778,
              "#fb9f3a"
             ],
             [
              0.8888888888888888,
              "#fdca26"
             ],
             [
              1,
              "#f0f921"
             ]
            ],
            "type": "contour"
           }
          ],
          "contourcarpet": [
           {
            "colorbar": {
             "outlinewidth": 0,
             "ticks": ""
            },
            "type": "contourcarpet"
           }
          ],
          "heatmap": [
           {
            "colorbar": {
             "outlinewidth": 0,
             "ticks": ""
            },
            "colorscale": [
             [
              0,
              "#0d0887"
             ],
             [
              0.1111111111111111,
              "#46039f"
             ],
             [
              0.2222222222222222,
              "#7201a8"
             ],
             [
              0.3333333333333333,
              "#9c179e"
             ],
             [
              0.4444444444444444,
              "#bd3786"
             ],
             [
              0.5555555555555556,
              "#d8576b"
             ],
             [
              0.6666666666666666,
              "#ed7953"
             ],
             [
              0.7777777777777778,
              "#fb9f3a"
             ],
             [
              0.8888888888888888,
              "#fdca26"
             ],
             [
              1,
              "#f0f921"
             ]
            ],
            "type": "heatmap"
           }
          ],
          "heatmapgl": [
           {
            "colorbar": {
             "outlinewidth": 0,
             "ticks": ""
            },
            "colorscale": [
             [
              0,
              "#0d0887"
             ],
             [
              0.1111111111111111,
              "#46039f"
             ],
             [
              0.2222222222222222,
              "#7201a8"
             ],
             [
              0.3333333333333333,
              "#9c179e"
             ],
             [
              0.4444444444444444,
              "#bd3786"
             ],
             [
              0.5555555555555556,
              "#d8576b"
             ],
             [
              0.6666666666666666,
              "#ed7953"
             ],
             [
              0.7777777777777778,
              "#fb9f3a"
             ],
             [
              0.8888888888888888,
              "#fdca26"
             ],
             [
              1,
              "#f0f921"
             ]
            ],
            "type": "heatmapgl"
           }
          ],
          "histogram": [
           {
            "marker": {
             "pattern": {
              "fillmode": "overlay",
              "size": 10,
              "solidity": 0.2
             }
            },
            "type": "histogram"
           }
          ],
          "histogram2d": [
           {
            "colorbar": {
             "outlinewidth": 0,
             "ticks": ""
            },
            "colorscale": [
             [
              0,
              "#0d0887"
             ],
             [
              0.1111111111111111,
              "#46039f"
             ],
             [
              0.2222222222222222,
              "#7201a8"
             ],
             [
              0.3333333333333333,
              "#9c179e"
             ],
             [
              0.4444444444444444,
              "#bd3786"
             ],
             [
              0.5555555555555556,
              "#d8576b"
             ],
             [
              0.6666666666666666,
              "#ed7953"
             ],
             [
              0.7777777777777778,
              "#fb9f3a"
             ],
             [
              0.8888888888888888,
              "#fdca26"
             ],
             [
              1,
              "#f0f921"
             ]
            ],
            "type": "histogram2d"
           }
          ],
          "histogram2dcontour": [
           {
            "colorbar": {
             "outlinewidth": 0,
             "ticks": ""
            },
            "colorscale": [
             [
              0,
              "#0d0887"
             ],
             [
              0.1111111111111111,
              "#46039f"
             ],
             [
              0.2222222222222222,
              "#7201a8"
             ],
             [
              0.3333333333333333,
              "#9c179e"
             ],
             [
              0.4444444444444444,
              "#bd3786"
             ],
             [
              0.5555555555555556,
              "#d8576b"
             ],
             [
              0.6666666666666666,
              "#ed7953"
             ],
             [
              0.7777777777777778,
              "#fb9f3a"
             ],
             [
              0.8888888888888888,
              "#fdca26"
             ],
             [
              1,
              "#f0f921"
             ]
            ],
            "type": "histogram2dcontour"
           }
          ],
          "mesh3d": [
           {
            "colorbar": {
             "outlinewidth": 0,
             "ticks": ""
            },
            "type": "mesh3d"
           }
          ],
          "parcoords": [
           {
            "line": {
             "colorbar": {
              "outlinewidth": 0,
              "ticks": ""
             }
            },
            "type": "parcoords"
           }
          ],
          "pie": [
           {
            "automargin": true,
            "type": "pie"
           }
          ],
          "scatter": [
           {
            "fillpattern": {
             "fillmode": "overlay",
             "size": 10,
             "solidity": 0.2
            },
            "type": "scatter"
           }
          ],
          "scatter3d": [
           {
            "line": {
             "colorbar": {
              "outlinewidth": 0,
              "ticks": ""
             }
            },
            "marker": {
             "colorbar": {
              "outlinewidth": 0,
              "ticks": ""
             }
            },
            "type": "scatter3d"
           }
          ],
          "scattercarpet": [
           {
            "marker": {
             "colorbar": {
              "outlinewidth": 0,
              "ticks": ""
             }
            },
            "type": "scattercarpet"
           }
          ],
          "scattergeo": [
           {
            "marker": {
             "colorbar": {
              "outlinewidth": 0,
              "ticks": ""
             }
            },
            "type": "scattergeo"
           }
          ],
          "scattergl": [
           {
            "marker": {
             "colorbar": {
              "outlinewidth": 0,
              "ticks": ""
             }
            },
            "type": "scattergl"
           }
          ],
          "scattermapbox": [
           {
            "marker": {
             "colorbar": {
              "outlinewidth": 0,
              "ticks": ""
             }
            },
            "type": "scattermapbox"
           }
          ],
          "scatterpolar": [
           {
            "marker": {
             "colorbar": {
              "outlinewidth": 0,
              "ticks": ""
             }
            },
            "type": "scatterpolar"
           }
          ],
          "scatterpolargl": [
           {
            "marker": {
             "colorbar": {
              "outlinewidth": 0,
              "ticks": ""
             }
            },
            "type": "scatterpolargl"
           }
          ],
          "scatterternary": [
           {
            "marker": {
             "colorbar": {
              "outlinewidth": 0,
              "ticks": ""
             }
            },
            "type": "scatterternary"
           }
          ],
          "surface": [
           {
            "colorbar": {
             "outlinewidth": 0,
             "ticks": ""
            },
            "colorscale": [
             [
              0,
              "#0d0887"
             ],
             [
              0.1111111111111111,
              "#46039f"
             ],
             [
              0.2222222222222222,
              "#7201a8"
             ],
             [
              0.3333333333333333,
              "#9c179e"
             ],
             [
              0.4444444444444444,
              "#bd3786"
             ],
             [
              0.5555555555555556,
              "#d8576b"
             ],
             [
              0.6666666666666666,
              "#ed7953"
             ],
             [
              0.7777777777777778,
              "#fb9f3a"
             ],
             [
              0.8888888888888888,
              "#fdca26"
             ],
             [
              1,
              "#f0f921"
             ]
            ],
            "type": "surface"
           }
          ],
          "table": [
           {
            "cells": {
             "fill": {
              "color": "#EBF0F8"
             },
             "line": {
              "color": "white"
             }
            },
            "header": {
             "fill": {
              "color": "#C8D4E3"
             },
             "line": {
              "color": "white"
             }
            },
            "type": "table"
           }
          ]
         },
         "layout": {
          "annotationdefaults": {
           "arrowcolor": "#2a3f5f",
           "arrowhead": 0,
           "arrowwidth": 1
          },
          "autotypenumbers": "strict",
          "coloraxis": {
           "colorbar": {
            "outlinewidth": 0,
            "ticks": ""
           }
          },
          "colorscale": {
           "diverging": [
            [
             0,
             "#8e0152"
            ],
            [
             0.1,
             "#c51b7d"
            ],
            [
             0.2,
             "#de77ae"
            ],
            [
             0.3,
             "#f1b6da"
            ],
            [
             0.4,
             "#fde0ef"
            ],
            [
             0.5,
             "#f7f7f7"
            ],
            [
             0.6,
             "#e6f5d0"
            ],
            [
             0.7,
             "#b8e186"
            ],
            [
             0.8,
             "#7fbc41"
            ],
            [
             0.9,
             "#4d9221"
            ],
            [
             1,
             "#276419"
            ]
           ],
           "sequential": [
            [
             0,
             "#0d0887"
            ],
            [
             0.1111111111111111,
             "#46039f"
            ],
            [
             0.2222222222222222,
             "#7201a8"
            ],
            [
             0.3333333333333333,
             "#9c179e"
            ],
            [
             0.4444444444444444,
             "#bd3786"
            ],
            [
             0.5555555555555556,
             "#d8576b"
            ],
            [
             0.6666666666666666,
             "#ed7953"
            ],
            [
             0.7777777777777778,
             "#fb9f3a"
            ],
            [
             0.8888888888888888,
             "#fdca26"
            ],
            [
             1,
             "#f0f921"
            ]
           ],
           "sequentialminus": [
            [
             0,
             "#0d0887"
            ],
            [
             0.1111111111111111,
             "#46039f"
            ],
            [
             0.2222222222222222,
             "#7201a8"
            ],
            [
             0.3333333333333333,
             "#9c179e"
            ],
            [
             0.4444444444444444,
             "#bd3786"
            ],
            [
             0.5555555555555556,
             "#d8576b"
            ],
            [
             0.6666666666666666,
             "#ed7953"
            ],
            [
             0.7777777777777778,
             "#fb9f3a"
            ],
            [
             0.8888888888888888,
             "#fdca26"
            ],
            [
             1,
             "#f0f921"
            ]
           ]
          },
          "colorway": [
           "#636efa",
           "#EF553B",
           "#00cc96",
           "#ab63fa",
           "#FFA15A",
           "#19d3f3",
           "#FF6692",
           "#B6E880",
           "#FF97FF",
           "#FECB52"
          ],
          "font": {
           "color": "#2a3f5f"
          },
          "geo": {
           "bgcolor": "white",
           "lakecolor": "white",
           "landcolor": "#E5ECF6",
           "showlakes": true,
           "showland": true,
           "subunitcolor": "white"
          },
          "hoverlabel": {
           "align": "left"
          },
          "hovermode": "closest",
          "mapbox": {
           "style": "light"
          },
          "paper_bgcolor": "white",
          "plot_bgcolor": "#E5ECF6",
          "polar": {
           "angularaxis": {
            "gridcolor": "white",
            "linecolor": "white",
            "ticks": ""
           },
           "bgcolor": "#E5ECF6",
           "radialaxis": {
            "gridcolor": "white",
            "linecolor": "white",
            "ticks": ""
           }
          },
          "scene": {
           "xaxis": {
            "backgroundcolor": "#E5ECF6",
            "gridcolor": "white",
            "gridwidth": 2,
            "linecolor": "white",
            "showbackground": true,
            "ticks": "",
            "zerolinecolor": "white"
           },
           "yaxis": {
            "backgroundcolor": "#E5ECF6",
            "gridcolor": "white",
            "gridwidth": 2,
            "linecolor": "white",
            "showbackground": true,
            "ticks": "",
            "zerolinecolor": "white"
           },
           "zaxis": {
            "backgroundcolor": "#E5ECF6",
            "gridcolor": "white",
            "gridwidth": 2,
            "linecolor": "white",
            "showbackground": true,
            "ticks": "",
            "zerolinecolor": "white"
           }
          },
          "shapedefaults": {
           "line": {
            "color": "#2a3f5f"
           }
          },
          "ternary": {
           "aaxis": {
            "gridcolor": "white",
            "linecolor": "white",
            "ticks": ""
           },
           "baxis": {
            "gridcolor": "white",
            "linecolor": "white",
            "ticks": ""
           },
           "bgcolor": "#E5ECF6",
           "caxis": {
            "gridcolor": "white",
            "linecolor": "white",
            "ticks": ""
           }
          },
          "title": {
           "x": 0.05
          },
          "xaxis": {
           "automargin": true,
           "gridcolor": "white",
           "linecolor": "white",
           "ticks": "",
           "title": {
            "standoff": 15
           },
           "zerolinecolor": "white",
           "zerolinewidth": 2
          },
          "yaxis": {
           "automargin": true,
           "gridcolor": "white",
           "linecolor": "white",
           "ticks": "",
           "title": {
            "standoff": 15
           },
           "zerolinecolor": "white",
           "zerolinewidth": 2
          }
         }
        },
        "xaxis": {
         "anchor": "y",
         "domain": [
          0,
          1
         ],
         "title": {
          "text": "x"
         }
        },
        "yaxis": {
         "anchor": "x",
         "domain": [
          0,
          1
         ],
         "title": {
          "text": "y"
         }
        }
       }
      }
     },
     "metadata": {},
     "output_type": "display_data"
    }
   ],
   "source": [
    "px.bar(x= df_new['country'].value_counts().index,y= df_new['country'].value_counts())\n"
   ]
  },
  {
   "cell_type": "code",
   "execution_count": 50,
   "metadata": {},
   "outputs": [
    {
     "data": {
      "text/plain": [
       "(array([0, 1, 2, 3, 4, 5, 6, 7, 8, 9]),\n",
       " [Text(0, 0, 'Musica_y_baile'),\n",
       "  Text(1, 0, 'Peliculas_Animacion'),\n",
       "  Text(2, 0, 'Musica_y_baile_Peliculas'),\n",
       "  Text(3, 0, 'Vlogs_diarios'),\n",
       "  Text(4, 0, 'Noticias_y_Politica'),\n",
       "  Text(5, 0, 'Peliculas_Humor'),\n",
       "  Text(6, 0, 'Animacion_Videojuegos'),\n",
       "  Text(7, 0, 'Animacion_Juguetes'),\n",
       "  Text(8, 0, 'Animacion_Humor'),\n",
       "  Text(9, 0, 'Peliculas')])"
      ]
     },
     "execution_count": 50,
     "metadata": {},
     "output_type": "execute_result"
    },
    {
     "data": {
      "image/png": "[encoded data removed]",
      "text/plain": [
       "<Figure size 640x480 with 1 Axes>"
      ]
     },
     "metadata": {},
     "output_type": "display_data"
    }
   ],
   "source": [
    "sns.countplot(x= 'categories',data=df_new,order=df['categories'].value_counts().index[:10])\n",
    "# rotate x-trick text\n",
    "plt.xticks(rotation=45)"
   ]
  },
  {
   "cell_type": "markdown",
   "metadata": {},
   "source": [
    "# **Performance Metrics:**\n",
    "- Calculate and visualize the average number of subscribers, visits, likes, and comments.\n",
    "Are there patterns or anomalies in these metrics?"
   ]
  },
  {
   "cell_type": "code",
   "execution_count": 55,
   "metadata": {},
   "outputs": [
    {
     "data": {
      "text/plain": [
       "Index(['rank', 'username', 'categories', 'subcribers', 'country', 'visits',\n",
       "       'likes', 'comments', 'links'],\n",
       "      dtype='object')"
      ]
     },
     "execution_count": 55,
     "metadata": {},
     "output_type": "execute_result"
    }
   ],
   "source": [
    "df.columns "
   ]
  },
  {
   "cell_type": "code",
   "execution_count": 56,
   "metadata": {},
   "outputs": [
    {
     "name": "stdout",
     "output_type": "stream",
     "text": [
      "Average Subscribers: 21894400.0\n",
      "Average Visits: 1209446.3155\n",
      "Average Likes: 53632.592\n",
      "Average Comments: 1288.768\n"
     ]
    },
    {
     "data": {
      "image/png": "[encoded data removed]",
      "text/plain": [
       "<Figure size 1000x600 with 1 Axes>"
      ]
     },
     "metadata": {},
     "output_type": "display_data"
    }
   ],
   "source": [
    "\n",
    "# Calculate the average number of subscribers, visits, likes, and comments\n",
    "average_subscribers = df['subcribers'].mean()\n",
    "average_visits = df['visits'].mean()\n",
    "average_likes = df['likes'].mean()\n",
    "average_comments = df['comments'].mean()\n",
    "\n",
    "# Print the average metrics\n",
    "print(\"Average Subscribers:\", average_subscribers)\n",
    "print(\"Average Visits:\", average_visits)\n",
    "print(\"Average Likes:\", average_likes)\n",
    "print(\"Average Comments:\", average_comments)\n",
    "\n",
    "# Visualize the average metrics\n",
    "metrics = ['Subscribers', 'Visits', 'Likes', 'Comments']\n",
    "averages = [average_subscribers, average_visits, average_likes, average_comments]\n",
    "\n",
    "plt.figure(figsize=(10, 6))\n",
    "plt.bar(metrics, averages)\n",
    "plt.xlabel('Metrics')\n",
    "plt.ylabel('Average Count')\n",
    "plt.title('Average Metrics for YouTube Streamers')\n",
    "plt.show()\n"
   ]
  },
  {
   "cell_type": "code",
   "execution_count": 60,
   "metadata": {},
   "outputs": [
    {
     "name": "stdout",
     "output_type": "stream",
     "text": [
      "Musica_y_baile                       466\n",
      "Peliculas_Animacion                   61\n",
      "Musica_y_baile_Peliculas              41\n",
      "Vlogs_diarios                         37\n",
      "Noticias_y_Politica                   36\n",
      "Peliculas_Humor                       34\n",
      "Animacion_Videojuegos                 34\n",
      "Animacion_Juguetes                    29\n",
      "Animacion_Humor                       27\n",
      "Peliculas                             24\n",
      "Education                             24\n",
      "Animacion                             22\n",
      "Videojuegos                           19\n",
      "Videojuegos_Humor                     17\n",
      "Musica_y_baile_Animacion              16\n",
      "Ciencia_y_tecnologia                  14\n",
      "Comida_y_bebida                       12\n",
      "Humor                                 10\n",
      "Juguetes                              10\n",
      "Peliculas_Juguetes                     9\n",
      "Peliculas_Videojuegos                  8\n",
      "Deportes                               8\n",
      "Musica_y_baile_Humor                   6\n",
      "Juguetes_Coches_y_vehiculos            4\n",
      "DIY_y_Life_Hacks                       3\n",
      "Fitness_Salud_y_autoayuda              3\n",
      "Videojuegos_Juguetes                   3\n",
      "Animales_y_mascotas                    2\n",
      "Moda                                   2\n",
      "Coches_y_vehiculos                     2\n",
      "Education_Juguetes                     2\n",
      "Fitness                                2\n",
      "Comida_y_bebida_Juguetes               1\n",
      "ASMR_Comida_y_bebida                   1\n",
      "Animacion_Humor_Juguetes               1\n",
      "Diseno/arte_Belleza                    1\n",
      "Belleza_Moda                           1\n",
      "ASMR                                   1\n",
      "Musica_y_baile_Juguetes                1\n",
      "Diseno/arte_DIY_y_Life_Hacks           1\n",
      "DIY_y_Life_Hacks_Juguetes              1\n",
      "Diseno/arte                            1\n",
      "Comida_y_bebida_Salud_y_autoayuda      1\n",
      "Viajes_Espectaculos                    1\n",
      "Juguetes_DIY_y_Life_Hacks              1\n",
      "Name: categories, dtype: int64\n"
     ]
    }
   ],
   "source": [
    "# Count the number of streamers in each category\n",
    "categories_counts = df['categories'].value_counts()\n",
    "print(categories_counts)"
   ]
  },
  {
   "cell_type": "code",
   "execution_count": 61,
   "metadata": {},
   "outputs": [
    {
     "data": {
      "image/png": "[encoded data removed]",
      "text/plain": [
       "<Figure size 1000x600 with 1 Axes>"
      ]
     },
     "metadata": {},
     "output_type": "display_data"
    }
   ],
   "source": [
    "# Plot the distribution of content categories\n",
    "plt.figure(figsize=(10, 6))\n",
    "categories_counts.plot(kind='bar')\n",
    "plt.xlabel('Content categories')\n",
    "plt.ylabel('Number of Streamers')\n",
    "plt.title('Distribution of Content Categories')\n",
    "plt.xticks(rotation=45)\n",
    "plt.show()"
   ]
  },
  {
   "cell_type": "markdown",
   "metadata": {},
   "source": [
    "# **Content Categories:**\n",
    "Explore the distribution of content categories. Which categories have the highest number of\n",
    "streamers?\\\n",
    "Are there specific categories with exceptional performance metrics?"
   ]
  },
  {
   "cell_type": "code",
   "execution_count": 66,
   "metadata": {},
   "outputs": [],
   "source": [
    "# Identify categories with exceptional performance metrics\n",
    "metrics = ['subcribers', 'visits', 'likes', 'comments']\n",
    "exceptional_categories = []"
   ]
  },
  {
   "cell_type": "code",
   "execution_count": 68,
   "metadata": {},
   "outputs": [],
   "source": [
    "for categories in df['categories'].unique():\n",
    "    categories_metrics = df[df['categories'] == categories][metrics]\n",
    "    categories_average_metrics = categories_metrics.mean()\n",
    "    overall_average_metrics = df[metrics].mean()\n",
    "# Check if any metric for the category is above the overall average\n",
    "    if any(categories_average_metrics > overall_average_metrics):\n",
    "        exceptional_categories.append(categories)"
   ]
  },
  {
   "cell_type": "code",
   "execution_count": 69,
   "metadata": {},
   "outputs": [
    {
     "name": "stdout",
     "output_type": "stream",
     "text": [
      "Categories with Exceptional Performance Metrics:\n",
      "Musica_y_baile\n",
      "Videojuegos_Humor\n",
      "Education\n",
      "Animacion_Juguetes\n",
      "Peliculas_Videojuegos\n",
      "Juguetes\n",
      "Videojuegos\n",
      "Peliculas_Animacion\n",
      "Animacion_Humor\n",
      "Vlogs_diarios\n",
      "Videojuegos_Juguetes\n",
      "Animacion_Videojuegos\n",
      "Musica_y_baile_Humor\n",
      "Diseno/arte_DIY_y_Life_Hacks\n",
      "Ciencia_y_tecnologia\n",
      "Belleza_Moda\n",
      "Humor\n",
      "Comida_y_bebida\n",
      "Deportes\n",
      "DIY_y_Life_Hacks_Juguetes\n",
      "Animales_y_mascotas\n",
      "Diseno/arte_Belleza\n"
     ]
    }
   ],
   "source": [
    "# Print categories with exceptional performance metrics\n",
    "print(\"Categories with Exceptional Performance Metrics:\")\n",
    "for categories in exceptional_categories:\n",
    "    print(categories)"
   ]
  },
  {
   "cell_type": "markdown",
   "metadata": {},
   "source": [
    "# **Brands and Collaborations:**\n",
    "- Analyze whether streamers with high performance metrics receive more brand collaborations and\n",
    "marketing campaigns"
   ]
  },
  {
   "cell_type": "code",
   "execution_count": 70,
   "metadata": {},
   "outputs": [
    {
     "data": {
      "text/plain": [
       "Index(['rank', 'username', 'categories', 'subcribers', 'country', 'visits',\n",
       "       'likes', 'comments', 'links'],\n",
       "      dtype='object')"
      ]
     },
     "execution_count": 70,
     "metadata": {},
     "output_type": "execute_result"
    }
   ],
   "source": [
    "df.columns"
   ]
  },
  {
   "cell_type": "code",
   "execution_count": 90,
   "metadata": {},
   "outputs": [],
   "source": [
    "# Calculate the average performance metrics for each streamer\n",
    "df['AverageMetrics'] = df[['subcribers', 'visits', 'likes', 'comments']].mean(axis=1)"
   ]
  },
  {
   "cell_type": "code",
   "execution_count": 92,
   "metadata": {},
   "outputs": [
    {
     "name": "stdout",
     "output_type": "stream",
     "text": [
      "AverageMetrics\n",
      "2925558.00     0\n",
      "2925682.25     0\n",
      "2927911.75     0\n",
      "2928520.50     0\n",
      "2930533.50     0\n",
      "              ..\n",
      "29852900.00    0\n",
      "40653943.75    0\n",
      "43131175.00    0\n",
      "62397244.50    0\n",
      "76554625.00    0\n",
      "Name: Collaborations, Length: 995, dtype: int64\n"
     ]
    }
   ],
   "source": [
    "# Analyze the relationship between performance metrics and brand collaborations/marketing campaigns\n",
    "collaborations = df.groupby('AverageMetrics')['Collaborations'].sum()\n",
    "print(collaborations)"
   ]
  },
  {
   "cell_type": "code",
   "execution_count": 94,
   "metadata": {},
   "outputs": [
    {
     "name": "stdout",
     "output_type": "stream",
     "text": [
      "AverageMetrics\n",
      "2925558.00     0\n",
      "2925682.25     0\n",
      "2927911.75     0\n",
      "2928520.50     0\n",
      "2930533.50     0\n",
      "              ..\n",
      "29852900.00    0\n",
      "40653943.75    0\n",
      "43131175.00    0\n",
      "62397244.50    0\n",
      "76554625.00    0\n",
      "Name: Campaigns, Length: 995, dtype: int64\n"
     ]
    }
   ],
   "source": [
    "campaigns = df.groupby('AverageMetrics')['Campaigns'].sum()\n",
    "print(campaigns)"
   ]
  },
  {
   "cell_type": "code",
   "execution_count": 96,
   "metadata": {},
   "outputs": [
    {
     "data": {
      "text/html": [
       "<div>\n",
       "<style scoped>\n",
       "    .dataframe tbody tr th:only-of-type {\n",
       "        vertical-align: middle;\n",
       "    }\n",
       "\n",
       "    .dataframe tbody tr th {\n",
       "        vertical-align: top;\n",
       "    }\n",
       "\n",
       "    .dataframe thead th {\n",
       "        text-align: right;\n",
       "    }\n",
       "</style>\n",
       "<table border=\"1\" class=\"dataframe\">\n",
       "  <thead>\n",
       "    <tr style=\"text-align: right;\">\n",
       "      <th></th>\n",
       "      <th>rank</th>\n",
       "      <th>username</th>\n",
       "      <th>categories</th>\n",
       "      <th>subcribers</th>\n",
       "      <th>country</th>\n",
       "      <th>visits</th>\n",
       "      <th>likes</th>\n",
       "      <th>comments</th>\n",
       "      <th>links</th>\n",
       "      <th>AverageMetrics</th>\n",
       "      <th>Collaborations</th>\n",
       "      <th>Campaigns</th>\n",
       "    </tr>\n",
       "  </thead>\n",
       "  <tbody>\n",
       "    <tr>\n",
       "      <th>0</th>\n",
       "      <td>1</td>\n",
       "      <td>tseries</td>\n",
       "      <td>Musica_y_baile</td>\n",
       "      <td>249500000.0</td>\n",
       "      <td>India</td>\n",
       "      <td>86200.0</td>\n",
       "      <td>2700.0</td>\n",
       "      <td>78.0</td>\n",
       "      <td>http://youtube.com/channel/UCq-Fj5jknLsUf-MWSy...</td>\n",
       "      <td>62397244.50</td>\n",
       "      <td>0</td>\n",
       "      <td>0</td>\n",
       "    </tr>\n",
       "    <tr>\n",
       "      <th>1</th>\n",
       "      <td>2</td>\n",
       "      <td>MrBeast</td>\n",
       "      <td>Videojuegos_Humor</td>\n",
       "      <td>183500000.0</td>\n",
       "      <td>Estados Unidos</td>\n",
       "      <td>117400000.0</td>\n",
       "      <td>5300000.0</td>\n",
       "      <td>18500.0</td>\n",
       "      <td>http://youtube.com/channel/UCX6OQ3DkcsbYNE6H8u...</td>\n",
       "      <td>76554625.00</td>\n",
       "      <td>0</td>\n",
       "      <td>0</td>\n",
       "    </tr>\n",
       "    <tr>\n",
       "      <th>2</th>\n",
       "      <td>3</td>\n",
       "      <td>CoComelon</td>\n",
       "      <td>Education</td>\n",
       "      <td>165500000.0</td>\n",
       "      <td>Unknown</td>\n",
       "      <td>7000000.0</td>\n",
       "      <td>24700.0</td>\n",
       "      <td>0.0</td>\n",
       "      <td>http://youtube.com/channel/UCbCmjCuTUZos6Inko4...</td>\n",
       "      <td>43131175.00</td>\n",
       "      <td>0</td>\n",
       "      <td>0</td>\n",
       "    </tr>\n",
       "    <tr>\n",
       "      <th>3</th>\n",
       "      <td>4</td>\n",
       "      <td>SETIndia</td>\n",
       "      <td>Musica_y_baile</td>\n",
       "      <td>162600000.0</td>\n",
       "      <td>India</td>\n",
       "      <td>15600.0</td>\n",
       "      <td>166.0</td>\n",
       "      <td>9.0</td>\n",
       "      <td>http://youtube.com/channel/UCpEhnqL0y41EpW2TvW...</td>\n",
       "      <td>40653943.75</td>\n",
       "      <td>0</td>\n",
       "      <td>0</td>\n",
       "    </tr>\n",
       "    <tr>\n",
       "      <th>4</th>\n",
       "      <td>5</td>\n",
       "      <td>KidsDianaShow</td>\n",
       "      <td>Animacion_Juguetes</td>\n",
       "      <td>113500000.0</td>\n",
       "      <td>Unknown</td>\n",
       "      <td>3900000.0</td>\n",
       "      <td>12400.0</td>\n",
       "      <td>0.0</td>\n",
       "      <td>http://youtube.com/channel/UCk8GzjMOrta8yxDcKf...</td>\n",
       "      <td>29353100.00</td>\n",
       "      <td>0</td>\n",
       "      <td>0</td>\n",
       "    </tr>\n",
       "  </tbody>\n",
       "</table>\n",
       "</div>"
      ],
      "text/plain": [
       "   rank       username          categories   subcribers         country  \\\n",
       "0     1        tseries      Musica_y_baile  249500000.0           India   \n",
       "1     2        MrBeast   Videojuegos_Humor  183500000.0  Estados Unidos   \n",
       "2     3      CoComelon           Education  165500000.0         Unknown   \n",
       "3     4       SETIndia      Musica_y_baile  162600000.0           India   \n",
       "4     5  KidsDianaShow  Animacion_Juguetes  113500000.0         Unknown   \n",
       "\n",
       "        visits      likes  comments  \\\n",
       "0      86200.0     2700.0      78.0   \n",
       "1  117400000.0  5300000.0   18500.0   \n",
       "2    7000000.0    24700.0       0.0   \n",
       "3      15600.0      166.0       9.0   \n",
       "4    3900000.0    12400.0       0.0   \n",
       "\n",
       "                                               links  AverageMetrics  \\\n",
       "0  http://youtube.com/channel/UCq-Fj5jknLsUf-MWSy...     62397244.50   \n",
       "1  http://youtube.com/channel/UCX6OQ3DkcsbYNE6H8u...     76554625.00   \n",
       "2  http://youtube.com/channel/UCbCmjCuTUZos6Inko4...     43131175.00   \n",
       "3  http://youtube.com/channel/UCpEhnqL0y41EpW2TvW...     40653943.75   \n",
       "4  http://youtube.com/channel/UCk8GzjMOrta8yxDcKf...     29353100.00   \n",
       "\n",
       "   Collaborations  Campaigns  \n",
       "0               0          0  \n",
       "1               0          0  \n",
       "2               0          0  \n",
       "3               0          0  \n",
       "4               0          0  "
      ]
     },
     "execution_count": 96,
     "metadata": {},
     "output_type": "execute_result"
    }
   ],
   "source": [
    "df.head()"
   ]
  },
  {
   "cell_type": "code",
   "execution_count": 95,
   "metadata": {},
   "outputs": [
    {
     "data": {
      "image/png": "[encoded data removed]",
      "text/plain": [
       "<Figure size 1000x600 with 1 Axes>"
      ]
     },
     "metadata": {},
     "output_type": "display_data"
    }
   ],
   "source": [
    "# Visualize the relationship between performance metrics and brand collaborations/marketing campaigns\n",
    "plt.figure(figsize=(10, 6))\n",
    "collaborations.plot(label='Brand Collaborations')\n",
    "campaigns.plot(label='Marketing Campaigns')\n",
    "plt.xlabel('Average Performance Metrics')\n",
    "plt.ylabel('Count')\n",
    "plt.title('Relationship between Performance Metrics and Brand Collaborations/Campaigns')\n",
    "plt.legend()\n",
    "plt.show()"
   ]
  },
  {
   "cell_type": "markdown",
   "metadata": {},
   "source": [
    "# **Benchmarking:**\n",
    "- Identify streamers with above-average performance in terms of subscribers, visits, likes, and comments.\n",
    "- Who are the top-performing content creators?"
   ]
  },
  {
   "cell_type": "code",
   "execution_count": 113,
   "metadata": {},
   "outputs": [],
   "source": [
    "# Calculate the average performance metrics\n",
    "average_metrics = df[['subcribers', 'visits', 'likes', 'comments']].mean()\n"
   ]
  },
  {
   "cell_type": "code",
   "execution_count": 114,
   "metadata": {},
   "outputs": [],
   "source": [
    "top_streamers = df[\n",
    "    (df['subcribers'] > average_metrics['subcribers']) &\n",
    "    (df['visits'] > average_metrics['visits']) &\n",
    "    (df['likes'] > average_metrics['likes']) &\n",
    "    (df['comments'] > average_metrics['comments'])\n",
    "]\n",
    "\n"
   ]
  },
  {
   "cell_type": "code",
   "execution_count": 121,
   "metadata": {},
   "outputs": [
    {
     "name": "stdout",
     "output_type": "stream",
     "text": [
      "Top Content Creators: MrBeast, PewDiePie, dudeperfect, TaylorSwift, JuegaGerman, A4a4a4a4, Mikecrack, KimberlyLoaiza, luisitocomunica, JessNoLimit, TotalGaming093, TechnoGamerzOfficial, markiplier, AboFlah, MRINDIANHACKER, fedevigevani, dream, MrBeast2, jacksepticeye, DaFuqBoom, CrazyXYZ, DanTDM, brentrivera, NichLmao, nickiminaj, AlejoIgoa, ZHCYT, rug, alanbecker, juandediospantojaa, DrossRotzank, AmiRodrigueZZ, StokesTwins, SSundee, souravjoshivlogs7028, VillageCookingChannel, alfredolarin, royaltyfam\n"
     ]
    }
   ],
   "source": [
    "top_content_creators = top_streamers['username'].tolist()\n",
    "print(f\"Top Content Creators: {', '.join(top_content_creators)}\")\n"
   ]
  },
  {
   "cell_type": "code",
   "execution_count": 124,
   "metadata": {},
   "outputs": [
    {
     "name": "stdout",
     "output_type": "stream",
     "text": [
      "    rank         username             categories   subcribers         country  \\\n",
      "1      2          MrBeast      Videojuegos_Humor  183500000.0  Estados Unidos   \n",
      "5      6        PewDiePie  Peliculas_Videojuegos  111500000.0  Estados Unidos   \n",
      "26    27      dudeperfect            Videojuegos   59700000.0  Estados Unidos   \n",
      "34    35      TaylorSwift         Musica_y_baile   54100000.0  Estados Unidos   \n",
      "39    40      JuegaGerman    Peliculas_Animacion   48600000.0          México   \n",
      "43    44         A4a4a4a4        Animacion_Humor   47300000.0           Rusia   \n",
      "58    59        Mikecrack    Peliculas_Animacion   43400000.0          México   \n",
      "62    63   KimberlyLoaiza         Musica_y_baile   42100000.0          México   \n",
      "64    65  luisitocomunica         Musica_y_baile   41100000.0          México   \n",
      "70    71      JessNoLimit    Peliculas_Animacion   39600000.0       Indonesia   \n",
      "\n",
      "         visits      likes  comments  \\\n",
      "1   117400000.0  5300000.0   18500.0   \n",
      "5     2400000.0   197300.0    4900.0   \n",
      "26    5300000.0   156500.0    4200.0   \n",
      "34    4300000.0   300400.0   15000.0   \n",
      "39    2000000.0   117100.0    3000.0   \n",
      "43    9700000.0   330400.0   22000.0   \n",
      "58    2200000.0   183400.0    1800.0   \n",
      "62    5300000.0   271300.0   16000.0   \n",
      "64    2500000.0   128900.0    1800.0   \n",
      "70    1300000.0    73500.0    1600.0   \n",
      "\n",
      "                                                links  AverageMetrics  \\\n",
      "1   http://youtube.com/channel/UCX6OQ3DkcsbYNE6H8u...      76554625.0   \n",
      "5   http://youtube.com/channel/UC-lHJZR3Gqxm24_Vd_...      28525550.0   \n",
      "26  http://youtube.com/channel/UCRijo3ddMTht_IHyNS...      16290175.0   \n",
      "34  http://youtube.com/channel/UCqECaJ8Gagnn7YCbPE...      14678850.0   \n",
      "39  http://youtube.com/channel/UCYiGq8XF7YQD00x7wA...      12680025.0   \n",
      "43  http://youtube.com/channel/UC2tsySbe9TNrI-xh2l...      14338100.0   \n",
      "58  http://youtube.com/channel/UCqJ5zFEED1hWs0KNQC...      11446300.0   \n",
      "62  http://youtube.com/channel/UCQZfFRohQ7UX-0CdXl...      11921825.0   \n",
      "64  http://youtube.com/channel/UCECJDeK0MNapZbpaOz...      10932675.0   \n",
      "70  http://youtube.com/channel/UCvh1at6xpV1ytYOAzx...      10243775.0   \n",
      "\n",
      "    Collaborations  Campaigns  \n",
      "1                0          0  \n",
      "5                0          0  \n",
      "26               0          0  \n",
      "34               0          0  \n",
      "39               0          0  \n",
      "43               0          0  \n",
      "58               0          0  \n",
      "62               0          0  \n",
      "64               0          0  \n",
      "70               0          0  \n"
     ]
    }
   ],
   "source": [
    "top_10 = top_streamers.head(10)\n",
    "print(top_10)\n"
   ]
  },
  {
   "cell_type": "code",
   "execution_count": 123,
   "metadata": {},
   "outputs": [
    {
     "name": "stdout",
     "output_type": "stream",
     "text": [
      "   rank            username             categories   subcribers  \\\n",
      "0     1             tseries         Musica_y_baile  249500000.0   \n",
      "1     2             MrBeast      Videojuegos_Humor  183500000.0   \n",
      "2     3           CoComelon              Education  165500000.0   \n",
      "3     4            SETIndia         Musica_y_baile  162600000.0   \n",
      "4     5       KidsDianaShow     Animacion_Juguetes  113500000.0   \n",
      "5     6           PewDiePie  Peliculas_Videojuegos  111500000.0   \n",
      "6     7  LikeNastyaofficial               Juguetes  107500000.0   \n",
      "7     8         VladandNiki     Animacion_Juguetes  101400000.0   \n",
      "8     9     zeemusiccompany         Musica_y_baile   99700000.0   \n",
      "9    10                 WWE            Videojuegos   97200000.0   \n",
      "\n",
      "          country       visits      likes  comments  \\\n",
      "0           India      86200.0     2700.0      78.0   \n",
      "1  Estados Unidos  117400000.0  5300000.0   18500.0   \n",
      "2         Unknown    7000000.0    24700.0       0.0   \n",
      "3           India      15600.0      166.0       9.0   \n",
      "4         Unknown    3900000.0    12400.0       0.0   \n",
      "5  Estados Unidos    2400000.0   197300.0    4900.0   \n",
      "6         Unknown    2600000.0    28000.0       0.0   \n",
      "7         Unknown    4100000.0    22100.0       0.0   \n",
      "8           India      74300.0     2600.0      32.0   \n",
      "9  Estados Unidos     184500.0     6300.0     214.0   \n",
      "\n",
      "                                               links  AverageMetrics  \\\n",
      "0  http://youtube.com/channel/UCq-Fj5jknLsUf-MWSy...     62397244.50   \n",
      "1  http://youtube.com/channel/UCX6OQ3DkcsbYNE6H8u...     76554625.00   \n",
      "2  http://youtube.com/channel/UCbCmjCuTUZos6Inko4...     43131175.00   \n",
      "3  http://youtube.com/channel/UCpEhnqL0y41EpW2TvW...     40653943.75   \n",
      "4  http://youtube.com/channel/UCk8GzjMOrta8yxDcKf...     29353100.00   \n",
      "5  http://youtube.com/channel/UC-lHJZR3Gqxm24_Vd_...     28525550.00   \n",
      "6  http://youtube.com/channel/UCJplp5SjeGSdVdwsfb...     27532000.00   \n",
      "7  http://youtube.com/channel/UCvlE5gTbOvjiolFlEm...     26380525.00   \n",
      "8  http://youtube.com/channel/UCFFbwnve3yF62-tVXk...     24944233.00   \n",
      "9  http://youtube.com/channel/UCJ5v_MCY6GNUBTO8-D...     24347753.50   \n",
      "\n",
      "   Collaborations  Campaigns  \n",
      "0               0          0  \n",
      "1               0          0  \n",
      "2               0          0  \n",
      "3               0          0  \n",
      "4               0          0  \n",
      "5               0          0  \n",
      "6               0          0  \n",
      "7               0          0  \n",
      "8               0          0  \n",
      "9               0          0  \n"
     ]
    }
   ],
   "source": [
    "# Get the top 10 -performing content creators \n",
    "top_10_streamers = df.sort_values(by='subcribers', ascending=False).head(10)\n",
    "print(top_10_streamers)\n",
    "\n"
   ]
  },
  {
   "cell_type": "code",
   "execution_count": 125,
   "metadata": {},
   "outputs": [
    {
     "data": {
      "text/html": [
       "<div>\n",
       "<style scoped>\n",
       "    .dataframe tbody tr th:only-of-type {\n",
       "        vertical-align: middle;\n",
       "    }\n",
       "\n",
       "    .dataframe tbody tr th {\n",
       "        vertical-align: top;\n",
       "    }\n",
       "\n",
       "    .dataframe thead th {\n",
       "        text-align: right;\n",
       "    }\n",
       "</style>\n",
       "<table border=\"1\" class=\"dataframe\">\n",
       "  <thead>\n",
       "    <tr style=\"text-align: right;\">\n",
       "      <th></th>\n",
       "      <th>rank</th>\n",
       "      <th>username</th>\n",
       "      <th>categories</th>\n",
       "      <th>subcribers</th>\n",
       "      <th>country</th>\n",
       "      <th>visits</th>\n",
       "      <th>likes</th>\n",
       "      <th>comments</th>\n",
       "      <th>links</th>\n",
       "      <th>AverageMetrics</th>\n",
       "      <th>Collaborations</th>\n",
       "      <th>Campaigns</th>\n",
       "    </tr>\n",
       "  </thead>\n",
       "  <tbody>\n",
       "    <tr>\n",
       "      <th>0</th>\n",
       "      <td>1</td>\n",
       "      <td>tseries</td>\n",
       "      <td>Musica_y_baile</td>\n",
       "      <td>249500000.0</td>\n",
       "      <td>India</td>\n",
       "      <td>86200.0</td>\n",
       "      <td>2700.0</td>\n",
       "      <td>78.0</td>\n",
       "      <td>http://youtube.com/channel/UCq-Fj5jknLsUf-MWSy...</td>\n",
       "      <td>62397244.50</td>\n",
       "      <td>0</td>\n",
       "      <td>0</td>\n",
       "    </tr>\n",
       "    <tr>\n",
       "      <th>1</th>\n",
       "      <td>2</td>\n",
       "      <td>MrBeast</td>\n",
       "      <td>Videojuegos_Humor</td>\n",
       "      <td>183500000.0</td>\n",
       "      <td>Estados Unidos</td>\n",
       "      <td>117400000.0</td>\n",
       "      <td>5300000.0</td>\n",
       "      <td>18500.0</td>\n",
       "      <td>http://youtube.com/channel/UCX6OQ3DkcsbYNE6H8u...</td>\n",
       "      <td>76554625.00</td>\n",
       "      <td>0</td>\n",
       "      <td>0</td>\n",
       "    </tr>\n",
       "    <tr>\n",
       "      <th>2</th>\n",
       "      <td>3</td>\n",
       "      <td>CoComelon</td>\n",
       "      <td>Education</td>\n",
       "      <td>165500000.0</td>\n",
       "      <td>Unknown</td>\n",
       "      <td>7000000.0</td>\n",
       "      <td>24700.0</td>\n",
       "      <td>0.0</td>\n",
       "      <td>http://youtube.com/channel/UCbCmjCuTUZos6Inko4...</td>\n",
       "      <td>43131175.00</td>\n",
       "      <td>0</td>\n",
       "      <td>0</td>\n",
       "    </tr>\n",
       "    <tr>\n",
       "      <th>3</th>\n",
       "      <td>4</td>\n",
       "      <td>SETIndia</td>\n",
       "      <td>Musica_y_baile</td>\n",
       "      <td>162600000.0</td>\n",
       "      <td>India</td>\n",
       "      <td>15600.0</td>\n",
       "      <td>166.0</td>\n",
       "      <td>9.0</td>\n",
       "      <td>http://youtube.com/channel/UCpEhnqL0y41EpW2TvW...</td>\n",
       "      <td>40653943.75</td>\n",
       "      <td>0</td>\n",
       "      <td>0</td>\n",
       "    </tr>\n",
       "    <tr>\n",
       "      <th>4</th>\n",
       "      <td>5</td>\n",
       "      <td>KidsDianaShow</td>\n",
       "      <td>Animacion_Juguetes</td>\n",
       "      <td>113500000.0</td>\n",
       "      <td>Unknown</td>\n",
       "      <td>3900000.0</td>\n",
       "      <td>12400.0</td>\n",
       "      <td>0.0</td>\n",
       "      <td>http://youtube.com/channel/UCk8GzjMOrta8yxDcKf...</td>\n",
       "      <td>29353100.00</td>\n",
       "      <td>0</td>\n",
       "      <td>0</td>\n",
       "    </tr>\n",
       "  </tbody>\n",
       "</table>\n",
       "</div>"
      ],
      "text/plain": [
       "   rank       username          categories   subcribers         country  \\\n",
       "0     1        tseries      Musica_y_baile  249500000.0           India   \n",
       "1     2        MrBeast   Videojuegos_Humor  183500000.0  Estados Unidos   \n",
       "2     3      CoComelon           Education  165500000.0         Unknown   \n",
       "3     4       SETIndia      Musica_y_baile  162600000.0           India   \n",
       "4     5  KidsDianaShow  Animacion_Juguetes  113500000.0         Unknown   \n",
       "\n",
       "        visits      likes  comments  \\\n",
       "0      86200.0     2700.0      78.0   \n",
       "1  117400000.0  5300000.0   18500.0   \n",
       "2    7000000.0    24700.0       0.0   \n",
       "3      15600.0      166.0       9.0   \n",
       "4    3900000.0    12400.0       0.0   \n",
       "\n",
       "                                               links  AverageMetrics  \\\n",
       "0  http://youtube.com/channel/UCq-Fj5jknLsUf-MWSy...     62397244.50   \n",
       "1  http://youtube.com/channel/UCX6OQ3DkcsbYNE6H8u...     76554625.00   \n",
       "2  http://youtube.com/channel/UCbCmjCuTUZos6Inko4...     43131175.00   \n",
       "3  http://youtube.com/channel/UCpEhnqL0y41EpW2TvW...     40653943.75   \n",
       "4  http://youtube.com/channel/UCk8GzjMOrta8yxDcKf...     29353100.00   \n",
       "\n",
       "   Collaborations  Campaigns  \n",
       "0               0          0  \n",
       "1               0          0  \n",
       "2               0          0  \n",
       "3               0          0  \n",
       "4               0          0  "
      ]
     },
     "execution_count": 125,
     "metadata": {},
     "output_type": "execute_result"
    }
   ],
   "source": [
    "df.head()"
   ]
  },
  {
   "cell_type": "markdown",
   "metadata": {},
   "source": [
    "# **Content Recommendations**"
   ]
  },
  {
   "cell_type": "markdown",
   "metadata": {},
   "source": []
  }
 ],
 "metadata": {
  "kernelspec": {
   "display_name": "Python 3",
   "language": "python",
   "name": "python3"
  },
  "language_info": {
   "codemirror_mode": {
    "name": "ipython",
    "version": 3
   },
   "file_extension": ".py",
   "mimetype": "text/x-python",
   "name": "python",
   "nbconvert_exporter": "python",
   "pygments_lexer": "ipython3",
   "version": "3.10.11"
  }
 },
 "nbformat": 4,
 "nbformat_minor": 2
}
